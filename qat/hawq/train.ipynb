{
 "cells": [
  {
   "cell_type": "code",
   "execution_count": null,
   "metadata": {},
   "outputs": [],
   "source": [
    "from __future__ import print_function\n",
    "import h5py\n",
    "from numpy import *\n",
    "from matplotlib.pyplot import *\n",
    "import torch\n",
    "import torch.utils.data\n",
    "from torch import nn, optim\n",
    "from tqdm import tqdm\n",
    "import matplotlib.pyplot as plt\n",
    "import numpy as np\n",
    "\n",
    "import os\n",
    "from torchinfo import summary"
   ]
  },
  {
   "cell_type": "code",
   "execution_count": null,
   "metadata": {},
   "outputs": [],
   "source": [
    "from hawq.utils.quantization_utils.quant_modules import QuantConv2d, QuantLinear, QuantAct"
   ]
  },
  {
   "cell_type": "code",
   "execution_count": null,
   "metadata": {},
   "outputs": [],
   "source": [
    "device = torch.device('cuda' if torch.cuda.is_available() else 'cpu')\n",
    "device "
   ]
  },
  {
   "cell_type": "code",
   "execution_count": null,
   "metadata": {},
   "outputs": [],
   "source": [
    "csr = range(500, 1500)\n",
    "sr = len(csr)\n",
    "hn = sr * 2 * 1\n",
    "\n",
    "\n",
    "class Classifier(nn.Module):\n",
    "    def __init__(self):\n",
    "        super(Classifier, self).__init__()\n",
    "\n",
    "        self.linear1 = nn.Linear(sr * 2, int(hn / 8))\n",
    "        self.relu1 = nn.ReLU()\n",
    "        self.bn = nn.BatchNorm1d(int(hn / 8), affine=True)\n",
    "\n",
    "        self.linear2 = nn.Linear(int(hn / 8), 2)\n",
    "        self.relu2 = nn.ReLU()\n",
    "\n",
    "    def forward(self, sig):\n",
    "        x = self.linear1(sig)\n",
    "        x = self.relu1(x)\n",
    "        x = self.bn(x)\n",
    "\n",
    "        x = self.linear2(x)\n",
    "        x = self.relu2(x)\n",
    "        return x"
   ]
  },
  {
   "cell_type": "code",
   "execution_count": null,
   "metadata": {},
   "outputs": [],
   "source": [
    "base_model = Classifier()\n",
    "base_model.load_state_dict(torch.load(\"checkpoints/checkpoint_tiny_affine.pth\"))"
   ]
  },
  {
   "cell_type": "code",
   "execution_count": null,
   "metadata": {},
   "outputs": [],
   "source": [
    "class Q_Classifier(nn.Module):\n",
    "    def __init__(self, model):\n",
    "        super(Q_Classifier, self).__init__()\n",
    "\n",
    "        self.quant_input = QuantAct(activation_bit=12)\n",
    "        self.q_relu1 = QuantAct(activation_bit=12)\n",
    "        self.q_relu2 = QuantAct(activation_bit=12)\n",
    "\n",
    "        layer = getattr(model, 'linear1')\n",
    "        hawq_layer = QuantLinear(weight_bit=6, bias_bit=8)\n",
    "        hawq_layer.set_param(layer)\n",
    "        setattr(self, 'linear1', hawq_layer)\n",
    "\n",
    "        layer = getattr(model, 'linear2')\n",
    "        hawq_layer = QuantLinear(weight_bit=6, bias_bit=8)\n",
    "        hawq_layer.set_param(layer)\n",
    "        setattr(self, 'linear2', hawq_layer)\n",
    "\n",
    "        self.relu = nn.ReLU()\n",
    "        self.bn = nn.BatchNorm1d(int(hn / 8), affine=True)\n",
    "\n",
    "    def forward(self, sig):\n",
    "        x, p_sf = self.quant_input(sig)\n",
    "\n",
    "        x, w_sf = self.linear1(x, p_sf)\n",
    "        x = self.relu(x)\n",
    "        x, p_sf = self.q_relu1(x, p_sf, w_sf)\n",
    "\n",
    "        x = self.bn(x)\n",
    "\n",
    "        x = self.linear2(x)\n",
    "        x = self.relu2(x)\n",
    "        x, p_sf = self.q_relu2(x, p_sf, w_sf)\n",
    "        return x"
   ]
  },
  {
   "cell_type": "code",
   "execution_count": null,
   "metadata": {},
   "outputs": [],
   "source": [
    "model = Q_Classifier(base_model)"
   ]
  }
 ],
 "metadata": {
  "language_info": {
   "name": "python"
  },
  "orig_nbformat": 4
 },
 "nbformat": 4,
 "nbformat_minor": 2
}
