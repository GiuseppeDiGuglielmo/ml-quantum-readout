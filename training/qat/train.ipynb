{
 "cells": [
  {
   "cell_type": "code",
   "execution_count": 1,
   "metadata": {},
   "outputs": [
    {
     "name": "stderr",
     "output_type": "stream",
     "text": [
      "/data1/jcampos/.conda/envs/ml4qick-env/lib/python3.7/site-packages/tqdm/auto.py:22: TqdmWarning: IProgress not found. Please update jupyter and ipywidgets. See https://ipywidgets.readthedocs.io/en/stable/user_install.html\n",
      "  from .autonotebook import tqdm as notebook_tqdm\n",
      "/data1/jcampos/.conda/envs/ml4qick-env/lib/python3.7/site-packages/torch/cuda/__init__.py:83: UserWarning: CUDA initialization: The NVIDIA driver on your system is too old (found version 9010). Please update your GPU driver by downloading and installing a new version from the URL: http://www.nvidia.com/Download/index.aspx Alternatively, go to: https://pytorch.org to install a PyTorch version that has been compiled with your version of the CUDA driver. (Triggered internally at  ../c10/cuda/CUDAFunctions.cpp:109.)\n",
      "  return torch._C._cuda_getDeviceCount() > 0\n"
     ]
    }
   ],
   "source": [
    "from __future__ import print_function\n",
    "import h5py\n",
    "from numpy import *\n",
    "from matplotlib.pyplot import *\n",
    "import torch\n",
    "import torch.utils.data\n",
    "from torch import nn, optim\n",
    "from tqdm import tqdm\n",
    "import matplotlib.pyplot as plt\n",
    "import numpy as np\n",
    "\n",
    "import os\n",
    "from torchinfo import summary"
   ]
  },
  {
   "cell_type": "code",
   "execution_count": 3,
   "metadata": {},
   "outputs": [],
   "source": [
    "from model import Classifier \n",
    "from hawq_model import HawqClassifier \n",
    "from brevitas_model import BrevitasModel "
   ]
  },
  {
   "cell_type": "code",
   "execution_count": 4,
   "metadata": {},
   "outputs": [],
   "source": [
    "base_model = Classifier()\n",
    "base_model.load_state_dict(torch.load(\"../checkpoints/checkpoint_tiny_affine.pth\"))\n",
    "\n",
    "# model = HawqClassifier(base_model)\n",
    "model = BrevitasModel()"
   ]
  },
  {
   "cell_type": "code",
   "execution_count": 5,
   "metadata": {},
   "outputs": [],
   "source": [
    "# Hyper-Parameters\n",
    "torch.manual_seed(4)\n",
    "epochs = 210\n",
    "train = 9000#data.shape[0]*0.99\n",
    "learning_rate = 1e-4\n",
    "\n",
    "device = torch.device(\"cpu\")\n",
    "kwargs = {'num_workers':0, 'pin_memory': True} \n",
    "plot_interval = 1"
   ]
  },
  {
   "cell_type": "code",
   "execution_count": 6,
   "metadata": {},
   "outputs": [],
   "source": [
    "criterion = nn.CrossEntropyLoss()\n",
    "optimizer = optim.Adam(model.parameters(), lr = learning_rate)\n",
    "\n",
    "# Loss tracks\n",
    "train_loss_track=np.array([])\n",
    "test_loss_track=np.array([])\n",
    "acc_track=np.array([])"
   ]
  },
  {
   "cell_type": "code",
   "execution_count": 7,
   "metadata": {},
   "outputs": [],
   "source": [
    "# Load the raw data\n",
    "IF = -136.75/1e3\n",
    "with h5py.File(r'../../datasets/qubits/00002_IQ_plot_raw.h5', 'r') as f:\n",
    "    adc_g_1 = array(f['adc_g_1'])[0]\n",
    "    adc_g_2 = array(f['adc_g_2'])[0]\n",
    "    adc_e_1 = array(f['adc_e_1'])[0]\n",
    "    adc_e_2 = array(f['adc_e_2'])[0]\n",
    "\n",
    "\"\"\" Select the range of time series data. Each data is 2000 element vector \n",
    "representing 2000ns readout signal\"\"\"\n",
    "csr = range(500,1500)\n",
    "sr = len(csr)\n",
    "\n",
    "I_g = adc_g_1[:,csr]\n",
    "Q_g = adc_g_2[:,csr] \n",
    "I_e = adc_e_1[:,csr] \n",
    "Q_e = adc_e_2[:,csr] \n",
    "\n",
    "# Dataset Creation\n",
    "data = zeros((adc_g_1.shape[0]*2,sr,2))\n",
    "data[0:adc_g_1.shape[0],:,0] = I_g\n",
    "data[0:adc_g_1.shape[0],:,1] = Q_g\n",
    "data[adc_g_1.shape[0]:adc_g_1.shape[0]*2,:,0] = I_e\n",
    "data[adc_g_1.shape[0]:adc_g_1.shape[0]*2,:,1] = Q_e\n",
    "\n",
    "labels = zeros(I_e.shape[0]*2)\n",
    "labels[I_e.shape[0]:I_e.shape[0]*2] = 1\n",
    "\n",
    "data = torch.from_numpy(data).float()\n",
    "labels = torch.from_numpy(labels).float()\n",
    "\n",
    "class Qubit_Readout_Dataset():\n",
    "    \n",
    "    def __init__(self):\n",
    "        self.data = data\n",
    "        self.labels = labels    \n",
    "        self.data = self.data.reshape(len(data),sr*2)\n",
    "       \n",
    "    def __len__(self):\n",
    "        return self.labels.shape[0]\n",
    "\n",
    "    def __getitem__(self, idx):\n",
    "        return self.data[idx], self.labels[idx]\n",
    "\n",
    "# Hyper-Parameters\n",
    "torch.manual_seed(4)\n",
    "epochs = 210\n",
    "train = 9000#data.shape[0]*0.99\n",
    "test = len(data)-train\n",
    "batch_size = 12800\n",
    "learning_rate = 1e-4\n",
    "\n",
    "kwargs = {'num_workers':0, 'pin_memory': True} \n",
    "plot_interval = 1\n",
    "\n",
    "# Dataloader Prep\n",
    "dataset = Qubit_Readout_Dataset()\n",
    "train_data, test_data = torch.utils.data.random_split(dataset, [int(train), int(test)])\n",
    "\n",
    "num_workers = 0\n",
    "train_loader = torch.utils.data.DataLoader(train_data, batch_size = batch_size, \n",
    "                                            num_workers = num_workers, shuffle=True)\n",
    "test_loader = torch.utils.data.DataLoader(test_data, batch_size = batch_size, \n",
    "                                            num_workers = num_workers, shuffle=True)\n"
   ]
  },
  {
   "cell_type": "code",
   "execution_count": 8,
   "metadata": {},
   "outputs": [
    {
     "name": "stderr",
     "output_type": "stream",
     "text": [
      "  0%|          | 0/210 [00:00<?, ?it/s]/data1/jcampos/.conda/envs/ml4qick-env/lib/python3.7/site-packages/ipykernel_launcher.py:59: UserWarning: Defining your `__torch_function__` as a plain method is deprecated and will be an error in future, please define it as a classmethod. (Triggered internally at  ../torch/csrc/utils/python_arg_parser.cpp:296.)\n",
      "  0%|          | 1/210 [00:00<02:35,  1.34it/s]"
     ]
    },
    {
     "name": "stdout",
     "output_type": "stream",
     "text": [
      "torch.Size([1000, 2000])\n",
      "====> Epoch: 0 Training loss: 0.714233\n",
      "====> Epoch: 0 Test loss: 0.716794\n",
      "Readout Fidelity: % 54.100000858306885\n"
     ]
    },
    {
     "name": "stderr",
     "output_type": "stream",
     "text": [
      "  1%|          | 2/210 [00:01<02:20,  1.48it/s]"
     ]
    },
    {
     "name": "stdout",
     "output_type": "stream",
     "text": [
      "torch.Size([1000, 2000])\n",
      "====> Epoch: 1 Training loss: 0.683939\n",
      "====> Epoch: 1 Test loss: 0.676656\n",
      "Readout Fidelity: % 59.10000205039978\n"
     ]
    },
    {
     "name": "stderr",
     "output_type": "stream",
     "text": [
      "  1%|▏         | 3/210 [00:02<02:48,  1.23it/s]"
     ]
    },
    {
     "name": "stdout",
     "output_type": "stream",
     "text": [
      "torch.Size([1000, 2000])\n",
      "====> Epoch: 2 Training loss: 0.655784\n",
      "====> Epoch: 2 Test loss: 0.647694\n",
      "Readout Fidelity: % 63.599997758865356\n"
     ]
    },
    {
     "name": "stderr",
     "output_type": "stream",
     "text": [
      "  2%|▏         | 4/210 [00:03<03:11,  1.07it/s]"
     ]
    },
    {
     "name": "stdout",
     "output_type": "stream",
     "text": [
      "torch.Size([1000, 2000])\n",
      "====> Epoch: 3 Training loss: 0.630354\n",
      "====> Epoch: 3 Test loss: 0.623053\n",
      "Readout Fidelity: % 67.69999861717224\n"
     ]
    },
    {
     "name": "stderr",
     "output_type": "stream",
     "text": [
      "  2%|▏         | 5/210 [00:04<02:54,  1.18it/s]"
     ]
    },
    {
     "name": "stdout",
     "output_type": "stream",
     "text": [
      "torch.Size([1000, 2000])\n",
      "====> Epoch: 4 Training loss: 0.606510\n",
      "====> Epoch: 4 Test loss: 0.602716\n",
      "Readout Fidelity: % 72.00000286102295\n"
     ]
    },
    {
     "name": "stderr",
     "output_type": "stream",
     "text": [
      "  3%|▎         | 6/210 [00:04<02:41,  1.26it/s]"
     ]
    },
    {
     "name": "stdout",
     "output_type": "stream",
     "text": [
      "torch.Size([1000, 2000])\n",
      "====> Epoch: 5 Training loss: 0.584493\n",
      "====> Epoch: 5 Test loss: 0.582525\n",
      "Readout Fidelity: % 74.40000176429749\n"
     ]
    },
    {
     "name": "stderr",
     "output_type": "stream",
     "text": [
      "  3%|▎         | 7/210 [00:05<02:32,  1.33it/s]"
     ]
    },
    {
     "name": "stdout",
     "output_type": "stream",
     "text": [
      "torch.Size([1000, 2000])\n",
      "====> Epoch: 6 Training loss: 0.563194\n",
      "====> Epoch: 6 Test loss: 0.565367\n",
      "Readout Fidelity: % 77.30000019073486\n"
     ]
    },
    {
     "name": "stderr",
     "output_type": "stream",
     "text": [
      "  4%|▍         | 8/210 [00:06<02:28,  1.36it/s]"
     ]
    },
    {
     "name": "stdout",
     "output_type": "stream",
     "text": [
      "torch.Size([1000, 2000])\n",
      "====> Epoch: 7 Training loss: 0.544207\n",
      "====> Epoch: 7 Test loss: 0.550109\n",
      "Readout Fidelity: % 78.89999747276306\n"
     ]
    },
    {
     "name": "stderr",
     "output_type": "stream",
     "text": [
      "  4%|▍         | 9/210 [00:06<02:17,  1.46it/s]"
     ]
    },
    {
     "name": "stdout",
     "output_type": "stream",
     "text": [
      "torch.Size([1000, 2000])\n",
      "====> Epoch: 8 Training loss: 0.526027\n",
      "====> Epoch: 8 Test loss: 0.535735\n",
      "Readout Fidelity: % 79.90000247955322\n"
     ]
    },
    {
     "name": "stderr",
     "output_type": "stream",
     "text": [
      "  5%|▍         | 10/210 [00:07<02:13,  1.49it/s]"
     ]
    },
    {
     "name": "stdout",
     "output_type": "stream",
     "text": [
      "torch.Size([1000, 2000])\n",
      "====> Epoch: 9 Training loss: 0.508751\n",
      "====> Epoch: 9 Test loss: 0.523473\n",
      "Readout Fidelity: % 80.9000015258789\n"
     ]
    },
    {
     "name": "stderr",
     "output_type": "stream",
     "text": [
      "  5%|▌         | 11/210 [00:08<02:16,  1.46it/s]"
     ]
    },
    {
     "name": "stdout",
     "output_type": "stream",
     "text": [
      "torch.Size([1000, 2000])\n",
      "====> Epoch: 10 Training loss: 0.493168\n",
      "====> Epoch: 10 Test loss: 0.511469\n",
      "Readout Fidelity: % 81.90000057220459\n"
     ]
    },
    {
     "name": "stderr",
     "output_type": "stream",
     "text": [
      "  6%|▌         | 12/210 [00:08<02:19,  1.42it/s]"
     ]
    },
    {
     "name": "stdout",
     "output_type": "stream",
     "text": [
      "torch.Size([1000, 2000])\n",
      "====> Epoch: 11 Training loss: 0.477735\n",
      "====> Epoch: 11 Test loss: 0.500320\n",
      "Readout Fidelity: % 83.39999914169312\n"
     ]
    },
    {
     "name": "stderr",
     "output_type": "stream",
     "text": [
      "  6%|▌         | 13/210 [00:09<02:23,  1.37it/s]"
     ]
    },
    {
     "name": "stdout",
     "output_type": "stream",
     "text": [
      "torch.Size([1000, 2000])\n",
      "====> Epoch: 12 Training loss: 0.462765\n",
      "====> Epoch: 12 Test loss: 0.489365\n",
      "Readout Fidelity: % 83.99999737739563\n"
     ]
    },
    {
     "name": "stderr",
     "output_type": "stream",
     "text": [
      "  7%|▋         | 14/210 [00:10<02:20,  1.39it/s]"
     ]
    },
    {
     "name": "stdout",
     "output_type": "stream",
     "text": [
      "torch.Size([1000, 2000])\n",
      "====> Epoch: 13 Training loss: 0.449201\n",
      "====> Epoch: 13 Test loss: 0.481170\n",
      "Readout Fidelity: % 84.29999947547913\n"
     ]
    },
    {
     "name": "stderr",
     "output_type": "stream",
     "text": [
      "  7%|▋         | 15/210 [00:11<02:28,  1.31it/s]"
     ]
    },
    {
     "name": "stdout",
     "output_type": "stream",
     "text": [
      "torch.Size([1000, 2000])\n",
      "====> Epoch: 14 Training loss: 0.437156\n",
      "====> Epoch: 14 Test loss: 0.471152\n",
      "Readout Fidelity: % 84.60000157356262\n"
     ]
    },
    {
     "name": "stderr",
     "output_type": "stream",
     "text": [
      "  8%|▊         | 16/210 [00:12<02:28,  1.30it/s]"
     ]
    },
    {
     "name": "stdout",
     "output_type": "stream",
     "text": [
      "torch.Size([1000, 2000])\n",
      "====> Epoch: 15 Training loss: 0.424367\n",
      "====> Epoch: 15 Test loss: 0.462352\n",
      "Readout Fidelity: % 85.10000109672546\n"
     ]
    },
    {
     "name": "stderr",
     "output_type": "stream",
     "text": [
      "  8%|▊         | 17/210 [00:12<02:19,  1.38it/s]"
     ]
    },
    {
     "name": "stdout",
     "output_type": "stream",
     "text": [
      "torch.Size([1000, 2000])\n",
      "====> Epoch: 16 Training loss: 0.412867\n",
      "====> Epoch: 16 Test loss: 0.454450\n",
      "Readout Fidelity: % 85.6000006198883\n"
     ]
    },
    {
     "name": "stderr",
     "output_type": "stream",
     "text": [
      "  9%|▊         | 18/210 [00:13<02:21,  1.36it/s]"
     ]
    },
    {
     "name": "stdout",
     "output_type": "stream",
     "text": [
      "torch.Size([1000, 2000])\n",
      "====> Epoch: 17 Training loss: 0.401347\n",
      "====> Epoch: 17 Test loss: 0.447534\n",
      "Readout Fidelity: % 85.69999933242798\n"
     ]
    },
    {
     "name": "stderr",
     "output_type": "stream",
     "text": [
      "  9%|▉         | 19/210 [00:14<02:17,  1.39it/s]"
     ]
    },
    {
     "name": "stdout",
     "output_type": "stream",
     "text": [
      "torch.Size([1000, 2000])\n",
      "====> Epoch: 18 Training loss: 0.390725\n",
      "====> Epoch: 18 Test loss: 0.440293\n",
      "Readout Fidelity: % 86.10000014305115\n"
     ]
    },
    {
     "name": "stderr",
     "output_type": "stream",
     "text": [
      " 10%|▉         | 20/210 [00:14<02:26,  1.30it/s]"
     ]
    },
    {
     "name": "stdout",
     "output_type": "stream",
     "text": [
      "torch.Size([1000, 2000])\n",
      "====> Epoch: 19 Training loss: 0.379429\n",
      "====> Epoch: 19 Test loss: 0.433423\n",
      "Readout Fidelity: % 86.19999885559082\n"
     ]
    },
    {
     "name": "stderr",
     "output_type": "stream",
     "text": [
      " 10%|█         | 21/210 [00:15<02:22,  1.33it/s]"
     ]
    },
    {
     "name": "stdout",
     "output_type": "stream",
     "text": [
      "torch.Size([1000, 2000])\n",
      "====> Epoch: 20 Training loss: 0.369758\n",
      "====> Epoch: 20 Test loss: 0.426859\n",
      "Readout Fidelity: % 86.59999966621399\n"
     ]
    },
    {
     "name": "stderr",
     "output_type": "stream",
     "text": [
      " 10%|█         | 22/210 [00:16<02:26,  1.29it/s]"
     ]
    },
    {
     "name": "stdout",
     "output_type": "stream",
     "text": [
      "torch.Size([1000, 2000])\n",
      "====> Epoch: 21 Training loss: 0.360349\n",
      "====> Epoch: 21 Test loss: 0.421034\n",
      "Readout Fidelity: % 86.79999709129333\n"
     ]
    },
    {
     "name": "stderr",
     "output_type": "stream",
     "text": [
      " 11%|█         | 23/210 [00:17<02:18,  1.35it/s]"
     ]
    },
    {
     "name": "stdout",
     "output_type": "stream",
     "text": [
      "torch.Size([1000, 2000])\n",
      "====> Epoch: 22 Training loss: 0.351033\n",
      "====> Epoch: 22 Test loss: 0.415866\n",
      "Readout Fidelity: % 86.90000176429749\n"
     ]
    },
    {
     "name": "stderr",
     "output_type": "stream",
     "text": [
      " 11%|█▏        | 24/210 [00:17<02:12,  1.40it/s]"
     ]
    },
    {
     "name": "stdout",
     "output_type": "stream",
     "text": [
      "torch.Size([1000, 2000])\n",
      "====> Epoch: 23 Training loss: 0.342524\n",
      "====> Epoch: 23 Test loss: 0.410157\n",
      "Readout Fidelity: % 87.09999918937683\n"
     ]
    },
    {
     "name": "stderr",
     "output_type": "stream",
     "text": [
      " 12%|█▏        | 25/210 [00:18<02:14,  1.38it/s]"
     ]
    },
    {
     "name": "stdout",
     "output_type": "stream",
     "text": [
      "torch.Size([1000, 2000])\n",
      "====> Epoch: 24 Training loss: 0.334333\n",
      "====> Epoch: 24 Test loss: 0.405079\n",
      "Readout Fidelity: % 87.1999979019165\n"
     ]
    },
    {
     "name": "stderr",
     "output_type": "stream",
     "text": [
      " 12%|█▏        | 26/210 [00:19<02:13,  1.37it/s]"
     ]
    },
    {
     "name": "stdout",
     "output_type": "stream",
     "text": [
      "torch.Size([1000, 2000])\n",
      "====> Epoch: 25 Training loss: 0.326036\n",
      "====> Epoch: 25 Test loss: 0.400425\n",
      "Readout Fidelity: % 87.5\n"
     ]
    },
    {
     "name": "stderr",
     "output_type": "stream",
     "text": [
      " 13%|█▎        | 27/210 [00:20<02:22,  1.28it/s]"
     ]
    },
    {
     "name": "stdout",
     "output_type": "stream",
     "text": [
      "torch.Size([1000, 2000])\n",
      "====> Epoch: 26 Training loss: 0.318902\n",
      "====> Epoch: 26 Test loss: 0.396212\n",
      "Readout Fidelity: % 87.90000081062317\n"
     ]
    },
    {
     "name": "stderr",
     "output_type": "stream",
     "text": [
      " 13%|█▎        | 28/210 [00:20<02:17,  1.32it/s]"
     ]
    },
    {
     "name": "stdout",
     "output_type": "stream",
     "text": [
      "torch.Size([1000, 2000])\n",
      "====> Epoch: 27 Training loss: 0.311179\n",
      "====> Epoch: 27 Test loss: 0.392418\n",
      "Readout Fidelity: % 87.99999952316284\n"
     ]
    },
    {
     "name": "stderr",
     "output_type": "stream",
     "text": [
      " 14%|█▍        | 29/210 [00:21<02:14,  1.34it/s]"
     ]
    },
    {
     "name": "stdout",
     "output_type": "stream",
     "text": [
      "torch.Size([1000, 2000])\n",
      "====> Epoch: 28 Training loss: 0.304740\n",
      "====> Epoch: 28 Test loss: 0.388390\n",
      "Readout Fidelity: % 88.09999823570251\n"
     ]
    },
    {
     "name": "stderr",
     "output_type": "stream",
     "text": [
      " 14%|█▍        | 30/210 [00:22<02:16,  1.31it/s]"
     ]
    },
    {
     "name": "stdout",
     "output_type": "stream",
     "text": [
      "torch.Size([1000, 2000])\n",
      "====> Epoch: 29 Training loss: 0.297863\n",
      "====> Epoch: 29 Test loss: 0.384879\n",
      "Readout Fidelity: % 88.20000290870667\n"
     ]
    },
    {
     "name": "stderr",
     "output_type": "stream",
     "text": [
      " 15%|█▍        | 31/210 [00:23<02:13,  1.34it/s]"
     ]
    },
    {
     "name": "stdout",
     "output_type": "stream",
     "text": [
      "torch.Size([1000, 2000])\n",
      "====> Epoch: 30 Training loss: 0.291732\n",
      "====> Epoch: 30 Test loss: 0.381529\n",
      "Readout Fidelity: % 88.09999823570251\n"
     ]
    },
    {
     "name": "stderr",
     "output_type": "stream",
     "text": [
      " 15%|█▌        | 32/210 [00:23<02:17,  1.30it/s]"
     ]
    },
    {
     "name": "stdout",
     "output_type": "stream",
     "text": [
      "torch.Size([1000, 2000])\n",
      "====> Epoch: 31 Training loss: 0.285530\n",
      "====> Epoch: 31 Test loss: 0.378360\n",
      "Readout Fidelity: % 88.20000290870667\n"
     ]
    },
    {
     "name": "stderr",
     "output_type": "stream",
     "text": [
      " 16%|█▌        | 33/210 [00:24<02:15,  1.31it/s]"
     ]
    },
    {
     "name": "stdout",
     "output_type": "stream",
     "text": [
      "torch.Size([1000, 2000])\n",
      "====> Epoch: 32 Training loss: 0.279099\n",
      "====> Epoch: 32 Test loss: 0.375338\n",
      "Readout Fidelity: % 88.30000162124634\n"
     ]
    },
    {
     "name": "stderr",
     "output_type": "stream",
     "text": [
      " 16%|█▌        | 34/210 [00:25<02:22,  1.24it/s]"
     ]
    },
    {
     "name": "stdout",
     "output_type": "stream",
     "text": [
      "torch.Size([1000, 2000])\n",
      "====> Epoch: 33 Training loss: 0.273137\n",
      "====> Epoch: 33 Test loss: 0.372763\n",
      "Readout Fidelity: % 88.59999775886536\n"
     ]
    },
    {
     "name": "stderr",
     "output_type": "stream",
     "text": [
      " 17%|█▋        | 35/210 [00:26<02:16,  1.28it/s]"
     ]
    },
    {
     "name": "stdout",
     "output_type": "stream",
     "text": [
      "torch.Size([1000, 2000])\n",
      "====> Epoch: 34 Training loss: 0.267415\n",
      "====> Epoch: 34 Test loss: 0.370631\n",
      "Readout Fidelity: % 88.59999775886536\n"
     ]
    },
    {
     "name": "stderr",
     "output_type": "stream",
     "text": [
      " 17%|█▋        | 36/210 [00:27<02:12,  1.31it/s]"
     ]
    },
    {
     "name": "stdout",
     "output_type": "stream",
     "text": [
      "torch.Size([1000, 2000])\n",
      "====> Epoch: 35 Training loss: 0.261923\n",
      "====> Epoch: 35 Test loss: 0.368017\n",
      "Readout Fidelity: % 88.49999904632568\n"
     ]
    },
    {
     "name": "stderr",
     "output_type": "stream",
     "text": [
      " 18%|█▊        | 37/210 [00:27<02:16,  1.27it/s]"
     ]
    },
    {
     "name": "stdout",
     "output_type": "stream",
     "text": [
      "torch.Size([1000, 2000])\n",
      "====> Epoch: 36 Training loss: 0.256440\n",
      "====> Epoch: 36 Test loss: 0.365780\n",
      "Readout Fidelity: % 88.7000024318695\n"
     ]
    },
    {
     "name": "stderr",
     "output_type": "stream",
     "text": [
      " 18%|█▊        | 38/210 [00:28<02:08,  1.34it/s]"
     ]
    },
    {
     "name": "stdout",
     "output_type": "stream",
     "text": [
      "torch.Size([1000, 2000])\n",
      "====> Epoch: 37 Training loss: 0.251488\n",
      "====> Epoch: 37 Test loss: 0.363759\n",
      "Readout Fidelity: % 88.7000024318695\n"
     ]
    },
    {
     "name": "stderr",
     "output_type": "stream",
     "text": [
      " 19%|█▊        | 39/210 [00:29<02:22,  1.20it/s]"
     ]
    },
    {
     "name": "stdout",
     "output_type": "stream",
     "text": [
      "torch.Size([1000, 2000])\n",
      "====> Epoch: 38 Training loss: 0.246185\n",
      "====> Epoch: 38 Test loss: 0.361954\n",
      "Readout Fidelity: % 88.7000024318695\n"
     ]
    },
    {
     "name": "stderr",
     "output_type": "stream",
     "text": [
      " 19%|█▉        | 40/210 [00:30<02:15,  1.25it/s]"
     ]
    },
    {
     "name": "stdout",
     "output_type": "stream",
     "text": [
      "torch.Size([1000, 2000])\n",
      "====> Epoch: 39 Training loss: 0.241542\n",
      "====> Epoch: 39 Test loss: 0.360457\n",
      "Readout Fidelity: % 88.7000024318695\n"
     ]
    },
    {
     "name": "stderr",
     "output_type": "stream",
     "text": [
      " 20%|█▉        | 41/210 [00:31<02:12,  1.27it/s]"
     ]
    },
    {
     "name": "stdout",
     "output_type": "stream",
     "text": [
      "torch.Size([1000, 2000])\n",
      "====> Epoch: 40 Training loss: 0.236786\n",
      "====> Epoch: 40 Test loss: 0.358876\n",
      "Readout Fidelity: % 88.7000024318695\n"
     ]
    },
    {
     "name": "stderr",
     "output_type": "stream",
     "text": [
      " 20%|██        | 42/210 [00:31<02:10,  1.28it/s]"
     ]
    },
    {
     "name": "stdout",
     "output_type": "stream",
     "text": [
      "torch.Size([1000, 2000])\n",
      "====> Epoch: 41 Training loss: 0.232393\n",
      "====> Epoch: 41 Test loss: 0.357110\n",
      "Readout Fidelity: % 88.59999775886536\n"
     ]
    },
    {
     "name": "stderr",
     "output_type": "stream",
     "text": [
      " 20%|██        | 43/210 [00:32<02:07,  1.31it/s]"
     ]
    },
    {
     "name": "stdout",
     "output_type": "stream",
     "text": [
      "torch.Size([1000, 2000])\n",
      "====> Epoch: 42 Training loss: 0.228092\n",
      "====> Epoch: 42 Test loss: 0.355654\n",
      "Readout Fidelity: % 88.59999775886536\n"
     ]
    },
    {
     "name": "stderr",
     "output_type": "stream",
     "text": [
      " 21%|██        | 44/210 [00:33<02:03,  1.34it/s]"
     ]
    },
    {
     "name": "stdout",
     "output_type": "stream",
     "text": [
      "torch.Size([1000, 2000])\n",
      "====> Epoch: 43 Training loss: 0.223978\n",
      "====> Epoch: 43 Test loss: 0.354359\n",
      "Readout Fidelity: % 88.7000024318695\n"
     ]
    },
    {
     "name": "stderr",
     "output_type": "stream",
     "text": [
      " 21%|██▏       | 45/210 [00:34<02:05,  1.31it/s]"
     ]
    },
    {
     "name": "stdout",
     "output_type": "stream",
     "text": [
      "torch.Size([1000, 2000])\n",
      "====> Epoch: 44 Training loss: 0.219955\n",
      "====> Epoch: 44 Test loss: 0.352916\n",
      "Readout Fidelity: % 88.80000114440918\n"
     ]
    },
    {
     "name": "stderr",
     "output_type": "stream",
     "text": [
      " 22%|██▏       | 46/210 [00:35<02:26,  1.12it/s]"
     ]
    },
    {
     "name": "stdout",
     "output_type": "stream",
     "text": [
      "torch.Size([1000, 2000])\n",
      "====> Epoch: 45 Training loss: 0.216046\n",
      "====> Epoch: 45 Test loss: 0.351658\n",
      "Readout Fidelity: % 88.80000114440918\n"
     ]
    },
    {
     "name": "stderr",
     "output_type": "stream",
     "text": [
      " 22%|██▏       | 47/210 [00:35<02:16,  1.20it/s]"
     ]
    },
    {
     "name": "stdout",
     "output_type": "stream",
     "text": [
      "torch.Size([1000, 2000])\n",
      "====> Epoch: 46 Training loss: 0.212250\n",
      "====> Epoch: 46 Test loss: 0.350453\n",
      "Readout Fidelity: % 88.7000024318695\n"
     ]
    },
    {
     "name": "stderr",
     "output_type": "stream",
     "text": [
      " 23%|██▎       | 48/210 [00:36<02:06,  1.28it/s]"
     ]
    },
    {
     "name": "stdout",
     "output_type": "stream",
     "text": [
      "torch.Size([1000, 2000])\n",
      "====> Epoch: 47 Training loss: 0.208619\n",
      "====> Epoch: 47 Test loss: 0.349420\n",
      "Readout Fidelity: % 88.80000114440918\n"
     ]
    },
    {
     "name": "stderr",
     "output_type": "stream",
     "text": [
      " 23%|██▎       | 49/210 [00:37<02:02,  1.31it/s]"
     ]
    },
    {
     "name": "stdout",
     "output_type": "stream",
     "text": [
      "torch.Size([1000, 2000])\n",
      "====> Epoch: 48 Training loss: 0.205075\n",
      "====> Epoch: 48 Test loss: 0.348439\n",
      "Readout Fidelity: % 88.80000114440918\n"
     ]
    },
    {
     "name": "stderr",
     "output_type": "stream",
     "text": [
      " 24%|██▍       | 50/210 [00:38<02:00,  1.33it/s]"
     ]
    },
    {
     "name": "stdout",
     "output_type": "stream",
     "text": [
      "torch.Size([1000, 2000])\n",
      "====> Epoch: 49 Training loss: 0.201533\n",
      "====> Epoch: 49 Test loss: 0.347947\n",
      "Readout Fidelity: % 88.89999985694885\n"
     ]
    },
    {
     "name": "stderr",
     "output_type": "stream",
     "text": [
      " 24%|██▍       | 51/210 [00:38<02:05,  1.26it/s]"
     ]
    },
    {
     "name": "stdout",
     "output_type": "stream",
     "text": [
      "torch.Size([1000, 2000])\n",
      "====> Epoch: 50 Training loss: 0.198379\n",
      "====> Epoch: 50 Test loss: 0.347076\n",
      "Readout Fidelity: % 88.99999856948853\n"
     ]
    },
    {
     "name": "stderr",
     "output_type": "stream",
     "text": [
      " 25%|██▍       | 52/210 [00:39<02:08,  1.23it/s]"
     ]
    },
    {
     "name": "stdout",
     "output_type": "stream",
     "text": [
      "torch.Size([1000, 2000])\n",
      "====> Epoch: 51 Training loss: 0.195262\n",
      "====> Epoch: 51 Test loss: 0.346313\n",
      "Readout Fidelity: % 88.99999856948853\n"
     ]
    },
    {
     "name": "stderr",
     "output_type": "stream",
     "text": [
      " 25%|██▌       | 53/210 [00:40<02:08,  1.23it/s]"
     ]
    },
    {
     "name": "stdout",
     "output_type": "stream",
     "text": [
      "torch.Size([1000, 2000])\n",
      "====> Epoch: 52 Training loss: 0.192159\n",
      "====> Epoch: 52 Test loss: 0.345829\n",
      "Readout Fidelity: % 88.99999856948853\n"
     ]
    },
    {
     "name": "stderr",
     "output_type": "stream",
     "text": [
      " 26%|██▌       | 54/210 [00:41<02:09,  1.21it/s]"
     ]
    },
    {
     "name": "stdout",
     "output_type": "stream",
     "text": [
      "torch.Size([1000, 2000])\n",
      "====> Epoch: 53 Training loss: 0.188987\n",
      "====> Epoch: 53 Test loss: 0.345286\n",
      "Readout Fidelity: % 88.99999856948853\n"
     ]
    },
    {
     "name": "stderr",
     "output_type": "stream",
     "text": [
      " 26%|██▌       | 55/210 [00:42<02:07,  1.22it/s]"
     ]
    },
    {
     "name": "stdout",
     "output_type": "stream",
     "text": [
      "torch.Size([1000, 2000])\n",
      "====> Epoch: 54 Training loss: 0.186375\n",
      "====> Epoch: 54 Test loss: 0.344506\n",
      "Readout Fidelity: % 88.99999856948853\n"
     ]
    },
    {
     "name": "stderr",
     "output_type": "stream",
     "text": [
      " 27%|██▋       | 56/210 [00:43<02:09,  1.19it/s]"
     ]
    },
    {
     "name": "stdout",
     "output_type": "stream",
     "text": [
      "torch.Size([1000, 2000])\n",
      "====> Epoch: 55 Training loss: 0.183454\n",
      "====> Epoch: 55 Test loss: 0.343912\n",
      "Readout Fidelity: % 88.99999856948853\n"
     ]
    },
    {
     "name": "stderr",
     "output_type": "stream",
     "text": [
      " 27%|██▋       | 57/210 [00:43<02:01,  1.26it/s]"
     ]
    },
    {
     "name": "stdout",
     "output_type": "stream",
     "text": [
      "torch.Size([1000, 2000])\n",
      "====> Epoch: 56 Training loss: 0.180631\n",
      "====> Epoch: 56 Test loss: 0.343498\n",
      "Readout Fidelity: % 88.89999985694885\n"
     ]
    },
    {
     "name": "stderr",
     "output_type": "stream",
     "text": [
      " 28%|██▊       | 58/210 [00:45<02:17,  1.11it/s]"
     ]
    },
    {
     "name": "stdout",
     "output_type": "stream",
     "text": [
      "torch.Size([1000, 2000])\n",
      "====> Epoch: 57 Training loss: 0.178058\n",
      "====> Epoch: 57 Test loss: 0.342977\n",
      "Readout Fidelity: % 89.0999972820282\n"
     ]
    },
    {
     "name": "stderr",
     "output_type": "stream",
     "text": [
      " 28%|██▊       | 59/210 [00:45<02:07,  1.18it/s]"
     ]
    },
    {
     "name": "stdout",
     "output_type": "stream",
     "text": [
      "torch.Size([1000, 2000])\n",
      "====> Epoch: 58 Training loss: 0.175461\n",
      "====> Epoch: 58 Test loss: 0.342847\n",
      "Readout Fidelity: % 89.0999972820282\n"
     ]
    },
    {
     "name": "stderr",
     "output_type": "stream",
     "text": [
      " 29%|██▊       | 60/210 [00:46<02:02,  1.22it/s]"
     ]
    },
    {
     "name": "stdout",
     "output_type": "stream",
     "text": [
      "torch.Size([1000, 2000])\n",
      "====> Epoch: 59 Training loss: 0.172861\n",
      "====> Epoch: 59 Test loss: 0.342697\n",
      "Readout Fidelity: % 88.99999856948853\n"
     ]
    },
    {
     "name": "stderr",
     "output_type": "stream",
     "text": [
      " 29%|██▉       | 61/210 [00:47<02:00,  1.23it/s]"
     ]
    },
    {
     "name": "stdout",
     "output_type": "stream",
     "text": [
      "torch.Size([1000, 2000])\n",
      "====> Epoch: 60 Training loss: 0.170574\n",
      "====> Epoch: 60 Test loss: 0.342424\n",
      "Readout Fidelity: % 89.20000195503235\n"
     ]
    },
    {
     "name": "stderr",
     "output_type": "stream",
     "text": [
      " 30%|██▉       | 62/210 [00:48<01:55,  1.28it/s]"
     ]
    },
    {
     "name": "stdout",
     "output_type": "stream",
     "text": [
      "torch.Size([1000, 2000])\n",
      "====> Epoch: 61 Training loss: 0.168355\n",
      "====> Epoch: 61 Test loss: 0.342333\n",
      "Readout Fidelity: % 89.20000195503235\n"
     ]
    },
    {
     "name": "stderr",
     "output_type": "stream",
     "text": [
      " 30%|███       | 63/210 [00:48<01:50,  1.33it/s]"
     ]
    },
    {
     "name": "stdout",
     "output_type": "stream",
     "text": [
      "torch.Size([1000, 2000])\n",
      "====> Epoch: 62 Training loss: 0.166025\n",
      "====> Epoch: 62 Test loss: 0.341783\n",
      "Readout Fidelity: % 89.3999993801117\n"
     ]
    },
    {
     "name": "stderr",
     "output_type": "stream",
     "text": [
      " 30%|███       | 64/210 [00:49<01:54,  1.27it/s]"
     ]
    },
    {
     "name": "stdout",
     "output_type": "stream",
     "text": [
      "torch.Size([1000, 2000])\n",
      "====> Epoch: 63 Training loss: 0.163919\n",
      "====> Epoch: 63 Test loss: 0.341788\n",
      "Readout Fidelity: % 89.3999993801117\n"
     ]
    },
    {
     "name": "stderr",
     "output_type": "stream",
     "text": [
      " 31%|███       | 65/210 [00:50<02:14,  1.07it/s]"
     ]
    },
    {
     "name": "stdout",
     "output_type": "stream",
     "text": [
      "torch.Size([1000, 2000])\n",
      "====> Epoch: 64 Training loss: 0.161571\n",
      "====> Epoch: 64 Test loss: 0.341490\n",
      "Readout Fidelity: % 89.3999993801117\n"
     ]
    },
    {
     "name": "stderr",
     "output_type": "stream",
     "text": [
      " 31%|███▏      | 66/210 [00:51<02:03,  1.17it/s]"
     ]
    },
    {
     "name": "stdout",
     "output_type": "stream",
     "text": [
      "torch.Size([1000, 2000])\n",
      "====> Epoch: 65 Training loss: 0.159425\n",
      "====> Epoch: 65 Test loss: 0.340967\n",
      "Readout Fidelity: % 89.3999993801117\n"
     ]
    },
    {
     "name": "stderr",
     "output_type": "stream",
     "text": [
      " 32%|███▏      | 67/210 [00:52<01:58,  1.20it/s]"
     ]
    },
    {
     "name": "stdout",
     "output_type": "stream",
     "text": [
      "torch.Size([1000, 2000])\n",
      "====> Epoch: 66 Training loss: 0.157115\n",
      "====> Epoch: 66 Test loss: 0.340672\n",
      "Readout Fidelity: % 89.30000066757202\n"
     ]
    },
    {
     "name": "stderr",
     "output_type": "stream",
     "text": [
      " 32%|███▏      | 68/210 [00:52<01:52,  1.26it/s]"
     ]
    },
    {
     "name": "stdout",
     "output_type": "stream",
     "text": [
      "torch.Size([1000, 2000])\n",
      "====> Epoch: 67 Training loss: 0.155084\n",
      "====> Epoch: 67 Test loss: 0.340448\n",
      "Readout Fidelity: % 89.3999993801117\n"
     ]
    },
    {
     "name": "stderr",
     "output_type": "stream",
     "text": [
      " 33%|███▎      | 69/210 [00:53<01:47,  1.32it/s]"
     ]
    },
    {
     "name": "stdout",
     "output_type": "stream",
     "text": [
      "torch.Size([1000, 2000])\n",
      "====> Epoch: 68 Training loss: 0.153390\n",
      "====> Epoch: 68 Test loss: 0.340472\n",
      "Readout Fidelity: % 89.3999993801117\n"
     ]
    },
    {
     "name": "stderr",
     "output_type": "stream",
     "text": [
      " 33%|███▎      | 70/210 [00:54<02:03,  1.14it/s]"
     ]
    },
    {
     "name": "stdout",
     "output_type": "stream",
     "text": [
      "torch.Size([1000, 2000])\n",
      "====> Epoch: 69 Training loss: 0.151663\n",
      "====> Epoch: 69 Test loss: 0.340404\n",
      "Readout Fidelity: % 89.30000066757202\n"
     ]
    },
    {
     "name": "stderr",
     "output_type": "stream",
     "text": [
      " 34%|███▍      | 71/210 [00:55<01:54,  1.22it/s]"
     ]
    },
    {
     "name": "stdout",
     "output_type": "stream",
     "text": [
      "torch.Size([1000, 2000])\n",
      "====> Epoch: 70 Training loss: 0.149648\n",
      "====> Epoch: 70 Test loss: 0.340411\n",
      "Readout Fidelity: % 89.30000066757202\n"
     ]
    },
    {
     "name": "stderr",
     "output_type": "stream",
     "text": [
      " 34%|███▍      | 72/210 [00:56<01:55,  1.19it/s]"
     ]
    },
    {
     "name": "stdout",
     "output_type": "stream",
     "text": [
      "torch.Size([1000, 2000])\n",
      "====> Epoch: 71 Training loss: 0.147715\n",
      "====> Epoch: 71 Test loss: 0.340286\n",
      "Readout Fidelity: % 89.30000066757202\n"
     ]
    },
    {
     "name": "stderr",
     "output_type": "stream",
     "text": [
      " 35%|███▍      | 73/210 [00:57<01:54,  1.19it/s]"
     ]
    },
    {
     "name": "stdout",
     "output_type": "stream",
     "text": [
      "torch.Size([1000, 2000])\n",
      "====> Epoch: 72 Training loss: 0.146221\n",
      "====> Epoch: 72 Test loss: 0.340346\n",
      "Readout Fidelity: % 89.30000066757202\n"
     ]
    },
    {
     "name": "stderr",
     "output_type": "stream",
     "text": [
      " 35%|███▌      | 74/210 [00:58<01:52,  1.21it/s]"
     ]
    },
    {
     "name": "stdout",
     "output_type": "stream",
     "text": [
      "torch.Size([1000, 2000])\n",
      "====> Epoch: 73 Training loss: 0.144518\n",
      "====> Epoch: 73 Test loss: 0.340097\n",
      "Readout Fidelity: % 89.20000195503235\n"
     ]
    },
    {
     "name": "stderr",
     "output_type": "stream",
     "text": [
      " 36%|███▌      | 75/210 [00:58<01:52,  1.20it/s]"
     ]
    },
    {
     "name": "stdout",
     "output_type": "stream",
     "text": [
      "torch.Size([1000, 2000])\n",
      "====> Epoch: 74 Training loss: 0.142862\n",
      "====> Epoch: 74 Test loss: 0.339980\n",
      "Readout Fidelity: % 89.20000195503235\n"
     ]
    },
    {
     "name": "stderr",
     "output_type": "stream",
     "text": [
      " 36%|███▌      | 76/210 [00:59<01:50,  1.21it/s]"
     ]
    },
    {
     "name": "stdout",
     "output_type": "stream",
     "text": [
      "torch.Size([1000, 2000])\n",
      "====> Epoch: 75 Training loss: 0.141150\n",
      "====> Epoch: 75 Test loss: 0.339937\n",
      "Readout Fidelity: % 89.30000066757202\n"
     ]
    },
    {
     "name": "stderr",
     "output_type": "stream",
     "text": [
      " 37%|███▋      | 77/210 [01:00<01:54,  1.16it/s]"
     ]
    },
    {
     "name": "stdout",
     "output_type": "stream",
     "text": [
      "torch.Size([1000, 2000])\n",
      "====> Epoch: 76 Training loss: 0.139531\n",
      "====> Epoch: 76 Test loss: 0.339850\n",
      "Readout Fidelity: % 89.30000066757202\n"
     ]
    },
    {
     "name": "stderr",
     "output_type": "stream",
     "text": [
      " 37%|███▋      | 78/210 [01:01<01:59,  1.10it/s]"
     ]
    },
    {
     "name": "stdout",
     "output_type": "stream",
     "text": [
      "torch.Size([1000, 2000])\n",
      "====> Epoch: 77 Training loss: 0.138548\n",
      "====> Epoch: 77 Test loss: 0.340025\n",
      "Readout Fidelity: % 89.30000066757202\n"
     ]
    },
    {
     "name": "stderr",
     "output_type": "stream",
     "text": [
      " 38%|███▊      | 79/210 [01:02<01:54,  1.14it/s]"
     ]
    },
    {
     "name": "stdout",
     "output_type": "stream",
     "text": [
      "torch.Size([1000, 2000])\n",
      "====> Epoch: 78 Training loss: 0.136942\n",
      "====> Epoch: 78 Test loss: 0.340126\n",
      "Readout Fidelity: % 89.30000066757202\n"
     ]
    },
    {
     "name": "stderr",
     "output_type": "stream",
     "text": [
      " 38%|███▊      | 80/210 [01:03<01:51,  1.17it/s]"
     ]
    },
    {
     "name": "stdout",
     "output_type": "stream",
     "text": [
      "torch.Size([1000, 2000])\n",
      "====> Epoch: 79 Training loss: 0.135438\n",
      "====> Epoch: 79 Test loss: 0.340058\n",
      "Readout Fidelity: % 89.30000066757202\n"
     ]
    },
    {
     "name": "stderr",
     "output_type": "stream",
     "text": [
      " 39%|███▊      | 81/210 [01:04<02:03,  1.05it/s]"
     ]
    },
    {
     "name": "stdout",
     "output_type": "stream",
     "text": [
      "torch.Size([1000, 2000])\n",
      "====> Epoch: 80 Training loss: 0.133893\n",
      "====> Epoch: 80 Test loss: 0.340101\n",
      "Readout Fidelity: % 89.30000066757202\n"
     ]
    },
    {
     "name": "stderr",
     "output_type": "stream",
     "text": [
      " 39%|███▉      | 82/210 [01:05<01:54,  1.11it/s]"
     ]
    },
    {
     "name": "stdout",
     "output_type": "stream",
     "text": [
      "torch.Size([1000, 2000])\n",
      "====> Epoch: 81 Training loss: 0.132593\n",
      "====> Epoch: 81 Test loss: 0.340255\n",
      "Readout Fidelity: % 89.30000066757202\n"
     ]
    },
    {
     "name": "stderr",
     "output_type": "stream",
     "text": [
      " 40%|███▉      | 83/210 [01:06<02:06,  1.01it/s]"
     ]
    },
    {
     "name": "stdout",
     "output_type": "stream",
     "text": [
      "torch.Size([1000, 2000])\n",
      "====> Epoch: 82 Training loss: 0.131603\n",
      "====> Epoch: 82 Test loss: 0.340515\n",
      "Readout Fidelity: % 89.20000195503235\n"
     ]
    },
    {
     "name": "stderr",
     "output_type": "stream",
     "text": [
      " 40%|████      | 84/210 [01:07<02:02,  1.03it/s]"
     ]
    },
    {
     "name": "stdout",
     "output_type": "stream",
     "text": [
      "torch.Size([1000, 2000])\n",
      "====> Epoch: 83 Training loss: 0.130393\n",
      "====> Epoch: 83 Test loss: 0.340585\n",
      "Readout Fidelity: % 89.20000195503235\n"
     ]
    },
    {
     "name": "stderr",
     "output_type": "stream",
     "text": [
      " 40%|████      | 85/210 [01:08<01:53,  1.10it/s]"
     ]
    },
    {
     "name": "stdout",
     "output_type": "stream",
     "text": [
      "torch.Size([1000, 2000])\n",
      "====> Epoch: 84 Training loss: 0.129007\n",
      "====> Epoch: 84 Test loss: 0.340599\n",
      "Readout Fidelity: % 89.20000195503235\n"
     ]
    },
    {
     "name": "stderr",
     "output_type": "stream",
     "text": [
      " 41%|████      | 86/210 [01:08<01:47,  1.15it/s]"
     ]
    },
    {
     "name": "stdout",
     "output_type": "stream",
     "text": [
      "torch.Size([1000, 2000])\n",
      "====> Epoch: 85 Training loss: 0.127935\n",
      "====> Epoch: 85 Test loss: 0.340895\n",
      "Readout Fidelity: % 89.0999972820282\n"
     ]
    },
    {
     "name": "stderr",
     "output_type": "stream",
     "text": [
      " 41%|████▏     | 87/210 [01:10<01:57,  1.04it/s]"
     ]
    },
    {
     "name": "stdout",
     "output_type": "stream",
     "text": [
      "torch.Size([1000, 2000])\n",
      "====> Epoch: 86 Training loss: 0.126827\n",
      "====> Epoch: 86 Test loss: 0.340654\n",
      "Readout Fidelity: % 89.30000066757202\n"
     ]
    },
    {
     "name": "stderr",
     "output_type": "stream",
     "text": [
      " 42%|████▏     | 88/210 [01:10<01:53,  1.07it/s]"
     ]
    },
    {
     "name": "stdout",
     "output_type": "stream",
     "text": [
      "torch.Size([1000, 2000])\n",
      "====> Epoch: 87 Training loss: 0.125815\n",
      "====> Epoch: 87 Test loss: 0.340939\n",
      "Readout Fidelity: % 89.30000066757202\n"
     ]
    },
    {
     "name": "stderr",
     "output_type": "stream",
     "text": [
      " 42%|████▏     | 89/210 [01:11<01:51,  1.09it/s]"
     ]
    },
    {
     "name": "stdout",
     "output_type": "stream",
     "text": [
      "torch.Size([1000, 2000])\n",
      "====> Epoch: 88 Training loss: 0.124793\n",
      "====> Epoch: 88 Test loss: 0.341214\n",
      "Readout Fidelity: % 89.3999993801117\n"
     ]
    },
    {
     "name": "stderr",
     "output_type": "stream",
     "text": [
      " 43%|████▎     | 90/210 [01:12<01:42,  1.17it/s]"
     ]
    },
    {
     "name": "stdout",
     "output_type": "stream",
     "text": [
      "torch.Size([1000, 2000])\n",
      "====> Epoch: 89 Training loss: 0.123736\n",
      "====> Epoch: 89 Test loss: 0.341354\n",
      "Readout Fidelity: % 89.20000195503235\n"
     ]
    },
    {
     "name": "stderr",
     "output_type": "stream",
     "text": [
      " 43%|████▎     | 91/210 [01:13<01:34,  1.26it/s]"
     ]
    },
    {
     "name": "stdout",
     "output_type": "stream",
     "text": [
      "torch.Size([1000, 2000])\n",
      "====> Epoch: 90 Training loss: 0.122815\n",
      "====> Epoch: 90 Test loss: 0.341449\n",
      "Readout Fidelity: % 89.30000066757202\n"
     ]
    },
    {
     "name": "stderr",
     "output_type": "stream",
     "text": [
      " 44%|████▍     | 92/210 [01:13<01:32,  1.28it/s]"
     ]
    },
    {
     "name": "stdout",
     "output_type": "stream",
     "text": [
      "torch.Size([1000, 2000])\n",
      "====> Epoch: 91 Training loss: 0.121768\n",
      "====> Epoch: 91 Test loss: 0.341455\n",
      "Readout Fidelity: % 89.30000066757202\n"
     ]
    },
    {
     "name": "stderr",
     "output_type": "stream",
     "text": [
      " 44%|████▍     | 93/210 [01:14<01:36,  1.21it/s]"
     ]
    },
    {
     "name": "stdout",
     "output_type": "stream",
     "text": [
      "torch.Size([1000, 2000])\n",
      "====> Epoch: 92 Training loss: 0.120731\n",
      "====> Epoch: 92 Test loss: 0.341743\n",
      "Readout Fidelity: % 89.20000195503235\n"
     ]
    },
    {
     "name": "stderr",
     "output_type": "stream",
     "text": [
      " 45%|████▍     | 94/210 [01:16<01:48,  1.07it/s]"
     ]
    },
    {
     "name": "stdout",
     "output_type": "stream",
     "text": [
      "torch.Size([1000, 2000])\n",
      "====> Epoch: 93 Training loss: 0.119899\n",
      "====> Epoch: 93 Test loss: 0.342032\n",
      "Readout Fidelity: % 89.30000066757202\n"
     ]
    },
    {
     "name": "stderr",
     "output_type": "stream",
     "text": [
      " 45%|████▌     | 95/210 [01:17<01:50,  1.04it/s]"
     ]
    },
    {
     "name": "stdout",
     "output_type": "stream",
     "text": [
      "torch.Size([1000, 2000])\n",
      "====> Epoch: 94 Training loss: 0.119122\n",
      "====> Epoch: 94 Test loss: 0.342522\n",
      "Readout Fidelity: % 89.30000066757202\n"
     ]
    },
    {
     "name": "stderr",
     "output_type": "stream",
     "text": [
      " 46%|████▌     | 96/210 [01:17<01:41,  1.12it/s]"
     ]
    },
    {
     "name": "stdout",
     "output_type": "stream",
     "text": [
      "torch.Size([1000, 2000])\n",
      "====> Epoch: 95 Training loss: 0.117898\n",
      "====> Epoch: 95 Test loss: 0.342707\n",
      "Readout Fidelity: % 89.30000066757202\n"
     ]
    },
    {
     "name": "stderr",
     "output_type": "stream",
     "text": [
      " 46%|████▌     | 97/210 [01:18<01:37,  1.16it/s]"
     ]
    },
    {
     "name": "stdout",
     "output_type": "stream",
     "text": [
      "torch.Size([1000, 2000])\n",
      "====> Epoch: 96 Training loss: 0.117001\n",
      "====> Epoch: 96 Test loss: 0.342852\n",
      "Readout Fidelity: % 89.30000066757202\n"
     ]
    },
    {
     "name": "stderr",
     "output_type": "stream",
     "text": [
      " 47%|████▋     | 98/210 [01:19<01:37,  1.15it/s]"
     ]
    },
    {
     "name": "stdout",
     "output_type": "stream",
     "text": [
      "torch.Size([1000, 2000])\n",
      "====> Epoch: 97 Training loss: 0.116339\n",
      "====> Epoch: 97 Test loss: 0.343027\n",
      "Readout Fidelity: % 89.30000066757202\n"
     ]
    },
    {
     "name": "stderr",
     "output_type": "stream",
     "text": [
      " 47%|████▋     | 99/210 [01:20<01:41,  1.09it/s]"
     ]
    },
    {
     "name": "stdout",
     "output_type": "stream",
     "text": [
      "torch.Size([1000, 2000])\n",
      "====> Epoch: 98 Training loss: 0.115528\n",
      "====> Epoch: 98 Test loss: 0.343237\n",
      "Readout Fidelity: % 89.30000066757202\n"
     ]
    },
    {
     "name": "stderr",
     "output_type": "stream",
     "text": [
      " 48%|████▊     | 100/210 [01:21<01:43,  1.06it/s]"
     ]
    },
    {
     "name": "stdout",
     "output_type": "stream",
     "text": [
      "torch.Size([1000, 2000])\n",
      "====> Epoch: 99 Training loss: 0.114581\n",
      "====> Epoch: 99 Test loss: 0.343632\n",
      "Readout Fidelity: % 89.30000066757202\n"
     ]
    },
    {
     "name": "stderr",
     "output_type": "stream",
     "text": [
      " 48%|████▊     | 101/210 [01:22<01:51,  1.02s/it]"
     ]
    },
    {
     "name": "stdout",
     "output_type": "stream",
     "text": [
      "torch.Size([1000, 2000])\n",
      "====> Epoch: 100 Training loss: 0.113885\n",
      "====> Epoch: 100 Test loss: 0.343908\n",
      "Readout Fidelity: % 89.30000066757202\n"
     ]
    },
    {
     "name": "stderr",
     "output_type": "stream",
     "text": [
      " 49%|████▊     | 102/210 [01:23<01:51,  1.04s/it]"
     ]
    },
    {
     "name": "stdout",
     "output_type": "stream",
     "text": [
      "torch.Size([1000, 2000])\n",
      "====> Epoch: 101 Training loss: 0.113197\n",
      "====> Epoch: 101 Test loss: 0.343953\n",
      "Readout Fidelity: % 89.30000066757202\n"
     ]
    },
    {
     "name": "stderr",
     "output_type": "stream",
     "text": [
      " 49%|████▉     | 103/210 [01:24<01:43,  1.03it/s]"
     ]
    },
    {
     "name": "stdout",
     "output_type": "stream",
     "text": [
      "torch.Size([1000, 2000])\n",
      "====> Epoch: 102 Training loss: 0.112518\n",
      "====> Epoch: 102 Test loss: 0.344048\n",
      "Readout Fidelity: % 89.30000066757202\n"
     ]
    },
    {
     "name": "stderr",
     "output_type": "stream",
     "text": [
      " 50%|████▉     | 104/210 [01:25<01:34,  1.12it/s]"
     ]
    },
    {
     "name": "stdout",
     "output_type": "stream",
     "text": [
      "torch.Size([1000, 2000])\n",
      "====> Epoch: 103 Training loss: 0.111799\n",
      "====> Epoch: 103 Test loss: 0.344481\n",
      "Readout Fidelity: % 89.20000195503235\n"
     ]
    },
    {
     "name": "stderr",
     "output_type": "stream",
     "text": [
      " 50%|█████     | 105/210 [01:26<01:33,  1.13it/s]"
     ]
    },
    {
     "name": "stdout",
     "output_type": "stream",
     "text": [
      "torch.Size([1000, 2000])\n",
      "====> Epoch: 104 Training loss: 0.110988\n",
      "====> Epoch: 104 Test loss: 0.344551\n",
      "Readout Fidelity: % 89.30000066757202\n"
     ]
    },
    {
     "name": "stderr",
     "output_type": "stream",
     "text": [
      " 50%|█████     | 106/210 [01:27<01:33,  1.11it/s]"
     ]
    },
    {
     "name": "stdout",
     "output_type": "stream",
     "text": [
      "torch.Size([1000, 2000])\n",
      "====> Epoch: 105 Training loss: 0.110404\n",
      "====> Epoch: 105 Test loss: 0.344582\n",
      "Readout Fidelity: % 89.30000066757202\n"
     ]
    },
    {
     "name": "stderr",
     "output_type": "stream",
     "text": [
      " 51%|█████     | 107/210 [01:28<01:35,  1.08it/s]"
     ]
    },
    {
     "name": "stdout",
     "output_type": "stream",
     "text": [
      "torch.Size([1000, 2000])\n",
      "====> Epoch: 106 Training loss: 0.109568\n",
      "====> Epoch: 106 Test loss: 0.344971\n",
      "Readout Fidelity: % 89.3999993801117\n"
     ]
    },
    {
     "name": "stderr",
     "output_type": "stream",
     "text": [
      " 51%|█████▏    | 108/210 [01:28<01:31,  1.11it/s]"
     ]
    },
    {
     "name": "stdout",
     "output_type": "stream",
     "text": [
      "torch.Size([1000, 2000])\n",
      "====> Epoch: 107 Training loss: 0.108934\n",
      "====> Epoch: 107 Test loss: 0.345147\n",
      "Readout Fidelity: % 89.30000066757202\n"
     ]
    },
    {
     "name": "stderr",
     "output_type": "stream",
     "text": [
      " 52%|█████▏    | 109/210 [01:29<01:23,  1.21it/s]"
     ]
    },
    {
     "name": "stdout",
     "output_type": "stream",
     "text": [
      "torch.Size([1000, 2000])\n",
      "====> Epoch: 108 Training loss: 0.108289\n",
      "====> Epoch: 108 Test loss: 0.345431\n",
      "Readout Fidelity: % 89.3999993801117\n"
     ]
    },
    {
     "name": "stderr",
     "output_type": "stream",
     "text": [
      " 52%|█████▏    | 110/210 [01:30<01:19,  1.26it/s]"
     ]
    },
    {
     "name": "stdout",
     "output_type": "stream",
     "text": [
      "torch.Size([1000, 2000])\n",
      "====> Epoch: 109 Training loss: 0.107830\n",
      "====> Epoch: 109 Test loss: 0.345858\n",
      "Readout Fidelity: % 89.3999993801117\n"
     ]
    },
    {
     "name": "stderr",
     "output_type": "stream",
     "text": [
      " 53%|█████▎    | 111/210 [01:30<01:13,  1.35it/s]"
     ]
    },
    {
     "name": "stdout",
     "output_type": "stream",
     "text": [
      "torch.Size([1000, 2000])\n",
      "====> Epoch: 110 Training loss: 0.107143\n",
      "====> Epoch: 110 Test loss: 0.346079\n",
      "Readout Fidelity: % 89.49999809265137\n"
     ]
    },
    {
     "name": "stderr",
     "output_type": "stream",
     "text": [
      " 53%|█████▎    | 112/210 [01:31<01:12,  1.34it/s]"
     ]
    },
    {
     "name": "stdout",
     "output_type": "stream",
     "text": [
      "torch.Size([1000, 2000])\n",
      "====> Epoch: 111 Training loss: 0.106495\n",
      "====> Epoch: 111 Test loss: 0.346602\n",
      "Readout Fidelity: % 89.49999809265137\n"
     ]
    },
    {
     "name": "stderr",
     "output_type": "stream",
     "text": [
      " 54%|█████▍    | 113/210 [01:32<01:13,  1.33it/s]"
     ]
    },
    {
     "name": "stdout",
     "output_type": "stream",
     "text": [
      "torch.Size([1000, 2000])\n",
      "====> Epoch: 112 Training loss: 0.105909\n",
      "====> Epoch: 112 Test loss: 0.347062\n",
      "Readout Fidelity: % 89.60000276565552\n"
     ]
    },
    {
     "name": "stderr",
     "output_type": "stream",
     "text": [
      " 54%|█████▍    | 114/210 [01:33<01:11,  1.35it/s]"
     ]
    },
    {
     "name": "stdout",
     "output_type": "stream",
     "text": [
      "torch.Size([1000, 2000])\n",
      "====> Epoch: 113 Training loss: 0.105310\n",
      "====> Epoch: 113 Test loss: 0.347243\n",
      "Readout Fidelity: % 89.60000276565552\n"
     ]
    },
    {
     "name": "stderr",
     "output_type": "stream",
     "text": [
      " 55%|█████▍    | 115/210 [01:33<01:11,  1.33it/s]"
     ]
    },
    {
     "name": "stdout",
     "output_type": "stream",
     "text": [
      "torch.Size([1000, 2000])\n",
      "====> Epoch: 114 Training loss: 0.104781\n",
      "====> Epoch: 114 Test loss: 0.347571\n",
      "Readout Fidelity: % 89.70000147819519\n"
     ]
    },
    {
     "name": "stderr",
     "output_type": "stream",
     "text": [
      " 55%|█████▌    | 116/210 [01:34<01:08,  1.36it/s]"
     ]
    },
    {
     "name": "stdout",
     "output_type": "stream",
     "text": [
      "torch.Size([1000, 2000])\n",
      "====> Epoch: 115 Training loss: 0.104183\n",
      "====> Epoch: 115 Test loss: 0.347934\n",
      "Readout Fidelity: % 89.70000147819519\n"
     ]
    },
    {
     "name": "stderr",
     "output_type": "stream",
     "text": [
      " 56%|█████▌    | 117/210 [01:35<01:09,  1.34it/s]"
     ]
    },
    {
     "name": "stdout",
     "output_type": "stream",
     "text": [
      "torch.Size([1000, 2000])\n",
      "====> Epoch: 116 Training loss: 0.103648\n",
      "====> Epoch: 116 Test loss: 0.348165\n",
      "Readout Fidelity: % 89.60000276565552\n"
     ]
    },
    {
     "name": "stderr",
     "output_type": "stream",
     "text": [
      " 56%|█████▌    | 118/210 [01:36<01:09,  1.31it/s]"
     ]
    },
    {
     "name": "stdout",
     "output_type": "stream",
     "text": [
      "torch.Size([1000, 2000])\n",
      "====> Epoch: 117 Training loss: 0.103309\n",
      "====> Epoch: 117 Test loss: 0.348770\n",
      "Readout Fidelity: % 89.3999993801117\n"
     ]
    },
    {
     "name": "stderr",
     "output_type": "stream",
     "text": [
      " 57%|█████▋    | 119/210 [01:37<01:12,  1.25it/s]"
     ]
    },
    {
     "name": "stdout",
     "output_type": "stream",
     "text": [
      "torch.Size([1000, 2000])\n",
      "====> Epoch: 118 Training loss: 0.102797\n",
      "====> Epoch: 118 Test loss: 0.348948\n",
      "Readout Fidelity: % 89.49999809265137\n"
     ]
    },
    {
     "name": "stderr",
     "output_type": "stream",
     "text": [
      " 57%|█████▋    | 120/210 [01:38<01:18,  1.14it/s]"
     ]
    },
    {
     "name": "stdout",
     "output_type": "stream",
     "text": [
      "torch.Size([1000, 2000])\n",
      "====> Epoch: 119 Training loss: 0.102158\n",
      "====> Epoch: 119 Test loss: 0.349319\n",
      "Readout Fidelity: % 89.3999993801117\n"
     ]
    },
    {
     "name": "stderr",
     "output_type": "stream",
     "text": [
      " 58%|█████▊    | 121/210 [01:38<01:15,  1.18it/s]"
     ]
    },
    {
     "name": "stdout",
     "output_type": "stream",
     "text": [
      "torch.Size([1000, 2000])\n",
      "====> Epoch: 120 Training loss: 0.101561\n",
      "====> Epoch: 120 Test loss: 0.349574\n",
      "Readout Fidelity: % 89.3999993801117\n"
     ]
    },
    {
     "name": "stderr",
     "output_type": "stream",
     "text": [
      " 58%|█████▊    | 122/210 [01:39<01:12,  1.21it/s]"
     ]
    },
    {
     "name": "stdout",
     "output_type": "stream",
     "text": [
      "torch.Size([1000, 2000])\n",
      "====> Epoch: 121 Training loss: 0.101046\n",
      "====> Epoch: 121 Test loss: 0.349581\n",
      "Readout Fidelity: % 89.3999993801117\n"
     ]
    },
    {
     "name": "stderr",
     "output_type": "stream",
     "text": [
      " 59%|█████▊    | 123/210 [01:40<01:06,  1.30it/s]"
     ]
    },
    {
     "name": "stdout",
     "output_type": "stream",
     "text": [
      "torch.Size([1000, 2000])\n",
      "====> Epoch: 122 Training loss: 0.100527\n",
      "====> Epoch: 122 Test loss: 0.350005\n",
      "Readout Fidelity: % 89.3999993801117\n"
     ]
    },
    {
     "name": "stderr",
     "output_type": "stream",
     "text": [
      " 59%|█████▉    | 124/210 [01:41<01:05,  1.32it/s]"
     ]
    },
    {
     "name": "stdout",
     "output_type": "stream",
     "text": [
      "torch.Size([1000, 2000])\n",
      "====> Epoch: 123 Training loss: 0.100013\n",
      "====> Epoch: 123 Test loss: 0.350158\n",
      "Readout Fidelity: % 89.3999993801117\n"
     ]
    },
    {
     "name": "stderr",
     "output_type": "stream",
     "text": [
      " 60%|█████▉    | 125/210 [01:41<01:07,  1.26it/s]"
     ]
    },
    {
     "name": "stdout",
     "output_type": "stream",
     "text": [
      "torch.Size([1000, 2000])\n",
      "====> Epoch: 124 Training loss: 0.099661\n",
      "====> Epoch: 124 Test loss: 0.350475\n",
      "Readout Fidelity: % 89.3999993801117\n"
     ]
    },
    {
     "name": "stderr",
     "output_type": "stream",
     "text": [
      " 60%|██████    | 126/210 [01:42<01:12,  1.16it/s]"
     ]
    },
    {
     "name": "stdout",
     "output_type": "stream",
     "text": [
      "torch.Size([1000, 2000])\n",
      "====> Epoch: 125 Training loss: 0.099315\n",
      "====> Epoch: 125 Test loss: 0.350575\n",
      "Readout Fidelity: % 89.3999993801117\n"
     ]
    },
    {
     "name": "stderr",
     "output_type": "stream",
     "text": [
      " 60%|██████    | 127/210 [01:43<01:11,  1.16it/s]"
     ]
    },
    {
     "name": "stdout",
     "output_type": "stream",
     "text": [
      "torch.Size([1000, 2000])\n",
      "====> Epoch: 126 Training loss: 0.098896\n",
      "====> Epoch: 126 Test loss: 0.350625\n",
      "Readout Fidelity: % 89.49999809265137\n"
     ]
    },
    {
     "name": "stderr",
     "output_type": "stream",
     "text": [
      " 61%|██████    | 128/210 [01:44<01:09,  1.19it/s]"
     ]
    },
    {
     "name": "stdout",
     "output_type": "stream",
     "text": [
      "torch.Size([1000, 2000])\n",
      "====> Epoch: 127 Training loss: 0.098359\n",
      "====> Epoch: 127 Test loss: 0.351054\n",
      "Readout Fidelity: % 89.49999809265137\n"
     ]
    },
    {
     "name": "stderr",
     "output_type": "stream",
     "text": [
      " 61%|██████▏   | 129/210 [01:45<01:17,  1.05it/s]"
     ]
    },
    {
     "name": "stdout",
     "output_type": "stream",
     "text": [
      "torch.Size([1000, 2000])\n",
      "====> Epoch: 128 Training loss: 0.098049\n",
      "====> Epoch: 128 Test loss: 0.351411\n",
      "Readout Fidelity: % 89.3999993801117\n"
     ]
    },
    {
     "name": "stderr",
     "output_type": "stream",
     "text": [
      " 62%|██████▏   | 130/210 [01:46<01:10,  1.13it/s]"
     ]
    },
    {
     "name": "stdout",
     "output_type": "stream",
     "text": [
      "torch.Size([1000, 2000])\n",
      "====> Epoch: 129 Training loss: 0.097779\n",
      "====> Epoch: 129 Test loss: 0.351506\n",
      "Readout Fidelity: % 89.3999993801117\n"
     ]
    },
    {
     "name": "stderr",
     "output_type": "stream",
     "text": [
      " 62%|██████▏   | 131/210 [01:47<01:03,  1.25it/s]"
     ]
    },
    {
     "name": "stdout",
     "output_type": "stream",
     "text": [
      "torch.Size([1000, 2000])\n",
      "====> Epoch: 130 Training loss: 0.097261\n",
      "====> Epoch: 130 Test loss: 0.351846\n",
      "Readout Fidelity: % 89.3999993801117\n"
     ]
    },
    {
     "name": "stderr",
     "output_type": "stream",
     "text": [
      " 63%|██████▎   | 132/210 [01:47<01:02,  1.26it/s]"
     ]
    },
    {
     "name": "stdout",
     "output_type": "stream",
     "text": [
      "torch.Size([1000, 2000])\n",
      "====> Epoch: 131 Training loss: 0.096834\n",
      "====> Epoch: 131 Test loss: 0.352286\n",
      "Readout Fidelity: % 89.3999993801117\n"
     ]
    },
    {
     "name": "stderr",
     "output_type": "stream",
     "text": [
      " 63%|██████▎   | 133/210 [01:48<01:00,  1.26it/s]"
     ]
    },
    {
     "name": "stdout",
     "output_type": "stream",
     "text": [
      "torch.Size([1000, 2000])\n",
      "====> Epoch: 132 Training loss: 0.096336\n",
      "====> Epoch: 132 Test loss: 0.352460\n",
      "Readout Fidelity: % 89.49999809265137\n"
     ]
    },
    {
     "name": "stderr",
     "output_type": "stream",
     "text": [
      " 64%|██████▍   | 134/210 [01:49<01:02,  1.21it/s]"
     ]
    },
    {
     "name": "stdout",
     "output_type": "stream",
     "text": [
      "torch.Size([1000, 2000])\n",
      "====> Epoch: 133 Training loss: 0.096102\n",
      "====> Epoch: 133 Test loss: 0.352794\n",
      "Readout Fidelity: % 89.60000276565552\n"
     ]
    },
    {
     "name": "stderr",
     "output_type": "stream",
     "text": [
      " 64%|██████▍   | 135/210 [01:50<01:00,  1.23it/s]"
     ]
    },
    {
     "name": "stdout",
     "output_type": "stream",
     "text": [
      "torch.Size([1000, 2000])\n",
      "====> Epoch: 134 Training loss: 0.095787\n",
      "====> Epoch: 134 Test loss: 0.352908\n",
      "Readout Fidelity: % 89.70000147819519\n"
     ]
    },
    {
     "name": "stderr",
     "output_type": "stream",
     "text": [
      " 65%|██████▍   | 136/210 [01:51<01:10,  1.05it/s]"
     ]
    },
    {
     "name": "stdout",
     "output_type": "stream",
     "text": [
      "torch.Size([1000, 2000])\n",
      "====> Epoch: 135 Training loss: 0.095312\n",
      "====> Epoch: 135 Test loss: 0.353102\n",
      "Readout Fidelity: % 89.60000276565552\n"
     ]
    },
    {
     "name": "stderr",
     "output_type": "stream",
     "text": [
      " 65%|██████▌   | 137/210 [01:52<01:05,  1.12it/s]"
     ]
    },
    {
     "name": "stdout",
     "output_type": "stream",
     "text": [
      "torch.Size([1000, 2000])\n",
      "====> Epoch: 136 Training loss: 0.095038\n",
      "====> Epoch: 136 Test loss: 0.353511\n",
      "Readout Fidelity: % 89.60000276565552\n"
     ]
    },
    {
     "name": "stderr",
     "output_type": "stream",
     "text": [
      " 66%|██████▌   | 138/210 [01:53<00:59,  1.21it/s]"
     ]
    },
    {
     "name": "stdout",
     "output_type": "stream",
     "text": [
      "torch.Size([1000, 2000])\n",
      "====> Epoch: 137 Training loss: 0.094647\n",
      "====> Epoch: 137 Test loss: 0.354057\n",
      "Readout Fidelity: % 89.70000147819519\n"
     ]
    },
    {
     "name": "stderr",
     "output_type": "stream",
     "text": [
      " 66%|██████▌   | 139/210 [01:53<00:57,  1.23it/s]"
     ]
    },
    {
     "name": "stdout",
     "output_type": "stream",
     "text": [
      "torch.Size([1000, 2000])\n",
      "====> Epoch: 138 Training loss: 0.094260\n",
      "====> Epoch: 138 Test loss: 0.354288\n",
      "Readout Fidelity: % 89.80000019073486\n"
     ]
    },
    {
     "name": "stderr",
     "output_type": "stream",
     "text": [
      " 67%|██████▋   | 140/210 [01:54<00:53,  1.30it/s]"
     ]
    },
    {
     "name": "stdout",
     "output_type": "stream",
     "text": [
      "torch.Size([1000, 2000])\n",
      "====> Epoch: 139 Training loss: 0.093870\n",
      "====> Epoch: 139 Test loss: 0.354688\n",
      "Readout Fidelity: % 89.80000019073486\n"
     ]
    },
    {
     "name": "stderr",
     "output_type": "stream",
     "text": [
      " 67%|██████▋   | 141/210 [01:55<00:55,  1.25it/s]"
     ]
    },
    {
     "name": "stdout",
     "output_type": "stream",
     "text": [
      "torch.Size([1000, 2000])\n",
      "====> Epoch: 140 Training loss: 0.093474\n",
      "====> Epoch: 140 Test loss: 0.355019\n",
      "Readout Fidelity: % 89.80000019073486\n"
     ]
    },
    {
     "name": "stderr",
     "output_type": "stream",
     "text": [
      " 68%|██████▊   | 142/210 [01:56<00:51,  1.31it/s]"
     ]
    },
    {
     "name": "stdout",
     "output_type": "stream",
     "text": [
      "torch.Size([1000, 2000])\n",
      "====> Epoch: 141 Training loss: 0.093189\n",
      "====> Epoch: 141 Test loss: 0.355458\n",
      "Readout Fidelity: % 89.80000019073486\n"
     ]
    },
    {
     "name": "stderr",
     "output_type": "stream",
     "text": [
      " 68%|██████▊   | 143/210 [01:56<00:52,  1.29it/s]"
     ]
    },
    {
     "name": "stdout",
     "output_type": "stream",
     "text": [
      "torch.Size([1000, 2000])\n",
      "====> Epoch: 142 Training loss: 0.092760\n",
      "====> Epoch: 142 Test loss: 0.355882\n",
      "Readout Fidelity: % 89.80000019073486\n"
     ]
    },
    {
     "name": "stderr",
     "output_type": "stream",
     "text": [
      " 69%|██████▊   | 144/210 [01:57<00:55,  1.20it/s]"
     ]
    },
    {
     "name": "stdout",
     "output_type": "stream",
     "text": [
      "torch.Size([1000, 2000])\n",
      "====> Epoch: 143 Training loss: 0.092442\n",
      "====> Epoch: 143 Test loss: 0.356267\n",
      "Readout Fidelity: % 89.80000019073486\n"
     ]
    },
    {
     "name": "stderr",
     "output_type": "stream",
     "text": [
      " 69%|██████▉   | 145/210 [01:58<00:53,  1.22it/s]"
     ]
    },
    {
     "name": "stdout",
     "output_type": "stream",
     "text": [
      "torch.Size([1000, 2000])\n",
      "====> Epoch: 144 Training loss: 0.092147\n",
      "====> Epoch: 144 Test loss: 0.356569\n",
      "Readout Fidelity: % 89.80000019073486\n"
     ]
    },
    {
     "name": "stderr",
     "output_type": "stream",
     "text": [
      " 70%|██████▉   | 146/210 [01:59<00:56,  1.13it/s]"
     ]
    },
    {
     "name": "stdout",
     "output_type": "stream",
     "text": [
      "torch.Size([1000, 2000])\n",
      "====> Epoch: 145 Training loss: 0.091789\n",
      "====> Epoch: 145 Test loss: 0.356810\n",
      "Readout Fidelity: % 89.80000019073486\n"
     ]
    },
    {
     "name": "stderr",
     "output_type": "stream",
     "text": [
      " 70%|███████   | 147/210 [02:01<01:03,  1.00s/it]"
     ]
    },
    {
     "name": "stdout",
     "output_type": "stream",
     "text": [
      "torch.Size([1000, 2000])\n",
      "====> Epoch: 146 Training loss: 0.091450\n",
      "====> Epoch: 146 Test loss: 0.357170\n",
      "Readout Fidelity: % 89.80000019073486\n"
     ]
    },
    {
     "name": "stderr",
     "output_type": "stream",
     "text": [
      " 70%|███████   | 148/210 [02:01<00:59,  1.04it/s]"
     ]
    },
    {
     "name": "stdout",
     "output_type": "stream",
     "text": [
      "torch.Size([1000, 2000])\n",
      "====> Epoch: 147 Training loss: 0.091067\n",
      "====> Epoch: 147 Test loss: 0.357602\n",
      "Readout Fidelity: % 89.80000019073486\n"
     ]
    },
    {
     "name": "stderr",
     "output_type": "stream",
     "text": [
      " 71%|███████   | 149/210 [02:02<00:53,  1.14it/s]"
     ]
    },
    {
     "name": "stdout",
     "output_type": "stream",
     "text": [
      "torch.Size([1000, 2000])\n",
      "====> Epoch: 148 Training loss: 0.090784\n",
      "====> Epoch: 148 Test loss: 0.357983\n",
      "Readout Fidelity: % 89.70000147819519\n"
     ]
    },
    {
     "name": "stderr",
     "output_type": "stream",
     "text": [
      " 71%|███████▏  | 150/210 [02:03<00:50,  1.19it/s]"
     ]
    },
    {
     "name": "stdout",
     "output_type": "stream",
     "text": [
      "torch.Size([1000, 2000])\n",
      "====> Epoch: 149 Training loss: 0.090463\n",
      "====> Epoch: 149 Test loss: 0.358091\n",
      "Readout Fidelity: % 89.70000147819519\n"
     ]
    },
    {
     "name": "stderr",
     "output_type": "stream",
     "text": [
      " 72%|███████▏  | 151/210 [02:04<00:47,  1.25it/s]"
     ]
    },
    {
     "name": "stdout",
     "output_type": "stream",
     "text": [
      "torch.Size([1000, 2000])\n",
      "====> Epoch: 150 Training loss: 0.090200\n",
      "====> Epoch: 150 Test loss: 0.358543\n",
      "Readout Fidelity: % 89.60000276565552\n"
     ]
    },
    {
     "name": "stderr",
     "output_type": "stream",
     "text": [
      " 72%|███████▏  | 152/210 [02:04<00:43,  1.33it/s]"
     ]
    },
    {
     "name": "stdout",
     "output_type": "stream",
     "text": [
      "torch.Size([1000, 2000])\n",
      "====> Epoch: 151 Training loss: 0.089847\n",
      "====> Epoch: 151 Test loss: 0.358938\n",
      "Readout Fidelity: % 89.70000147819519\n"
     ]
    },
    {
     "name": "stderr",
     "output_type": "stream",
     "text": [
      " 73%|███████▎  | 153/210 [02:05<00:41,  1.36it/s]"
     ]
    },
    {
     "name": "stdout",
     "output_type": "stream",
     "text": [
      "torch.Size([1000, 2000])\n",
      "====> Epoch: 152 Training loss: 0.089530\n",
      "====> Epoch: 152 Test loss: 0.359383\n",
      "Readout Fidelity: % 89.70000147819519\n"
     ]
    },
    {
     "name": "stderr",
     "output_type": "stream",
     "text": [
      " 73%|███████▎  | 154/210 [02:06<00:40,  1.38it/s]"
     ]
    },
    {
     "name": "stdout",
     "output_type": "stream",
     "text": [
      "torch.Size([1000, 2000])\n",
      "====> Epoch: 153 Training loss: 0.089202\n",
      "====> Epoch: 153 Test loss: 0.359644\n",
      "Readout Fidelity: % 89.70000147819519\n"
     ]
    },
    {
     "name": "stderr",
     "output_type": "stream",
     "text": [
      " 74%|███████▍  | 155/210 [02:06<00:40,  1.36it/s]"
     ]
    },
    {
     "name": "stdout",
     "output_type": "stream",
     "text": [
      "torch.Size([1000, 2000])\n",
      "====> Epoch: 154 Training loss: 0.088849\n",
      "====> Epoch: 154 Test loss: 0.360121\n",
      "Readout Fidelity: % 89.60000276565552\n"
     ]
    },
    {
     "name": "stderr",
     "output_type": "stream",
     "text": [
      " 74%|███████▍  | 156/210 [02:07<00:39,  1.37it/s]"
     ]
    },
    {
     "name": "stdout",
     "output_type": "stream",
     "text": [
      "torch.Size([1000, 2000])\n",
      "====> Epoch: 155 Training loss: 0.088556\n",
      "====> Epoch: 155 Test loss: 0.360362\n",
      "Readout Fidelity: % 89.60000276565552\n"
     ]
    },
    {
     "name": "stderr",
     "output_type": "stream",
     "text": [
      " 75%|███████▍  | 157/210 [02:08<00:39,  1.35it/s]"
     ]
    },
    {
     "name": "stdout",
     "output_type": "stream",
     "text": [
      "torch.Size([1000, 2000])\n",
      "====> Epoch: 156 Training loss: 0.088263\n",
      "====> Epoch: 156 Test loss: 0.360673\n",
      "Readout Fidelity: % 89.60000276565552\n"
     ]
    },
    {
     "name": "stderr",
     "output_type": "stream",
     "text": [
      " 75%|███████▌  | 158/210 [02:09<00:39,  1.31it/s]"
     ]
    },
    {
     "name": "stdout",
     "output_type": "stream",
     "text": [
      "torch.Size([1000, 2000])\n",
      "====> Epoch: 157 Training loss: 0.088092\n",
      "====> Epoch: 157 Test loss: 0.360942\n",
      "Readout Fidelity: % 89.60000276565552\n"
     ]
    },
    {
     "name": "stderr",
     "output_type": "stream",
     "text": [
      " 76%|███████▌  | 159/210 [02:09<00:39,  1.28it/s]"
     ]
    },
    {
     "name": "stdout",
     "output_type": "stream",
     "text": [
      "torch.Size([1000, 2000])\n",
      "====> Epoch: 158 Training loss: 0.087873\n",
      "====> Epoch: 158 Test loss: 0.361193\n",
      "Readout Fidelity: % 89.60000276565552\n"
     ]
    },
    {
     "name": "stderr",
     "output_type": "stream",
     "text": [
      " 76%|███████▌  | 160/210 [02:10<00:39,  1.28it/s]"
     ]
    },
    {
     "name": "stdout",
     "output_type": "stream",
     "text": [
      "torch.Size([1000, 2000])\n",
      "====> Epoch: 159 Training loss: 0.087591\n",
      "====> Epoch: 159 Test loss: 0.361519\n",
      "Readout Fidelity: % 89.60000276565552\n"
     ]
    },
    {
     "name": "stderr",
     "output_type": "stream",
     "text": [
      " 77%|███████▋  | 161/210 [02:11<00:36,  1.35it/s]"
     ]
    },
    {
     "name": "stdout",
     "output_type": "stream",
     "text": [
      "torch.Size([1000, 2000])\n",
      "====> Epoch: 160 Training loss: 0.087366\n",
      "====> Epoch: 160 Test loss: 0.362117\n",
      "Readout Fidelity: % 89.60000276565552\n"
     ]
    },
    {
     "name": "stderr",
     "output_type": "stream",
     "text": [
      " 77%|███████▋  | 162/210 [02:12<00:36,  1.31it/s]"
     ]
    },
    {
     "name": "stdout",
     "output_type": "stream",
     "text": [
      "torch.Size([1000, 2000])\n",
      "====> Epoch: 161 Training loss: 0.087082\n",
      "====> Epoch: 161 Test loss: 0.362445\n",
      "Readout Fidelity: % 89.60000276565552\n"
     ]
    },
    {
     "name": "stderr",
     "output_type": "stream",
     "text": [
      " 78%|███████▊  | 163/210 [02:12<00:35,  1.34it/s]"
     ]
    },
    {
     "name": "stdout",
     "output_type": "stream",
     "text": [
      "torch.Size([1000, 2000])\n",
      "====> Epoch: 162 Training loss: 0.086780\n",
      "====> Epoch: 162 Test loss: 0.362758\n",
      "Readout Fidelity: % 89.60000276565552\n"
     ]
    },
    {
     "name": "stderr",
     "output_type": "stream",
     "text": [
      " 78%|███████▊  | 164/210 [02:13<00:35,  1.29it/s]"
     ]
    },
    {
     "name": "stdout",
     "output_type": "stream",
     "text": [
      "torch.Size([1000, 2000])\n",
      "====> Epoch: 163 Training loss: 0.086524\n",
      "====> Epoch: 163 Test loss: 0.363150\n",
      "Readout Fidelity: % 89.70000147819519\n"
     ]
    },
    {
     "name": "stderr",
     "output_type": "stream",
     "text": [
      " 79%|███████▊  | 165/210 [02:14<00:37,  1.19it/s]"
     ]
    },
    {
     "name": "stdout",
     "output_type": "stream",
     "text": [
      "torch.Size([1000, 2000])\n",
      "====> Epoch: 164 Training loss: 0.086272\n",
      "====> Epoch: 164 Test loss: 0.363359\n",
      "Readout Fidelity: % 89.70000147819519\n"
     ]
    },
    {
     "name": "stderr",
     "output_type": "stream",
     "text": [
      " 79%|███████▉  | 166/210 [02:15<00:36,  1.20it/s]"
     ]
    },
    {
     "name": "stdout",
     "output_type": "stream",
     "text": [
      "torch.Size([1000, 2000])\n",
      "====> Epoch: 165 Training loss: 0.086032\n",
      "====> Epoch: 165 Test loss: 0.363752\n",
      "Readout Fidelity: % 89.70000147819519\n"
     ]
    },
    {
     "name": "stderr",
     "output_type": "stream",
     "text": [
      " 80%|███████▉  | 167/210 [02:16<00:35,  1.22it/s]"
     ]
    },
    {
     "name": "stdout",
     "output_type": "stream",
     "text": [
      "torch.Size([1000, 2000])\n",
      "====> Epoch: 166 Training loss: 0.085813\n",
      "====> Epoch: 166 Test loss: 0.363999\n",
      "Readout Fidelity: % 89.70000147819519\n"
     ]
    },
    {
     "name": "stderr",
     "output_type": "stream",
     "text": [
      " 80%|████████  | 168/210 [02:17<00:33,  1.26it/s]"
     ]
    },
    {
     "name": "stdout",
     "output_type": "stream",
     "text": [
      "torch.Size([1000, 2000])\n",
      "====> Epoch: 167 Training loss: 0.085531\n",
      "====> Epoch: 167 Test loss: 0.364306\n",
      "Readout Fidelity: % 89.70000147819519\n"
     ]
    },
    {
     "name": "stderr",
     "output_type": "stream",
     "text": [
      " 80%|████████  | 169/210 [02:17<00:31,  1.28it/s]"
     ]
    },
    {
     "name": "stdout",
     "output_type": "stream",
     "text": [
      "torch.Size([1000, 2000])\n",
      "====> Epoch: 168 Training loss: 0.085312\n",
      "====> Epoch: 168 Test loss: 0.364604\n",
      "Readout Fidelity: % 89.70000147819519\n"
     ]
    },
    {
     "name": "stderr",
     "output_type": "stream",
     "text": [
      " 81%|████████  | 170/210 [02:18<00:31,  1.26it/s]"
     ]
    },
    {
     "name": "stdout",
     "output_type": "stream",
     "text": [
      "torch.Size([1000, 2000])\n",
      "====> Epoch: 169 Training loss: 0.085095\n",
      "====> Epoch: 169 Test loss: 0.365158\n",
      "Readout Fidelity: % 89.70000147819519\n"
     ]
    },
    {
     "name": "stderr",
     "output_type": "stream",
     "text": [
      " 81%|████████▏ | 171/210 [02:19<00:32,  1.20it/s]"
     ]
    },
    {
     "name": "stdout",
     "output_type": "stream",
     "text": [
      "torch.Size([1000, 2000])\n",
      "====> Epoch: 170 Training loss: 0.084873\n",
      "====> Epoch: 170 Test loss: 0.365560\n",
      "Readout Fidelity: % 89.70000147819519\n"
     ]
    },
    {
     "name": "stderr",
     "output_type": "stream",
     "text": [
      " 82%|████████▏ | 172/210 [02:20<00:32,  1.18it/s]"
     ]
    },
    {
     "name": "stdout",
     "output_type": "stream",
     "text": [
      "torch.Size([1000, 2000])\n",
      "====> Epoch: 171 Training loss: 0.084728\n",
      "====> Epoch: 171 Test loss: 0.365741\n",
      "Readout Fidelity: % 89.80000019073486\n"
     ]
    },
    {
     "name": "stderr",
     "output_type": "stream",
     "text": [
      " 82%|████████▏ | 173/210 [02:21<00:31,  1.19it/s]"
     ]
    },
    {
     "name": "stdout",
     "output_type": "stream",
     "text": [
      "torch.Size([1000, 2000])\n",
      "====> Epoch: 172 Training loss: 0.084440\n",
      "====> Epoch: 172 Test loss: 0.366101\n",
      "Readout Fidelity: % 89.80000019073486\n"
     ]
    },
    {
     "name": "stderr",
     "output_type": "stream",
     "text": [
      " 83%|████████▎ | 174/210 [02:22<00:34,  1.05it/s]"
     ]
    },
    {
     "name": "stdout",
     "output_type": "stream",
     "text": [
      "torch.Size([1000, 2000])\n",
      "====> Epoch: 173 Training loss: 0.084234\n",
      "====> Epoch: 173 Test loss: 0.366281\n",
      "Readout Fidelity: % 89.80000019073486\n"
     ]
    },
    {
     "name": "stderr",
     "output_type": "stream",
     "text": [
      " 83%|████████▎ | 175/210 [02:23<00:31,  1.12it/s]"
     ]
    },
    {
     "name": "stdout",
     "output_type": "stream",
     "text": [
      "torch.Size([1000, 2000])\n",
      "====> Epoch: 174 Training loss: 0.084124\n",
      "====> Epoch: 174 Test loss: 0.366495\n",
      "Readout Fidelity: % 89.80000019073486\n"
     ]
    },
    {
     "name": "stderr",
     "output_type": "stream",
     "text": [
      " 84%|████████▍ | 176/210 [02:24<00:29,  1.14it/s]"
     ]
    },
    {
     "name": "stdout",
     "output_type": "stream",
     "text": [
      "torch.Size([1000, 2000])\n",
      "====> Epoch: 175 Training loss: 0.083903\n",
      "====> Epoch: 175 Test loss: 0.366869\n",
      "Readout Fidelity: % 89.99999761581421\n"
     ]
    },
    {
     "name": "stderr",
     "output_type": "stream",
     "text": [
      " 84%|████████▍ | 177/210 [02:24<00:28,  1.17it/s]"
     ]
    },
    {
     "name": "stdout",
     "output_type": "stream",
     "text": [
      "torch.Size([1000, 2000])\n",
      "====> Epoch: 176 Training loss: 0.083762\n",
      "====> Epoch: 176 Test loss: 0.367243\n",
      "Readout Fidelity: % 89.80000019073486\n"
     ]
    },
    {
     "name": "stderr",
     "output_type": "stream",
     "text": [
      " 85%|████████▍ | 178/210 [02:25<00:25,  1.26it/s]"
     ]
    },
    {
     "name": "stdout",
     "output_type": "stream",
     "text": [
      "torch.Size([1000, 2000])\n",
      "====> Epoch: 177 Training loss: 0.083566\n",
      "====> Epoch: 177 Test loss: 0.367556\n",
      "Readout Fidelity: % 89.89999890327454\n"
     ]
    },
    {
     "name": "stderr",
     "output_type": "stream",
     "text": [
      " 85%|████████▌ | 179/210 [02:26<00:25,  1.22it/s]"
     ]
    },
    {
     "name": "stdout",
     "output_type": "stream",
     "text": [
      "torch.Size([1000, 2000])\n",
      "====> Epoch: 178 Training loss: 0.083345\n",
      "====> Epoch: 178 Test loss: 0.367753\n",
      "Readout Fidelity: % 89.99999761581421\n"
     ]
    },
    {
     "name": "stderr",
     "output_type": "stream",
     "text": [
      " 86%|████████▌ | 180/210 [02:27<00:24,  1.21it/s]"
     ]
    },
    {
     "name": "stdout",
     "output_type": "stream",
     "text": [
      "torch.Size([1000, 2000])\n",
      "====> Epoch: 179 Training loss: 0.083111\n",
      "====> Epoch: 179 Test loss: 0.368235\n",
      "Readout Fidelity: % 89.99999761581421\n"
     ]
    },
    {
     "name": "stderr",
     "output_type": "stream",
     "text": [
      " 86%|████████▌ | 181/210 [02:27<00:21,  1.32it/s]"
     ]
    },
    {
     "name": "stdout",
     "output_type": "stream",
     "text": [
      "torch.Size([1000, 2000])\n",
      "====> Epoch: 180 Training loss: 0.082918\n",
      "====> Epoch: 180 Test loss: 0.368529\n",
      "Readout Fidelity: % 89.99999761581421\n"
     ]
    },
    {
     "name": "stderr",
     "output_type": "stream",
     "text": [
      " 87%|████████▋ | 182/210 [02:28<00:23,  1.21it/s]"
     ]
    },
    {
     "name": "stdout",
     "output_type": "stream",
     "text": [
      "torch.Size([1000, 2000])\n",
      "====> Epoch: 181 Training loss: 0.082745\n",
      "====> Epoch: 181 Test loss: 0.369041\n",
      "Readout Fidelity: % 89.89999890327454\n"
     ]
    },
    {
     "name": "stderr",
     "output_type": "stream",
     "text": [
      " 87%|████████▋ | 183/210 [02:29<00:21,  1.23it/s]"
     ]
    },
    {
     "name": "stdout",
     "output_type": "stream",
     "text": [
      "torch.Size([1000, 2000])\n",
      "====> Epoch: 182 Training loss: 0.082539\n",
      "====> Epoch: 182 Test loss: 0.368975\n",
      "Readout Fidelity: % 90.10000228881836\n"
     ]
    },
    {
     "name": "stderr",
     "output_type": "stream",
     "text": [
      " 88%|████████▊ | 184/210 [02:30<00:21,  1.20it/s]"
     ]
    },
    {
     "name": "stdout",
     "output_type": "stream",
     "text": [
      "torch.Size([1000, 2000])\n",
      "====> Epoch: 183 Training loss: 0.082327\n",
      "====> Epoch: 183 Test loss: 0.369135\n",
      "Readout Fidelity: % 90.20000100135803\n"
     ]
    },
    {
     "name": "stderr",
     "output_type": "stream",
     "text": [
      " 88%|████████▊ | 185/210 [02:31<00:21,  1.18it/s]"
     ]
    },
    {
     "name": "stdout",
     "output_type": "stream",
     "text": [
      "torch.Size([1000, 2000])\n",
      "====> Epoch: 184 Training loss: 0.082150\n",
      "====> Epoch: 184 Test loss: 0.369508\n",
      "Readout Fidelity: % 90.20000100135803\n"
     ]
    },
    {
     "name": "stderr",
     "output_type": "stream",
     "text": [
      " 89%|████████▊ | 186/210 [02:32<00:21,  1.12it/s]"
     ]
    },
    {
     "name": "stdout",
     "output_type": "stream",
     "text": [
      "torch.Size([1000, 2000])\n",
      "====> Epoch: 185 Training loss: 0.082025\n",
      "====> Epoch: 185 Test loss: 0.369847\n",
      "Readout Fidelity: % 90.20000100135803\n"
     ]
    },
    {
     "name": "stderr",
     "output_type": "stream",
     "text": [
      " 89%|████████▉ | 187/210 [02:33<00:20,  1.13it/s]"
     ]
    },
    {
     "name": "stdout",
     "output_type": "stream",
     "text": [
      "torch.Size([1000, 2000])\n",
      "====> Epoch: 186 Training loss: 0.081894\n",
      "====> Epoch: 186 Test loss: 0.370011\n",
      "Readout Fidelity: % 90.20000100135803\n"
     ]
    },
    {
     "name": "stderr",
     "output_type": "stream",
     "text": [
      " 90%|████████▉ | 188/210 [02:33<00:18,  1.18it/s]"
     ]
    },
    {
     "name": "stdout",
     "output_type": "stream",
     "text": [
      "torch.Size([1000, 2000])\n",
      "====> Epoch: 187 Training loss: 0.081707\n",
      "====> Epoch: 187 Test loss: 0.370487\n",
      "Readout Fidelity: % 90.20000100135803\n"
     ]
    },
    {
     "name": "stderr",
     "output_type": "stream",
     "text": [
      " 90%|█████████ | 189/210 [02:34<00:18,  1.16it/s]"
     ]
    },
    {
     "name": "stdout",
     "output_type": "stream",
     "text": [
      "torch.Size([1000, 2000])\n",
      "====> Epoch: 188 Training loss: 0.081558\n",
      "====> Epoch: 188 Test loss: 0.370531\n",
      "Readout Fidelity: % 90.20000100135803\n"
     ]
    },
    {
     "name": "stderr",
     "output_type": "stream",
     "text": [
      " 90%|█████████ | 190/210 [02:35<00:18,  1.09it/s]"
     ]
    },
    {
     "name": "stdout",
     "output_type": "stream",
     "text": [
      "torch.Size([1000, 2000])\n",
      "====> Epoch: 189 Training loss: 0.081370\n",
      "====> Epoch: 189 Test loss: 0.371258\n",
      "Readout Fidelity: % 90.20000100135803\n"
     ]
    },
    {
     "name": "stderr",
     "output_type": "stream",
     "text": [
      " 91%|█████████ | 191/210 [02:36<00:16,  1.18it/s]"
     ]
    },
    {
     "name": "stdout",
     "output_type": "stream",
     "text": [
      "torch.Size([1000, 2000])\n",
      "====> Epoch: 190 Training loss: 0.081227\n",
      "====> Epoch: 190 Test loss: 0.371588\n",
      "Readout Fidelity: % 90.20000100135803\n"
     ]
    },
    {
     "name": "stderr",
     "output_type": "stream",
     "text": [
      " 91%|█████████▏| 192/210 [02:37<00:13,  1.29it/s]"
     ]
    },
    {
     "name": "stdout",
     "output_type": "stream",
     "text": [
      "torch.Size([1000, 2000])\n",
      "====> Epoch: 191 Training loss: 0.081043\n",
      "====> Epoch: 191 Test loss: 0.372014\n",
      "Readout Fidelity: % 90.10000228881836\n"
     ]
    },
    {
     "name": "stderr",
     "output_type": "stream",
     "text": [
      " 92%|█████████▏| 193/210 [02:37<00:13,  1.29it/s]"
     ]
    },
    {
     "name": "stdout",
     "output_type": "stream",
     "text": [
      "torch.Size([1000, 2000])\n",
      "====> Epoch: 192 Training loss: 0.080904\n",
      "====> Epoch: 192 Test loss: 0.372312\n",
      "Readout Fidelity: % 90.10000228881836\n"
     ]
    },
    {
     "name": "stderr",
     "output_type": "stream",
     "text": [
      " 92%|█████████▏| 194/210 [02:38<00:11,  1.36it/s]"
     ]
    },
    {
     "name": "stdout",
     "output_type": "stream",
     "text": [
      "torch.Size([1000, 2000])\n",
      "====> Epoch: 193 Training loss: 0.080728\n",
      "====> Epoch: 193 Test loss: 0.372545\n",
      "Readout Fidelity: % 90.10000228881836\n"
     ]
    },
    {
     "name": "stderr",
     "output_type": "stream",
     "text": [
      " 93%|█████████▎| 195/210 [02:39<00:11,  1.33it/s]"
     ]
    },
    {
     "name": "stdout",
     "output_type": "stream",
     "text": [
      "torch.Size([1000, 2000])\n",
      "====> Epoch: 194 Training loss: 0.080601\n",
      "====> Epoch: 194 Test loss: 0.372531\n",
      "Readout Fidelity: % 90.10000228881836\n"
     ]
    },
    {
     "name": "stderr",
     "output_type": "stream",
     "text": [
      " 93%|█████████▎| 196/210 [02:40<00:11,  1.27it/s]"
     ]
    },
    {
     "name": "stdout",
     "output_type": "stream",
     "text": [
      "torch.Size([1000, 2000])\n",
      "====> Epoch: 195 Training loss: 0.080457\n",
      "====> Epoch: 195 Test loss: 0.372980\n",
      "Readout Fidelity: % 90.20000100135803\n"
     ]
    },
    {
     "name": "stderr",
     "output_type": "stream",
     "text": [
      " 94%|█████████▍| 197/210 [02:40<00:09,  1.33it/s]"
     ]
    },
    {
     "name": "stdout",
     "output_type": "stream",
     "text": [
      "torch.Size([1000, 2000])\n",
      "====> Epoch: 196 Training loss: 0.080307\n",
      "====> Epoch: 196 Test loss: 0.373030\n",
      "Readout Fidelity: % 90.10000228881836\n"
     ]
    },
    {
     "name": "stderr",
     "output_type": "stream",
     "text": [
      " 94%|█████████▍| 198/210 [02:41<00:09,  1.31it/s]"
     ]
    },
    {
     "name": "stdout",
     "output_type": "stream",
     "text": [
      "torch.Size([1000, 2000])\n",
      "====> Epoch: 197 Training loss: 0.080151\n",
      "====> Epoch: 197 Test loss: 0.373436\n",
      "Readout Fidelity: % 90.20000100135803\n"
     ]
    },
    {
     "name": "stderr",
     "output_type": "stream",
     "text": [
      " 95%|█████████▍| 199/210 [02:42<00:09,  1.22it/s]"
     ]
    },
    {
     "name": "stdout",
     "output_type": "stream",
     "text": [
      "torch.Size([1000, 2000])\n",
      "====> Epoch: 198 Training loss: 0.079978\n",
      "====> Epoch: 198 Test loss: 0.373893\n",
      "Readout Fidelity: % 90.20000100135803\n"
     ]
    },
    {
     "name": "stderr",
     "output_type": "stream",
     "text": [
      " 95%|█████████▌| 200/210 [02:43<00:08,  1.17it/s]"
     ]
    },
    {
     "name": "stdout",
     "output_type": "stream",
     "text": [
      "torch.Size([1000, 2000])\n",
      "====> Epoch: 199 Training loss: 0.079852\n",
      "====> Epoch: 199 Test loss: 0.374063\n",
      "Readout Fidelity: % 90.20000100135803\n"
     ]
    },
    {
     "name": "stderr",
     "output_type": "stream",
     "text": [
      " 96%|█████████▌| 201/210 [02:44<00:07,  1.22it/s]"
     ]
    },
    {
     "name": "stdout",
     "output_type": "stream",
     "text": [
      "torch.Size([1000, 2000])\n",
      "====> Epoch: 200 Training loss: 0.079690\n",
      "====> Epoch: 200 Test loss: 0.374567\n",
      "Readout Fidelity: % 90.20000100135803\n"
     ]
    },
    {
     "name": "stderr",
     "output_type": "stream",
     "text": [
      " 96%|█████████▌| 202/210 [02:45<00:06,  1.31it/s]"
     ]
    },
    {
     "name": "stdout",
     "output_type": "stream",
     "text": [
      "torch.Size([1000, 2000])\n",
      "====> Epoch: 201 Training loss: 0.079545\n",
      "====> Epoch: 201 Test loss: 0.374756\n",
      "Readout Fidelity: % 90.20000100135803\n"
     ]
    },
    {
     "name": "stderr",
     "output_type": "stream",
     "text": [
      " 97%|█████████▋| 203/210 [02:46<00:06,  1.12it/s]"
     ]
    },
    {
     "name": "stdout",
     "output_type": "stream",
     "text": [
      "torch.Size([1000, 2000])\n",
      "====> Epoch: 202 Training loss: 0.079417\n",
      "====> Epoch: 202 Test loss: 0.375407\n",
      "Readout Fidelity: % 90.20000100135803\n"
     ]
    },
    {
     "name": "stderr",
     "output_type": "stream",
     "text": [
      " 97%|█████████▋| 204/210 [02:46<00:05,  1.18it/s]"
     ]
    },
    {
     "name": "stdout",
     "output_type": "stream",
     "text": [
      "torch.Size([1000, 2000])\n",
      "====> Epoch: 203 Training loss: 0.079261\n",
      "====> Epoch: 203 Test loss: 0.375701\n",
      "Readout Fidelity: % 90.20000100135803\n"
     ]
    },
    {
     "name": "stderr",
     "output_type": "stream",
     "text": [
      " 98%|█████████▊| 205/210 [02:47<00:04,  1.23it/s]"
     ]
    },
    {
     "name": "stdout",
     "output_type": "stream",
     "text": [
      "torch.Size([1000, 2000])\n",
      "====> Epoch: 204 Training loss: 0.079112\n",
      "====> Epoch: 204 Test loss: 0.376046\n",
      "Readout Fidelity: % 90.20000100135803\n"
     ]
    },
    {
     "name": "stderr",
     "output_type": "stream",
     "text": [
      " 98%|█████████▊| 206/210 [02:48<00:03,  1.31it/s]"
     ]
    },
    {
     "name": "stdout",
     "output_type": "stream",
     "text": [
      "torch.Size([1000, 2000])\n",
      "====> Epoch: 205 Training loss: 0.078982\n",
      "====> Epoch: 205 Test loss: 0.376586\n",
      "Readout Fidelity: % 90.10000228881836\n"
     ]
    },
    {
     "name": "stderr",
     "output_type": "stream",
     "text": [
      " 99%|█████████▊| 207/210 [02:49<00:02,  1.36it/s]"
     ]
    },
    {
     "name": "stdout",
     "output_type": "stream",
     "text": [
      "torch.Size([1000, 2000])\n",
      "====> Epoch: 206 Training loss: 0.078817\n",
      "====> Epoch: 206 Test loss: 0.376806\n",
      "Readout Fidelity: % 90.20000100135803\n"
     ]
    },
    {
     "name": "stderr",
     "output_type": "stream",
     "text": [
      " 99%|█████████▉| 208/210 [02:49<00:01,  1.33it/s]"
     ]
    },
    {
     "name": "stdout",
     "output_type": "stream",
     "text": [
      "torch.Size([1000, 2000])\n",
      "====> Epoch: 207 Training loss: 0.078697\n",
      "====> Epoch: 207 Test loss: 0.377238\n",
      "Readout Fidelity: % 90.10000228881836\n"
     ]
    },
    {
     "name": "stderr",
     "output_type": "stream",
     "text": [
      "100%|█████████▉| 209/210 [02:50<00:00,  1.37it/s]"
     ]
    },
    {
     "name": "stdout",
     "output_type": "stream",
     "text": [
      "torch.Size([1000, 2000])\n",
      "====> Epoch: 208 Training loss: 0.078558\n",
      "====> Epoch: 208 Test loss: 0.377753\n",
      "Readout Fidelity: % 90.10000228881836\n"
     ]
    },
    {
     "name": "stderr",
     "output_type": "stream",
     "text": [
      "100%|██████████| 210/210 [02:51<00:00,  1.23it/s]"
     ]
    },
    {
     "name": "stdout",
     "output_type": "stream",
     "text": [
      "torch.Size([1000, 2000])\n",
      "====> Epoch: 209 Training loss: 0.078377\n",
      "====> Epoch: 209 Test loss: 0.378010\n",
      "Readout Fidelity: % 90.10000228881836\n"
     ]
    },
    {
     "name": "stderr",
     "output_type": "stream",
     "text": [
      "\n"
     ]
    }
   ],
   "source": [
    "# Training loop\n",
    "for epoch in tqdm(range(epochs)):\n",
    "    \n",
    "    train_loss = 0\n",
    "    model.train() \n",
    "    \n",
    "    for data, labels in train_loader:\n",
    "        optimizer.zero_grad()\n",
    "        data, labels = data.to(device), labels.to(device)\n",
    "        states = model(data)\n",
    "        loss = criterion(states, labels.long())\n",
    "        loss.backward()\n",
    "        train_loss += loss.detach().cpu().numpy()\n",
    "        optimizer.step()\n",
    "        \n",
    "    train_loss_track = np.append(train_loss_track,np.asarray(train_loss))\n",
    "        \n",
    "    test_loss = 0    \n",
    "    model.eval()\n",
    "    with torch.no_grad():\n",
    "        for data, labels in test_loader:\n",
    "            data, labels = data.to(device), labels.to(device)\n",
    "            print(data.shape)\n",
    "            states = model(data)\n",
    "            loss = criterion(states, labels.long())\n",
    "            test_loss += loss.detach().cpu().numpy()\n",
    "    \n",
    "    test_loss_track = np.append(test_loss_track,np.asarray(test_loss))\n",
    "    \n",
    "    if epoch % plot_interval == 0:\n",
    "        print('====> Epoch: {} Training loss: {:.6f}'.format(\n",
    "                  epoch, train_loss ))\n",
    "        print('====> Epoch: {} Test loss: {:.6f}'.format(\n",
    "                  epoch, test_loss ))\n",
    "\n",
    "        p1, p2 = 0, 800\n",
    "        # plt.plot(train_loss_track[p1:p2],label = 'Training')\n",
    "        # plt.plot(test_loss_track[p1:p2],label='Testing')\n",
    "        # plt.legend()\n",
    "        # plt.xlabel('Epochs')\n",
    "        # plt.title(\"Training - Test Loss\")\n",
    "        # plt.figure(figsize = (12,7))\n",
    "        # plt.show()\n",
    "        # plt.close()\n",
    "\n",
    "    # Readout Fidelity\n",
    "    model.eval() \n",
    "    cc = 0\n",
    "    y_true = torch.tensor([]).to(device)\n",
    "    y_pred = torch.tensor([]).to(device)\n",
    "    \n",
    "    with torch.no_grad():\n",
    "        for data, target in test_loader:\n",
    "            \n",
    "            data=data.to(device)\n",
    "            states = model(data)\n",
    "            target = target.to(device) \n",
    "    \n",
    "            val, ind = torch.max(states,1)\n",
    "            y_pred = torch.cat((y_pred, ind), 0)\n",
    "            y_true = torch.cat((y_true, target), 0)\n",
    "    \n",
    "    acc = y_true-y_pred\n",
    "    accuracy = (len(y_true)-torch.count_nonzero(acc))/len(y_true)\n",
    "    accuracy = accuracy.item()\n",
    "    \n",
    "    acc_track = np.append(acc_track,np.asarray(accuracy))\n",
    "    print('Readout Fidelity: %', accuracy*100)\n"
   ]
  },
  {
   "cell_type": "code",
   "execution_count": 9,
   "metadata": {},
   "outputs": [],
   "source": [
    "torch.save(model.state_dict(), 'checkpoints/ckp_brevitas_tiny.pth') "
   ]
  },
  {
   "cell_type": "code",
   "execution_count": null,
   "metadata": {},
   "outputs": [],
   "source": []
  }
 ],
 "metadata": {
  "kernelspec": {
   "display_name": "ml4qick-env",
   "language": "python",
   "name": "python3"
  },
  "language_info": {
   "codemirror_mode": {
    "name": "ipython",
    "version": 3
   },
   "file_extension": ".py",
   "mimetype": "text/x-python",
   "name": "python",
   "nbconvert_exporter": "python",
   "pygments_lexer": "ipython3",
   "version": "3.7.13"
  },
  "orig_nbformat": 4,
  "vscode": {
   "interpreter": {
    "hash": "54947842758e5629d500c24687aef700009f6c3edb7195d8c0332db2d73e3c8c"
   }
  }
 },
 "nbformat": 4,
 "nbformat_minor": 2
}
