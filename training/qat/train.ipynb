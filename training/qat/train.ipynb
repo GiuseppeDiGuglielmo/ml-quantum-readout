{
 "cells": [
  {
   "cell_type": "code",
   "execution_count": 1,
   "metadata": {},
   "outputs": [
    {
     "name": "stderr",
     "output_type": "stream",
     "text": [
      "/data1/jcampos/.conda/envs/ml4qick-env/lib/python3.7/site-packages/tqdm/auto.py:22: TqdmWarning: IProgress not found. Please update jupyter and ipywidgets. See https://ipywidgets.readthedocs.io/en/stable/user_install.html\n",
      "  from .autonotebook import tqdm as notebook_tqdm\n",
      "/data1/jcampos/.conda/envs/ml4qick-env/lib/python3.7/site-packages/torch/cuda/__init__.py:83: UserWarning: CUDA initialization: The NVIDIA driver on your system is too old (found version 9010). Please update your GPU driver by downloading and installing a new version from the URL: http://www.nvidia.com/Download/index.aspx Alternatively, go to: https://pytorch.org to install a PyTorch version that has been compiled with your version of the CUDA driver. (Triggered internally at  ../c10/cuda/CUDAFunctions.cpp:109.)\n",
      "  return torch._C._cuda_getDeviceCount() > 0\n"
     ]
    }
   ],
   "source": [
    "from __future__ import print_function\n",
    "import h5py\n",
    "import numpy as np\n",
    "from tqdm import tqdm\n",
    "\n",
    "import torch.utils.data\n",
    "from torch import nn, optim\n",
    "from torchinfo import summary"
   ]
  },
  {
   "cell_type": "code",
   "execution_count": 2,
   "metadata": {},
   "outputs": [],
   "source": [
    "from base_model import TinyClassifier \n",
    "from hawq_model import HawqTinyClassifier \n",
    "from brevitas_model import BrevitasTinyClassifier "
   ]
  },
  {
   "cell_type": "code",
   "execution_count": 3,
   "metadata": {},
   "outputs": [],
   "source": [
    "from brevitas.export.onnx.qonnx.manager import QONNXManager\n",
    "from hawq.utils.export import ExportManager"
   ]
  },
  {
   "attachments": {},
   "cell_type": "markdown",
   "metadata": {},
   "source": [
    "### Setup QAT training parameters"
   ]
  },
  {
   "cell_type": "code",
   "execution_count": 4,
   "metadata": {},
   "outputs": [],
   "source": [
    "framework = \"hawq\"  # options: hawq/brevitas\n",
    "\n",
    "# Hyper-Parameters\n",
    "torch.manual_seed(4)\n",
    "epochs = 210\n",
    "train = 9000#data.shape[0]*0.99\n",
    "batch_size = 12800\n",
    "learning_rate = 1e-4\n",
    "\n",
    "device = 'cuda' if torch.cuda.is_available() else 'cpu'\n",
    "kwargs = {'num_workers':0, 'pin_memory': True} \n",
    "plot_interval = 1"
   ]
  },
  {
   "cell_type": "code",
   "execution_count": 5,
   "metadata": {},
   "outputs": [],
   "source": [
    "if framework.lower() == \"hawq\":\n",
    "    base_model = TinyClassifier()\n",
    "    base_model.load_state_dict(torch.load(\"../../checkpoints/checkpoint_tiny_affine.pth\"))\n",
    "    model = HawqTinyClassifier(base_model)\n",
    "elif framework.lower() == \"brevitas\":\n",
    "    model = BrevitasTinyClassifier()"
   ]
  },
  {
   "cell_type": "code",
   "execution_count": 6,
   "metadata": {},
   "outputs": [],
   "source": [
    "# Load the raw data\n",
    "IF = -136.75/1e3\n",
    "with h5py.File(r'../../../datasets/qubits/00002_IQ_plot_raw.h5', 'r') as f:\n",
    "    adc_g_1 = np.array(f['adc_g_1'])[0]\n",
    "    adc_g_2 = np.array(f['adc_g_2'])[0]\n",
    "    adc_e_1 = np.array(f['adc_e_1'])[0]\n",
    "    adc_e_2 = np.array(f['adc_e_2'])[0]\n",
    "\n",
    "\"\"\" Select the range of time series data. Each data is 2000 element vector \n",
    "representing 2000ns readout signal\"\"\"\n",
    "csr = range(500,1500)\n",
    "sr = len(csr)\n",
    "\n",
    "I_g = adc_g_1[:,csr]\n",
    "Q_g = adc_g_2[:,csr] \n",
    "I_e = adc_e_1[:,csr] \n",
    "Q_e = adc_e_2[:,csr] \n",
    "\n",
    "# Dataset Creation\n",
    "data = np.zeros((adc_g_1.shape[0]*2,sr,2))\n",
    "data[0:adc_g_1.shape[0],:,0] = I_g\n",
    "data[0:adc_g_1.shape[0],:,1] = Q_g\n",
    "data[adc_g_1.shape[0]:adc_g_1.shape[0]*2,:,0] = I_e\n",
    "data[adc_g_1.shape[0]:adc_g_1.shape[0]*2,:,1] = Q_e\n",
    "\n",
    "labels = np.zeros(I_e.shape[0]*2)\n",
    "labels[I_e.shape[0]:I_e.shape[0]*2] = 1\n",
    "\n",
    "data = torch.from_numpy(data).float()\n",
    "labels = torch.from_numpy(labels).float()\n",
    "\n",
    "class Qubit_Readout_Dataset():\n",
    "    \n",
    "    def __init__(self):\n",
    "        self.data = data\n",
    "        self.labels = labels    \n",
    "        self.data = self.data.reshape(len(data),sr*2)\n",
    "       \n",
    "    def __len__(self):\n",
    "        return self.labels.shape[0]\n",
    "\n",
    "    def __getitem__(self, idx):\n",
    "        return self.data[idx], self.labels[idx]\n",
    "\n",
    "\n",
    "# Dataloader Prep\n",
    "test = len(data)-train\n",
    "\n",
    "dataset = Qubit_Readout_Dataset()\n",
    "train_data, test_data = torch.utils.data.random_split(dataset, [int(train), int(test)])\n",
    "\n",
    "num_workers = 0\n",
    "train_loader = torch.utils.data.DataLoader(train_data, batch_size = batch_size, \n",
    "                                            num_workers = num_workers, shuffle=True)\n",
    "test_loader = torch.utils.data.DataLoader(test_data, batch_size = batch_size, \n",
    "                                            num_workers = num_workers, shuffle=True)\n"
   ]
  },
  {
   "cell_type": "code",
   "execution_count": 7,
   "metadata": {},
   "outputs": [],
   "source": [
    "criterion = nn.CrossEntropyLoss()\n",
    "optimizer = optim.Adam(model.parameters(), lr = learning_rate)\n",
    "\n",
    "# Loss tracks\n",
    "train_loss_track=np.array([])\n",
    "test_loss_track=np.array([])\n",
    "acc_track=np.array([])"
   ]
  },
  {
   "cell_type": "code",
   "execution_count": 8,
   "metadata": {},
   "outputs": [
    {
     "name": "stderr",
     "output_type": "stream",
     "text": [
      "  0%|          | 1/210 [00:00<01:04,  3.25it/s]"
     ]
    },
    {
     "name": "stdout",
     "output_type": "stream",
     "text": [
      "torch.Size([1000, 2000])\n",
      "====> Epoch: 0 Training loss: 0.108649\n",
      "====> Epoch: 0 Test loss: 0.287474\n",
      "Readout Fidelity: % 90.6000018119812\n"
     ]
    },
    {
     "name": "stderr",
     "output_type": "stream",
     "text": [
      "  1%|          | 2/210 [00:00<01:05,  3.20it/s]"
     ]
    },
    {
     "name": "stdout",
     "output_type": "stream",
     "text": [
      "torch.Size([1000, 2000])\n",
      "====> Epoch: 1 Training loss: 0.105176\n",
      "====> Epoch: 1 Test loss: 0.219233\n",
      "Readout Fidelity: % 90.89999794960022\n"
     ]
    },
    {
     "name": "stderr",
     "output_type": "stream",
     "text": [
      "  1%|▏         | 3/210 [00:00<00:58,  3.56it/s]"
     ]
    },
    {
     "name": "stdout",
     "output_type": "stream",
     "text": [
      "torch.Size([1000, 2000])\n",
      "====> Epoch: 2 Training loss: 0.102194\n",
      "====> Epoch: 2 Test loss: 0.191239\n",
      "Readout Fidelity: % 91.00000262260437\n"
     ]
    },
    {
     "name": "stderr",
     "output_type": "stream",
     "text": [
      "  2%|▏         | 4/210 [00:01<00:54,  3.81it/s]"
     ]
    },
    {
     "name": "stdout",
     "output_type": "stream",
     "text": [
      "torch.Size([1000, 2000])\n",
      "====> Epoch: 3 Training loss: 0.099679\n",
      "====> Epoch: 3 Test loss: 0.168678\n",
      "Readout Fidelity: % 91.50000214576721\n"
     ]
    },
    {
     "name": "stderr",
     "output_type": "stream",
     "text": [
      "  2%|▏         | 5/210 [00:01<00:55,  3.69it/s]"
     ]
    },
    {
     "name": "stdout",
     "output_type": "stream",
     "text": [
      "torch.Size([1000, 2000])\n",
      "====> Epoch: 4 Training loss: 0.097427\n",
      "====> Epoch: 4 Test loss: 0.157143\n",
      "Readout Fidelity: % 91.50000214576721\n"
     ]
    },
    {
     "name": "stderr",
     "output_type": "stream",
     "text": [
      "  3%|▎         | 6/210 [00:01<00:55,  3.70it/s]"
     ]
    },
    {
     "name": "stdout",
     "output_type": "stream",
     "text": [
      "torch.Size([1000, 2000])\n",
      "====> Epoch: 5 Training loss: 0.095285\n",
      "====> Epoch: 5 Test loss: 0.147954\n",
      "Readout Fidelity: % 91.50000214576721\n"
     ]
    },
    {
     "name": "stderr",
     "output_type": "stream",
     "text": [
      "  3%|▎         | 7/210 [00:01<00:59,  3.41it/s]"
     ]
    },
    {
     "name": "stdout",
     "output_type": "stream",
     "text": [
      "torch.Size([1000, 2000])\n",
      "====> Epoch: 6 Training loss: 0.092959\n",
      "====> Epoch: 6 Test loss: 0.141848\n",
      "Readout Fidelity: % 91.50000214576721\n"
     ]
    },
    {
     "name": "stderr",
     "output_type": "stream",
     "text": [
      "  4%|▍         | 8/210 [00:02<00:55,  3.66it/s]"
     ]
    },
    {
     "name": "stdout",
     "output_type": "stream",
     "text": [
      "torch.Size([1000, 2000])\n",
      "====> Epoch: 7 Training loss: 0.091119\n",
      "====> Epoch: 7 Test loss: 0.137636\n",
      "Readout Fidelity: % 91.79999828338623\n"
     ]
    },
    {
     "name": "stderr",
     "output_type": "stream",
     "text": [
      "  4%|▍         | 9/210 [00:02<00:52,  3.83it/s]"
     ]
    },
    {
     "name": "stdout",
     "output_type": "stream",
     "text": [
      "torch.Size([1000, 2000])\n",
      "====> Epoch: 8 Training loss: 0.089211\n",
      "====> Epoch: 8 Test loss: 0.134360\n",
      "Readout Fidelity: % 91.79999828338623\n"
     ]
    },
    {
     "name": "stderr",
     "output_type": "stream",
     "text": [
      "  5%|▍         | 10/210 [00:02<00:54,  3.69it/s]"
     ]
    },
    {
     "name": "stdout",
     "output_type": "stream",
     "text": [
      "torch.Size([1000, 2000])\n",
      "====> Epoch: 9 Training loss: 0.087596\n",
      "====> Epoch: 9 Test loss: 0.130942\n",
      "Readout Fidelity: % 91.79999828338623\n"
     ]
    },
    {
     "name": "stderr",
     "output_type": "stream",
     "text": [
      "  5%|▌         | 11/210 [00:03<00:52,  3.80it/s]"
     ]
    },
    {
     "name": "stdout",
     "output_type": "stream",
     "text": [
      "torch.Size([1000, 2000])\n",
      "====> Epoch: 10 Training loss: 0.085859\n",
      "====> Epoch: 10 Test loss: 0.129201\n",
      "Readout Fidelity: % 91.79999828338623\n"
     ]
    },
    {
     "name": "stderr",
     "output_type": "stream",
     "text": [
      "  6%|▌         | 12/210 [00:03<00:56,  3.50it/s]"
     ]
    },
    {
     "name": "stdout",
     "output_type": "stream",
     "text": [
      "torch.Size([1000, 2000])\n",
      "====> Epoch: 11 Training loss: 0.084499\n",
      "====> Epoch: 11 Test loss: 0.128021\n",
      "Readout Fidelity: % 91.90000295639038\n"
     ]
    },
    {
     "name": "stderr",
     "output_type": "stream",
     "text": [
      "  6%|▌         | 13/210 [00:03<00:52,  3.74it/s]"
     ]
    },
    {
     "name": "stdout",
     "output_type": "stream",
     "text": [
      "torch.Size([1000, 2000])\n",
      "====> Epoch: 12 Training loss: 0.083376\n",
      "====> Epoch: 12 Test loss: 0.125764\n",
      "Readout Fidelity: % 92.00000166893005\n"
     ]
    },
    {
     "name": "stderr",
     "output_type": "stream",
     "text": [
      "  7%|▋         | 14/210 [00:03<00:54,  3.58it/s]"
     ]
    },
    {
     "name": "stdout",
     "output_type": "stream",
     "text": [
      "torch.Size([1000, 2000])\n",
      "====> Epoch: 13 Training loss: 0.082269\n",
      "====> Epoch: 13 Test loss: 0.125031\n",
      "Readout Fidelity: % 91.90000295639038\n"
     ]
    },
    {
     "name": "stderr",
     "output_type": "stream",
     "text": [
      "  7%|▋         | 15/210 [00:04<00:52,  3.75it/s]"
     ]
    },
    {
     "name": "stdout",
     "output_type": "stream",
     "text": [
      "torch.Size([1000, 2000])\n",
      "====> Epoch: 14 Training loss: 0.081248\n",
      "====> Epoch: 14 Test loss: 0.124133\n",
      "Readout Fidelity: % 91.90000295639038\n"
     ]
    },
    {
     "name": "stderr",
     "output_type": "stream",
     "text": [
      "  8%|▊         | 16/210 [00:04<00:50,  3.83it/s]"
     ]
    },
    {
     "name": "stdout",
     "output_type": "stream",
     "text": [
      "torch.Size([1000, 2000])\n",
      "====> Epoch: 15 Training loss: 0.080466\n",
      "====> Epoch: 15 Test loss: 0.124144\n",
      "Readout Fidelity: % 92.00000166893005\n"
     ]
    },
    {
     "name": "stderr",
     "output_type": "stream",
     "text": [
      "  8%|▊         | 17/210 [00:04<00:52,  3.68it/s]"
     ]
    },
    {
     "name": "stdout",
     "output_type": "stream",
     "text": [
      "torch.Size([1000, 2000])\n",
      "====> Epoch: 16 Training loss: 0.079577\n",
      "====> Epoch: 16 Test loss: 0.124845\n",
      "Readout Fidelity: % 92.1999990940094\n"
     ]
    },
    {
     "name": "stderr",
     "output_type": "stream",
     "text": [
      "  9%|▊         | 18/210 [00:04<00:49,  3.89it/s]"
     ]
    },
    {
     "name": "stdout",
     "output_type": "stream",
     "text": [
      "torch.Size([1000, 2000])\n",
      "====> Epoch: 17 Training loss: 0.078809\n",
      "====> Epoch: 17 Test loss: 0.124798\n",
      "Readout Fidelity: % 92.40000247955322\n"
     ]
    },
    {
     "name": "stderr",
     "output_type": "stream",
     "text": [
      "  9%|▉         | 19/210 [00:05<00:51,  3.72it/s]"
     ]
    },
    {
     "name": "stdout",
     "output_type": "stream",
     "text": [
      "torch.Size([1000, 2000])\n",
      "====> Epoch: 18 Training loss: 0.078162\n",
      "====> Epoch: 18 Test loss: 0.125090\n",
      "Readout Fidelity: % 92.40000247955322\n"
     ]
    },
    {
     "name": "stderr",
     "output_type": "stream",
     "text": [
      " 10%|▉         | 20/210 [00:05<00:48,  3.93it/s]"
     ]
    },
    {
     "name": "stdout",
     "output_type": "stream",
     "text": [
      "torch.Size([1000, 2000])\n",
      "====> Epoch: 19 Training loss: 0.077520\n",
      "====> Epoch: 19 Test loss: 0.126651\n",
      "Readout Fidelity: % 92.40000247955322\n"
     ]
    },
    {
     "name": "stderr",
     "output_type": "stream",
     "text": [
      " 10%|█         | 21/210 [00:05<00:50,  3.71it/s]"
     ]
    },
    {
     "name": "stdout",
     "output_type": "stream",
     "text": [
      "torch.Size([1000, 2000])\n",
      "====> Epoch: 20 Training loss: 0.076909\n",
      "====> Epoch: 20 Test loss: 0.127327\n",
      "Readout Fidelity: % 92.40000247955322\n"
     ]
    },
    {
     "name": "stderr",
     "output_type": "stream",
     "text": [
      " 10%|█         | 22/210 [00:05<00:49,  3.82it/s]"
     ]
    },
    {
     "name": "stdout",
     "output_type": "stream",
     "text": [
      "torch.Size([1000, 2000])\n",
      "====> Epoch: 21 Training loss: 0.076394\n",
      "====> Epoch: 21 Test loss: 0.128236\n",
      "Readout Fidelity: % 92.5000011920929\n"
     ]
    },
    {
     "name": "stderr",
     "output_type": "stream",
     "text": [
      " 11%|█         | 23/210 [00:06<00:46,  4.00it/s]"
     ]
    },
    {
     "name": "stdout",
     "output_type": "stream",
     "text": [
      "torch.Size([1000, 2000])\n",
      "====> Epoch: 22 Training loss: 0.075891\n",
      "====> Epoch: 22 Test loss: 0.129412\n",
      "Readout Fidelity: % 92.40000247955322\n"
     ]
    },
    {
     "name": "stderr",
     "output_type": "stream",
     "text": [
      " 11%|█▏        | 24/210 [00:06<00:49,  3.76it/s]"
     ]
    },
    {
     "name": "stdout",
     "output_type": "stream",
     "text": [
      "torch.Size([1000, 2000])\n",
      "====> Epoch: 23 Training loss: 0.075399\n",
      "====> Epoch: 23 Test loss: 0.130786\n",
      "Readout Fidelity: % 92.40000247955322\n"
     ]
    },
    {
     "name": "stderr",
     "output_type": "stream",
     "text": [
      " 12%|█▏        | 25/210 [00:06<00:56,  3.26it/s]"
     ]
    },
    {
     "name": "stdout",
     "output_type": "stream",
     "text": [
      "torch.Size([1000, 2000])\n",
      "====> Epoch: 24 Training loss: 0.074978\n",
      "====> Epoch: 24 Test loss: 0.131523\n",
      "Readout Fidelity: % 92.29999780654907\n"
     ]
    },
    {
     "name": "stderr",
     "output_type": "stream",
     "text": [
      " 12%|█▏        | 26/210 [00:07<01:07,  2.73it/s]"
     ]
    },
    {
     "name": "stdout",
     "output_type": "stream",
     "text": [
      "torch.Size([1000, 2000])\n",
      "====> Epoch: 25 Training loss: 0.074501\n",
      "====> Epoch: 25 Test loss: 0.132247\n",
      "Readout Fidelity: % 92.29999780654907\n"
     ]
    },
    {
     "name": "stderr",
     "output_type": "stream",
     "text": [
      " 13%|█▎        | 27/210 [00:07<01:09,  2.64it/s]"
     ]
    },
    {
     "name": "stdout",
     "output_type": "stream",
     "text": [
      "torch.Size([1000, 2000])\n",
      "====> Epoch: 26 Training loss: 0.074133\n",
      "====> Epoch: 26 Test loss: 0.132453\n",
      "Readout Fidelity: % 92.29999780654907\n"
     ]
    },
    {
     "name": "stderr",
     "output_type": "stream",
     "text": [
      " 13%|█▎        | 28/210 [00:08<01:03,  2.88it/s]"
     ]
    },
    {
     "name": "stdout",
     "output_type": "stream",
     "text": [
      "torch.Size([1000, 2000])\n",
      "====> Epoch: 27 Training loss: 0.073678\n",
      "====> Epoch: 27 Test loss: 0.134280\n",
      "Readout Fidelity: % 92.29999780654907\n"
     ]
    },
    {
     "name": "stderr",
     "output_type": "stream",
     "text": [
      " 14%|█▍        | 29/210 [00:08<00:58,  3.07it/s]"
     ]
    },
    {
     "name": "stdout",
     "output_type": "stream",
     "text": [
      "torch.Size([1000, 2000])\n",
      "====> Epoch: 28 Training loss: 0.073345\n",
      "====> Epoch: 28 Test loss: 0.135009\n",
      "Readout Fidelity: % 92.1999990940094\n"
     ]
    },
    {
     "name": "stderr",
     "output_type": "stream",
     "text": [
      " 14%|█▍        | 30/210 [00:08<00:53,  3.37it/s]"
     ]
    },
    {
     "name": "stdout",
     "output_type": "stream",
     "text": [
      "torch.Size([1000, 2000])\n",
      "====> Epoch: 29 Training loss: 0.072982\n",
      "====> Epoch: 29 Test loss: 0.136056\n",
      "Readout Fidelity: % 92.00000166893005\n"
     ]
    },
    {
     "name": "stderr",
     "output_type": "stream",
     "text": [
      " 15%|█▍        | 31/210 [00:08<00:57,  3.10it/s]"
     ]
    },
    {
     "name": "stdout",
     "output_type": "stream",
     "text": [
      "torch.Size([1000, 2000])\n",
      "====> Epoch: 30 Training loss: 0.072672\n",
      "====> Epoch: 30 Test loss: 0.137059\n",
      "Readout Fidelity: % 92.10000038146973\n"
     ]
    },
    {
     "name": "stderr",
     "output_type": "stream",
     "text": [
      " 15%|█▌        | 32/210 [00:09<00:52,  3.39it/s]"
     ]
    },
    {
     "name": "stdout",
     "output_type": "stream",
     "text": [
      "torch.Size([1000, 2000])\n",
      "====> Epoch: 31 Training loss: 0.072316\n",
      "====> Epoch: 31 Test loss: 0.138108\n",
      "Readout Fidelity: % 92.00000166893005\n"
     ]
    },
    {
     "name": "stderr",
     "output_type": "stream",
     "text": [
      " 16%|█▌        | 33/210 [00:09<00:51,  3.45it/s]"
     ]
    },
    {
     "name": "stdout",
     "output_type": "stream",
     "text": [
      "torch.Size([1000, 2000])\n",
      "====> Epoch: 32 Training loss: 0.072031\n",
      "====> Epoch: 32 Test loss: 0.138513\n",
      "Readout Fidelity: % 92.1999990940094\n"
     ]
    },
    {
     "name": "stderr",
     "output_type": "stream",
     "text": [
      " 16%|█▌        | 34/210 [00:09<00:48,  3.61it/s]"
     ]
    },
    {
     "name": "stdout",
     "output_type": "stream",
     "text": [
      "torch.Size([1000, 2000])\n",
      "====> Epoch: 33 Training loss: 0.071712\n",
      "====> Epoch: 33 Test loss: 0.139740\n",
      "Readout Fidelity: % 92.1999990940094\n"
     ]
    },
    {
     "name": "stderr",
     "output_type": "stream",
     "text": [
      " 17%|█▋        | 35/210 [00:10<00:54,  3.23it/s]"
     ]
    },
    {
     "name": "stdout",
     "output_type": "stream",
     "text": [
      "torch.Size([1000, 2000])\n",
      "====> Epoch: 34 Training loss: 0.071404\n",
      "====> Epoch: 34 Test loss: 0.141326\n",
      "Readout Fidelity: % 92.10000038146973\n"
     ]
    },
    {
     "name": "stderr",
     "output_type": "stream",
     "text": [
      " 17%|█▋        | 36/210 [00:10<01:02,  2.76it/s]"
     ]
    },
    {
     "name": "stdout",
     "output_type": "stream",
     "text": [
      "torch.Size([1000, 2000])\n",
      "====> Epoch: 35 Training loss: 0.071082\n",
      "====> Epoch: 35 Test loss: 0.144270\n",
      "Readout Fidelity: % 92.00000166893005\n"
     ]
    },
    {
     "name": "stderr",
     "output_type": "stream",
     "text": [
      " 18%|█▊        | 37/210 [00:10<01:03,  2.72it/s]"
     ]
    },
    {
     "name": "stdout",
     "output_type": "stream",
     "text": [
      "torch.Size([1000, 2000])\n",
      "====> Epoch: 36 Training loss: 0.070750\n",
      "====> Epoch: 36 Test loss: 0.145455\n",
      "Readout Fidelity: % 92.00000166893005\n"
     ]
    },
    {
     "name": "stderr",
     "output_type": "stream",
     "text": [
      " 18%|█▊        | 38/210 [00:11<01:10,  2.45it/s]"
     ]
    },
    {
     "name": "stdout",
     "output_type": "stream",
     "text": [
      "torch.Size([1000, 2000])\n",
      "====> Epoch: 37 Training loss: 0.070414\n",
      "====> Epoch: 37 Test loss: 0.146971\n",
      "Readout Fidelity: % 92.00000166893005\n"
     ]
    },
    {
     "name": "stderr",
     "output_type": "stream",
     "text": [
      " 19%|█▊        | 39/210 [00:11<01:07,  2.53it/s]"
     ]
    },
    {
     "name": "stdout",
     "output_type": "stream",
     "text": [
      "torch.Size([1000, 2000])\n",
      "====> Epoch: 38 Training loss: 0.070158\n",
      "====> Epoch: 38 Test loss: 0.147137\n",
      "Readout Fidelity: % 92.00000166893005\n"
     ]
    },
    {
     "name": "stderr",
     "output_type": "stream",
     "text": [
      " 19%|█▉        | 40/210 [00:12<01:02,  2.72it/s]"
     ]
    },
    {
     "name": "stdout",
     "output_type": "stream",
     "text": [
      "torch.Size([1000, 2000])\n",
      "====> Epoch: 39 Training loss: 0.069884\n",
      "====> Epoch: 39 Test loss: 0.148119\n",
      "Readout Fidelity: % 91.90000295639038\n"
     ]
    },
    {
     "name": "stderr",
     "output_type": "stream",
     "text": [
      " 20%|█▉        | 41/210 [00:12<00:55,  3.06it/s]"
     ]
    },
    {
     "name": "stdout",
     "output_type": "stream",
     "text": [
      "torch.Size([1000, 2000])\n",
      "====> Epoch: 40 Training loss: 0.069624\n",
      "====> Epoch: 40 Test loss: 0.149364\n",
      "Readout Fidelity: % 91.90000295639038\n"
     ]
    },
    {
     "name": "stderr",
     "output_type": "stream",
     "text": [
      " 20%|██        | 42/210 [00:12<00:50,  3.35it/s]"
     ]
    },
    {
     "name": "stdout",
     "output_type": "stream",
     "text": [
      "torch.Size([1000, 2000])\n",
      "====> Epoch: 41 Training loss: 0.069394\n",
      "====> Epoch: 41 Test loss: 0.150306\n",
      "Readout Fidelity: % 92.00000166893005\n"
     ]
    },
    {
     "name": "stderr",
     "output_type": "stream",
     "text": [
      " 20%|██        | 43/210 [00:12<00:49,  3.36it/s]"
     ]
    },
    {
     "name": "stdout",
     "output_type": "stream",
     "text": [
      "torch.Size([1000, 2000])\n",
      "====> Epoch: 42 Training loss: 0.069138\n",
      "====> Epoch: 42 Test loss: 0.151726\n",
      "Readout Fidelity: % 91.90000295639038\n"
     ]
    },
    {
     "name": "stderr",
     "output_type": "stream",
     "text": [
      " 21%|██        | 44/210 [00:13<00:46,  3.56it/s]"
     ]
    },
    {
     "name": "stdout",
     "output_type": "stream",
     "text": [
      "torch.Size([1000, 2000])\n",
      "====> Epoch: 43 Training loss: 0.068903\n",
      "====> Epoch: 43 Test loss: 0.152674\n",
      "Readout Fidelity: % 91.90000295639038\n"
     ]
    },
    {
     "name": "stderr",
     "output_type": "stream",
     "text": [
      " 21%|██▏       | 45/210 [00:13<00:46,  3.58it/s]"
     ]
    },
    {
     "name": "stdout",
     "output_type": "stream",
     "text": [
      "torch.Size([1000, 2000])\n",
      "====> Epoch: 44 Training loss: 0.068702\n",
      "====> Epoch: 44 Test loss: 0.153837\n",
      "Readout Fidelity: % 91.90000295639038\n"
     ]
    },
    {
     "name": "stderr",
     "output_type": "stream",
     "text": [
      " 22%|██▏       | 46/210 [00:13<00:42,  3.84it/s]"
     ]
    },
    {
     "name": "stdout",
     "output_type": "stream",
     "text": [
      "torch.Size([1000, 2000])\n",
      "====> Epoch: 45 Training loss: 0.068492\n",
      "====> Epoch: 45 Test loss: 0.155082\n",
      "Readout Fidelity: % 91.90000295639038\n"
     ]
    },
    {
     "name": "stderr",
     "output_type": "stream",
     "text": [
      " 22%|██▏       | 47/210 [00:13<00:43,  3.72it/s]"
     ]
    },
    {
     "name": "stdout",
     "output_type": "stream",
     "text": [
      "torch.Size([1000, 2000])\n",
      "====> Epoch: 46 Training loss: 0.068291\n",
      "====> Epoch: 46 Test loss: 0.156731\n",
      "Readout Fidelity: % 91.90000295639038\n"
     ]
    },
    {
     "name": "stderr",
     "output_type": "stream",
     "text": [
      " 23%|██▎       | 48/210 [00:14<00:41,  3.86it/s]"
     ]
    },
    {
     "name": "stdout",
     "output_type": "stream",
     "text": [
      "torch.Size([1000, 2000])\n",
      "====> Epoch: 47 Training loss: 0.068114\n",
      "====> Epoch: 47 Test loss: 0.158370\n",
      "Readout Fidelity: % 91.90000295639038\n"
     ]
    },
    {
     "name": "stderr",
     "output_type": "stream",
     "text": [
      " 23%|██▎       | 49/210 [00:14<00:40,  4.00it/s]"
     ]
    },
    {
     "name": "stdout",
     "output_type": "stream",
     "text": [
      "torch.Size([1000, 2000])\n",
      "====> Epoch: 48 Training loss: 0.067899\n",
      "====> Epoch: 48 Test loss: 0.158870\n",
      "Readout Fidelity: % 91.90000295639038\n"
     ]
    },
    {
     "name": "stderr",
     "output_type": "stream",
     "text": [
      " 24%|██▍       | 50/210 [00:14<00:41,  3.81it/s]"
     ]
    },
    {
     "name": "stdout",
     "output_type": "stream",
     "text": [
      "torch.Size([1000, 2000])\n",
      "====> Epoch: 49 Training loss: 0.067701\n",
      "====> Epoch: 49 Test loss: 0.159110\n",
      "Readout Fidelity: % 91.79999828338623\n"
     ]
    },
    {
     "name": "stderr",
     "output_type": "stream",
     "text": [
      " 24%|██▍       | 51/210 [00:14<00:42,  3.75it/s]"
     ]
    },
    {
     "name": "stdout",
     "output_type": "stream",
     "text": [
      "torch.Size([1000, 2000])\n",
      "====> Epoch: 50 Training loss: 0.067528\n",
      "====> Epoch: 50 Test loss: 0.160839\n",
      "Readout Fidelity: % 91.79999828338623\n"
     ]
    },
    {
     "name": "stderr",
     "output_type": "stream",
     "text": [
      " 25%|██▍       | 52/210 [00:15<00:53,  2.96it/s]"
     ]
    },
    {
     "name": "stdout",
     "output_type": "stream",
     "text": [
      "torch.Size([1000, 2000])\n",
      "====> Epoch: 51 Training loss: 0.067304\n",
      "====> Epoch: 51 Test loss: 0.161464\n",
      "Readout Fidelity: % 91.79999828338623\n"
     ]
    },
    {
     "name": "stderr",
     "output_type": "stream",
     "text": [
      " 25%|██▌       | 53/210 [00:15<00:54,  2.86it/s]"
     ]
    },
    {
     "name": "stdout",
     "output_type": "stream",
     "text": [
      "torch.Size([1000, 2000])\n",
      "====> Epoch: 52 Training loss: 0.067090\n",
      "====> Epoch: 52 Test loss: 0.161880\n",
      "Readout Fidelity: % 91.69999957084656\n"
     ]
    },
    {
     "name": "stderr",
     "output_type": "stream",
     "text": [
      " 26%|██▌       | 54/210 [00:16<00:50,  3.08it/s]"
     ]
    },
    {
     "name": "stdout",
     "output_type": "stream",
     "text": [
      "torch.Size([1000, 2000])\n",
      "====> Epoch: 53 Training loss: 0.066878\n",
      "====> Epoch: 53 Test loss: 0.162484\n",
      "Readout Fidelity: % 91.69999957084656\n"
     ]
    },
    {
     "name": "stderr",
     "output_type": "stream",
     "text": [
      " 26%|██▌       | 55/210 [00:16<00:49,  3.14it/s]"
     ]
    },
    {
     "name": "stdout",
     "output_type": "stream",
     "text": [
      "torch.Size([1000, 2000])\n",
      "====> Epoch: 54 Training loss: 0.066698\n",
      "====> Epoch: 54 Test loss: 0.163657\n",
      "Readout Fidelity: % 91.60000085830688\n"
     ]
    },
    {
     "name": "stderr",
     "output_type": "stream",
     "text": [
      " 27%|██▋       | 56/210 [00:16<00:45,  3.42it/s]"
     ]
    },
    {
     "name": "stdout",
     "output_type": "stream",
     "text": [
      "torch.Size([1000, 2000])\n",
      "====> Epoch: 55 Training loss: 0.066496\n",
      "====> Epoch: 55 Test loss: 0.165183\n",
      "Readout Fidelity: % 91.50000214576721\n"
     ]
    },
    {
     "name": "stderr",
     "output_type": "stream",
     "text": [
      " 27%|██▋       | 57/210 [00:16<00:44,  3.42it/s]"
     ]
    },
    {
     "name": "stdout",
     "output_type": "stream",
     "text": [
      "torch.Size([1000, 2000])\n",
      "====> Epoch: 56 Training loss: 0.066317\n",
      "====> Epoch: 56 Test loss: 0.166567\n",
      "Readout Fidelity: % 91.50000214576721\n"
     ]
    },
    {
     "name": "stderr",
     "output_type": "stream",
     "text": [
      " 28%|██▊       | 58/210 [00:17<00:41,  3.67it/s]"
     ]
    },
    {
     "name": "stdout",
     "output_type": "stream",
     "text": [
      "torch.Size([1000, 2000])\n",
      "====> Epoch: 57 Training loss: 0.066167\n",
      "====> Epoch: 57 Test loss: 0.167827\n",
      "Readout Fidelity: % 91.50000214576721\n"
     ]
    },
    {
     "name": "stderr",
     "output_type": "stream",
     "text": [
      " 28%|██▊       | 59/210 [00:17<00:42,  3.59it/s]"
     ]
    },
    {
     "name": "stdout",
     "output_type": "stream",
     "text": [
      "torch.Size([1000, 2000])\n",
      "====> Epoch: 58 Training loss: 0.066023\n",
      "====> Epoch: 58 Test loss: 0.169424\n",
      "Readout Fidelity: % 91.50000214576721\n"
     ]
    },
    {
     "name": "stderr",
     "output_type": "stream",
     "text": [
      " 29%|██▊       | 60/210 [00:17<00:39,  3.82it/s]"
     ]
    },
    {
     "name": "stdout",
     "output_type": "stream",
     "text": [
      "torch.Size([1000, 2000])\n",
      "====> Epoch: 59 Training loss: 0.065843\n",
      "====> Epoch: 59 Test loss: 0.170727\n",
      "Readout Fidelity: % 91.60000085830688\n"
     ]
    },
    {
     "name": "stderr",
     "output_type": "stream",
     "text": [
      " 29%|██▉       | 61/210 [00:17<00:37,  3.99it/s]"
     ]
    },
    {
     "name": "stdout",
     "output_type": "stream",
     "text": [
      "torch.Size([1000, 2000])\n",
      "====> Epoch: 60 Training loss: 0.065710\n",
      "====> Epoch: 60 Test loss: 0.171157\n",
      "Readout Fidelity: % 91.60000085830688\n"
     ]
    },
    {
     "name": "stderr",
     "output_type": "stream",
     "text": [
      " 30%|██▉       | 62/210 [00:18<00:38,  3.82it/s]"
     ]
    },
    {
     "name": "stdout",
     "output_type": "stream",
     "text": [
      "torch.Size([1000, 2000])\n",
      "====> Epoch: 61 Training loss: 0.065574\n",
      "====> Epoch: 61 Test loss: 0.172177\n",
      "Readout Fidelity: % 91.60000085830688\n"
     ]
    },
    {
     "name": "stderr",
     "output_type": "stream",
     "text": [
      " 30%|███       | 63/210 [00:18<00:36,  4.00it/s]"
     ]
    },
    {
     "name": "stdout",
     "output_type": "stream",
     "text": [
      "torch.Size([1000, 2000])\n",
      "====> Epoch: 62 Training loss: 0.065437\n",
      "====> Epoch: 62 Test loss: 0.173676\n",
      "Readout Fidelity: % 91.60000085830688\n"
     ]
    },
    {
     "name": "stderr",
     "output_type": "stream",
     "text": [
      " 30%|███       | 64/210 [00:18<00:37,  3.85it/s]"
     ]
    },
    {
     "name": "stdout",
     "output_type": "stream",
     "text": [
      "torch.Size([1000, 2000])\n",
      "====> Epoch: 63 Training loss: 0.065311\n",
      "====> Epoch: 63 Test loss: 0.175117\n",
      "Readout Fidelity: % 91.60000085830688\n"
     ]
    },
    {
     "name": "stderr",
     "output_type": "stream",
     "text": [
      " 31%|███       | 65/210 [00:18<00:36,  4.01it/s]"
     ]
    },
    {
     "name": "stdout",
     "output_type": "stream",
     "text": [
      "torch.Size([1000, 2000])\n",
      "====> Epoch: 64 Training loss: 0.065169\n",
      "====> Epoch: 64 Test loss: 0.175053\n",
      "Readout Fidelity: % 91.60000085830688\n"
     ]
    },
    {
     "name": "stderr",
     "output_type": "stream",
     "text": [
      " 31%|███▏      | 66/210 [00:19<00:37,  3.86it/s]"
     ]
    },
    {
     "name": "stdout",
     "output_type": "stream",
     "text": [
      "torch.Size([1000, 2000])\n",
      "====> Epoch: 65 Training loss: 0.065038\n",
      "====> Epoch: 65 Test loss: 0.176022\n",
      "Readout Fidelity: % 91.60000085830688\n"
     ]
    },
    {
     "name": "stderr",
     "output_type": "stream",
     "text": [
      " 32%|███▏      | 67/210 [00:19<00:35,  4.03it/s]"
     ]
    },
    {
     "name": "stdout",
     "output_type": "stream",
     "text": [
      "torch.Size([1000, 2000])\n",
      "====> Epoch: 66 Training loss: 0.064879\n",
      "====> Epoch: 66 Test loss: 0.175967\n",
      "Readout Fidelity: % 91.60000085830688\n"
     ]
    },
    {
     "name": "stderr",
     "output_type": "stream",
     "text": [
      " 32%|███▏      | 68/210 [00:19<00:34,  4.17it/s]"
     ]
    },
    {
     "name": "stdout",
     "output_type": "stream",
     "text": [
      "torch.Size([1000, 2000])\n",
      "====> Epoch: 67 Training loss: 0.064721\n",
      "====> Epoch: 67 Test loss: 0.176970\n",
      "Readout Fidelity: % 91.60000085830688\n"
     ]
    },
    {
     "name": "stderr",
     "output_type": "stream",
     "text": [
      " 33%|███▎      | 69/210 [00:19<00:35,  3.98it/s]"
     ]
    },
    {
     "name": "stdout",
     "output_type": "stream",
     "text": [
      "torch.Size([1000, 2000])\n",
      "====> Epoch: 68 Training loss: 0.064587\n",
      "====> Epoch: 68 Test loss: 0.178136\n",
      "Readout Fidelity: % 91.60000085830688\n"
     ]
    },
    {
     "name": "stderr",
     "output_type": "stream",
     "text": [
      " 33%|███▎      | 70/210 [00:20<00:33,  4.16it/s]"
     ]
    },
    {
     "name": "stdout",
     "output_type": "stream",
     "text": [
      "torch.Size([1000, 2000])\n",
      "====> Epoch: 69 Training loss: 0.064468\n",
      "====> Epoch: 69 Test loss: 0.178960\n",
      "Readout Fidelity: % 91.60000085830688\n"
     ]
    },
    {
     "name": "stderr",
     "output_type": "stream",
     "text": [
      " 34%|███▍      | 71/210 [00:20<00:35,  3.92it/s]"
     ]
    },
    {
     "name": "stdout",
     "output_type": "stream",
     "text": [
      "torch.Size([1000, 2000])\n",
      "====> Epoch: 70 Training loss: 0.064357\n",
      "====> Epoch: 70 Test loss: 0.180615\n",
      "Readout Fidelity: % 91.60000085830688\n"
     ]
    },
    {
     "name": "stderr",
     "output_type": "stream",
     "text": [
      " 34%|███▍      | 72/210 [00:20<00:33,  4.11it/s]"
     ]
    },
    {
     "name": "stdout",
     "output_type": "stream",
     "text": [
      "torch.Size([1000, 2000])\n",
      "====> Epoch: 71 Training loss: 0.064236\n",
      "====> Epoch: 71 Test loss: 0.181261\n",
      "Readout Fidelity: % 91.60000085830688\n"
     ]
    },
    {
     "name": "stderr",
     "output_type": "stream",
     "text": [
      " 35%|███▍      | 73/210 [00:20<00:34,  4.02it/s]"
     ]
    },
    {
     "name": "stdout",
     "output_type": "stream",
     "text": [
      "torch.Size([1000, 2000])\n",
      "====> Epoch: 72 Training loss: 0.064128\n",
      "====> Epoch: 72 Test loss: 0.180712\n",
      "Readout Fidelity: % 91.60000085830688\n"
     ]
    },
    {
     "name": "stderr",
     "output_type": "stream",
     "text": [
      " 35%|███▌      | 74/210 [00:21<00:43,  3.14it/s]"
     ]
    },
    {
     "name": "stdout",
     "output_type": "stream",
     "text": [
      "torch.Size([1000, 2000])\n",
      "====> Epoch: 73 Training loss: 0.064048\n",
      "====> Epoch: 73 Test loss: 0.181998\n",
      "Readout Fidelity: % 91.60000085830688\n"
     ]
    },
    {
     "name": "stderr",
     "output_type": "stream",
     "text": [
      " 36%|███▌      | 75/210 [00:21<00:45,  2.97it/s]"
     ]
    },
    {
     "name": "stdout",
     "output_type": "stream",
     "text": [
      "torch.Size([1000, 2000])\n",
      "====> Epoch: 74 Training loss: 0.063958\n",
      "====> Epoch: 74 Test loss: 0.182395\n",
      "Readout Fidelity: % 91.60000085830688\n"
     ]
    },
    {
     "name": "stderr",
     "output_type": "stream",
     "text": [
      " 36%|███▌      | 76/210 [00:22<00:51,  2.62it/s]"
     ]
    },
    {
     "name": "stdout",
     "output_type": "stream",
     "text": [
      "torch.Size([1000, 2000])\n",
      "====> Epoch: 75 Training loss: 0.063863\n",
      "====> Epoch: 75 Test loss: 0.183871\n",
      "Readout Fidelity: % 91.60000085830688\n"
     ]
    },
    {
     "name": "stderr",
     "output_type": "stream",
     "text": [
      " 37%|███▋      | 77/210 [00:22<00:49,  2.71it/s]"
     ]
    },
    {
     "name": "stdout",
     "output_type": "stream",
     "text": [
      "torch.Size([1000, 2000])\n",
      "====> Epoch: 76 Training loss: 0.063782\n",
      "====> Epoch: 76 Test loss: 0.185020\n",
      "Readout Fidelity: % 91.60000085830688\n"
     ]
    },
    {
     "name": "stderr",
     "output_type": "stream",
     "text": [
      " 37%|███▋      | 78/210 [00:22<00:46,  2.82it/s]"
     ]
    },
    {
     "name": "stdout",
     "output_type": "stream",
     "text": [
      "torch.Size([1000, 2000])\n",
      "====> Epoch: 77 Training loss: 0.063681\n",
      "====> Epoch: 77 Test loss: 0.185633\n",
      "Readout Fidelity: % 91.60000085830688\n"
     ]
    },
    {
     "name": "stderr",
     "output_type": "stream",
     "text": [
      " 38%|███▊      | 79/210 [00:23<00:42,  3.06it/s]"
     ]
    },
    {
     "name": "stdout",
     "output_type": "stream",
     "text": [
      "torch.Size([1000, 2000])\n",
      "====> Epoch: 78 Training loss: 0.063593\n",
      "====> Epoch: 78 Test loss: 0.186172\n",
      "Readout Fidelity: % 91.60000085830688\n"
     ]
    },
    {
     "name": "stderr",
     "output_type": "stream",
     "text": [
      " 38%|███▊      | 80/210 [00:23<00:44,  2.93it/s]"
     ]
    },
    {
     "name": "stdout",
     "output_type": "stream",
     "text": [
      "torch.Size([1000, 2000])\n",
      "====> Epoch: 79 Training loss: 0.063494\n",
      "====> Epoch: 79 Test loss: 0.186744\n",
      "Readout Fidelity: % 91.60000085830688\n"
     ]
    },
    {
     "name": "stderr",
     "output_type": "stream",
     "text": [
      " 39%|███▊      | 81/210 [00:23<00:48,  2.66it/s]"
     ]
    },
    {
     "name": "stdout",
     "output_type": "stream",
     "text": [
      "torch.Size([1000, 2000])\n",
      "====> Epoch: 80 Training loss: 0.063408\n",
      "====> Epoch: 80 Test loss: 0.187291\n",
      "Readout Fidelity: % 91.60000085830688\n"
     ]
    },
    {
     "name": "stderr",
     "output_type": "stream",
     "text": [
      " 39%|███▉      | 82/210 [00:24<00:43,  2.96it/s]"
     ]
    },
    {
     "name": "stdout",
     "output_type": "stream",
     "text": [
      "torch.Size([1000, 2000])\n",
      "====> Epoch: 81 Training loss: 0.063345\n",
      "====> Epoch: 81 Test loss: 0.188333\n",
      "Readout Fidelity: % 91.60000085830688\n"
     ]
    },
    {
     "name": "stderr",
     "output_type": "stream",
     "text": [
      " 40%|███▉      | 83/210 [00:24<00:41,  3.05it/s]"
     ]
    },
    {
     "name": "stdout",
     "output_type": "stream",
     "text": [
      "torch.Size([1000, 2000])\n",
      "====> Epoch: 82 Training loss: 0.063246\n",
      "====> Epoch: 82 Test loss: 0.188338\n",
      "Readout Fidelity: % 91.60000085830688\n"
     ]
    },
    {
     "name": "stderr",
     "output_type": "stream",
     "text": [
      " 40%|████      | 84/210 [00:24<00:38,  3.28it/s]"
     ]
    },
    {
     "name": "stdout",
     "output_type": "stream",
     "text": [
      "torch.Size([1000, 2000])\n",
      "====> Epoch: 83 Training loss: 0.063141\n",
      "====> Epoch: 83 Test loss: 0.188785\n",
      "Readout Fidelity: % 91.60000085830688\n"
     ]
    },
    {
     "name": "stderr",
     "output_type": "stream",
     "text": [
      " 40%|████      | 85/210 [00:25<00:40,  3.12it/s]"
     ]
    },
    {
     "name": "stdout",
     "output_type": "stream",
     "text": [
      "torch.Size([1000, 2000])\n",
      "====> Epoch: 84 Training loss: 0.063079\n",
      "====> Epoch: 84 Test loss: 0.190174\n",
      "Readout Fidelity: % 91.60000085830688\n"
     ]
    },
    {
     "name": "stderr",
     "output_type": "stream",
     "text": [
      " 41%|████      | 86/210 [00:25<00:36,  3.39it/s]"
     ]
    },
    {
     "name": "stdout",
     "output_type": "stream",
     "text": [
      "torch.Size([1000, 2000])\n",
      "====> Epoch: 85 Training loss: 0.062996\n",
      "====> Epoch: 85 Test loss: 0.190983\n",
      "Readout Fidelity: % 91.60000085830688\n"
     ]
    },
    {
     "name": "stderr",
     "output_type": "stream",
     "text": [
      " 41%|████▏     | 87/210 [00:25<00:34,  3.61it/s]"
     ]
    },
    {
     "name": "stdout",
     "output_type": "stream",
     "text": [
      "torch.Size([1000, 2000])\n",
      "====> Epoch: 86 Training loss: 0.062897\n",
      "====> Epoch: 86 Test loss: 0.191857\n",
      "Readout Fidelity: % 91.60000085830688\n"
     ]
    },
    {
     "name": "stderr",
     "output_type": "stream",
     "text": [
      " 42%|████▏     | 88/210 [00:25<00:34,  3.56it/s]"
     ]
    },
    {
     "name": "stdout",
     "output_type": "stream",
     "text": [
      "torch.Size([1000, 2000])\n",
      "====> Epoch: 87 Training loss: 0.062786\n",
      "====> Epoch: 87 Test loss: 0.193647\n",
      "Readout Fidelity: % 91.60000085830688\n"
     ]
    },
    {
     "name": "stderr",
     "output_type": "stream",
     "text": [
      " 42%|████▏     | 89/210 [00:26<00:33,  3.62it/s]"
     ]
    },
    {
     "name": "stdout",
     "output_type": "stream",
     "text": [
      "torch.Size([1000, 2000])\n",
      "====> Epoch: 88 Training loss: 0.062723\n",
      "====> Epoch: 88 Test loss: 0.193639\n",
      "Readout Fidelity: % 91.60000085830688\n"
     ]
    },
    {
     "name": "stderr",
     "output_type": "stream",
     "text": [
      " 43%|████▎     | 90/210 [00:26<00:35,  3.37it/s]"
     ]
    },
    {
     "name": "stdout",
     "output_type": "stream",
     "text": [
      "torch.Size([1000, 2000])\n",
      "====> Epoch: 89 Training loss: 0.062635\n",
      "====> Epoch: 89 Test loss: 0.194542\n",
      "Readout Fidelity: % 91.60000085830688\n"
     ]
    },
    {
     "name": "stderr",
     "output_type": "stream",
     "text": [
      " 43%|████▎     | 91/210 [00:26<00:32,  3.61it/s]"
     ]
    },
    {
     "name": "stdout",
     "output_type": "stream",
     "text": [
      "torch.Size([1000, 2000])\n",
      "====> Epoch: 90 Training loss: 0.062569\n",
      "====> Epoch: 90 Test loss: 0.195313\n",
      "Readout Fidelity: % 91.60000085830688\n"
     ]
    },
    {
     "name": "stderr",
     "output_type": "stream",
     "text": [
      " 44%|████▍     | 92/210 [00:27<00:33,  3.56it/s]"
     ]
    },
    {
     "name": "stdout",
     "output_type": "stream",
     "text": [
      "torch.Size([1000, 2000])\n",
      "====> Epoch: 91 Training loss: 0.062503\n",
      "====> Epoch: 91 Test loss: 0.196219\n",
      "Readout Fidelity: % 91.69999957084656\n"
     ]
    },
    {
     "name": "stderr",
     "output_type": "stream",
     "text": [
      " 44%|████▍     | 93/210 [00:27<00:31,  3.76it/s]"
     ]
    },
    {
     "name": "stdout",
     "output_type": "stream",
     "text": [
      "torch.Size([1000, 2000])\n",
      "====> Epoch: 92 Training loss: 0.062417\n",
      "====> Epoch: 92 Test loss: 0.196171\n",
      "Readout Fidelity: % 91.69999957084656\n"
     ]
    },
    {
     "name": "stderr",
     "output_type": "stream",
     "text": [
      " 45%|████▍     | 94/210 [00:27<00:29,  3.91it/s]"
     ]
    },
    {
     "name": "stdout",
     "output_type": "stream",
     "text": [
      "torch.Size([1000, 2000])\n",
      "====> Epoch: 93 Training loss: 0.062356\n",
      "====> Epoch: 93 Test loss: 0.196232\n",
      "Readout Fidelity: % 91.69999957084656\n"
     ]
    },
    {
     "name": "stderr",
     "output_type": "stream",
     "text": [
      " 45%|████▌     | 95/210 [00:27<00:30,  3.79it/s]"
     ]
    },
    {
     "name": "stdout",
     "output_type": "stream",
     "text": [
      "torch.Size([1000, 2000])\n",
      "====> Epoch: 94 Training loss: 0.062280\n",
      "====> Epoch: 94 Test loss: 0.197416\n",
      "Readout Fidelity: % 91.69999957084656\n"
     ]
    },
    {
     "name": "stderr",
     "output_type": "stream",
     "text": [
      " 46%|████▌     | 96/210 [00:27<00:28,  3.98it/s]"
     ]
    },
    {
     "name": "stdout",
     "output_type": "stream",
     "text": [
      "torch.Size([1000, 2000])\n",
      "====> Epoch: 95 Training loss: 0.062225\n",
      "====> Epoch: 95 Test loss: 0.198429\n",
      "Readout Fidelity: % 91.69999957084656\n"
     ]
    },
    {
     "name": "stderr",
     "output_type": "stream",
     "text": [
      " 46%|████▌     | 97/210 [00:28<00:29,  3.81it/s]"
     ]
    },
    {
     "name": "stdout",
     "output_type": "stream",
     "text": [
      "torch.Size([1000, 2000])\n",
      "====> Epoch: 96 Training loss: 0.062169\n",
      "====> Epoch: 96 Test loss: 0.198850\n",
      "Readout Fidelity: % 91.69999957084656\n"
     ]
    },
    {
     "name": "stderr",
     "output_type": "stream",
     "text": [
      " 47%|████▋     | 98/210 [00:28<00:28,  3.96it/s]"
     ]
    },
    {
     "name": "stdout",
     "output_type": "stream",
     "text": [
      "torch.Size([1000, 2000])\n",
      "====> Epoch: 97 Training loss: 0.062117\n",
      "====> Epoch: 97 Test loss: 0.200111\n",
      "Readout Fidelity: % 91.69999957084656\n"
     ]
    },
    {
     "name": "stderr",
     "output_type": "stream",
     "text": [
      " 47%|████▋     | 99/210 [00:28<00:27,  4.03it/s]"
     ]
    },
    {
     "name": "stdout",
     "output_type": "stream",
     "text": [
      "torch.Size([1000, 2000])\n",
      "====> Epoch: 98 Training loss: 0.062035\n",
      "====> Epoch: 98 Test loss: 0.200516\n",
      "Readout Fidelity: % 91.69999957084656\n"
     ]
    },
    {
     "name": "stderr",
     "output_type": "stream",
     "text": [
      " 48%|████▊     | 100/210 [00:29<00:31,  3.51it/s]"
     ]
    },
    {
     "name": "stdout",
     "output_type": "stream",
     "text": [
      "torch.Size([1000, 2000])\n",
      "====> Epoch: 99 Training loss: 0.062003\n",
      "====> Epoch: 99 Test loss: 0.201225\n",
      "Readout Fidelity: % 91.69999957084656\n"
     ]
    },
    {
     "name": "stderr",
     "output_type": "stream",
     "text": [
      " 48%|████▊     | 101/210 [00:29<00:29,  3.75it/s]"
     ]
    },
    {
     "name": "stdout",
     "output_type": "stream",
     "text": [
      "torch.Size([1000, 2000])\n",
      "====> Epoch: 100 Training loss: 0.061887\n",
      "====> Epoch: 100 Test loss: 0.201707\n",
      "Readout Fidelity: % 91.69999957084656\n"
     ]
    },
    {
     "name": "stderr",
     "output_type": "stream",
     "text": [
      " 49%|████▊     | 102/210 [00:29<00:29,  3.66it/s]"
     ]
    },
    {
     "name": "stdout",
     "output_type": "stream",
     "text": [
      "torch.Size([1000, 2000])\n",
      "====> Epoch: 101 Training loss: 0.061830\n",
      "====> Epoch: 101 Test loss: 0.201902\n",
      "Readout Fidelity: % 91.69999957084656\n"
     ]
    },
    {
     "name": "stderr",
     "output_type": "stream",
     "text": [
      " 49%|████▉     | 103/210 [00:29<00:27,  3.87it/s]"
     ]
    },
    {
     "name": "stdout",
     "output_type": "stream",
     "text": [
      "torch.Size([1000, 2000])\n",
      "====> Epoch: 102 Training loss: 0.061736\n",
      "====> Epoch: 102 Test loss: 0.203108\n",
      "Readout Fidelity: % 91.69999957084656\n"
     ]
    },
    {
     "name": "stderr",
     "output_type": "stream",
     "text": [
      " 50%|████▉     | 104/210 [00:30<00:28,  3.67it/s]"
     ]
    },
    {
     "name": "stdout",
     "output_type": "stream",
     "text": [
      "torch.Size([1000, 2000])\n",
      "====> Epoch: 103 Training loss: 0.061655\n",
      "====> Epoch: 103 Test loss: 0.203248\n",
      "Readout Fidelity: % 91.69999957084656\n"
     ]
    },
    {
     "name": "stderr",
     "output_type": "stream",
     "text": [
      " 50%|█████     | 105/210 [00:30<00:30,  3.39it/s]"
     ]
    },
    {
     "name": "stdout",
     "output_type": "stream",
     "text": [
      "torch.Size([1000, 2000])\n",
      "====> Epoch: 104 Training loss: 0.061607\n",
      "====> Epoch: 104 Test loss: 0.203876\n",
      "Readout Fidelity: % 91.69999957084656\n"
     ]
    },
    {
     "name": "stderr",
     "output_type": "stream",
     "text": [
      " 50%|█████     | 106/210 [00:30<00:30,  3.45it/s]"
     ]
    },
    {
     "name": "stdout",
     "output_type": "stream",
     "text": [
      "torch.Size([1000, 2000])\n",
      "====> Epoch: 105 Training loss: 0.061531\n",
      "====> Epoch: 105 Test loss: 0.205638\n",
      "Readout Fidelity: % 91.69999957084656\n"
     ]
    },
    {
     "name": "stderr",
     "output_type": "stream",
     "text": [
      " 51%|█████     | 107/210 [00:31<00:31,  3.26it/s]"
     ]
    },
    {
     "name": "stdout",
     "output_type": "stream",
     "text": [
      "torch.Size([1000, 2000])\n",
      "====> Epoch: 106 Training loss: 0.061460\n",
      "====> Epoch: 106 Test loss: 0.205891\n",
      "Readout Fidelity: % 91.69999957084656\n"
     ]
    },
    {
     "name": "stderr",
     "output_type": "stream",
     "text": [
      " 51%|█████▏    | 108/210 [00:31<00:28,  3.56it/s]"
     ]
    },
    {
     "name": "stdout",
     "output_type": "stream",
     "text": [
      "torch.Size([1000, 2000])\n",
      "====> Epoch: 107 Training loss: 0.061405\n",
      "====> Epoch: 107 Test loss: 0.206789\n",
      "Readout Fidelity: % 91.69999957084656\n"
     ]
    },
    {
     "name": "stderr",
     "output_type": "stream",
     "text": [
      " 52%|█████▏    | 109/210 [00:31<00:29,  3.48it/s]"
     ]
    },
    {
     "name": "stdout",
     "output_type": "stream",
     "text": [
      "torch.Size([1000, 2000])\n",
      "====> Epoch: 108 Training loss: 0.061349\n",
      "====> Epoch: 108 Test loss: 0.207282\n",
      "Readout Fidelity: % 91.69999957084656\n"
     ]
    },
    {
     "name": "stderr",
     "output_type": "stream",
     "text": [
      " 52%|█████▏    | 110/210 [00:31<00:26,  3.73it/s]"
     ]
    },
    {
     "name": "stdout",
     "output_type": "stream",
     "text": [
      "torch.Size([1000, 2000])\n",
      "====> Epoch: 109 Training loss: 0.061302\n",
      "====> Epoch: 109 Test loss: 0.208868\n",
      "Readout Fidelity: % 91.60000085830688\n"
     ]
    },
    {
     "name": "stderr",
     "output_type": "stream",
     "text": [
      " 53%|█████▎    | 111/210 [00:32<00:26,  3.69it/s]"
     ]
    },
    {
     "name": "stdout",
     "output_type": "stream",
     "text": [
      "torch.Size([1000, 2000])\n",
      "====> Epoch: 110 Training loss: 0.061258\n",
      "====> Epoch: 110 Test loss: 0.208831\n",
      "Readout Fidelity: % 91.60000085830688\n"
     ]
    },
    {
     "name": "stderr",
     "output_type": "stream",
     "text": [
      " 53%|█████▎    | 112/210 [00:32<00:28,  3.38it/s]"
     ]
    },
    {
     "name": "stdout",
     "output_type": "stream",
     "text": [
      "torch.Size([1000, 2000])\n",
      "====> Epoch: 111 Training loss: 0.061215\n",
      "====> Epoch: 111 Test loss: 0.209137\n",
      "Readout Fidelity: % 91.60000085830688\n"
     ]
    },
    {
     "name": "stderr",
     "output_type": "stream",
     "text": [
      " 54%|█████▍    | 113/210 [00:32<00:32,  2.98it/s]"
     ]
    },
    {
     "name": "stdout",
     "output_type": "stream",
     "text": [
      "torch.Size([1000, 2000])\n",
      "====> Epoch: 112 Training loss: 0.061164\n",
      "====> Epoch: 112 Test loss: 0.209854\n",
      "Readout Fidelity: % 91.60000085830688\n"
     ]
    },
    {
     "name": "stderr",
     "output_type": "stream",
     "text": [
      " 54%|█████▍    | 114/210 [00:33<00:37,  2.59it/s]"
     ]
    },
    {
     "name": "stdout",
     "output_type": "stream",
     "text": [
      "torch.Size([1000, 2000])\n",
      "====> Epoch: 113 Training loss: 0.061127\n",
      "====> Epoch: 113 Test loss: 0.210591\n",
      "Readout Fidelity: % 91.60000085830688\n"
     ]
    },
    {
     "name": "stderr",
     "output_type": "stream",
     "text": [
      " 55%|█████▍    | 115/210 [00:33<00:33,  2.87it/s]"
     ]
    },
    {
     "name": "stdout",
     "output_type": "stream",
     "text": [
      "torch.Size([1000, 2000])\n",
      "====> Epoch: 114 Training loss: 0.061078\n",
      "====> Epoch: 114 Test loss: 0.211351\n",
      "Readout Fidelity: % 91.60000085830688\n"
     ]
    },
    {
     "name": "stderr",
     "output_type": "stream",
     "text": [
      " 55%|█████▌    | 116/210 [00:34<00:31,  3.00it/s]"
     ]
    },
    {
     "name": "stdout",
     "output_type": "stream",
     "text": [
      "torch.Size([1000, 2000])\n",
      "====> Epoch: 115 Training loss: 0.061032\n",
      "====> Epoch: 115 Test loss: 0.211836\n",
      "Readout Fidelity: % 91.60000085830688\n"
     ]
    },
    {
     "name": "stderr",
     "output_type": "stream",
     "text": [
      " 56%|█████▌    | 117/210 [00:34<00:28,  3.28it/s]"
     ]
    },
    {
     "name": "stdout",
     "output_type": "stream",
     "text": [
      "torch.Size([1000, 2000])\n",
      "====> Epoch: 116 Training loss: 0.060984\n",
      "====> Epoch: 116 Test loss: 0.211677\n",
      "Readout Fidelity: % 91.60000085830688\n"
     ]
    },
    {
     "name": "stderr",
     "output_type": "stream",
     "text": [
      " 56%|█████▌    | 118/210 [00:34<00:25,  3.55it/s]"
     ]
    },
    {
     "name": "stdout",
     "output_type": "stream",
     "text": [
      "torch.Size([1000, 2000])\n",
      "====> Epoch: 117 Training loss: 0.060955\n",
      "====> Epoch: 117 Test loss: 0.211633\n",
      "Readout Fidelity: % 91.60000085830688\n"
     ]
    },
    {
     "name": "stderr",
     "output_type": "stream",
     "text": [
      " 57%|█████▋    | 119/210 [00:34<00:25,  3.55it/s]"
     ]
    },
    {
     "name": "stdout",
     "output_type": "stream",
     "text": [
      "torch.Size([1000, 2000])\n",
      "====> Epoch: 118 Training loss: 0.060914\n",
      "====> Epoch: 118 Test loss: 0.211671\n",
      "Readout Fidelity: % 91.60000085830688\n"
     ]
    },
    {
     "name": "stderr",
     "output_type": "stream",
     "text": [
      " 57%|█████▋    | 120/210 [00:34<00:24,  3.75it/s]"
     ]
    },
    {
     "name": "stdout",
     "output_type": "stream",
     "text": [
      "torch.Size([1000, 2000])\n",
      "====> Epoch: 119 Training loss: 0.060879\n",
      "====> Epoch: 119 Test loss: 0.211954\n",
      "Readout Fidelity: % 91.60000085830688\n"
     ]
    },
    {
     "name": "stderr",
     "output_type": "stream",
     "text": [
      " 58%|█████▊    | 121/210 [00:35<00:24,  3.65it/s]"
     ]
    },
    {
     "name": "stdout",
     "output_type": "stream",
     "text": [
      "torch.Size([1000, 2000])\n",
      "====> Epoch: 120 Training loss: 0.060846\n",
      "====> Epoch: 120 Test loss: 0.212452\n",
      "Readout Fidelity: % 91.60000085830688\n"
     ]
    },
    {
     "name": "stderr",
     "output_type": "stream",
     "text": [
      " 58%|█████▊    | 122/210 [00:35<00:23,  3.78it/s]"
     ]
    },
    {
     "name": "stdout",
     "output_type": "stream",
     "text": [
      "torch.Size([1000, 2000])\n",
      "====> Epoch: 121 Training loss: 0.060812\n",
      "====> Epoch: 121 Test loss: 0.212432\n",
      "Readout Fidelity: % 91.60000085830688\n"
     ]
    },
    {
     "name": "stderr",
     "output_type": "stream",
     "text": [
      " 59%|█████▊    | 123/210 [00:35<00:23,  3.65it/s]"
     ]
    },
    {
     "name": "stdout",
     "output_type": "stream",
     "text": [
      "torch.Size([1000, 2000])\n",
      "====> Epoch: 122 Training loss: 0.060774\n",
      "====> Epoch: 122 Test loss: 0.212759\n",
      "Readout Fidelity: % 91.60000085830688\n"
     ]
    },
    {
     "name": "stderr",
     "output_type": "stream",
     "text": [
      " 59%|█████▉    | 124/210 [00:36<00:23,  3.73it/s]"
     ]
    },
    {
     "name": "stdout",
     "output_type": "stream",
     "text": [
      "torch.Size([1000, 2000])\n",
      "====> Epoch: 123 Training loss: 0.060740\n",
      "====> Epoch: 123 Test loss: 0.212700\n",
      "Readout Fidelity: % 91.60000085830688\n"
     ]
    },
    {
     "name": "stderr",
     "output_type": "stream",
     "text": [
      " 60%|█████▉    | 125/210 [00:36<00:23,  3.61it/s]"
     ]
    },
    {
     "name": "stdout",
     "output_type": "stream",
     "text": [
      "torch.Size([1000, 2000])\n",
      "====> Epoch: 124 Training loss: 0.060709\n",
      "====> Epoch: 124 Test loss: 0.213208\n",
      "Readout Fidelity: % 91.60000085830688\n"
     ]
    },
    {
     "name": "stderr",
     "output_type": "stream",
     "text": [
      " 60%|██████    | 126/210 [00:36<00:23,  3.55it/s]"
     ]
    },
    {
     "name": "stdout",
     "output_type": "stream",
     "text": [
      "torch.Size([1000, 2000])\n",
      "====> Epoch: 125 Training loss: 0.060676\n",
      "====> Epoch: 125 Test loss: 0.214389\n",
      "Readout Fidelity: % 91.60000085830688\n"
     ]
    },
    {
     "name": "stderr",
     "output_type": "stream",
     "text": [
      " 60%|██████    | 127/210 [00:36<00:23,  3.59it/s]"
     ]
    },
    {
     "name": "stdout",
     "output_type": "stream",
     "text": [
      "torch.Size([1000, 2000])\n",
      "====> Epoch: 126 Training loss: 0.060645\n",
      "====> Epoch: 126 Test loss: 0.215154\n",
      "Readout Fidelity: % 91.50000214576721\n"
     ]
    },
    {
     "name": "stderr",
     "output_type": "stream",
     "text": [
      " 61%|██████    | 128/210 [00:37<00:25,  3.17it/s]"
     ]
    },
    {
     "name": "stdout",
     "output_type": "stream",
     "text": [
      "torch.Size([1000, 2000])\n",
      "====> Epoch: 127 Training loss: 0.060616\n",
      "====> Epoch: 127 Test loss: 0.215914\n",
      "Readout Fidelity: % 91.60000085830688\n"
     ]
    },
    {
     "name": "stderr",
     "output_type": "stream",
     "text": [
      " 61%|██████▏   | 129/210 [00:37<00:26,  3.05it/s]"
     ]
    },
    {
     "name": "stdout",
     "output_type": "stream",
     "text": [
      "torch.Size([1000, 2000])\n",
      "====> Epoch: 128 Training loss: 0.060575\n",
      "====> Epoch: 128 Test loss: 0.216897\n",
      "Readout Fidelity: % 91.50000214576721\n"
     ]
    },
    {
     "name": "stderr",
     "output_type": "stream",
     "text": [
      " 62%|██████▏   | 130/210 [00:38<00:26,  2.98it/s]"
     ]
    },
    {
     "name": "stdout",
     "output_type": "stream",
     "text": [
      "torch.Size([1000, 2000])\n",
      "====> Epoch: 129 Training loss: 0.060545\n",
      "====> Epoch: 129 Test loss: 0.216708\n",
      "Readout Fidelity: % 91.60000085830688\n"
     ]
    },
    {
     "name": "stderr",
     "output_type": "stream",
     "text": [
      " 62%|██████▏   | 131/210 [00:38<00:25,  3.16it/s]"
     ]
    },
    {
     "name": "stdout",
     "output_type": "stream",
     "text": [
      "torch.Size([1000, 2000])\n",
      "====> Epoch: 130 Training loss: 0.060500\n",
      "====> Epoch: 130 Test loss: 0.217100\n",
      "Readout Fidelity: % 91.50000214576721\n"
     ]
    },
    {
     "name": "stderr",
     "output_type": "stream",
     "text": [
      " 63%|██████▎   | 132/210 [00:38<00:23,  3.30it/s]"
     ]
    },
    {
     "name": "stdout",
     "output_type": "stream",
     "text": [
      "torch.Size([1000, 2000])\n",
      "====> Epoch: 131 Training loss: 0.060460\n",
      "====> Epoch: 131 Test loss: 0.217232\n",
      "Readout Fidelity: % 91.50000214576721\n"
     ]
    },
    {
     "name": "stderr",
     "output_type": "stream",
     "text": [
      " 63%|██████▎   | 133/210 [00:38<00:24,  3.17it/s]"
     ]
    },
    {
     "name": "stdout",
     "output_type": "stream",
     "text": [
      "torch.Size([1000, 2000])\n",
      "====> Epoch: 132 Training loss: 0.060428\n",
      "====> Epoch: 132 Test loss: 0.218225\n",
      "Readout Fidelity: % 91.50000214576721\n"
     ]
    },
    {
     "name": "stderr",
     "output_type": "stream",
     "text": [
      " 64%|██████▍   | 134/210 [00:39<00:23,  3.29it/s]"
     ]
    },
    {
     "name": "stdout",
     "output_type": "stream",
     "text": [
      "torch.Size([1000, 2000])\n",
      "====> Epoch: 133 Training loss: 0.060394\n",
      "====> Epoch: 133 Test loss: 0.218582\n",
      "Readout Fidelity: % 91.50000214576721\n"
     ]
    },
    {
     "name": "stderr",
     "output_type": "stream",
     "text": [
      " 64%|██████▍   | 135/210 [00:39<00:23,  3.14it/s]"
     ]
    },
    {
     "name": "stdout",
     "output_type": "stream",
     "text": [
      "torch.Size([1000, 2000])\n",
      "====> Epoch: 134 Training loss: 0.060370\n",
      "====> Epoch: 134 Test loss: 0.219527\n",
      "Readout Fidelity: % 91.50000214576721\n"
     ]
    },
    {
     "name": "stderr",
     "output_type": "stream",
     "text": [
      " 65%|██████▍   | 136/210 [00:39<00:21,  3.39it/s]"
     ]
    },
    {
     "name": "stdout",
     "output_type": "stream",
     "text": [
      "torch.Size([1000, 2000])\n",
      "====> Epoch: 135 Training loss: 0.060332\n",
      "====> Epoch: 135 Test loss: 0.220295\n",
      "Readout Fidelity: % 91.50000214576721\n"
     ]
    },
    {
     "name": "stderr",
     "output_type": "stream",
     "text": [
      " 65%|██████▌   | 137/210 [00:40<00:21,  3.42it/s]"
     ]
    },
    {
     "name": "stdout",
     "output_type": "stream",
     "text": [
      "torch.Size([1000, 2000])\n",
      "====> Epoch: 136 Training loss: 0.060289\n",
      "====> Epoch: 136 Test loss: 0.220131\n",
      "Readout Fidelity: % 91.50000214576721\n"
     ]
    },
    {
     "name": "stderr",
     "output_type": "stream",
     "text": [
      " 66%|██████▌   | 138/210 [00:40<00:19,  3.68it/s]"
     ]
    },
    {
     "name": "stdout",
     "output_type": "stream",
     "text": [
      "torch.Size([1000, 2000])\n",
      "====> Epoch: 137 Training loss: 0.060248\n",
      "====> Epoch: 137 Test loss: 0.220508\n",
      "Readout Fidelity: % 91.50000214576721\n"
     ]
    },
    {
     "name": "stderr",
     "output_type": "stream",
     "text": [
      " 66%|██████▌   | 139/210 [00:40<00:17,  3.95it/s]"
     ]
    },
    {
     "name": "stdout",
     "output_type": "stream",
     "text": [
      "torch.Size([1000, 2000])\n",
      "====> Epoch: 138 Training loss: 0.060187\n",
      "====> Epoch: 138 Test loss: 0.221333\n",
      "Readout Fidelity: % 91.50000214576721\n"
     ]
    },
    {
     "name": "stderr",
     "output_type": "stream",
     "text": [
      " 67%|██████▋   | 140/210 [00:40<00:19,  3.52it/s]"
     ]
    },
    {
     "name": "stdout",
     "output_type": "stream",
     "text": [
      "torch.Size([1000, 2000])\n",
      "====> Epoch: 139 Training loss: 0.060139\n",
      "====> Epoch: 139 Test loss: 0.222247\n",
      "Readout Fidelity: % 91.50000214576721\n"
     ]
    },
    {
     "name": "stderr",
     "output_type": "stream",
     "text": [
      " 67%|██████▋   | 141/210 [00:41<00:20,  3.29it/s]"
     ]
    },
    {
     "name": "stdout",
     "output_type": "stream",
     "text": [
      "torch.Size([1000, 2000])\n",
      "====> Epoch: 140 Training loss: 0.060080\n",
      "====> Epoch: 140 Test loss: 0.223230\n",
      "Readout Fidelity: % 91.50000214576721\n"
     ]
    },
    {
     "name": "stderr",
     "output_type": "stream",
     "text": [
      " 68%|██████▊   | 142/210 [00:41<00:20,  3.33it/s]"
     ]
    },
    {
     "name": "stdout",
     "output_type": "stream",
     "text": [
      "torch.Size([1000, 2000])\n",
      "====> Epoch: 141 Training loss: 0.060032\n",
      "====> Epoch: 141 Test loss: 0.224071\n",
      "Readout Fidelity: % 91.50000214576721\n"
     ]
    },
    {
     "name": "stderr",
     "output_type": "stream",
     "text": [
      " 68%|██████▊   | 143/210 [00:41<00:21,  3.17it/s]"
     ]
    },
    {
     "name": "stdout",
     "output_type": "stream",
     "text": [
      "torch.Size([1000, 2000])\n",
      "====> Epoch: 142 Training loss: 0.059981\n",
      "====> Epoch: 142 Test loss: 0.223693\n",
      "Readout Fidelity: % 91.50000214576721\n"
     ]
    },
    {
     "name": "stderr",
     "output_type": "stream",
     "text": [
      " 69%|██████▊   | 144/210 [00:42<00:20,  3.30it/s]"
     ]
    },
    {
     "name": "stdout",
     "output_type": "stream",
     "text": [
      "torch.Size([1000, 2000])\n",
      "====> Epoch: 143 Training loss: 0.059952\n",
      "====> Epoch: 143 Test loss: 0.223738\n",
      "Readout Fidelity: % 91.50000214576721\n"
     ]
    },
    {
     "name": "stderr",
     "output_type": "stream",
     "text": [
      " 69%|██████▉   | 145/210 [00:42<00:19,  3.31it/s]"
     ]
    },
    {
     "name": "stdout",
     "output_type": "stream",
     "text": [
      "torch.Size([1000, 2000])\n",
      "====> Epoch: 144 Training loss: 0.059917\n",
      "====> Epoch: 144 Test loss: 0.225197\n",
      "Readout Fidelity: % 91.50000214576721\n"
     ]
    },
    {
     "name": "stderr",
     "output_type": "stream",
     "text": [
      " 70%|██████▉   | 146/210 [00:42<00:18,  3.50it/s]"
     ]
    },
    {
     "name": "stdout",
     "output_type": "stream",
     "text": [
      "torch.Size([1000, 2000])\n",
      "====> Epoch: 145 Training loss: 0.059873\n",
      "====> Epoch: 145 Test loss: 0.226147\n",
      "Readout Fidelity: % 91.50000214576721\n"
     ]
    },
    {
     "name": "stderr",
     "output_type": "stream",
     "text": [
      " 70%|███████   | 147/210 [00:43<00:18,  3.35it/s]"
     ]
    },
    {
     "name": "stdout",
     "output_type": "stream",
     "text": [
      "torch.Size([1000, 2000])\n",
      "====> Epoch: 146 Training loss: 0.059823\n",
      "====> Epoch: 146 Test loss: 0.226752\n",
      "Readout Fidelity: % 91.50000214576721\n"
     ]
    },
    {
     "name": "stderr",
     "output_type": "stream",
     "text": [
      " 70%|███████   | 148/210 [00:43<00:19,  3.25it/s]"
     ]
    },
    {
     "name": "stdout",
     "output_type": "stream",
     "text": [
      "torch.Size([1000, 2000])\n",
      "====> Epoch: 147 Training loss: 0.059773\n",
      "====> Epoch: 147 Test loss: 0.226723\n",
      "Readout Fidelity: % 91.50000214576721\n"
     ]
    },
    {
     "name": "stderr",
     "output_type": "stream",
     "text": [
      " 71%|███████   | 149/210 [00:43<00:18,  3.24it/s]"
     ]
    },
    {
     "name": "stdout",
     "output_type": "stream",
     "text": [
      "torch.Size([1000, 2000])\n",
      "====> Epoch: 148 Training loss: 0.059731\n",
      "====> Epoch: 148 Test loss: 0.227142\n",
      "Readout Fidelity: % 91.50000214576721\n"
     ]
    },
    {
     "name": "stderr",
     "output_type": "stream",
     "text": [
      " 71%|███████▏  | 150/210 [00:43<00:17,  3.51it/s]"
     ]
    },
    {
     "name": "stdout",
     "output_type": "stream",
     "text": [
      "torch.Size([1000, 2000])\n",
      "====> Epoch: 149 Training loss: 0.059673\n",
      "====> Epoch: 149 Test loss: 0.227310\n",
      "Readout Fidelity: % 91.50000214576721\n"
     ]
    },
    {
     "name": "stderr",
     "output_type": "stream",
     "text": [
      " 72%|███████▏  | 151/210 [00:44<00:17,  3.43it/s]"
     ]
    },
    {
     "name": "stdout",
     "output_type": "stream",
     "text": [
      "torch.Size([1000, 2000])\n",
      "====> Epoch: 150 Training loss: 0.059634\n",
      "====> Epoch: 150 Test loss: 0.227800\n",
      "Readout Fidelity: % 91.50000214576721\n"
     ]
    },
    {
     "name": "stderr",
     "output_type": "stream",
     "text": [
      " 72%|███████▏  | 152/210 [00:44<00:20,  2.81it/s]"
     ]
    },
    {
     "name": "stdout",
     "output_type": "stream",
     "text": [
      "torch.Size([1000, 2000])\n",
      "====> Epoch: 151 Training loss: 0.059597\n",
      "====> Epoch: 151 Test loss: 0.228747\n",
      "Readout Fidelity: % 91.50000214576721\n"
     ]
    },
    {
     "name": "stderr",
     "output_type": "stream",
     "text": [
      " 73%|███████▎  | 153/210 [00:44<00:18,  3.17it/s]"
     ]
    },
    {
     "name": "stdout",
     "output_type": "stream",
     "text": [
      "torch.Size([1000, 2000])\n",
      "====> Epoch: 152 Training loss: 0.059560\n",
      "====> Epoch: 152 Test loss: 0.229749\n",
      "Readout Fidelity: % 91.50000214576721\n"
     ]
    },
    {
     "name": "stderr",
     "output_type": "stream",
     "text": [
      " 73%|███████▎  | 154/210 [00:45<00:17,  3.28it/s]"
     ]
    },
    {
     "name": "stdout",
     "output_type": "stream",
     "text": [
      "torch.Size([1000, 2000])\n",
      "====> Epoch: 153 Training loss: 0.059503\n",
      "====> Epoch: 153 Test loss: 0.229942\n",
      "Readout Fidelity: % 91.50000214576721\n"
     ]
    },
    {
     "name": "stderr",
     "output_type": "stream",
     "text": [
      " 74%|███████▍  | 155/210 [00:45<00:15,  3.57it/s]"
     ]
    },
    {
     "name": "stdout",
     "output_type": "stream",
     "text": [
      "torch.Size([1000, 2000])\n",
      "====> Epoch: 154 Training loss: 0.059457\n",
      "====> Epoch: 154 Test loss: 0.230788\n",
      "Readout Fidelity: % 91.50000214576721\n"
     ]
    },
    {
     "name": "stderr",
     "output_type": "stream",
     "text": [
      " 74%|███████▍  | 156/210 [00:45<00:14,  3.63it/s]"
     ]
    },
    {
     "name": "stdout",
     "output_type": "stream",
     "text": [
      "torch.Size([1000, 2000])\n",
      "====> Epoch: 155 Training loss: 0.059418\n",
      "====> Epoch: 155 Test loss: 0.231974\n",
      "Readout Fidelity: % 91.50000214576721\n"
     ]
    },
    {
     "name": "stderr",
     "output_type": "stream",
     "text": [
      " 75%|███████▍  | 157/210 [00:45<00:13,  3.84it/s]"
     ]
    },
    {
     "name": "stdout",
     "output_type": "stream",
     "text": [
      "torch.Size([1000, 2000])\n",
      "====> Epoch: 156 Training loss: 0.059380\n",
      "====> Epoch: 156 Test loss: 0.232308\n",
      "Readout Fidelity: % 91.50000214576721\n"
     ]
    },
    {
     "name": "stderr",
     "output_type": "stream",
     "text": [
      " 75%|███████▌  | 158/210 [00:46<00:13,  3.89it/s]"
     ]
    },
    {
     "name": "stdout",
     "output_type": "stream",
     "text": [
      "torch.Size([1000, 2000])\n",
      "====> Epoch: 157 Training loss: 0.059355\n",
      "====> Epoch: 157 Test loss: 0.231990\n",
      "Readout Fidelity: % 91.50000214576721\n"
     ]
    },
    {
     "name": "stderr",
     "output_type": "stream",
     "text": [
      " 76%|███████▌  | 159/210 [00:46<00:13,  3.76it/s]"
     ]
    },
    {
     "name": "stdout",
     "output_type": "stream",
     "text": [
      "torch.Size([1000, 2000])\n",
      "====> Epoch: 158 Training loss: 0.059328\n",
      "====> Epoch: 158 Test loss: 0.232545\n",
      "Readout Fidelity: % 91.39999747276306\n"
     ]
    },
    {
     "name": "stderr",
     "output_type": "stream",
     "text": [
      " 76%|███████▌  | 160/210 [00:46<00:12,  3.99it/s]"
     ]
    },
    {
     "name": "stdout",
     "output_type": "stream",
     "text": [
      "torch.Size([1000, 2000])\n",
      "====> Epoch: 159 Training loss: 0.059307\n",
      "====> Epoch: 159 Test loss: 0.232571\n",
      "Readout Fidelity: % 91.39999747276306\n"
     ]
    },
    {
     "name": "stderr",
     "output_type": "stream",
     "text": [
      " 77%|███████▋  | 161/210 [00:46<00:13,  3.74it/s]"
     ]
    },
    {
     "name": "stdout",
     "output_type": "stream",
     "text": [
      "torch.Size([1000, 2000])\n",
      "====> Epoch: 160 Training loss: 0.059252\n",
      "====> Epoch: 160 Test loss: 0.232467\n",
      "Readout Fidelity: % 91.39999747276306\n"
     ]
    },
    {
     "name": "stderr",
     "output_type": "stream",
     "text": [
      " 77%|███████▋  | 162/210 [00:47<00:12,  3.95it/s]"
     ]
    },
    {
     "name": "stdout",
     "output_type": "stream",
     "text": [
      "torch.Size([1000, 2000])\n",
      "====> Epoch: 161 Training loss: 0.059216\n",
      "====> Epoch: 161 Test loss: 0.233211\n",
      "Readout Fidelity: % 91.39999747276306\n"
     ]
    },
    {
     "name": "stderr",
     "output_type": "stream",
     "text": [
      " 78%|███████▊  | 163/210 [00:47<00:11,  4.04it/s]"
     ]
    },
    {
     "name": "stdout",
     "output_type": "stream",
     "text": [
      "torch.Size([1000, 2000])\n",
      "====> Epoch: 162 Training loss: 0.059197\n",
      "====> Epoch: 162 Test loss: 0.232526\n",
      "Readout Fidelity: % 91.39999747276306\n"
     ]
    },
    {
     "name": "stderr",
     "output_type": "stream",
     "text": [
      " 78%|███████▊  | 164/210 [00:47<00:14,  3.21it/s]"
     ]
    },
    {
     "name": "stdout",
     "output_type": "stream",
     "text": [
      "torch.Size([1000, 2000])\n",
      "====> Epoch: 163 Training loss: 0.059170\n",
      "====> Epoch: 163 Test loss: 0.232724\n",
      "Readout Fidelity: % 91.39999747276306\n"
     ]
    },
    {
     "name": "stderr",
     "output_type": "stream",
     "text": [
      " 79%|███████▊  | 165/210 [00:48<00:12,  3.46it/s]"
     ]
    },
    {
     "name": "stdout",
     "output_type": "stream",
     "text": [
      "torch.Size([1000, 2000])\n",
      "====> Epoch: 164 Training loss: 0.059144\n",
      "====> Epoch: 164 Test loss: 0.233437\n",
      "Readout Fidelity: % 91.39999747276306\n"
     ]
    },
    {
     "name": "stderr",
     "output_type": "stream",
     "text": [
      " 79%|███████▉  | 166/210 [00:48<00:13,  3.22it/s]"
     ]
    },
    {
     "name": "stdout",
     "output_type": "stream",
     "text": [
      "torch.Size([1000, 2000])\n",
      "====> Epoch: 165 Training loss: 0.059121\n",
      "====> Epoch: 165 Test loss: 0.234011\n",
      "Readout Fidelity: % 91.39999747276306\n"
     ]
    },
    {
     "name": "stderr",
     "output_type": "stream",
     "text": [
      " 80%|███████▉  | 167/210 [00:48<00:14,  3.04it/s]"
     ]
    },
    {
     "name": "stdout",
     "output_type": "stream",
     "text": [
      "torch.Size([1000, 2000])\n",
      "====> Epoch: 166 Training loss: 0.059100\n",
      "====> Epoch: 166 Test loss: 0.234402\n",
      "Readout Fidelity: % 91.39999747276306\n"
     ]
    },
    {
     "name": "stderr",
     "output_type": "stream",
     "text": [
      " 80%|████████  | 168/210 [00:49<00:13,  3.15it/s]"
     ]
    },
    {
     "name": "stdout",
     "output_type": "stream",
     "text": [
      "torch.Size([1000, 2000])\n",
      "====> Epoch: 167 Training loss: 0.059080\n",
      "====> Epoch: 167 Test loss: 0.234520\n",
      "Readout Fidelity: % 91.39999747276306\n"
     ]
    },
    {
     "name": "stderr",
     "output_type": "stream",
     "text": [
      " 80%|████████  | 169/210 [00:49<00:13,  2.97it/s]"
     ]
    },
    {
     "name": "stdout",
     "output_type": "stream",
     "text": [
      "torch.Size([1000, 2000])\n",
      "====> Epoch: 168 Training loss: 0.059063\n",
      "====> Epoch: 168 Test loss: 0.235443\n",
      "Readout Fidelity: % 91.39999747276306\n"
     ]
    },
    {
     "name": "stderr",
     "output_type": "stream",
     "text": [
      " 81%|████████  | 170/210 [00:49<00:12,  3.24it/s]"
     ]
    },
    {
     "name": "stdout",
     "output_type": "stream",
     "text": [
      "torch.Size([1000, 2000])\n",
      "====> Epoch: 169 Training loss: 0.059044\n",
      "====> Epoch: 169 Test loss: 0.236047\n",
      "Readout Fidelity: % 91.39999747276306\n"
     ]
    },
    {
     "name": "stderr",
     "output_type": "stream",
     "text": [
      " 81%|████████▏ | 171/210 [00:50<00:11,  3.26it/s]"
     ]
    },
    {
     "name": "stdout",
     "output_type": "stream",
     "text": [
      "torch.Size([1000, 2000])\n",
      "====> Epoch: 170 Training loss: 0.059029\n",
      "====> Epoch: 170 Test loss: 0.236197\n",
      "Readout Fidelity: % 91.39999747276306\n"
     ]
    },
    {
     "name": "stderr",
     "output_type": "stream",
     "text": [
      " 82%|████████▏ | 172/210 [00:50<00:10,  3.47it/s]"
     ]
    },
    {
     "name": "stdout",
     "output_type": "stream",
     "text": [
      "torch.Size([1000, 2000])\n",
      "====> Epoch: 171 Training loss: 0.059005\n",
      "====> Epoch: 171 Test loss: 0.235963\n",
      "Readout Fidelity: % 91.39999747276306\n"
     ]
    },
    {
     "name": "stderr",
     "output_type": "stream",
     "text": [
      " 82%|████████▏ | 173/210 [00:50<00:13,  2.72it/s]"
     ]
    },
    {
     "name": "stdout",
     "output_type": "stream",
     "text": [
      "torch.Size([1000, 2000])\n",
      "====> Epoch: 172 Training loss: 0.058994\n",
      "====> Epoch: 172 Test loss: 0.236722\n",
      "Readout Fidelity: % 91.39999747276306\n"
     ]
    },
    {
     "name": "stderr",
     "output_type": "stream",
     "text": [
      " 83%|████████▎ | 174/210 [00:51<00:13,  2.58it/s]"
     ]
    },
    {
     "name": "stdout",
     "output_type": "stream",
     "text": [
      "torch.Size([1000, 2000])\n",
      "====> Epoch: 173 Training loss: 0.058971\n",
      "====> Epoch: 173 Test loss: 0.237591\n",
      "Readout Fidelity: % 91.39999747276306\n"
     ]
    },
    {
     "name": "stderr",
     "output_type": "stream",
     "text": [
      " 83%|████████▎ | 175/210 [00:51<00:14,  2.34it/s]"
     ]
    },
    {
     "name": "stdout",
     "output_type": "stream",
     "text": [
      "torch.Size([1000, 2000])\n",
      "====> Epoch: 174 Training loss: 0.058959\n",
      "====> Epoch: 174 Test loss: 0.237625\n",
      "Readout Fidelity: % 91.39999747276306\n"
     ]
    },
    {
     "name": "stderr",
     "output_type": "stream",
     "text": [
      " 84%|████████▍ | 176/210 [00:52<00:12,  2.67it/s]"
     ]
    },
    {
     "name": "stdout",
     "output_type": "stream",
     "text": [
      "torch.Size([1000, 2000])\n",
      "====> Epoch: 175 Training loss: 0.058940\n",
      "====> Epoch: 175 Test loss: 0.238611\n",
      "Readout Fidelity: % 91.39999747276306\n"
     ]
    },
    {
     "name": "stderr",
     "output_type": "stream",
     "text": [
      " 84%|████████▍ | 177/210 [00:52<00:11,  3.00it/s]"
     ]
    },
    {
     "name": "stdout",
     "output_type": "stream",
     "text": [
      "torch.Size([1000, 2000])\n",
      "====> Epoch: 176 Training loss: 0.058928\n",
      "====> Epoch: 176 Test loss: 0.238976\n",
      "Readout Fidelity: % 91.39999747276306\n"
     ]
    },
    {
     "name": "stderr",
     "output_type": "stream",
     "text": [
      " 85%|████████▍ | 178/210 [00:52<00:10,  3.02it/s]"
     ]
    },
    {
     "name": "stdout",
     "output_type": "stream",
     "text": [
      "torch.Size([1000, 2000])\n",
      "====> Epoch: 177 Training loss: 0.058908\n",
      "====> Epoch: 177 Test loss: 0.239180\n",
      "Readout Fidelity: % 91.39999747276306\n"
     ]
    },
    {
     "name": "stderr",
     "output_type": "stream",
     "text": [
      " 85%|████████▌ | 179/210 [00:52<00:09,  3.31it/s]"
     ]
    },
    {
     "name": "stdout",
     "output_type": "stream",
     "text": [
      "torch.Size([1000, 2000])\n",
      "====> Epoch: 178 Training loss: 0.058891\n",
      "====> Epoch: 178 Test loss: 0.239589\n",
      "Readout Fidelity: % 91.29999876022339\n"
     ]
    },
    {
     "name": "stderr",
     "output_type": "stream",
     "text": [
      " 86%|████████▌ | 180/210 [00:53<00:09,  3.01it/s]"
     ]
    },
    {
     "name": "stdout",
     "output_type": "stream",
     "text": [
      "torch.Size([1000, 2000])\n",
      "====> Epoch: 179 Training loss: 0.058872\n",
      "====> Epoch: 179 Test loss: 0.240910\n",
      "Readout Fidelity: % 91.29999876022339\n"
     ]
    },
    {
     "name": "stderr",
     "output_type": "stream",
     "text": [
      " 86%|████████▌ | 181/210 [00:53<00:08,  3.29it/s]"
     ]
    },
    {
     "name": "stdout",
     "output_type": "stream",
     "text": [
      "torch.Size([1000, 2000])\n",
      "====> Epoch: 180 Training loss: 0.058852\n",
      "====> Epoch: 180 Test loss: 0.241502\n",
      "Readout Fidelity: % 91.29999876022339\n"
     ]
    },
    {
     "name": "stderr",
     "output_type": "stream",
     "text": [
      " 87%|████████▋ | 182/210 [00:53<00:08,  3.31it/s]"
     ]
    },
    {
     "name": "stdout",
     "output_type": "stream",
     "text": [
      "torch.Size([1000, 2000])\n",
      "====> Epoch: 181 Training loss: 0.058822\n",
      "====> Epoch: 181 Test loss: 0.240925\n",
      "Readout Fidelity: % 91.29999876022339\n"
     ]
    },
    {
     "name": "stderr",
     "output_type": "stream",
     "text": [
      " 87%|████████▋ | 183/210 [00:54<00:07,  3.58it/s]"
     ]
    },
    {
     "name": "stdout",
     "output_type": "stream",
     "text": [
      "torch.Size([1000, 2000])\n",
      "====> Epoch: 182 Training loss: 0.058794\n",
      "====> Epoch: 182 Test loss: 0.241644\n",
      "Readout Fidelity: % 91.29999876022339\n"
     ]
    },
    {
     "name": "stderr",
     "output_type": "stream",
     "text": [
      " 88%|████████▊ | 184/210 [00:54<00:06,  3.73it/s]"
     ]
    },
    {
     "name": "stdout",
     "output_type": "stream",
     "text": [
      "torch.Size([1000, 2000])\n",
      "====> Epoch: 183 Training loss: 0.058770\n",
      "====> Epoch: 183 Test loss: 0.242742\n",
      "Readout Fidelity: % 91.29999876022339\n"
     ]
    },
    {
     "name": "stderr",
     "output_type": "stream",
     "text": [
      " 88%|████████▊ | 185/210 [00:54<00:06,  3.66it/s]"
     ]
    },
    {
     "name": "stdout",
     "output_type": "stream",
     "text": [
      "torch.Size([1000, 2000])\n",
      "====> Epoch: 184 Training loss: 0.058731\n",
      "====> Epoch: 184 Test loss: 0.242045\n",
      "Readout Fidelity: % 91.20000004768372\n"
     ]
    },
    {
     "name": "stderr",
     "output_type": "stream",
     "text": [
      " 89%|████████▊ | 186/210 [00:54<00:06,  3.82it/s]"
     ]
    },
    {
     "name": "stdout",
     "output_type": "stream",
     "text": [
      "torch.Size([1000, 2000])\n",
      "====> Epoch: 185 Training loss: 0.058717\n",
      "====> Epoch: 185 Test loss: 0.243299\n",
      "Readout Fidelity: % 91.20000004768372\n"
     ]
    },
    {
     "name": "stderr",
     "output_type": "stream",
     "text": [
      " 89%|████████▉ | 187/210 [00:55<00:06,  3.69it/s]"
     ]
    },
    {
     "name": "stdout",
     "output_type": "stream",
     "text": [
      "torch.Size([1000, 2000])\n",
      "====> Epoch: 186 Training loss: 0.058686\n",
      "====> Epoch: 186 Test loss: 0.244192\n",
      "Readout Fidelity: % 91.20000004768372\n"
     ]
    },
    {
     "name": "stderr",
     "output_type": "stream",
     "text": [
      " 90%|████████▉ | 188/210 [00:55<00:05,  3.77it/s]"
     ]
    },
    {
     "name": "stdout",
     "output_type": "stream",
     "text": [
      "torch.Size([1000, 2000])\n",
      "====> Epoch: 187 Training loss: 0.058644\n",
      "====> Epoch: 187 Test loss: 0.244327\n",
      "Readout Fidelity: % 91.20000004768372\n"
     ]
    },
    {
     "name": "stderr",
     "output_type": "stream",
     "text": [
      " 90%|█████████ | 189/210 [00:55<00:05,  3.96it/s]"
     ]
    },
    {
     "name": "stdout",
     "output_type": "stream",
     "text": [
      "torch.Size([1000, 2000])\n",
      "====> Epoch: 188 Training loss: 0.058624\n",
      "====> Epoch: 188 Test loss: 0.244946\n",
      "Readout Fidelity: % 91.20000004768372\n"
     ]
    },
    {
     "name": "stderr",
     "output_type": "stream",
     "text": [
      " 90%|█████████ | 190/210 [00:55<00:05,  3.83it/s]"
     ]
    },
    {
     "name": "stdout",
     "output_type": "stream",
     "text": [
      "torch.Size([1000, 2000])\n",
      "====> Epoch: 189 Training loss: 0.058601\n",
      "====> Epoch: 189 Test loss: 0.244749\n",
      "Readout Fidelity: % 91.20000004768372\n"
     ]
    },
    {
     "name": "stderr",
     "output_type": "stream",
     "text": [
      " 91%|█████████ | 191/210 [00:56<00:04,  4.06it/s]"
     ]
    },
    {
     "name": "stdout",
     "output_type": "stream",
     "text": [
      "torch.Size([1000, 2000])\n",
      "====> Epoch: 190 Training loss: 0.058582\n",
      "====> Epoch: 190 Test loss: 0.245881\n",
      "Readout Fidelity: % 91.29999876022339\n"
     ]
    },
    {
     "name": "stderr",
     "output_type": "stream",
     "text": [
      " 91%|█████████▏| 192/210 [00:56<00:04,  3.87it/s]"
     ]
    },
    {
     "name": "stdout",
     "output_type": "stream",
     "text": [
      "torch.Size([1000, 2000])\n",
      "====> Epoch: 191 Training loss: 0.058567\n",
      "====> Epoch: 191 Test loss: 0.246759\n",
      "Readout Fidelity: % 91.20000004768372\n"
     ]
    },
    {
     "name": "stderr",
     "output_type": "stream",
     "text": [
      " 92%|█████████▏| 193/210 [00:56<00:04,  3.99it/s]"
     ]
    },
    {
     "name": "stdout",
     "output_type": "stream",
     "text": [
      "torch.Size([1000, 2000])\n",
      "====> Epoch: 192 Training loss: 0.058545\n",
      "====> Epoch: 192 Test loss: 0.246809\n",
      "Readout Fidelity: % 91.20000004768372\n"
     ]
    },
    {
     "name": "stderr",
     "output_type": "stream",
     "text": [
      " 92%|█████████▏| 194/210 [00:56<00:04,  3.76it/s]"
     ]
    },
    {
     "name": "stdout",
     "output_type": "stream",
     "text": [
      "torch.Size([1000, 2000])\n",
      "====> Epoch: 193 Training loss: 0.058534\n",
      "====> Epoch: 193 Test loss: 0.246818\n",
      "Readout Fidelity: % 91.20000004768372\n"
     ]
    },
    {
     "name": "stderr",
     "output_type": "stream",
     "text": [
      " 93%|█████████▎| 195/210 [00:57<00:03,  3.94it/s]"
     ]
    },
    {
     "name": "stdout",
     "output_type": "stream",
     "text": [
      "torch.Size([1000, 2000])\n",
      "====> Epoch: 194 Training loss: 0.058519\n",
      "====> Epoch: 194 Test loss: 0.247188\n",
      "Readout Fidelity: % 91.20000004768372\n"
     ]
    },
    {
     "name": "stderr",
     "output_type": "stream",
     "text": [
      " 93%|█████████▎| 196/210 [00:57<00:03,  4.03it/s]"
     ]
    },
    {
     "name": "stdout",
     "output_type": "stream",
     "text": [
      "torch.Size([1000, 2000])\n",
      "====> Epoch: 195 Training loss: 0.058505\n",
      "====> Epoch: 195 Test loss: 0.248020\n",
      "Readout Fidelity: % 91.20000004768372\n"
     ]
    },
    {
     "name": "stderr",
     "output_type": "stream",
     "text": [
      " 94%|█████████▍| 197/210 [00:57<00:03,  3.47it/s]"
     ]
    },
    {
     "name": "stdout",
     "output_type": "stream",
     "text": [
      "torch.Size([1000, 2000])\n",
      "====> Epoch: 196 Training loss: 0.058489\n",
      "====> Epoch: 196 Test loss: 0.248502\n",
      "Readout Fidelity: % 91.10000133514404\n"
     ]
    },
    {
     "name": "stderr",
     "output_type": "stream",
     "text": [
      " 94%|█████████▍| 198/210 [00:58<00:03,  3.43it/s]"
     ]
    },
    {
     "name": "stdout",
     "output_type": "stream",
     "text": [
      "torch.Size([1000, 2000])\n",
      "====> Epoch: 197 Training loss: 0.058473\n",
      "====> Epoch: 197 Test loss: 0.248989\n",
      "Readout Fidelity: % 91.20000004768372\n"
     ]
    },
    {
     "name": "stderr",
     "output_type": "stream",
     "text": [
      " 95%|█████████▍| 199/210 [00:58<00:03,  3.12it/s]"
     ]
    },
    {
     "name": "stdout",
     "output_type": "stream",
     "text": [
      "torch.Size([1000, 2000])\n",
      "====> Epoch: 198 Training loss: 0.058462\n",
      "====> Epoch: 198 Test loss: 0.248098\n",
      "Readout Fidelity: % 91.20000004768372\n"
     ]
    },
    {
     "name": "stderr",
     "output_type": "stream",
     "text": [
      " 95%|█████████▌| 200/210 [00:58<00:03,  3.19it/s]"
     ]
    },
    {
     "name": "stdout",
     "output_type": "stream",
     "text": [
      "torch.Size([1000, 2000])\n",
      "====> Epoch: 199 Training loss: 0.058449\n",
      "====> Epoch: 199 Test loss: 0.248715\n",
      "Readout Fidelity: % 91.20000004768372\n"
     ]
    },
    {
     "name": "stderr",
     "output_type": "stream",
     "text": [
      " 96%|█████████▌| 201/210 [00:58<00:02,  3.29it/s]"
     ]
    },
    {
     "name": "stdout",
     "output_type": "stream",
     "text": [
      "torch.Size([1000, 2000])\n",
      "====> Epoch: 200 Training loss: 0.058420\n",
      "====> Epoch: 200 Test loss: 0.250055\n",
      "Readout Fidelity: % 91.10000133514404\n"
     ]
    },
    {
     "name": "stderr",
     "output_type": "stream",
     "text": [
      " 96%|█████████▌| 202/210 [00:59<00:02,  3.59it/s]"
     ]
    },
    {
     "name": "stdout",
     "output_type": "stream",
     "text": [
      "torch.Size([1000, 2000])\n",
      "====> Epoch: 201 Training loss: 0.058395\n",
      "====> Epoch: 201 Test loss: 0.249974\n",
      "Readout Fidelity: % 91.00000262260437\n"
     ]
    },
    {
     "name": "stderr",
     "output_type": "stream",
     "text": [
      " 97%|█████████▋| 203/210 [00:59<00:01,  3.82it/s]"
     ]
    },
    {
     "name": "stdout",
     "output_type": "stream",
     "text": [
      "torch.Size([1000, 2000])\n",
      "====> Epoch: 202 Training loss: 0.058376\n",
      "====> Epoch: 202 Test loss: 0.249433\n",
      "Readout Fidelity: % 91.00000262260437\n"
     ]
    },
    {
     "name": "stderr",
     "output_type": "stream",
     "text": [
      " 97%|█████████▋| 204/210 [00:59<00:01,  3.71it/s]"
     ]
    },
    {
     "name": "stdout",
     "output_type": "stream",
     "text": [
      "torch.Size([1000, 2000])\n",
      "====> Epoch: 203 Training loss: 0.058352\n",
      "====> Epoch: 203 Test loss: 0.249601\n",
      "Readout Fidelity: % 91.00000262260437\n"
     ]
    },
    {
     "name": "stderr",
     "output_type": "stream",
     "text": [
      " 98%|█████████▊| 205/210 [00:59<00:01,  3.88it/s]"
     ]
    },
    {
     "name": "stdout",
     "output_type": "stream",
     "text": [
      "torch.Size([1000, 2000])\n",
      "====> Epoch: 204 Training loss: 0.058334\n",
      "====> Epoch: 204 Test loss: 0.251656\n",
      "Readout Fidelity: % 91.00000262260437\n"
     ]
    },
    {
     "name": "stderr",
     "output_type": "stream",
     "text": [
      " 98%|█████████▊| 206/210 [01:00<00:01,  3.52it/s]"
     ]
    },
    {
     "name": "stdout",
     "output_type": "stream",
     "text": [
      "torch.Size([1000, 2000])\n",
      "====> Epoch: 205 Training loss: 0.058292\n",
      "====> Epoch: 205 Test loss: 0.252590\n",
      "Readout Fidelity: % 91.00000262260437\n"
     ]
    },
    {
     "name": "stderr",
     "output_type": "stream",
     "text": [
      " 99%|█████████▊| 207/210 [01:00<00:00,  3.73it/s]"
     ]
    },
    {
     "name": "stdout",
     "output_type": "stream",
     "text": [
      "torch.Size([1000, 2000])\n",
      "====> Epoch: 206 Training loss: 0.058245\n",
      "====> Epoch: 206 Test loss: 0.252566\n",
      "Readout Fidelity: % 91.00000262260437\n"
     ]
    },
    {
     "name": "stderr",
     "output_type": "stream",
     "text": [
      " 99%|█████████▉| 208/210 [01:00<00:00,  3.85it/s]"
     ]
    },
    {
     "name": "stdout",
     "output_type": "stream",
     "text": [
      "torch.Size([1000, 2000])\n",
      "====> Epoch: 207 Training loss: 0.058208\n",
      "====> Epoch: 207 Test loss: 0.252980\n",
      "Readout Fidelity: % 91.00000262260437\n"
     ]
    },
    {
     "name": "stderr",
     "output_type": "stream",
     "text": [
      "100%|█████████▉| 209/210 [01:01<00:00,  3.01it/s]"
     ]
    },
    {
     "name": "stdout",
     "output_type": "stream",
     "text": [
      "torch.Size([1000, 2000])\n",
      "====> Epoch: 208 Training loss: 0.058177\n",
      "====> Epoch: 208 Test loss: 0.253342\n",
      "Readout Fidelity: % 91.00000262260437\n"
     ]
    },
    {
     "name": "stderr",
     "output_type": "stream",
     "text": [
      "100%|██████████| 210/210 [01:01<00:00,  3.41it/s]"
     ]
    },
    {
     "name": "stdout",
     "output_type": "stream",
     "text": [
      "torch.Size([1000, 2000])\n",
      "====> Epoch: 209 Training loss: 0.058148\n",
      "====> Epoch: 209 Test loss: 0.253251\n",
      "Readout Fidelity: % 91.00000262260437\n"
     ]
    },
    {
     "name": "stderr",
     "output_type": "stream",
     "text": [
      "\n"
     ]
    }
   ],
   "source": [
    "# Training loop\n",
    "for epoch in tqdm(range(epochs)):\n",
    "    \n",
    "    train_loss = 0\n",
    "    model.train() \n",
    "    \n",
    "    for data, labels in train_loader:\n",
    "        optimizer.zero_grad()\n",
    "        data, labels = data.to(device), labels.to(device)\n",
    "        states = model(data)\n",
    "        loss = criterion(states, labels.long())\n",
    "        loss.backward()\n",
    "        train_loss += loss.detach().cpu().numpy()\n",
    "        optimizer.step()\n",
    "        \n",
    "    train_loss_track = np.append(train_loss_track,np.asarray(train_loss))\n",
    "        \n",
    "    test_loss = 0    \n",
    "    model.eval()\n",
    "    with torch.no_grad():\n",
    "        for data, labels in test_loader:\n",
    "            data, labels = data.to(device), labels.to(device)\n",
    "            print(data.shape)\n",
    "            states = model(data)\n",
    "            loss = criterion(states, labels.long())\n",
    "            test_loss += loss.detach().cpu().numpy()\n",
    "    \n",
    "    test_loss_track = np.append(test_loss_track,np.asarray(test_loss))\n",
    "    \n",
    "    if epoch % plot_interval == 0:\n",
    "        print('====> Epoch: {} Training loss: {:.6f}'.format(\n",
    "                  epoch, train_loss ))\n",
    "        print('====> Epoch: {} Test loss: {:.6f}'.format(\n",
    "                  epoch, test_loss ))\n",
    "\n",
    "        p1, p2 = 0, 800\n",
    "\n",
    "    # Readout Fidelity\n",
    "    model.eval() \n",
    "    cc = 0\n",
    "    y_true = torch.tensor([]).to(device)\n",
    "    y_pred = torch.tensor([]).to(device)\n",
    "    \n",
    "    with torch.no_grad():\n",
    "        for data, target in test_loader:\n",
    "            \n",
    "            data=data.to(device)\n",
    "            states = model(data)\n",
    "            target = target.to(device) \n",
    "    \n",
    "            val, ind = torch.max(states,1)\n",
    "            y_pred = torch.cat((y_pred, ind), 0)\n",
    "            y_true = torch.cat((y_true, target), 0)\n",
    "    \n",
    "    acc = y_true-y_pred\n",
    "    accuracy = (len(y_true)-torch.count_nonzero(acc))/len(y_true)\n",
    "    accuracy = accuracy.item()\n",
    "    \n",
    "    acc_track = np.append(acc_track,np.asarray(accuracy))\n",
    "    print('Readout Fidelity: %', accuracy*100)\n"
   ]
  },
  {
   "cell_type": "code",
   "execution_count": 9,
   "metadata": {},
   "outputs": [],
   "source": [
    "torch.save(model.state_dict(), f\"checkpoints/{framework}_ckp.pth\")"
   ]
  },
  {
   "cell_type": "code",
   "execution_count": 10,
   "metadata": {},
   "outputs": [
    {
     "name": "stdout",
     "output_type": "stream",
     "text": [
      "Exporting model...\n",
      "Optimizing...\n",
      "Model saved to: checkpoints/hawq.onnx\n"
     ]
    },
    {
     "name": "stderr",
     "output_type": "stream",
     "text": [
      "WARNING: The shape inference of hawq2qonnx::Quant type is missing, so it may result in wrong shape inference for the exported graph. Please consider adding it in symbolic function.\n",
      "WARNING: The shape inference of hawq2qonnx::Quant type is missing, so it may result in wrong shape inference for the exported graph. Please consider adding it in symbolic function.\n",
      "WARNING: The shape inference of hawq2qonnx::Quant type is missing, so it may result in wrong shape inference for the exported graph. Please consider adding it in symbolic function.\n",
      "WARNING: The shape inference of hawq2qonnx::Quant type is missing, so it may result in wrong shape inference for the exported graph. Please consider adding it in symbolic function.\n",
      "WARNING: The shape inference of hawq2qonnx::Quant type is missing, so it may result in wrong shape inference for the exported graph. Please consider adding it in symbolic function.\n",
      "WARNING: The shape inference of hawq2qonnx::Quant type is missing, so it may result in wrong shape inference for the exported graph. Please consider adding it in symbolic function.\n",
      "WARNING: The shape inference of hawq2qonnx::Quant type is missing, so it may result in wrong shape inference for the exported graph. Please consider adding it in symbolic function.\n",
      "WARNING: The shape inference of hawq2qonnx::Quant type is missing, so it may result in wrong shape inference for the exported graph. Please consider adding it in symbolic function.\n",
      "WARNING: The shape inference of hawq2qonnx::Quant type is missing, so it may result in wrong shape inference for the exported graph. Please consider adding it in symbolic function.\n",
      "WARNING: The shape inference of hawq2qonnx::Quant type is missing, so it may result in wrong shape inference for the exported graph. Please consider adding it in symbolic function.\n",
      "WARNING: The shape inference of hawq2qonnx::Quant type is missing, so it may result in wrong shape inference for the exported graph. Please consider adding it in symbolic function.\n",
      "WARNING: The shape inference of hawq2qonnx::Quant type is missing, so it may result in wrong shape inference for the exported graph. Please consider adding it in symbolic function.\n"
     ]
    }
   ],
   "source": [
    "if framework.lower() == \"hawq\":\n",
    "    manager = ExportManager(model)\n",
    "    manager.export(torch.randn(1, 2000), \"checkpoints/hawq.onnx\")\n",
    "elif framework.lower() == \"brevitas\":\n",
    "    QONNXManager.export(model, input_shape=(1, 2000), export_path='checkpoints/brevitas.onnx')"
   ]
  },
  {
   "cell_type": "code",
   "execution_count": null,
   "metadata": {},
   "outputs": [],
   "source": []
  }
 ],
 "metadata": {
  "kernelspec": {
   "display_name": "ml4qick-env",
   "language": "python",
   "name": "python3"
  },
  "language_info": {
   "codemirror_mode": {
    "name": "ipython",
    "version": 3
   },
   "file_extension": ".py",
   "mimetype": "text/x-python",
   "name": "python",
   "nbconvert_exporter": "python",
   "pygments_lexer": "ipython3",
   "version": "3.7.13"
  },
  "orig_nbformat": 4,
  "vscode": {
   "interpreter": {
    "hash": "54947842758e5629d500c24687aef700009f6c3edb7195d8c0332db2d73e3c8c"
   }
  }
 },
 "nbformat": 4,
 "nbformat_minor": 2
}
