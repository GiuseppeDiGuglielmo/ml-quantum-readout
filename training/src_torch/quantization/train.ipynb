{
 "cells": [
  {
   "cell_type": "code",
   "execution_count": 1,
   "metadata": {},
   "outputs": [
    {
     "name": "stderr",
     "output_type": "stream",
     "text": [
      "/home/jcampos/miniforge3/envs/ml4qick-env/lib/python3.7/site-packages/tqdm/auto.py:22: TqdmWarning: IProgress not found. Please update jupyter and ipywidgets. See https://ipywidgets.readthedocs.io/en/stable/user_install.html\n",
      "  from .autonotebook import tqdm as notebook_tqdm\n"
     ]
    }
   ],
   "source": [
    "from __future__ import print_function \n",
    "import h5py \n",
    "import numpy as np \n",
    "from tqdm import tqdm \n",
    "\n",
    "import torch.utils.data \n",
    "from torch import nn, optim \n",
    "from torchinfo import summary "
   ]
  },
  {
   "cell_type": "code",
   "execution_count": 2,
   "metadata": {},
   "outputs": [],
   "source": [
    "from base_model import TinyClassifier \n",
    "from hawq_model import HawqTinyClassifier \n",
    "from brevitas_model import BrevitasTinyClassifier "
   ]
  },
  {
   "cell_type": "code",
   "execution_count": 3,
   "metadata": {},
   "outputs": [],
   "source": [
    "from brevitas.export.onnx.qonnx.manager import QONNXManager\n",
    "from hawq.utils.export import ExportManager"
   ]
  },
  {
   "attachments": {},
   "cell_type": "markdown",
   "metadata": {},
   "source": [
    "### Setup QAT training parameters"
   ]
  },
  {
   "cell_type": "code",
   "execution_count": 9,
   "metadata": {},
   "outputs": [],
   "source": [
    "framework = \"hawq\"  # options: hawq/brevitas\n",
    "\n",
    "# Hyper-Parameters\n",
    "torch.manual_seed(4)\n",
    "epochs = 100\n",
    "train = 9000#data.shape[0]*0.99\n",
    "batch_size = 12800\n",
    "learning_rate = 1e-4\n",
    "\n",
    "device = 'cuda' if torch.cuda.is_available() else 'cpu'\n",
    "kwargs = {'num_workers':0, 'pin_memory': True} \n",
    "plot_interval = 1"
   ]
  },
  {
   "cell_type": "code",
   "execution_count": 10,
   "metadata": {},
   "outputs": [],
   "source": [
    "if framework.lower() == \"hawq\":\n",
    "    base_model = TinyClassifier()\n",
    "    # base_model.load_state_dict(torch.load(\"../../checkpoints/checkpoint_tiny_affine.pth\"))\n",
    "    model = HawqTinyClassifier(base_model)\n",
    "elif framework.lower() == \"brevitas\":\n",
    "    model = BrevitasTinyClassifier()"
   ]
  },
  {
   "cell_type": "code",
   "execution_count": 11,
   "metadata": {},
   "outputs": [],
   "source": [
    "# Load the raw data\n",
    "IF = -136.75/1e3\n",
    "with h5py.File(r'../../../datasets/qubits/00002_IQ_plot_raw.h5', 'r') as f:\n",
    "    adc_g_1 = np.array(f['adc_g_1'])[0]\n",
    "    adc_g_2 = np.array(f['adc_g_2'])[0]\n",
    "    adc_e_1 = np.array(f['adc_e_1'])[0]\n",
    "    adc_e_2 = np.array(f['adc_e_2'])[0]\n",
    "\n",
    "\"\"\" Select the range of time series data. Each data is 2000 element vector \n",
    "representing 2000ns readout signal\"\"\"\n",
    "csr = range(500,1500)\n",
    "sr = len(csr)\n",
    "\n",
    "I_g = adc_g_1[:,csr]\n",
    "Q_g = adc_g_2[:,csr] \n",
    "I_e = adc_e_1[:,csr] \n",
    "Q_e = adc_e_2[:,csr] \n",
    "\n",
    "# Dataset Creation\n",
    "data = np.zeros((adc_g_1.shape[0]*2,sr,2))\n",
    "data[0:adc_g_1.shape[0],:,0] = I_g\n",
    "data[0:adc_g_1.shape[0],:,1] = Q_g\n",
    "data[adc_g_1.shape[0]:adc_g_1.shape[0]*2,:,0] = I_e\n",
    "data[adc_g_1.shape[0]:adc_g_1.shape[0]*2,:,1] = Q_e\n",
    "\n",
    "labels = np.zeros(I_e.shape[0]*2)\n",
    "labels[I_e.shape[0]:I_e.shape[0]*2] = 1\n",
    "\n",
    "data = torch.from_numpy(data).float()\n",
    "labels = torch.from_numpy(labels).float()\n",
    "\n",
    "class Qubit_Readout_Dataset():\n",
    "    \n",
    "    def __init__(self):\n",
    "        self.data = data\n",
    "        self.labels = labels    \n",
    "        self.data = self.data.reshape(len(data),sr*2)\n",
    "       \n",
    "    def __len__(self):\n",
    "        return self.labels.shape[0]\n",
    "\n",
    "    def __getitem__(self, idx):\n",
    "        return self.data[idx], self.labels[idx]\n",
    "\n",
    "\n",
    "# Dataloader Prep\n",
    "test = len(data)-train\n",
    "\n",
    "dataset = Qubit_Readout_Dataset()\n",
    "train_data, test_data = torch.utils.data.random_split(dataset, [int(train), int(test)])\n",
    "\n",
    "num_workers = 0\n",
    "train_loader = torch.utils.data.DataLoader(train_data, batch_size = batch_size, \n",
    "                                            num_workers = num_workers, shuffle=True)\n",
    "test_loader = torch.utils.data.DataLoader(test_data, batch_size = batch_size, \n",
    "                                            num_workers = num_workers, shuffle=True)\n"
   ]
  },
  {
   "cell_type": "code",
   "execution_count": 12,
   "metadata": {},
   "outputs": [],
   "source": [
    "criterion = nn.CrossEntropyLoss()\n",
    "optimizer = optim.Adam(model.parameters(), lr = learning_rate)\n",
    "\n",
    "# Loss tracks\n",
    "train_loss_track=np.array([])\n",
    "test_loss_track=np.array([])\n",
    "acc_track=np.array([])"
   ]
  },
  {
   "cell_type": "code",
   "execution_count": 13,
   "metadata": {},
   "outputs": [
    {
     "name": "stderr",
     "output_type": "stream",
     "text": [
      "  1%|          | 1/100 [00:00<00:19,  5.21it/s]"
     ]
    },
    {
     "name": "stdout",
     "output_type": "stream",
     "text": [
      "torch.Size([1000, 2000])\n",
      "====> Epoch: 0 Training loss: 0.693147\n",
      "====> Epoch: 0 Test loss: 0.786075\n",
      "Readout Fidelity: % 50.599998235702515\n"
     ]
    },
    {
     "name": "stderr",
     "output_type": "stream",
     "text": [
      "  2%|▏         | 2/100 [00:00<00:21,  4.53it/s]"
     ]
    },
    {
     "name": "stdout",
     "output_type": "stream",
     "text": [
      "torch.Size([1000, 2000])\n",
      "====> Epoch: 1 Training loss: 0.693075\n",
      "====> Epoch: 1 Test loss: 0.758394\n",
      "Readout Fidelity: % 51.20000243186951\n",
      "torch.Size([1000, 2000])\n",
      "====> Epoch: 2 Training loss: 0.693566\n",
      "====> Epoch: 2 Test loss: 0.721135\n"
     ]
    },
    {
     "name": "stderr",
     "output_type": "stream",
     "text": [
      "  4%|▍         | 4/100 [00:00<00:18,  5.08it/s]"
     ]
    },
    {
     "name": "stdout",
     "output_type": "stream",
     "text": [
      "Readout Fidelity: % 51.20000243186951\n",
      "torch.Size([1000, 2000])\n",
      "====> Epoch: 3 Training loss: 0.692677\n",
      "====> Epoch: 3 Test loss: 0.717862\n",
      "Readout Fidelity: % 51.099997758865356\n"
     ]
    },
    {
     "name": "stderr",
     "output_type": "stream",
     "text": [
      "  6%|▌         | 6/100 [00:01<00:18,  5.02it/s]"
     ]
    },
    {
     "name": "stdout",
     "output_type": "stream",
     "text": [
      "torch.Size([1000, 2000])\n",
      "====> Epoch: 4 Training loss: 0.691816\n",
      "====> Epoch: 4 Test loss: 0.713026\n",
      "Readout Fidelity: % 51.20000243186951\n",
      "torch.Size([1000, 2000])\n",
      "====> Epoch: 5 Training loss: 0.692606\n",
      "====> Epoch: 5 Test loss: 0.708284\n",
      "Readout Fidelity: % 51.39999985694885\n"
     ]
    },
    {
     "name": "stderr",
     "output_type": "stream",
     "text": [
      "  7%|▋         | 7/100 [00:01<00:19,  4.69it/s]"
     ]
    },
    {
     "name": "stdout",
     "output_type": "stream",
     "text": [
      "torch.Size([1000, 2000])\n",
      "====> Epoch: 6 Training loss: 0.691720\n",
      "====> Epoch: 6 Test loss: 0.697002\n",
      "Readout Fidelity: % 51.499998569488525\n",
      "torch.Size([1000, 2000])\n",
      "====> Epoch: 7 Training loss: 0.690439\n",
      "====> Epoch: 7 Test loss: 0.696179\n"
     ]
    },
    {
     "name": "stderr",
     "output_type": "stream",
     "text": [
      "  8%|▊         | 8/100 [00:01<00:19,  4.84it/s]"
     ]
    },
    {
     "name": "stdout",
     "output_type": "stream",
     "text": [
      "Readout Fidelity: % 51.5999972820282\n"
     ]
    },
    {
     "name": "stderr",
     "output_type": "stream",
     "text": [
      "  9%|▉         | 9/100 [00:01<00:19,  4.59it/s]"
     ]
    },
    {
     "name": "stdout",
     "output_type": "stream",
     "text": [
      "torch.Size([1000, 2000])\n",
      "====> Epoch: 8 Training loss: 0.690334\n",
      "====> Epoch: 8 Test loss: 0.695806\n",
      "Readout Fidelity: % 51.5999972820282\n",
      "torch.Size([1000, 2000])\n",
      "====> Epoch: 9 Training loss: 0.689602\n",
      "====> Epoch: 9 Test loss: 0.686927\n"
     ]
    },
    {
     "name": "stderr",
     "output_type": "stream",
     "text": [
      " 11%|█         | 11/100 [00:02<00:17,  4.96it/s]"
     ]
    },
    {
     "name": "stdout",
     "output_type": "stream",
     "text": [
      "Readout Fidelity: % 52.399998903274536\n",
      "torch.Size([1000, 2000])\n",
      "====> Epoch: 10 Training loss: 0.688047\n",
      "====> Epoch: 10 Test loss: 0.683300\n",
      "Readout Fidelity: % 52.30000019073486\n"
     ]
    },
    {
     "name": "stderr",
     "output_type": "stream",
     "text": [
      " 12%|█▏        | 12/100 [00:02<00:18,  4.67it/s]"
     ]
    },
    {
     "name": "stdout",
     "output_type": "stream",
     "text": [
      "torch.Size([1000, 2000])\n",
      "====> Epoch: 11 Training loss: 0.686064\n",
      "====> Epoch: 11 Test loss: 0.682751\n",
      "Readout Fidelity: % 53.200000524520874\n",
      "torch.Size([1000, 2000])\n",
      "====> Epoch: 12 Training loss: 0.684200\n",
      "====> Epoch: 12 Test loss: 0.678329\n"
     ]
    },
    {
     "name": "stderr",
     "output_type": "stream",
     "text": [
      " 13%|█▎        | 13/100 [00:02<00:18,  4.82it/s]"
     ]
    },
    {
     "name": "stdout",
     "output_type": "stream",
     "text": [
      "Readout Fidelity: % 53.1000018119812\n"
     ]
    },
    {
     "name": "stderr",
     "output_type": "stream",
     "text": [
      " 14%|█▍        | 14/100 [00:02<00:18,  4.64it/s]"
     ]
    },
    {
     "name": "stdout",
     "output_type": "stream",
     "text": [
      "torch.Size([1000, 2000])\n",
      "====> Epoch: 13 Training loss: 0.684312\n",
      "====> Epoch: 13 Test loss: 0.670483\n",
      "Readout Fidelity: % 54.19999957084656\n",
      "torch.Size([1000, 2000])\n",
      "====> Epoch: 14 Training loss: 0.682672\n",
      "====> Epoch: 14 Test loss: 0.666486\n"
     ]
    },
    {
     "name": "stderr",
     "output_type": "stream",
     "text": [
      " 15%|█▌        | 15/100 [00:03<00:17,  4.83it/s]"
     ]
    },
    {
     "name": "stdout",
     "output_type": "stream",
     "text": [
      "Readout Fidelity: % 54.500001668930054\n",
      "torch.Size([1000, 2000])\n",
      "====> Epoch: 15 Training loss: 0.679000\n",
      "====> Epoch: 15 Test loss: 0.661972\n"
     ]
    },
    {
     "name": "stderr",
     "output_type": "stream",
     "text": [
      " 17%|█▋        | 17/100 [00:03<00:17,  4.81it/s]"
     ]
    },
    {
     "name": "stdout",
     "output_type": "stream",
     "text": [
      "Readout Fidelity: % 54.90000247955322\n",
      "torch.Size([1000, 2000])\n",
      "====> Epoch: 16 Training loss: 0.677140\n",
      "====> Epoch: 16 Test loss: 0.664092\n",
      "Readout Fidelity: % 55.59999942779541\n"
     ]
    },
    {
     "name": "stderr",
     "output_type": "stream",
     "text": [
      " 18%|█▊        | 18/100 [00:03<00:16,  4.95it/s]"
     ]
    },
    {
     "name": "stdout",
     "output_type": "stream",
     "text": [
      "torch.Size([1000, 2000])\n",
      "====> Epoch: 17 Training loss: 0.675673\n",
      "====> Epoch: 17 Test loss: 0.658145\n",
      "Readout Fidelity: % 56.00000023841858\n"
     ]
    },
    {
     "name": "stderr",
     "output_type": "stream",
     "text": [
      " 19%|█▉        | 19/100 [00:03<00:17,  4.72it/s]"
     ]
    },
    {
     "name": "stdout",
     "output_type": "stream",
     "text": [
      "torch.Size([1000, 2000])\n",
      "====> Epoch: 18 Training loss: 0.675451\n",
      "====> Epoch: 18 Test loss: 0.650819\n",
      "Readout Fidelity: % 56.90000057220459\n",
      "torch.Size([1000, 2000])\n",
      "====> Epoch: 19 Training loss: 0.673156\n",
      "====> Epoch: 19 Test loss: 0.647348\n"
     ]
    },
    {
     "name": "stderr",
     "output_type": "stream",
     "text": [
      " 20%|██        | 20/100 [00:04<00:16,  4.89it/s]"
     ]
    },
    {
     "name": "stdout",
     "output_type": "stream",
     "text": [
      "Readout Fidelity: % 56.99999928474426\n"
     ]
    },
    {
     "name": "stderr",
     "output_type": "stream",
     "text": [
      " 21%|██        | 21/100 [00:04<00:16,  4.66it/s]"
     ]
    },
    {
     "name": "stdout",
     "output_type": "stream",
     "text": [
      "torch.Size([1000, 2000])\n",
      "====> Epoch: 20 Training loss: 0.670364\n",
      "====> Epoch: 20 Test loss: 0.652934\n",
      "Readout Fidelity: % 57.200002670288086\n",
      "torch.Size([1000, 2000])\n",
      "====> Epoch: 21 Training loss: 0.666726\n",
      "====> Epoch: 21 Test loss: 0.649388\n"
     ]
    },
    {
     "name": "stderr",
     "output_type": "stream",
     "text": [
      " 23%|██▎       | 23/100 [00:04<00:15,  4.94it/s]"
     ]
    },
    {
     "name": "stdout",
     "output_type": "stream",
     "text": [
      "Readout Fidelity: % 58.49999785423279\n",
      "torch.Size([1000, 2000])\n",
      "====> Epoch: 22 Training loss: 0.664705\n",
      "====> Epoch: 22 Test loss: 0.643638\n",
      "Readout Fidelity: % 59.700000286102295\n"
     ]
    },
    {
     "name": "stderr",
     "output_type": "stream",
     "text": [
      " 24%|██▍       | 24/100 [00:05<00:16,  4.72it/s]"
     ]
    },
    {
     "name": "stdout",
     "output_type": "stream",
     "text": [
      "torch.Size([1000, 2000])\n",
      "====> Epoch: 23 Training loss: 0.659802\n",
      "====> Epoch: 23 Test loss: 0.632839\n",
      "Readout Fidelity: % 60.100001096725464\n",
      "torch.Size([1000, 2000])\n",
      "====> Epoch: 24 Training loss: 0.655866\n",
      "====> Epoch: 24 Test loss: 0.631387\n"
     ]
    },
    {
     "name": "stderr",
     "output_type": "stream",
     "text": [
      " 25%|██▌       | 25/100 [00:05<00:15,  4.88it/s]"
     ]
    },
    {
     "name": "stdout",
     "output_type": "stream",
     "text": [
      "Readout Fidelity: % 60.50000190734863\n"
     ]
    },
    {
     "name": "stderr",
     "output_type": "stream",
     "text": [
      " 26%|██▌       | 26/100 [00:05<00:15,  4.63it/s]"
     ]
    },
    {
     "name": "stdout",
     "output_type": "stream",
     "text": [
      "torch.Size([1000, 2000])\n",
      "====> Epoch: 25 Training loss: 0.650889\n",
      "====> Epoch: 25 Test loss: 0.623159\n",
      "Readout Fidelity: % 62.199997901916504\n",
      "torch.Size([1000, 2000])\n",
      "====> Epoch: 26 Training loss: 0.646404\n",
      "====> Epoch: 26 Test loss: 0.628787\n"
     ]
    },
    {
     "name": "stderr",
     "output_type": "stream",
     "text": [
      " 27%|██▋       | 27/100 [00:05<00:15,  4.78it/s]"
     ]
    },
    {
     "name": "stdout",
     "output_type": "stream",
     "text": [
      "Readout Fidelity: % 61.900001764297485\n"
     ]
    },
    {
     "name": "stderr",
     "output_type": "stream",
     "text": [
      " 28%|██▊       | 28/100 [00:05<00:15,  4.54it/s]"
     ]
    },
    {
     "name": "stdout",
     "output_type": "stream",
     "text": [
      "torch.Size([1000, 2000])\n",
      "====> Epoch: 27 Training loss: 0.642336\n",
      "====> Epoch: 27 Test loss: 0.624748\n",
      "Readout Fidelity: % 62.40000128746033\n",
      "torch.Size([1000, 2000])\n",
      "====> Epoch: 28 Training loss: 0.639443\n",
      "====> Epoch: 28 Test loss: 0.610805\n"
     ]
    },
    {
     "name": "stderr",
     "output_type": "stream",
     "text": [
      " 30%|███       | 30/100 [00:06<00:14,  4.87it/s]"
     ]
    },
    {
     "name": "stdout",
     "output_type": "stream",
     "text": [
      "Readout Fidelity: % 63.89999985694885\n",
      "torch.Size([1000, 2000])\n",
      "====> Epoch: 29 Training loss: 0.635496\n",
      "====> Epoch: 29 Test loss: 0.612657\n",
      "Readout Fidelity: % 64.3999993801117\n"
     ]
    },
    {
     "name": "stderr",
     "output_type": "stream",
     "text": [
      " 31%|███       | 31/100 [00:06<00:14,  4.60it/s]"
     ]
    },
    {
     "name": "stdout",
     "output_type": "stream",
     "text": [
      "torch.Size([1000, 2000])\n",
      "====> Epoch: 30 Training loss: 0.630490\n",
      "====> Epoch: 30 Test loss: 0.613406\n",
      "Readout Fidelity: % 65.79999923706055\n",
      "torch.Size([1000, 2000])\n",
      "====> Epoch: 31 Training loss: 0.624767\n",
      "====> Epoch: 31 Test loss: 0.610681\n"
     ]
    },
    {
     "name": "stderr",
     "output_type": "stream",
     "text": [
      " 32%|███▏      | 32/100 [00:06<00:14,  4.75it/s]"
     ]
    },
    {
     "name": "stdout",
     "output_type": "stream",
     "text": [
      "Readout Fidelity: % 65.49999713897705\n"
     ]
    },
    {
     "name": "stderr",
     "output_type": "stream",
     "text": [
      " 33%|███▎      | 33/100 [00:06<00:14,  4.51it/s]"
     ]
    },
    {
     "name": "stdout",
     "output_type": "stream",
     "text": [
      "torch.Size([1000, 2000])\n",
      "====> Epoch: 32 Training loss: 0.620217\n",
      "====> Epoch: 32 Test loss: 0.602844\n",
      "Readout Fidelity: % 66.50000214576721\n",
      "torch.Size([1000, 2000])\n",
      "====> Epoch: 33 Training loss: 0.615964\n",
      "====> Epoch: 33 Test loss: 0.608792\n"
     ]
    },
    {
     "name": "stderr",
     "output_type": "stream",
     "text": [
      " 34%|███▍      | 34/100 [00:07<00:13,  4.74it/s]"
     ]
    },
    {
     "name": "stdout",
     "output_type": "stream",
     "text": [
      "Readout Fidelity: % 67.00000166893005\n"
     ]
    },
    {
     "name": "stderr",
     "output_type": "stream",
     "text": [
      " 35%|███▌      | 35/100 [00:07<00:14,  4.53it/s]"
     ]
    },
    {
     "name": "stdout",
     "output_type": "stream",
     "text": [
      "torch.Size([1000, 2000])\n",
      "====> Epoch: 34 Training loss: 0.609395\n",
      "====> Epoch: 34 Test loss: 0.617131\n",
      "Readout Fidelity: % 67.1999990940094\n"
     ]
    },
    {
     "name": "stderr",
     "output_type": "stream",
     "text": [
      " 36%|███▌      | 36/100 [00:07<00:14,  4.46it/s]"
     ]
    },
    {
     "name": "stdout",
     "output_type": "stream",
     "text": [
      "torch.Size([1000, 2000])\n",
      "====> Epoch: 35 Training loss: 0.604919\n",
      "====> Epoch: 35 Test loss: 0.613537\n",
      "Readout Fidelity: % 67.69999861717224\n",
      "torch.Size([1000, 2000])\n",
      "====> Epoch: 36 Training loss: 0.603254\n",
      "====> Epoch: 36 Test loss: 0.614490\n"
     ]
    },
    {
     "name": "stderr",
     "output_type": "stream",
     "text": [
      " 37%|███▋      | 37/100 [00:07<00:13,  4.68it/s]"
     ]
    },
    {
     "name": "stdout",
     "output_type": "stream",
     "text": [
      "Readout Fidelity: % 67.69999861717224\n"
     ]
    },
    {
     "name": "stderr",
     "output_type": "stream",
     "text": [
      " 38%|███▊      | 38/100 [00:08<00:13,  4.51it/s]"
     ]
    },
    {
     "name": "stdout",
     "output_type": "stream",
     "text": [
      "torch.Size([1000, 2000])\n",
      "====> Epoch: 37 Training loss: 0.594692\n",
      "====> Epoch: 37 Test loss: 0.621835\n",
      "Readout Fidelity: % 67.5000011920929\n",
      "torch.Size([1000, 2000])\n",
      "====> Epoch: 38 Training loss: 0.590340\n",
      "====> Epoch: 38 Test loss: 0.609625\n"
     ]
    },
    {
     "name": "stderr",
     "output_type": "stream",
     "text": [
      " 39%|███▉      | 39/100 [00:08<00:12,  4.72it/s]"
     ]
    },
    {
     "name": "stdout",
     "output_type": "stream",
     "text": [
      "Readout Fidelity: % 68.00000071525574\n"
     ]
    },
    {
     "name": "stderr",
     "output_type": "stream",
     "text": [
      " 40%|████      | 40/100 [00:08<00:13,  4.46it/s]"
     ]
    },
    {
     "name": "stdout",
     "output_type": "stream",
     "text": [
      "torch.Size([1000, 2000])\n",
      "====> Epoch: 39 Training loss: 0.586290\n",
      "====> Epoch: 39 Test loss: 0.623161\n",
      "Readout Fidelity: % 68.00000071525574\n",
      "torch.Size([1000, 2000])\n",
      "====> Epoch: 40 Training loss: 0.583956\n",
      "====> Epoch: 40 Test loss: 0.626856\n"
     ]
    },
    {
     "name": "stderr",
     "output_type": "stream",
     "text": [
      " 42%|████▏     | 42/100 [00:08<00:11,  4.84it/s]"
     ]
    },
    {
     "name": "stdout",
     "output_type": "stream",
     "text": [
      "Readout Fidelity: % 68.4000015258789\n",
      "torch.Size([1000, 2000])\n",
      "====> Epoch: 41 Training loss: 0.575143\n",
      "====> Epoch: 41 Test loss: 0.617529\n",
      "Readout Fidelity: % 68.99999976158142\n"
     ]
    },
    {
     "name": "stderr",
     "output_type": "stream",
     "text": [
      " 43%|████▎     | 43/100 [00:09<00:12,  4.63it/s]"
     ]
    },
    {
     "name": "stdout",
     "output_type": "stream",
     "text": [
      "torch.Size([1000, 2000])\n",
      "====> Epoch: 42 Training loss: 0.572458\n",
      "====> Epoch: 42 Test loss: 0.622727\n",
      "Readout Fidelity: % 68.69999766349792\n",
      "torch.Size([1000, 2000])\n",
      "====> Epoch: 43 Training loss: 0.567638\n",
      "====> Epoch: 43 Test loss: 0.607966\n"
     ]
    },
    {
     "name": "stderr",
     "output_type": "stream",
     "text": [
      " 44%|████▍     | 44/100 [00:09<00:11,  4.77it/s]"
     ]
    },
    {
     "name": "stdout",
     "output_type": "stream",
     "text": [
      "Readout Fidelity: % 69.0999984741211\n"
     ]
    },
    {
     "name": "stderr",
     "output_type": "stream",
     "text": [
      " 45%|████▌     | 45/100 [00:09<00:12,  4.56it/s]"
     ]
    },
    {
     "name": "stdout",
     "output_type": "stream",
     "text": [
      "torch.Size([1000, 2000])\n",
      "====> Epoch: 44 Training loss: 0.564447\n",
      "====> Epoch: 44 Test loss: 0.617284\n",
      "Readout Fidelity: % 69.40000057220459\n",
      "torch.Size([1000, 2000])\n"
     ]
    },
    {
     "name": "stderr",
     "output_type": "stream",
     "text": [
      " 46%|████▌     | 46/100 [00:09<00:11,  4.70it/s]"
     ]
    },
    {
     "name": "stdout",
     "output_type": "stream",
     "text": [
      "====> Epoch: 45 Training loss: 0.564424\n",
      "====> Epoch: 45 Test loss: 0.621460\n",
      "Readout Fidelity: % 68.90000104904175\n"
     ]
    },
    {
     "name": "stderr",
     "output_type": "stream",
     "text": [
      " 47%|████▋     | 47/100 [00:09<00:11,  4.49it/s]"
     ]
    },
    {
     "name": "stdout",
     "output_type": "stream",
     "text": [
      "torch.Size([1000, 2000])\n",
      "====> Epoch: 46 Training loss: 0.557580\n",
      "====> Epoch: 46 Test loss: 0.615825\n",
      "Readout Fidelity: % 69.30000185966492\n",
      "torch.Size([1000, 2000])\n",
      "====> Epoch: 47 Training loss: 0.551972\n",
      "====> Epoch: 47 Test loss: 0.611431\n"
     ]
    },
    {
     "name": "stderr",
     "output_type": "stream",
     "text": [
      " 49%|████▉     | 49/100 [00:10<00:10,  4.83it/s]"
     ]
    },
    {
     "name": "stdout",
     "output_type": "stream",
     "text": [
      "Readout Fidelity: % 69.70000267028809\n",
      "torch.Size([1000, 2000])\n",
      "====> Epoch: 48 Training loss: 0.548431\n",
      "====> Epoch: 48 Test loss: 0.615599\n",
      "Readout Fidelity: % 70.3000009059906\n"
     ]
    },
    {
     "name": "stderr",
     "output_type": "stream",
     "text": [
      " 51%|█████     | 51/100 [00:10<00:10,  4.82it/s]"
     ]
    },
    {
     "name": "stdout",
     "output_type": "stream",
     "text": [
      "torch.Size([1000, 2000])\n",
      "====> Epoch: 49 Training loss: 0.548829\n",
      "====> Epoch: 49 Test loss: 0.617353\n",
      "Readout Fidelity: % 70.09999752044678\n",
      "torch.Size([1000, 2000])\n",
      "====> Epoch: 50 Training loss: 0.546483\n",
      "====> Epoch: 50 Test loss: 0.620916\n",
      "Readout Fidelity: % 70.20000219345093\n"
     ]
    },
    {
     "name": "stderr",
     "output_type": "stream",
     "text": [
      " 52%|█████▏    | 52/100 [00:11<00:10,  4.55it/s]"
     ]
    },
    {
     "name": "stdout",
     "output_type": "stream",
     "text": [
      "torch.Size([1000, 2000])\n",
      "====> Epoch: 51 Training loss: 0.545075\n",
      "====> Epoch: 51 Test loss: 0.605044\n",
      "Readout Fidelity: % 70.20000219345093\n",
      "torch.Size([1000, 2000])\n",
      "====> Epoch: 52 Training loss: 0.541948\n",
      "====> Epoch: 52 Test loss: 0.600252\n"
     ]
    },
    {
     "name": "stderr",
     "output_type": "stream",
     "text": [
      " 53%|█████▎    | 53/100 [00:11<00:09,  4.73it/s]"
     ]
    },
    {
     "name": "stdout",
     "output_type": "stream",
     "text": [
      "Readout Fidelity: % 70.59999704360962\n"
     ]
    },
    {
     "name": "stderr",
     "output_type": "stream",
     "text": [
      " 54%|█████▍    | 54/100 [00:11<00:10,  4.54it/s]"
     ]
    },
    {
     "name": "stdout",
     "output_type": "stream",
     "text": [
      "torch.Size([1000, 2000])\n",
      "====> Epoch: 53 Training loss: 0.532577\n",
      "====> Epoch: 53 Test loss: 0.604166\n",
      "Readout Fidelity: % 71.29999995231628\n",
      "torch.Size([1000, 2000])\n"
     ]
    },
    {
     "name": "stderr",
     "output_type": "stream",
     "text": [
      " 55%|█████▌    | 55/100 [00:11<00:09,  4.70it/s]"
     ]
    },
    {
     "name": "stdout",
     "output_type": "stream",
     "text": [
      "====> Epoch: 54 Training loss: 0.528924\n",
      "====> Epoch: 54 Test loss: 0.605084\n",
      "Readout Fidelity: % 70.70000171661377\n",
      "torch.Size([1000, 2000])\n",
      "====> Epoch: 55 Training loss: 0.524742\n",
      "====> Epoch: 55 Test loss: 0.596527\n"
     ]
    },
    {
     "name": "stderr",
     "output_type": "stream",
     "text": [
      " 56%|█████▌    | 56/100 [00:11<00:09,  4.82it/s]"
     ]
    },
    {
     "name": "stdout",
     "output_type": "stream",
     "text": [
      "Readout Fidelity: % 71.20000123977661\n"
     ]
    },
    {
     "name": "stderr",
     "output_type": "stream",
     "text": [
      " 57%|█████▋    | 57/100 [00:12<00:09,  4.60it/s]"
     ]
    },
    {
     "name": "stdout",
     "output_type": "stream",
     "text": [
      "torch.Size([1000, 2000])\n",
      "====> Epoch: 56 Training loss: 0.519231\n",
      "====> Epoch: 56 Test loss: 0.600195\n",
      "Readout Fidelity: % 70.99999785423279\n",
      "torch.Size([1000, 2000])\n",
      "====> Epoch: 57 Training loss: 0.518727\n",
      "====> Epoch: 57 Test loss: 0.597944\n"
     ]
    },
    {
     "name": "stderr",
     "output_type": "stream",
     "text": [
      " 58%|█████▊    | 58/100 [00:12<00:08,  4.79it/s]"
     ]
    },
    {
     "name": "stdout",
     "output_type": "stream",
     "text": [
      "Readout Fidelity: % 71.39999866485596\n"
     ]
    },
    {
     "name": "stderr",
     "output_type": "stream",
     "text": [
      " 59%|█████▉    | 59/100 [00:12<00:09,  4.54it/s]"
     ]
    },
    {
     "name": "stdout",
     "output_type": "stream",
     "text": [
      "torch.Size([1000, 2000])\n",
      "====> Epoch: 58 Training loss: 0.515642\n",
      "====> Epoch: 58 Test loss: 0.594377\n",
      "Readout Fidelity: % 71.20000123977661\n",
      "torch.Size([1000, 2000])\n"
     ]
    },
    {
     "name": "stderr",
     "output_type": "stream",
     "text": [
      " 60%|██████    | 60/100 [00:12<00:08,  4.69it/s]"
     ]
    },
    {
     "name": "stdout",
     "output_type": "stream",
     "text": [
      "====> Epoch: 59 Training loss: 0.514705\n",
      "====> Epoch: 59 Test loss: 0.589449\n",
      "Readout Fidelity: % 71.29999995231628\n",
      "torch.Size([1000, 2000])\n",
      "====> Epoch: 60 Training loss: 0.510471\n",
      "====> Epoch: 60 Test loss: 0.590097\n"
     ]
    },
    {
     "name": "stderr",
     "output_type": "stream",
     "text": [
      " 62%|██████▏   | 62/100 [00:13<00:08,  4.68it/s]"
     ]
    },
    {
     "name": "stdout",
     "output_type": "stream",
     "text": [
      "Readout Fidelity: % 71.39999866485596\n",
      "torch.Size([1000, 2000])\n",
      "====> Epoch: 61 Training loss: 0.511862\n",
      "====> Epoch: 61 Test loss: 0.583693\n",
      "Readout Fidelity: % 70.99999785423279\n"
     ]
    },
    {
     "name": "stderr",
     "output_type": "stream",
     "text": [
      " 63%|██████▎   | 63/100 [00:13<00:07,  4.82it/s]"
     ]
    },
    {
     "name": "stdout",
     "output_type": "stream",
     "text": [
      "torch.Size([1000, 2000])\n",
      "====> Epoch: 62 Training loss: 0.509804\n",
      "====> Epoch: 62 Test loss: 0.588588\n",
      "Readout Fidelity: % 70.80000042915344\n"
     ]
    },
    {
     "name": "stderr",
     "output_type": "stream",
     "text": [
      " 64%|██████▍   | 64/100 [00:13<00:07,  4.58it/s]"
     ]
    },
    {
     "name": "stdout",
     "output_type": "stream",
     "text": [
      "torch.Size([1000, 2000])\n",
      "====> Epoch: 63 Training loss: 0.510533\n",
      "====> Epoch: 63 Test loss: 0.597982\n",
      "Readout Fidelity: % 70.59999704360962\n",
      "torch.Size([1000, 2000])\n",
      "====> Epoch: 64 Training loss: 0.504520\n",
      "====> Epoch: 64 Test loss: 0.599955\n"
     ]
    },
    {
     "name": "stderr",
     "output_type": "stream",
     "text": [
      " 65%|██████▌   | 65/100 [00:13<00:07,  4.73it/s]"
     ]
    },
    {
     "name": "stdout",
     "output_type": "stream",
     "text": [
      "Readout Fidelity: % 71.60000205039978\n"
     ]
    },
    {
     "name": "stderr",
     "output_type": "stream",
     "text": [
      " 66%|██████▌   | 66/100 [00:14<00:07,  4.50it/s]"
     ]
    },
    {
     "name": "stdout",
     "output_type": "stream",
     "text": [
      "torch.Size([1000, 2000])\n",
      "====> Epoch: 65 Training loss: 0.506691\n",
      "====> Epoch: 65 Test loss: 0.595754\n",
      "Readout Fidelity: % 71.39999866485596\n",
      "torch.Size([1000, 2000])\n",
      "====> Epoch: 66 Training loss: 0.503329\n",
      "====> Epoch: 66 Test loss: 0.592337\n"
     ]
    },
    {
     "name": "stderr",
     "output_type": "stream",
     "text": [
      " 68%|██████▊   | 68/100 [00:14<00:06,  4.83it/s]"
     ]
    },
    {
     "name": "stdout",
     "output_type": "stream",
     "text": [
      "Readout Fidelity: % 71.29999995231628\n",
      "torch.Size([1000, 2000])\n",
      "====> Epoch: 67 Training loss: 0.497278\n",
      "====> Epoch: 67 Test loss: 0.595782\n",
      "Readout Fidelity: % 70.59999704360962\n"
     ]
    },
    {
     "name": "stderr",
     "output_type": "stream",
     "text": [
      " 69%|██████▉   | 69/100 [00:14<00:06,  4.59it/s]"
     ]
    },
    {
     "name": "stdout",
     "output_type": "stream",
     "text": [
      "torch.Size([1000, 2000])\n",
      "====> Epoch: 68 Training loss: 0.500188\n",
      "====> Epoch: 68 Test loss: 0.607505\n",
      "Readout Fidelity: % 71.60000205039978\n",
      "torch.Size([1000, 2000])\n"
     ]
    },
    {
     "name": "stderr",
     "output_type": "stream",
     "text": [
      " 70%|███████   | 70/100 [00:14<00:06,  4.70it/s]"
     ]
    },
    {
     "name": "stdout",
     "output_type": "stream",
     "text": [
      "====> Epoch: 69 Training loss: 0.502008\n",
      "====> Epoch: 69 Test loss: 0.596718\n",
      "Readout Fidelity: % 71.39999866485596\n"
     ]
    },
    {
     "name": "stderr",
     "output_type": "stream",
     "text": [
      " 71%|███████   | 71/100 [00:15<00:06,  4.49it/s]"
     ]
    },
    {
     "name": "stdout",
     "output_type": "stream",
     "text": [
      "torch.Size([1000, 2000])\n",
      "====> Epoch: 70 Training loss: 0.503621\n",
      "====> Epoch: 70 Test loss: 0.592096\n",
      "Readout Fidelity: % 71.20000123977661\n",
      "torch.Size([1000, 2000])\n"
     ]
    },
    {
     "name": "stderr",
     "output_type": "stream",
     "text": [
      " 72%|███████▏  | 72/100 [00:15<00:06,  4.63it/s]"
     ]
    },
    {
     "name": "stdout",
     "output_type": "stream",
     "text": [
      "====> Epoch: 71 Training loss: 0.506085\n",
      "====> Epoch: 71 Test loss: 0.597515\n",
      "Readout Fidelity: % 71.39999866485596\n"
     ]
    },
    {
     "name": "stderr",
     "output_type": "stream",
     "text": [
      " 73%|███████▎  | 73/100 [00:15<00:06,  4.44it/s]"
     ]
    },
    {
     "name": "stdout",
     "output_type": "stream",
     "text": [
      "torch.Size([1000, 2000])\n",
      "====> Epoch: 72 Training loss: 0.504987\n",
      "====> Epoch: 72 Test loss: 0.617229\n",
      "Readout Fidelity: % 70.89999914169312\n",
      "torch.Size([1000, 2000])\n",
      "====> Epoch: 73 Training loss: 0.498659\n",
      "====> Epoch: 73 Test loss: 0.592201\n"
     ]
    },
    {
     "name": "stderr",
     "output_type": "stream",
     "text": [
      " 75%|███████▌  | 75/100 [00:15<00:05,  4.78it/s]"
     ]
    },
    {
     "name": "stdout",
     "output_type": "stream",
     "text": [
      "Readout Fidelity: % 70.59999704360962\n",
      "torch.Size([1000, 2000])\n",
      "====> Epoch: 74 Training loss: 0.491950\n",
      "====> Epoch: 74 Test loss: 0.591008\n",
      "Readout Fidelity: % 71.79999947547913\n"
     ]
    },
    {
     "name": "stderr",
     "output_type": "stream",
     "text": [
      " 76%|███████▌  | 76/100 [00:16<00:05,  4.54it/s]"
     ]
    },
    {
     "name": "stdout",
     "output_type": "stream",
     "text": [
      "torch.Size([1000, 2000])\n",
      "====> Epoch: 75 Training loss: 0.488398\n",
      "====> Epoch: 75 Test loss: 0.598566\n",
      "Readout Fidelity: % 72.00000286102295\n",
      "torch.Size([1000, 2000])\n",
      "====> Epoch: 76 Training loss: 0.484758\n",
      "====> Epoch: 76 Test loss: 0.599707\n"
     ]
    },
    {
     "name": "stderr",
     "output_type": "stream",
     "text": [
      " 77%|███████▋  | 77/100 [00:16<00:04,  4.74it/s]"
     ]
    },
    {
     "name": "stdout",
     "output_type": "stream",
     "text": [
      "Readout Fidelity: % 72.60000109672546\n"
     ]
    },
    {
     "name": "stderr",
     "output_type": "stream",
     "text": [
      " 79%|███████▉  | 79/100 [00:16<00:04,  4.77it/s]"
     ]
    },
    {
     "name": "stdout",
     "output_type": "stream",
     "text": [
      "torch.Size([1000, 2000])\n",
      "====> Epoch: 77 Training loss: 0.479408\n",
      "====> Epoch: 77 Test loss: 0.588624\n",
      "Readout Fidelity: % 72.2000002861023\n",
      "torch.Size([1000, 2000])\n",
      "====> Epoch: 78 Training loss: 0.476448\n",
      "====> Epoch: 78 Test loss: 0.603593\n",
      "Readout Fidelity: % 72.00000286102295\n"
     ]
    },
    {
     "name": "stderr",
     "output_type": "stream",
     "text": [
      " 80%|████████  | 80/100 [00:17<00:04,  4.57it/s]"
     ]
    },
    {
     "name": "stdout",
     "output_type": "stream",
     "text": [
      "torch.Size([1000, 2000])\n",
      "====> Epoch: 79 Training loss: 0.475086\n",
      "====> Epoch: 79 Test loss: 0.604122\n",
      "Readout Fidelity: % 70.99999785423279\n",
      "torch.Size([1000, 2000])\n",
      "====> Epoch: 80 Training loss: 0.476076\n",
      "====> Epoch: 80 Test loss: 0.603094\n"
     ]
    },
    {
     "name": "stderr",
     "output_type": "stream",
     "text": [
      " 82%|████████▏ | 82/100 [00:17<00:03,  4.82it/s]"
     ]
    },
    {
     "name": "stdout",
     "output_type": "stream",
     "text": [
      "Readout Fidelity: % 69.90000009536743\n",
      "torch.Size([1000, 2000])\n",
      "====> Epoch: 81 Training loss: 0.479656\n",
      "====> Epoch: 81 Test loss: 0.576955\n",
      "Readout Fidelity: % 70.3000009059906\n"
     ]
    },
    {
     "name": "stderr",
     "output_type": "stream",
     "text": [
      " 83%|████████▎ | 83/100 [00:17<00:03,  4.56it/s]"
     ]
    },
    {
     "name": "stdout",
     "output_type": "stream",
     "text": [
      "torch.Size([1000, 2000])\n",
      "====> Epoch: 82 Training loss: 0.474433\n",
      "====> Epoch: 82 Test loss: 0.599745\n",
      "Readout Fidelity: % 70.49999833106995\n",
      "torch.Size([1000, 2000])\n",
      "====> Epoch: 83 Training loss: 0.472044\n",
      "====> Epoch: 83 Test loss: 0.601784\n"
     ]
    },
    {
     "name": "stderr",
     "output_type": "stream",
     "text": [
      " 84%|████████▍ | 84/100 [00:17<00:03,  4.74it/s]"
     ]
    },
    {
     "name": "stdout",
     "output_type": "stream",
     "text": [
      "Readout Fidelity: % 69.49999928474426\n"
     ]
    },
    {
     "name": "stderr",
     "output_type": "stream",
     "text": [
      " 85%|████████▌ | 85/100 [00:18<00:03,  4.55it/s]"
     ]
    },
    {
     "name": "stdout",
     "output_type": "stream",
     "text": [
      "torch.Size([1000, 2000])\n",
      "====> Epoch: 84 Training loss: 0.472583\n",
      "====> Epoch: 84 Test loss: 0.602270\n",
      "Readout Fidelity: % 70.59999704360962\n",
      "torch.Size([1000, 2000])\n",
      "====> Epoch: 85 Training loss: 0.473469\n",
      "====> Epoch: 85 Test loss: 0.595614\n"
     ]
    },
    {
     "name": "stderr",
     "output_type": "stream",
     "text": [
      " 87%|████████▋ | 87/100 [00:18<00:02,  4.85it/s]"
     ]
    },
    {
     "name": "stdout",
     "output_type": "stream",
     "text": [
      "Readout Fidelity: % 70.09999752044678\n",
      "torch.Size([1000, 2000])\n",
      "====> Epoch: 86 Training loss: 0.466836\n",
      "====> Epoch: 86 Test loss: 0.608186\n",
      "Readout Fidelity: % 70.49999833106995\n"
     ]
    },
    {
     "name": "stderr",
     "output_type": "stream",
     "text": [
      " 88%|████████▊ | 88/100 [00:18<00:02,  4.60it/s]"
     ]
    },
    {
     "name": "stdout",
     "output_type": "stream",
     "text": [
      "torch.Size([1000, 2000])\n",
      "====> Epoch: 87 Training loss: 0.460413\n",
      "====> Epoch: 87 Test loss: 0.618493\n",
      "Readout Fidelity: % 70.3000009059906\n",
      "torch.Size([1000, 2000])\n",
      "====> Epoch: 88 Training loss: 0.458652\n",
      "====> Epoch: 88 Test loss: 0.601627\n"
     ]
    },
    {
     "name": "stderr",
     "output_type": "stream",
     "text": [
      " 89%|████████▉ | 89/100 [00:18<00:02,  4.77it/s]"
     ]
    },
    {
     "name": "stdout",
     "output_type": "stream",
     "text": [
      "Readout Fidelity: % 71.49999737739563\n"
     ]
    },
    {
     "name": "stderr",
     "output_type": "stream",
     "text": [
      " 90%|█████████ | 90/100 [00:19<00:02,  4.57it/s]"
     ]
    },
    {
     "name": "stdout",
     "output_type": "stream",
     "text": [
      "torch.Size([1000, 2000])\n",
      "====> Epoch: 89 Training loss: 0.450966\n",
      "====> Epoch: 89 Test loss: 0.594449\n",
      "Readout Fidelity: % 71.49999737739563\n",
      "torch.Size([1000, 2000])\n",
      "====> Epoch: 90 Training loss: 0.450296\n",
      "====> Epoch: 90 Test loss: 0.606179\n"
     ]
    },
    {
     "name": "stderr",
     "output_type": "stream",
     "text": [
      " 91%|█████████ | 91/100 [00:19<00:01,  4.74it/s]"
     ]
    },
    {
     "name": "stdout",
     "output_type": "stream",
     "text": [
      "Readout Fidelity: % 71.20000123977661\n"
     ]
    },
    {
     "name": "stderr",
     "output_type": "stream",
     "text": [
      " 92%|█████████▏| 92/100 [00:19<00:01,  4.54it/s]"
     ]
    },
    {
     "name": "stdout",
     "output_type": "stream",
     "text": [
      "torch.Size([1000, 2000])\n",
      "====> Epoch: 91 Training loss: 0.450508\n",
      "====> Epoch: 91 Test loss: 0.607974\n",
      "Readout Fidelity: % 72.69999980926514\n",
      "torch.Size([1000, 2000])\n",
      "====> Epoch: 92 Training loss: 0.438752\n",
      "====> Epoch: 92 Test loss: 0.618964\n"
     ]
    },
    {
     "name": "stderr",
     "output_type": "stream",
     "text": [
      " 94%|█████████▍| 94/100 [00:20<00:01,  4.89it/s]"
     ]
    },
    {
     "name": "stdout",
     "output_type": "stream",
     "text": [
      "Readout Fidelity: % 72.29999899864197\n",
      "torch.Size([1000, 2000])\n",
      "====> Epoch: 93 Training loss: 0.437869\n",
      "====> Epoch: 93 Test loss: 0.610165\n",
      "Readout Fidelity: % 72.00000286102295\n"
     ]
    },
    {
     "name": "stderr",
     "output_type": "stream",
     "text": [
      " 95%|█████████▌| 95/100 [00:20<00:01,  4.68it/s]"
     ]
    },
    {
     "name": "stdout",
     "output_type": "stream",
     "text": [
      "torch.Size([1000, 2000])\n",
      "====> Epoch: 94 Training loss: 0.438353\n",
      "====> Epoch: 94 Test loss: 0.619009\n",
      "Readout Fidelity: % 71.10000252723694\n",
      "torch.Size([1000, 2000])\n"
     ]
    },
    {
     "name": "stderr",
     "output_type": "stream",
     "text": [
      " 96%|█████████▌| 96/100 [00:20<00:00,  4.78it/s]"
     ]
    },
    {
     "name": "stdout",
     "output_type": "stream",
     "text": [
      "====> Epoch: 95 Training loss: 0.433903\n",
      "====> Epoch: 95 Test loss: 0.614676\n",
      "Readout Fidelity: % 70.99999785423279\n"
     ]
    },
    {
     "name": "stderr",
     "output_type": "stream",
     "text": [
      " 97%|█████████▋| 97/100 [00:20<00:00,  4.56it/s]"
     ]
    },
    {
     "name": "stdout",
     "output_type": "stream",
     "text": [
      "torch.Size([1000, 2000])\n",
      "====> Epoch: 96 Training loss: 0.428104\n",
      "====> Epoch: 96 Test loss: 0.602814\n",
      "Readout Fidelity: % 70.99999785423279\n",
      "torch.Size([1000, 2000])\n",
      "====> Epoch: 97 Training loss: 0.425982\n",
      "====> Epoch: 97 Test loss: 0.607206\n"
     ]
    },
    {
     "name": "stderr",
     "output_type": "stream",
     "text": [
      " 98%|█████████▊| 98/100 [00:20<00:00,  4.77it/s]"
     ]
    },
    {
     "name": "stdout",
     "output_type": "stream",
     "text": [
      "Readout Fidelity: % 70.89999914169312\n"
     ]
    },
    {
     "name": "stderr",
     "output_type": "stream",
     "text": [
      " 99%|█████████▉| 99/100 [00:21<00:00,  4.56it/s]"
     ]
    },
    {
     "name": "stdout",
     "output_type": "stream",
     "text": [
      "torch.Size([1000, 2000])\n",
      "====> Epoch: 98 Training loss: 0.428136\n",
      "====> Epoch: 98 Test loss: 0.615201\n",
      "Readout Fidelity: % 70.20000219345093\n",
      "torch.Size([1000, 2000])\n"
     ]
    },
    {
     "name": "stderr",
     "output_type": "stream",
     "text": [
      "100%|██████████| 100/100 [00:21<00:00,  4.69it/s]"
     ]
    },
    {
     "name": "stdout",
     "output_type": "stream",
     "text": [
      "====> Epoch: 99 Training loss: 0.428824\n",
      "====> Epoch: 99 Test loss: 0.625968\n",
      "Readout Fidelity: % 69.90000009536743\n"
     ]
    },
    {
     "name": "stderr",
     "output_type": "stream",
     "text": [
      "\n"
     ]
    }
   ],
   "source": [
    "# Training loop\n",
    "for epoch in tqdm(range(epochs)):\n",
    "    \n",
    "    train_loss = 0\n",
    "    model.train() \n",
    "    \n",
    "    for data, labels in train_loader:\n",
    "        optimizer.zero_grad()\n",
    "        data, labels = data.to(device), labels.to(device)\n",
    "        states = model(data)\n",
    "        loss = criterion(states, labels.long())\n",
    "        loss.backward()\n",
    "        train_loss += loss.detach().cpu().numpy()\n",
    "        optimizer.step()\n",
    "        \n",
    "    train_loss_track = np.append(train_loss_track,np.asarray(train_loss))\n",
    "        \n",
    "    test_loss = 0    \n",
    "    model.eval()\n",
    "    with torch.no_grad():\n",
    "        for data, labels in test_loader:\n",
    "            data, labels = data.to(device), labels.to(device)\n",
    "            print(data.shape)\n",
    "            states = model(data)\n",
    "            loss = criterion(states, labels.long())\n",
    "            test_loss += loss.detach().cpu().numpy()\n",
    "    \n",
    "    test_loss_track = np.append(test_loss_track,np.asarray(test_loss))\n",
    "    \n",
    "    if epoch % plot_interval == 0:\n",
    "        print('====> Epoch: {} Training loss: {:.6f}'.format(\n",
    "                  epoch, train_loss ))\n",
    "        print('====> Epoch: {} Test loss: {:.6f}'.format(\n",
    "                  epoch, test_loss ))\n",
    "\n",
    "        p1, p2 = 0, 800\n",
    "\n",
    "    # Readout Fidelity\n",
    "    model.eval() \n",
    "    cc = 0\n",
    "    y_true = torch.tensor([]).to(device)\n",
    "    y_pred = torch.tensor([]).to(device)\n",
    "    \n",
    "    with torch.no_grad():\n",
    "        for data, target in test_loader:\n",
    "            \n",
    "            data=data.to(device)\n",
    "            states = model(data)\n",
    "            target = target.to(device) \n",
    "    \n",
    "            val, ind = torch.max(states,1)\n",
    "            y_pred = torch.cat((y_pred, ind), 0)\n",
    "            y_true = torch.cat((y_true, target), 0)\n",
    "    \n",
    "    acc = y_true-y_pred\n",
    "    accuracy = (len(y_true)-torch.count_nonzero(acc))/len(y_true)\n",
    "    accuracy = accuracy.item()\n",
    "    \n",
    "    acc_track = np.append(acc_track,np.asarray(accuracy))\n",
    "    print('Readout Fidelity: %', accuracy*100)\n",
    "\n",
    "    if accuracy*100 > 90.:\n",
    "        break\n"
   ]
  },
  {
   "cell_type": "code",
   "execution_count": 15,
   "metadata": {},
   "outputs": [],
   "source": [
    "torch.save(model.state_dict(), f\"../../checkpoints/{framework}_ckp_a8.pth\") "
   ]
  },
  {
   "cell_type": "code",
   "execution_count": 16,
   "metadata": {},
   "outputs": [
    {
     "name": "stdout",
     "output_type": "stream",
     "text": [
      "Exporting model...\n",
      "Optimizing...\n",
      "Model saved to: ../../checkpoints/hawq_a8.onnx\n"
     ]
    },
    {
     "name": "stderr",
     "output_type": "stream",
     "text": [
      "WARNING: The shape inference of hawq2qonnx::Quant type is missing, so it may result in wrong shape inference for the exported graph. Please consider adding it in symbolic function.\n",
      "WARNING: The shape inference of hawq2qonnx::Quant type is missing, so it may result in wrong shape inference for the exported graph. Please consider adding it in symbolic function.\n",
      "WARNING: The shape inference of hawq2qonnx::Quant type is missing, so it may result in wrong shape inference for the exported graph. Please consider adding it in symbolic function.\n",
      "WARNING: The shape inference of hawq2qonnx::Quant type is missing, so it may result in wrong shape inference for the exported graph. Please consider adding it in symbolic function.\n",
      "WARNING: The shape inference of hawq2qonnx::Quant type is missing, so it may result in wrong shape inference for the exported graph. Please consider adding it in symbolic function.\n",
      "WARNING: The shape inference of hawq2qonnx::Quant type is missing, so it may result in wrong shape inference for the exported graph. Please consider adding it in symbolic function.\n",
      "WARNING: The shape inference of hawq2qonnx::Quant type is missing, so it may result in wrong shape inference for the exported graph. Please consider adding it in symbolic function.\n",
      "WARNING: The shape inference of hawq2qonnx::Quant type is missing, so it may result in wrong shape inference for the exported graph. Please consider adding it in symbolic function.\n",
      "WARNING: The shape inference of hawq2qonnx::Quant type is missing, so it may result in wrong shape inference for the exported graph. Please consider adding it in symbolic function.\n",
      "WARNING: The shape inference of hawq2qonnx::Quant type is missing, so it may result in wrong shape inference for the exported graph. Please consider adding it in symbolic function.\n",
      "WARNING: The shape inference of hawq2qonnx::Quant type is missing, so it may result in wrong shape inference for the exported graph. Please consider adding it in symbolic function.\n",
      "WARNING: The shape inference of hawq2qonnx::Quant type is missing, so it may result in wrong shape inference for the exported graph. Please consider adding it in symbolic function.\n"
     ]
    }
   ],
   "source": [
    "if framework.lower() == \"hawq\": \n",
    "    manager = ExportManager(model)\n",
    "    manager.export(torch.randn(1, 2000), \"../../checkpoints/hawq_a8.onnx\")\n",
    "elif framework.lower() == \"brevitas\":\n",
    "    QONNXManager.export(model, input_shape=(1, 2000), export_path='checkpoints/brevitas.onnx')"
   ]
  },
  {
   "cell_type": "code",
   "execution_count": null,
   "metadata": {},
   "outputs": [],
   "source": []
  }
 ],
 "metadata": {
  "kernelspec": {
   "display_name": "ml4qick-env",
   "language": "python",
   "name": "python3"
  },
  "language_info": {
   "codemirror_mode": {
    "name": "ipython",
    "version": 3
   },
   "file_extension": ".py",
   "mimetype": "text/x-python",
   "name": "python",
   "nbconvert_exporter": "python",
   "pygments_lexer": "ipython3",
   "version": "3.7.13"
  },
  "orig_nbformat": 4,
  "vscode": {
   "interpreter": {
    "hash": "8c46f90a6991b198ebb88bb05820851d6f27cd392e11295617213b0b70956205"
   }
  }
 },
 "nbformat": 4,
 "nbformat_minor": 2
}
