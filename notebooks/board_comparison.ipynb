{
 "cells": [
  {
   "cell_type": "code",
   "execution_count": null,
   "metadata": {},
   "outputs": [],
   "source": [
    "# Disable some console warnings\n",
    "import os\n",
    "os.environ['TF_XLA_FLAGS'] = '--tf_xla_enable_xla_devices'\n",
    "os.environ['TF_CPP_MIN_LOG_LEVEL'] = '3'"
   ]
  },
  {
   "cell_type": "code",
   "execution_count": null,
   "metadata": {},
   "outputs": [],
   "source": [
    "import sys \n",
    "sys.path.append('../training')\n",
    "import pickle\n",
    "\n",
    "from save_data import process_data\n",
    "\n",
    "import hls4ml \n",
    "import numpy as np\n",
    "import matplotlib.pyplot as plt \n",
    "from sklearn.metrics import accuracy_score\n",
    "import tensorflow as tf\n",
    "from tensorflow.keras.optimizers import Adam\n",
    "from tensorflow.keras.models import Sequential\n",
    "from tensorflow.keras.layers import Dense, Activation, BatchNormalization, Dropout\n",
    "from tensorflow.keras.callbacks import ReduceLROnPlateau, ModelCheckpoint\n",
    "from tensorflow.keras.losses import CategoricalCrossentropy\n",
    "\n",
    "from tensorflow_model_optimization.python.core.sparsity.keras import prune, pruning_callbacks, pruning_schedule\n",
    "from tensorflow_model_optimization.sparsity.keras import strip_pruning\n",
    "import tensorflow_model_optimization as tfmot\n",
    "\n",
    "from qkeras.qlayers import QDense, QActivation\n",
    "from qkeras import QBatchNormalization\n",
    "from qkeras.quantizers import quantized_bits, quantized_relu\n",
    "from qkeras.utils import _add_supported_quantized_objects\n",
    "from tensorflow.keras.models import load_model\n",
    "from qkeras.utils import _add_supported_quantized_objects\n",
    "\n",
    "import pandas as pd\n",
    "\n",
    "# os.environ['PATH'] = os.environ['XILINX_VIVADO'] + '/bin:' + os.environ['PATH']"
   ]
  },
  {
   "cell_type": "markdown",
   "metadata": {},
   "source": [
    "## Configure"
   ]
  },
  {
   "cell_type": "code",
   "execution_count": null,
   "metadata": {},
   "outputs": [],
   "source": [
    "# START_WINDOW = 285\n",
    "# END_WINDOW = 385\n",
    "\n",
    "# START_WINDOW = 150\n",
    "# END_WINDOW = 350\n",
    "\n",
    "# START_WINDOW = 150\n",
    "# END_WINDOW = 550\n",
    "\n",
    "START_WINDOW = 0\n",
    "END_WINDOW = 770"
   ]
  },
  {
   "cell_type": "markdown",
   "metadata": {},
   "source": [
    "## Setup data"
   ]
  },
  {
   "cell_type": "code",
   "execution_count": null,
   "metadata": {},
   "outputs": [],
   "source": [
    "def one_hot_encode(data):\n",
    "    y_encoded = np.zeros([data.shape[0],2], dtype=np.int32)\n",
    "    for idx, x in enumerate(data):\n",
    "        if x == 1:\n",
    "            y_encoded[idx][1] = 1\n",
    "        else:\n",
    "            y_encoded[idx][0] = 1\n",
    "    return y_encoded"
   ]
  },
  {
   "cell_type": "code",
   "execution_count": null,
   "metadata": {},
   "outputs": [],
   "source": [
    "!mkdir -p models\n",
    "\n",
    "DATA_DIR = f'../data/qick_data/{START_WINDOW}_{END_WINDOW}'\n",
    "MODEL_DIR = f'models/model_{START_WINDOW}_{END_WINDOW}'\n",
    "\n",
    "# convert raw ADC data into npy files \n",
    "if os.path.exists(f'{DATA_DIR}/X_train_{START_WINDOW}_{END_WINDOW}.npy') == False:\n",
    "    process_data(\n",
    "        start_window=START_WINDOW, \n",
    "        end_window=END_WINDOW, \n",
    "        data_dir=DATA_DIR\n",
    "    )"
   ]
  },
  {
   "cell_type": "code",
   "execution_count": null,
   "metadata": {},
   "outputs": [],
   "source": [
    "# load data\n",
    "X_train_val = np.load(os.path.join(DATA_DIR, f'X_train_{START_WINDOW}_{END_WINDOW}.npy'))\n",
    "X_test = np.load(os.path.join(DATA_DIR, f'X_test_{START_WINDOW}_{END_WINDOW}.npy'))    \n",
    "y_train_val = np.load(os.path.join(DATA_DIR, f'y_train_{START_WINDOW}_{END_WINDOW}.npy'))\n",
    "y_test = np.load(os.path.join(DATA_DIR, f'y_test_{START_WINDOW}_{END_WINDOW}.npy'))\n",
    "\n",
    "y_train_val = one_hot_encode(y_train_val)\n",
    "y_test = one_hot_encode(y_test)\n",
    "\n",
    "print('Window:')\n",
    "print('  - Couples I/Q :', (END_WINDOW-START_WINDOW))\n",
    "print('  - Model inputs:', (END_WINDOW-START_WINDOW)*2)\n",
    "\n",
    "print('Training:')\n",
    "print('  - Size        :', X_train_val.shape[0])\n",
    "print('  - Sample Shape:', X_train_val.shape[1])\n",
    "print('  - Mean        :', X_train_val.mean())\n",
    "print('  - Std. Dev.   :', X_train_val.std())\n",
    "\n",
    "print('Testing:')\n",
    "print('  - Size        :', X_test.shape[0])\n",
    "print('  - Sample Shape:', X_test.shape[1])\n",
    "print('  - Mean        :', X_test.mean())\n",
    "print('  - Std. Dev.   :', X_test.std())\n",
    "\n",
    "assert len(X_train_val[0]) == (END_WINDOW-START_WINDOW)*2, 'ERROR: Specified window does not match loaded dataset shape'\n",
    "assert len(X_test[0]) == (END_WINDOW-START_WINDOW)*2, 'ERROR: Specified window does not match loaded dataset shape'"
   ]
  },
  {
   "cell_type": "markdown",
   "metadata": {},
   "source": [
    "## Load model"
   ]
  },
  {
   "cell_type": "code",
   "execution_count": null,
   "metadata": {},
   "outputs": [],
   "source": [
    "MODEL_FILENAME = MODEL_DIR + f'/qmodel_{START_WINDOW}_{END_WINDOW}.h5'"
   ]
  },
  {
   "cell_type": "code",
   "execution_count": null,
   "metadata": {},
   "outputs": [],
   "source": [
    "co = {}\n",
    "_add_supported_quantized_objects(co)\n",
    "model = load_model(MODEL_FILENAME, custom_objects=co, compile=False)"
   ]
  },
  {
   "cell_type": "code",
   "execution_count": null,
   "metadata": {},
   "outputs": [],
   "source": [
    "print('=============================Model Summary=============================')\n",
    "print(model.summary())\n",
    "print('=======================================================================')"
   ]
  },
  {
   "cell_type": "code",
   "execution_count": null,
   "metadata": {},
   "outputs": [],
   "source": [
    "y_pred = model.predict(X_test)\n",
    "print('Keras accuracy: {}, inputs {}, I/Qs {}'.format(accuracy_score(np.argmax(y_test, axis=1), np.argmax(y_pred, axis=1)), (END_WINDOW-START_WINDOW)*2, (END_WINDOW-START_WINDOW)))"
   ]
  },
  {
   "cell_type": "markdown",
   "metadata": {},
   "source": [
    "If you run with the model and data on files, you should expect\n",
    "```\n",
    "Keras accuracy: 0.9614851485148515, inputs 1540, I/Qs 770\n",
    "Keras accuracy: 0.9535643564356435, inputs 800, I/Qs 400\n",
    "Keras accuracy: 0.9291980198019802, inputs 400, I/Qs 200\n",
    "Keras accuracy: 0.8572376237623762, inputs 200, I/Qs 100\n",
    "```"
   ]
  },
  {
   "cell_type": "markdown",
   "metadata": {},
   "source": [
    "### Check model accuracy on FPGA traces"
   ]
  },
  {
   "cell_type": "code",
   "execution_count": null,
   "metadata": {},
   "outputs": [],
   "source": [
    "!ls ../data/fpga_testing"
   ]
  },
  {
   "cell_type": "markdown",
   "metadata": {},
   "source": [
    "#### Load CSV files from board runs"
   ]
  },
  {
   "cell_type": "code",
   "execution_count": null,
   "metadata": {},
   "outputs": [],
   "source": [
    "DATA_FPGA_DIR = '../data/fpga_testing'\n",
    "\n",
    "df = pd.read_csv(DATA_FPGA_DIR + '/malab_g_state_A_fpga.csv', header=None)\n",
    "X_g_test_board = df.values\n",
    "\n",
    "df = pd.read_csv(DATA_FPGA_DIR + '/malab_e_state_A_fpga.csv', header=None)\n",
    "X_e_test_board = df.values"
   ]
  },
  {
   "cell_type": "markdown",
   "metadata": {},
   "source": [
    "#### Standard windows"
   ]
  },
  {
   "cell_type": "code",
   "execution_count": null,
   "metadata": {},
   "outputs": [],
   "source": [
    "iq_list = X_e_test_board[0].reshape(1, 2, -1)\n",
    "print(iq_list.shape)\n",
    "\n",
    "# Plot results.\n",
    "plt.figure(1)\n",
    "for ii, iq in enumerate(iq_list):\n",
    "    plt.plot(iq[0], label=\"I value\")\n",
    "    plt.plot(iq[1], label=\"Q value\")\n",
    "plt.ylabel(\"a.u.\")\n",
    "plt.xlabel(\"Clock ticks\")\n",
    "# plt.title(\"Averages = \" + str(config[\"soft_avgs\"]))\n",
    "plt.legend()"
   ]
  },
  {
   "cell_type": "code",
   "execution_count": null,
   "metadata": {},
   "outputs": [],
   "source": [
    "y_g_qkeras_pred = model.predict(X_g_test_board[:,START_WINDOW*2:END_WINDOW*2])\n",
    "y_e_qkeras_pred = model.predict(X_e_test_board[:,START_WINDOW*2:END_WINDOW*2])"
   ]
  },
  {
   "cell_type": "code",
   "execution_count": null,
   "metadata": {},
   "outputs": [],
   "source": [
    "logit_g_errors = 0\n",
    "logit_e_errors = 0\n",
    "\n",
    "test_g_size = y_g_qkeras_pred.shape[0]\n",
    "for i in range(test_g_size):\n",
    "    mismatch = y_g_qkeras_pred[i][0] < y_g_qkeras_pred[i][1]\n",
    "    if (mismatch):\n",
    "        logit_g_errors = logit_g_errors + 1\n",
    "\n",
    "test_e_size = y_e_qkeras_pred.shape[0]\n",
    "for i in range(test_e_size):\n",
    "    mismatch = y_e_qkeras_pred[i][0] > y_e_qkeras_pred[i][1]\n",
    "    if (mismatch):\n",
    "        logit_e_errors = logit_e_errors + 1"
   ]
  },
  {
   "cell_type": "code",
   "execution_count": null,
   "metadata": {},
   "outputs": [],
   "source": [
    "logit_g_error_rate = (logit_g_errors * 100.) / test_g_size\n",
    "acccuracy_g = 100. - logit_g_error_rate\n",
    "print('Logit errors (ground): {:d}/{:d} ({:.2f}%)'.format(logit_g_errors, test_g_size, logit_g_error_rate))\n",
    "print('Accuracy     (ground): {:.2f}%'.format(acccuracy_g))"
   ]
  },
  {
   "cell_type": "code",
   "execution_count": null,
   "metadata": {},
   "outputs": [],
   "source": [
    "logit_e_error_rate = (logit_e_errors * 100.) / test_e_size\n",
    "acccuracy_e = 100. - logit_e_error_rate\n",
    "print('Logit errors (excited): {:d}/{:d} ({:.2f}%)'.format(logit_e_errors, test_e_size, logit_e_error_rate))\n",
    "print('Accuracy     (excited): {:.2f}%'.format(acccuracy_e))"
   ]
  },
  {
   "cell_type": "code",
   "execution_count": null,
   "metadata": {},
   "outputs": [],
   "source": [
    "test_size = test_g_size + test_e_size\n",
    "logit_errors = logit_g_errors + logit_e_errors\n",
    "logit_error_rate = (logit_errors * 100.) / test_size\n",
    "acccuracy = 100. - logit_error_rate\n",
    "print('Logit errors (average): {:d}/{:d} ({:.2f}%)'.format(logit_errors, test_size, logit_error_rate))\n",
    "print('Accuracy     (average): {:.2f}%'.format(acccuracy))"
   ]
  },
  {
   "cell_type": "markdown",
   "metadata": {},
   "source": [
    "#### Shifted windows"
   ]
  },
  {
   "cell_type": "code",
   "execution_count": null,
   "metadata": {},
   "outputs": [],
   "source": [
    "SHIFT_OFFSET = 1\n",
    "SHIFT_L_OR_R = 'R' #'R'\n",
    "PAD = 'noise' # 'noise'\n",
    "NOISE_LO = -4\n",
    "NOISE_HI = 4"
   ]
  },
  {
   "cell_type": "code",
   "execution_count": null,
   "metadata": {},
   "outputs": [],
   "source": [
    "def l_shift_data_zero_padded(X, start, end, offset):\n",
    "    extended_X = np.pad(X, pad_width=((0, 0), (0, offset*2)), mode='constant', constant_values=0)\n",
    "    return extended_X[:,(start+offset)*2:(end+offset)*2]\n",
    "\n",
    "def r_shift_data_zero_padded(X, start, end, offset):\n",
    "    extended_X = np.pad(X, pad_width=((0, 0), (offset*2, 0)), mode='constant', constant_values=0)\n",
    "    return extended_X[:,start*2:end*2]\n",
    "\n",
    "def l_shift_data_noise_padded(X, start, end, offset, noise_lo, noise_hi):\n",
    "    if offset == 0:\n",
    "        return X[:,(start+offset)*2:(end+offset)*2]\n",
    "    else:\n",
    "        num_rows = X.shape[0]\n",
    "        noise = np.random.uniform(noise_lo, noise_hi, size=(num_rows*offset*2)).astype(int)\n",
    "        noise = noise.reshape(-1, offset*2)\n",
    "        return np.hstack((X, noise))[:,(start+offset)*2:(end+offset)*2]\n",
    "\n",
    "def r_shift_data_noise_padded(X, start, end, offset, noise_lo, noise_hi):\n",
    "    if offset == 0:\n",
    "        return extended_X[:,start*2:end*2]\n",
    "    else:\n",
    "        num_rows = X.shape[0]\n",
    "        noise = np.random.uniform(noise_lo, noise_hi, size=(num_rows*offset*2)).astype(int)\n",
    "        noise = noise.reshape(-1, offset*2)\n",
    "        return np.hstack((noise, X))[:,start*2:end*2]"
   ]
  },
  {
   "cell_type": "code",
   "execution_count": null,
   "metadata": {},
   "outputs": [],
   "source": [
    "if PAD == 'zero':\n",
    "    if SHIFT_L_OR_R == 'L':\n",
    "        shifted_g_data = l_shift_data_zero_padded(X_g_test_board, START_WINDOW, END_WINDOW, SHIFT_OFFSET)\n",
    "        shifted_e_data = l_shift_data_zero_padded(X_e_test_board, START_WINDOW, END_WINDOW, SHIFT_OFFSET)\n",
    "    else: # R\n",
    "        shifted_g_data = r_shift_data_zero_padded(X_g_test_board, START_WINDOW, END_WINDOW, SHIFT_OFFSET)\n",
    "        shifted_e_data = r_shift_data_zero_padded(X_e_test_board, START_WINDOW, END_WINDOW, SHIFT_OFFSET)\n",
    "else: # 'noise'\n",
    "    if SHIFT_L_OR_R == 'L':\n",
    "        shifted_g_data = l_shift_data_noise_padded(X_g_test_board, START_WINDOW, END_WINDOW, SHIFT_OFFSET, NOISE_LO, NOISE_HI)\n",
    "        shifted_e_data = l_shift_data_noise_padded(X_e_test_board, START_WINDOW, END_WINDOW, SHIFT_OFFSET, NOISE_LO, NOISE_HI)\n",
    "    else: # R\n",
    "        shifted_g_data = r_shift_data_noise_padded(X_g_test_board, START_WINDOW, END_WINDOW, SHIFT_OFFSET, NOISE_LO, NOISE_HI)\n",
    "        shifted_e_data = r_shift_data_noise_padded(X_e_test_board, START_WINDOW, END_WINDOW, SHIFT_OFFSET, NOISE_LO, NOISE_HI)"
   ]
  },
  {
   "cell_type": "code",
   "execution_count": null,
   "metadata": {},
   "outputs": [],
   "source": [
    "y_g_qkeras_pred = model.predict(shifted_g_data)\n",
    "y_e_qkeras_pred = model.predict(shifted_e_data)"
   ]
  },
  {
   "cell_type": "code",
   "execution_count": null,
   "metadata": {},
   "outputs": [],
   "source": [
    "logit_g_errors = 0\n",
    "logit_e_errors = 0\n",
    "\n",
    "test_g_size = y_g_qkeras_pred.shape[0]\n",
    "for i in range(test_g_size):\n",
    "    mismatch = y_g_qkeras_pred[i][0] < y_g_qkeras_pred[i][1]\n",
    "    if (mismatch):\n",
    "        logit_g_errors = logit_g_errors + 1\n",
    "\n",
    "test_e_size = y_e_qkeras_pred.shape[0]\n",
    "for i in range(test_e_size):\n",
    "    mismatch = y_e_qkeras_pred[i][0] > y_e_qkeras_pred[i][1]\n",
    "    if (mismatch):\n",
    "        logit_e_errors = logit_e_errors + 1"
   ]
  },
  {
   "cell_type": "code",
   "execution_count": null,
   "metadata": {},
   "outputs": [],
   "source": [
    "logit_g_error_rate = (logit_g_errors * 100.) / test_g_size\n",
    "acccuracy_g = 100. - logit_g_error_rate\n",
    "print('Logit errors (ground): {:d}/{:d} ({:.2f}%)'.format(logit_g_errors, test_g_size, logit_g_error_rate))\n",
    "print('Accuracy     (ground): {:.2f}%'.format(acccuracy_g))"
   ]
  },
  {
   "cell_type": "code",
   "execution_count": null,
   "metadata": {},
   "outputs": [],
   "source": [
    "logit_e_error_rate = (logit_e_errors * 100.) / test_e_size\n",
    "acccuracy_e = 100. - logit_e_error_rate\n",
    "print('Logit errors (excited): {:d}/{:d} ({:.2f}%)'.format(logit_e_errors, test_e_size, logit_e_error_rate))\n",
    "print('Accuracy     (excited): {:.2f}%'.format(acccuracy_e))"
   ]
  },
  {
   "cell_type": "code",
   "execution_count": null,
   "metadata": {},
   "outputs": [],
   "source": [
    "test_size = test_g_size + test_e_size\n",
    "logit_errors = logit_g_errors + logit_e_errors\n",
    "logit_error_rate = (logit_errors * 100.) / test_size\n",
    "acccuracy = 100. - logit_error_rate\n",
    "print('Logit errors (average): {:d}/{:d} ({:.2f}%)'.format(logit_errors, test_size, logit_error_rate))\n",
    "print('Accuracy     (average): {:.2f}%'.format(acccuracy))"
   ]
  },
  {
   "cell_type": "markdown",
   "metadata": {},
   "source": [
    "#### Shifted windows (swiping)"
   ]
  },
  {
   "cell_type": "markdown",
   "metadata": {},
   "source": [
    "Get the original testing traces for both ground and excited; each trace is 770 cycles = 770 I/Q couples long; shift left (or right) one clock cycle at a time the ground and excited traces; run prediction and collect accuracy."
   ]
  },
  {
   "cell_type": "code",
   "execution_count": null,
   "metadata": {},
   "outputs": [],
   "source": [
    "accuracy_swipe_l = np.array([])\n",
    "accuracy_g_swipe_l = np.array([])\n",
    "accuracy_e_swipe_l = np.array([])\n",
    "\n",
    "accuracy_swipe_r = np.array([])\n",
    "accuracy_g_swipe_r = np.array([])\n",
    "accuracy_e_swipe_r = np.array([])\n",
    "\n",
    "# Swipe and shift left\n",
    "for SHIFT_OFFSET in range(0,770):\n",
    "\n",
    "    if PAD == 'zero':\n",
    "        shifted_g_data = l_shift_data_zero_padded(X_g_test_board, START_WINDOW, END_WINDOW, SHIFT_OFFSET)\n",
    "        shifted_e_data = l_shift_data_zero_padded(X_e_test_board, START_WINDOW, END_WINDOW, SHIFT_OFFSET)\n",
    "    else: # 'noise'\n",
    "        shifted_g_data = l_shift_data_noise_padded(X_g_test_board, START_WINDOW, END_WINDOW, SHIFT_OFFSET, NOISE_LO, NOISE_HI)\n",
    "        shifted_e_data = l_shift_data_noise_padded(X_e_test_board, START_WINDOW, END_WINDOW, SHIFT_OFFSET, NOISE_LO, NOISE_HI)\n",
    "\n",
    "    print('L G {}'.format(SHIFT_OFFSET), end=' ', flush=True)\n",
    "    y_g_qkeras_pred = model.predict(shifted_g_data)\n",
    "    print('L E {}'.format(SHIFT_OFFSET), end=' ', flush=True)\n",
    "    y_e_qkeras_pred = model.predict(shifted_e_data)\n",
    "    \n",
    "    logit_g_errors = 0\n",
    "    logit_e_errors = 0\n",
    "    \n",
    "    test_g_size = y_g_qkeras_pred.shape[0]\n",
    "    for i in range(test_g_size):\n",
    "        mismatch = y_g_qkeras_pred[i][0] < y_g_qkeras_pred[i][1]\n",
    "        if (mismatch):\n",
    "            logit_g_errors = logit_g_errors + 1\n",
    "    \n",
    "    test_e_size = y_e_qkeras_pred.shape[0]\n",
    "    for i in range(test_e_size):\n",
    "        mismatch = y_e_qkeras_pred[i][0] > y_e_qkeras_pred[i][1]\n",
    "        if (mismatch):\n",
    "            logit_e_errors = logit_e_errors + 1\n",
    "    \n",
    "    logit_g_error_rate = (logit_g_errors * 100.) / test_g_size\n",
    "    acccuracy_g = 100. - logit_g_error_rate\n",
    "    #print('Logit errors (ground): {:d}/{:d} ({:.2f}%)'.format(logit_g_errors, test_g_size, logit_g_error_rate))\n",
    "    #print('Accuracy     (ground): {:.2f}%'.format(acccuracy_g))\n",
    "    \n",
    "    logit_e_error_rate = (logit_e_errors * 100.) / test_e_size\n",
    "    acccuracy_e = 100. - logit_e_error_rate\n",
    "    #print('Logit errors (excited): {:d}/{:d} ({:.2f}%)'.format(logit_e_errors, test_e_size, logit_e_error_rate))\n",
    "    #print('Accuracy     (excited): {:.2f}%'.format(acccuracy_e))\n",
    "    \n",
    "    test_size = test_g_size + test_e_size\n",
    "    logit_errors = logit_g_errors + logit_e_errors\n",
    "    logit_error_rate = (logit_errors * 100.) / test_size\n",
    "    acccuracy = 100. - logit_error_rate\n",
    "    #print('Logit errors (average): {:d}/{:d} ({:.2f}%)'.format(logit_errors, test_size, logit_error_rate))\n",
    "    #print('Accuracy     (average): {:.2f}%'.format(acccuracy))\n",
    "\n",
    "    accuracy_swipe_l = np.append(accuracy_swipe_l, acccuracy)\n",
    "    accuracy_e_swipe_l = np.append(accuracy_e_swipe_l, acccuracy_e)\n",
    "    accuracy_g_swipe_l = np.append(accuracy_g_swipe_l, acccuracy_g)\n",
    "\n",
    "# Swipe and shift right\n",
    "for SHIFT_OFFSET in range(0,770):\n",
    "\n",
    "    if PAD == 'zero':\n",
    "        shifted_g_data = r_shift_data_zero_padded(X_g_test_board, START_WINDOW, END_WINDOW, SHIFT_OFFSET)\n",
    "        shifted_e_data = r_shift_data_zero_padded(X_e_test_board, START_WINDOW, END_WINDOW, SHIFT_OFFSET)\n",
    "    else: # 'noise'\n",
    "        shifted_g_data = r_shift_data_noise_padded(X_g_test_board, START_WINDOW, END_WINDOW, SHIFT_OFFSET, NOISE_LO, NOISE_HI)\n",
    "        shifted_e_data = r_shift_data_noise_padded(X_e_test_board, START_WINDOW, END_WINDOW, SHIFT_OFFSET, NOISE_LO, NOISE_HI)\n",
    "\n",
    "    y_g_qkeras_pred = model.predict(shifted_g_data)\n",
    "    y_e_qkeras_pred = model.predict(shifted_e_data)\n",
    "    \n",
    "    logit_g_errors = 0\n",
    "    logit_e_errors = 0\n",
    "    \n",
    "    test_g_size = y_g_qkeras_pred.shape[0]\n",
    "    for i in range(test_g_size):\n",
    "        mismatch = y_g_qkeras_pred[i][0] < y_g_qkeras_pred[i][1]\n",
    "        if (mismatch):\n",
    "            logit_g_errors = logit_g_errors + 1\n",
    "    \n",
    "    test_e_size = y_e_qkeras_pred.shape[0]\n",
    "    for i in range(test_e_size):\n",
    "        mismatch = y_e_qkeras_pred[i][0] > y_e_qkeras_pred[i][1]\n",
    "        if (mismatch):\n",
    "            logit_e_errors = logit_e_errors + 1\n",
    "    \n",
    "    logit_g_error_rate = (logit_g_errors * 100.) / test_g_size\n",
    "    acccuracy_g = 100. - logit_g_error_rate\n",
    "    #print('Logit errors (ground): {:d}/{:d} ({:.2f}%)'.format(logit_g_errors, test_g_size, logit_g_error_rate))\n",
    "    #print('Accuracy     (ground): {:.2f}%'.format(acccuracy_g))\n",
    "    \n",
    "    logit_e_error_rate = (logit_e_errors * 100.) / test_e_size\n",
    "    acccuracy_e = 100. - logit_e_error_rate\n",
    "    #print('Logit errors (excited): {:d}/{:d} ({:.2f}%)'.format(logit_e_errors, test_e_size, logit_e_error_rate))\n",
    "    #print('Accuracy     (excited): {:.2f}%'.format(acccuracy_e))\n",
    "    \n",
    "    test_size = test_g_size + test_e_size\n",
    "    logit_errors = logit_g_errors + logit_e_errors\n",
    "    logit_error_rate = (logit_errors * 100.) / test_size\n",
    "    acccuracy = 100. - logit_error_rate\n",
    "    #print('Logit errors (average): {:d}/{:d} ({:.2f}%)'.format(logit_errors, test_size, logit_error_rate))\n",
    "    #print('Accuracy     (average): {:.2f}%'.format(acccuracy))\n",
    "\n",
    "    accuracy_swipe_r = np.append(accuracy_swipe_r, acccuracy)\n",
    "    accuracy_e_swipe_r = np.append(accuracy_e_swipe_r, acccuracy_e)\n",
    "    accuracy_g_swipe_r = np.append(accuracy_g_swipe_r, acccuracy_g)"
   ]
  },
  {
   "cell_type": "markdown",
   "metadata": {},
   "source": [
    "##### Visualize how accuracy changes during the swiping"
   ]
  },
  {
   "cell_type": "code",
   "execution_count": null,
   "metadata": {},
   "outputs": [],
   "source": [
    "import matplotlib.pyplot as plt"
   ]
  },
  {
   "cell_type": "code",
   "execution_count": null,
   "metadata": {},
   "outputs": [],
   "source": [
    "%matplotlib inline"
   ]
  },
  {
   "cell_type": "markdown",
   "metadata": {},
   "source": [
    "###### Shift left (excited and ground)"
   ]
  },
  {
   "cell_type": "code",
   "execution_count": null,
   "metadata": {},
   "outputs": [],
   "source": [
    "plt.plot(accuracy_swipe_l)\n",
    "plt.title('Swipe, shift left (excited and ground)')\n",
    "plt.xlabel('Shift')\n",
    "plt.ylabel('Accuracy %')\n",
    "\n",
    "for i, value in enumerate(accuracy_swipe_l):\n",
    "    if i % 100 == 0:  # Change '3' to your desired interval\n",
    "        plt.annotate(f'{value:.2f}',  # Format the value to 2 decimal places\n",
    "                     (i, value),\n",
    "                     textcoords=\"offset points\",  # How to position the text\n",
    "                     xytext=(0,10),  # Distance from text to points (x,y)\n",
    "                     ha='center')  # Horizontal alignment can be left, right or center\n",
    "\n",
    "plt.grid(True)\n",
    "\n",
    "plt.show()"
   ]
  },
  {
   "cell_type": "markdown",
   "metadata": {},
   "source": [
    "###### Shift right (excited and ground)"
   ]
  },
  {
   "cell_type": "code",
   "execution_count": null,
   "metadata": {},
   "outputs": [],
   "source": [
    "plt.plot(accuracy_swipe_r)\n",
    "plt.title('Swipe, shift right (excited and ground)')\n",
    "plt.xlabel('Shift')\n",
    "plt.ylabel('Accuracy %')\n",
    "\n",
    "for i, value in enumerate(accuracy_swipe_r):\n",
    "    if i % 100 == 0:  # Change '3' to your desired interval\n",
    "        plt.annotate(f'{value:.2f}',  # Format the value to 2 decimal places\n",
    "                     (i, value),\n",
    "                     textcoords=\"offset points\",  # How to position the text\n",
    "                     xytext=(0,10),  # Distance from text to points (x,y)\n",
    "                     ha='center')  # Horizontal alignment can be left, right or center\n",
    "\n",
    "plt.grid(True)\n",
    "\n",
    "plt.show()"
   ]
  },
  {
   "cell_type": "markdown",
   "metadata": {},
   "source": [
    "###### Shift left (excited)"
   ]
  },
  {
   "cell_type": "code",
   "execution_count": null,
   "metadata": {},
   "outputs": [],
   "source": [
    "plt.plot(accuracy_e_swipe_l)\n",
    "plt.title('Swipe, shift left (excited)')\n",
    "plt.xlabel('Shift')\n",
    "plt.ylabel('Accuracy %')\n",
    "\n",
    "for i, value in enumerate(accuracy_e_swipe_l):\n",
    "    if i % 100 == 0:  # Change '3' to your desired interval\n",
    "        plt.annotate(f'{value:.2f}',  # Format the value to 2 decimal places\n",
    "                     (i, value),\n",
    "                     textcoords=\"offset points\",  # How to position the text\n",
    "                     xytext=(0,10),  # Distance from text to points (x,y)\n",
    "                     ha='center')  # Horizontal alignment can be left, right or center\n",
    "\n",
    "plt.grid(True)\n",
    "\n",
    "plt.show()"
   ]
  },
  {
   "cell_type": "markdown",
   "metadata": {},
   "source": [
    "###### Shift rigt (excited)"
   ]
  },
  {
   "cell_type": "code",
   "execution_count": null,
   "metadata": {},
   "outputs": [],
   "source": [
    "plt.plot(accuracy_e_swipe_r)\n",
    "plt.title('Swipe, shift right (excited)')\n",
    "plt.xlabel('Shift')\n",
    "plt.ylabel('Accuracy %')\n",
    "\n",
    "for i, value in enumerate(accuracy_e_swipe_l):\n",
    "    if i % 100 == 0:  # Change '3' to your desired interval\n",
    "        plt.annotate(f'{value:.2f}',  # Format the value to 2 decimal places\n",
    "                     (i, value),\n",
    "                     textcoords=\"offset points\",  # How to position the text\n",
    "                     xytext=(0,10),  # Distance from text to points (x,y)\n",
    "                     ha='center')  # Horizontal alignment can be left, right or center\n",
    "\n",
    "plt.grid(True)\n",
    "\n",
    "plt.show()"
   ]
  },
  {
   "cell_type": "code",
   "execution_count": null,
   "metadata": {},
   "outputs": [],
   "source": []
  },
  {
   "cell_type": "code",
   "execution_count": null,
   "metadata": {},
   "outputs": [],
   "source": []
  }
 ],
 "metadata": {
  "kernelspec": {
   "display_name": "Python 3 (ipykernel)",
   "language": "python",
   "name": "python3"
  },
  "language_info": {
   "codemirror_mode": {
    "name": "ipython",
    "version": 3
   },
   "file_extension": ".py",
   "mimetype": "text/x-python",
   "name": "python",
   "nbconvert_exporter": "python",
   "pygments_lexer": "ipython3",
   "version": "3.8.18"
  }
 },
 "nbformat": 4,
 "nbformat_minor": 4
}
