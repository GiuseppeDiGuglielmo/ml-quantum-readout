{
 "cells": [
  {
   "cell_type": "code",
   "execution_count": 1,
   "metadata": {},
   "outputs": [
    {
     "name": "stderr",
     "output_type": "stream",
     "text": [
      "2024-09-03 15:45:32.934350: I tensorflow/core/platform/cpu_feature_guard.cc:193] This TensorFlow binary is optimized with oneAPI Deep Neural Network Library (oneDNN) to use the following CPU instructions in performance-critical operations:  AVX2 AVX512F FMA\n",
      "To enable them in other operations, rebuild TensorFlow with the appropriate compiler flags.\n",
      "2024-09-03 15:45:33.135880: W tensorflow/compiler/xla/stream_executor/platform/default/dso_loader.cc:64] Could not load dynamic library 'libcudart.so.11.0'; dlerror: libcudart.so.11.0: cannot open shared object file: No such file or directory\n",
      "2024-09-03 15:45:33.135900: I tensorflow/compiler/xla/stream_executor/cuda/cudart_stub.cc:29] Ignore above cudart dlerror if you do not have a GPU set up on your machine.\n",
      "2024-09-03 15:45:33.921780: W tensorflow/compiler/xla/stream_executor/platform/default/dso_loader.cc:64] Could not load dynamic library 'libnvinfer.so.7'; dlerror: libnvinfer.so.7: cannot open shared object file: No such file or directory\n",
      "2024-09-03 15:45:33.921851: W tensorflow/compiler/xla/stream_executor/platform/default/dso_loader.cc:64] Could not load dynamic library 'libnvinfer_plugin.so.7'; dlerror: libnvinfer_plugin.so.7: cannot open shared object file: No such file or directory\n",
      "2024-09-03 15:45:33.921858: W tensorflow/compiler/tf2tensorrt/utils/py_utils.cc:38] TF-TRT Warning: Cannot dlopen some TensorRT libraries. If you would like to use Nvidia GPU with TensorRT, please make sure the missing libraries mentioned above are installed properly.\n"
     ]
    }
   ],
   "source": [
    "import os \n",
    "import hashlib\n",
    "import numpy as np\n",
    "import matplotlib.pyplot as plt \n",
    "from sklearn.metrics import accuracy_score\n",
    "\n",
    "import tensorflow as tf\n",
    "from tensorflow.keras.optimizers import Adam\n",
    "from tensorflow.keras.models import Sequential\n",
    "from tensorflow.keras.layers import Dense, Activation, BatchNormalization, Dropout, Softmax\n",
    "from tensorflow.keras.callbacks import ReduceLROnPlateau, ModelCheckpoint, EarlyStopping\n",
    "from tensorflow.keras.losses import CategoricalCrossentropy"
   ]
  },
  {
   "cell_type": "markdown",
   "metadata": {},
   "source": [
    "## Load Data\n",
    "\n",
    "#### Impoartant! \n",
    "Download the dataset locally from [OneDrive here](https://purdue0-my.sharepoint.com/personal/du245_purdue_edu/_layouts/15/onedrive.aspx?id=%2Fpersonal%2Fdu245%5Fpurdue%5Fedu%2FDocuments%2FShared%2FQSC%20ML%20for%20readout%2FFinal%5Fraw%5Fdata%5Ffor%5Fpaper%2Fdata%5F0528%5Fnpy). We are using QICK data with timestamp **0528**. "
   ]
  },
  {
   "cell_type": "code",
   "execution_count": 2,
   "metadata": {},
   "outputs": [],
   "source": [
    "def one_hot_encode(data):\n",
    "    y_encoded = np.zeros([data.shape[0],2], dtype=np.int32)\n",
    "    for idx, x in enumerate(data):\n",
    "        if x == 1:\n",
    "            y_encoded[idx][1] = 1\n",
    "        else:\n",
    "            y_encoded[idx][0] = 1\n",
    "    return y_encoded"
   ]
  },
  {
   "cell_type": "code",
   "execution_count": 3,
   "metadata": {},
   "outputs": [
    {
     "name": "stdout",
     "output_type": "stream",
     "text": [
      "Train Data Set:\n",
      "\tX Path        : ../data/malab_05282024/npz/0528_X_train_0_770.npy\n",
      "\ty Path        : ../data/malab_05282024/npz/0528_y_train_0_770.npy\n",
      "\tSize          : 900000\n",
      "\tSample Shape  : (800,)\n",
      "\tMean          : 42.473523191666665\n",
      "\tStd. Dev.     : 842.7678298796162\n"
     ]
    }
   ],
   "source": [
    "\"\"\"Loadning training split\"\"\"\n",
    "start_window = 100\n",
    "end_window = 500\n",
    "data_dir = \"../data/malab_05282024/npz/\"\n",
    "assert os.path.exists(f\"{data_dir}/0528_X_train_0_770.npy\"), \"File does not exist \"\n",
    "\n",
    "x_train_path = os.path.join(data_dir, f'0528_X_train_0_770.npy')\n",
    "y_train_path = os.path.join(data_dir, f'0528_y_train_0_770.npy')\n",
    "\n",
    "X_train_val = np.load(x_train_path)\n",
    "y_train_val = np.load(y_train_path)\n",
    "\n",
    "# Insure same dataset is loaded \n",
    "assert hashlib.md5(X_train_val).hexdigest() == 'b61226c86b7dee0201a9158455e08ffb',  \"Checksum failed. Wrong file was loaded or file may be corrupted.\"\n",
    "assert hashlib.md5(y_train_val).hexdigest() == 'c59ce37dc7c73d2d546e7ea180fa8d31',  \"Checksum failed. Wrong file was loaded or file may be corrupted.\"\n",
    "\n",
    "X_train_val = X_train_val[:,start_window*2:end_window*2]\n",
    "y_train_val = one_hot_encode(y_train_val)\n",
    "\n",
    "print(\"Train Data Set:\")\n",
    "print(\"\\tX Path        :\", x_train_path)\n",
    "print(\"\\ty Path        :\", y_train_path)\n",
    "print(\"\\tSize          :\", len(X_train_val))\n",
    "print(\"\\tSample Shape  :\", X_train_val[0].shape)\n",
    "print(\"\\tMean          :\", X_train_val.mean())\n",
    "print(\"\\tStd. Dev.     :\", X_train_val.std())\n",
    "\n",
    "assert len(X_train_val[0]) == (end_window-start_window)*2, \"ERROR: Specified window does not match loaded dataset shape\""
   ]
  },
  {
   "cell_type": "code",
   "execution_count": 4,
   "metadata": {},
   "outputs": [
    {
     "name": "stdout",
     "output_type": "stream",
     "text": [
      "Test Data Set:\n",
      "\tX Path        : ../data/malab_05282024/npz/0528_X_test_0_770.npy\n",
      "\ty Path        : ../data/malab_05282024/npz/0528_y_test_0_770.npy\n",
      "\tSize         : 100000\n",
      "\tSample Shape : (800,)\n",
      "\tSample Shape : 42.5891728375\n",
      "\tStd. Dev.    : 844.2103580495092\n"
     ]
    }
   ],
   "source": [
    "\"\"\"Loading testing split\"\"\"\n",
    "start_window = 100\n",
    "end_window = 500\n",
    "data_dir = \"../data/malab_05282024/npz/\"\n",
    "assert os.path.exists(f\"{data_dir}/X_test_0_770.npy\"), \"File does not exist \"\n",
    "\n",
    "x_test_path = os.path.join(data_dir, f'0528_X_test_0_770.npy')\n",
    "y_test_path = os.path.join(data_dir, f'0528_y_test_0_770.npy')\n",
    "\n",
    "X_test = np.load(x_test_path)\n",
    "y_test = np.load(y_test_path)\n",
    "\n",
    "# Insure same dataset is loaded \n",
    "assert hashlib.md5(X_test).hexdigest() == 'b7d85f42522a0a57e877422bc5947cde', \"Checksum failed. Wrong file was loaded or file may be corrupted.\"\n",
    "assert hashlib.md5(y_test).hexdigest() == '8c9cce1821372380371ade5f0ccfd4a2', \"Checksum failed. Wrong file was loaded or file may be corrupted.\"\n",
    "\n",
    "X_test = X_test[:,start_window*2:end_window*2]\n",
    "y_test = one_hot_encode(y_test)\n",
    "\n",
    "print(\"Test Data Set:\")\n",
    "print(\"\\tX Path        :\", x_test_path)\n",
    "print(\"\\ty Path        :\", y_test_path)\n",
    "print(\"\\tSize         :\", len(X_test))\n",
    "print(\"\\tSample Shape :\", X_test[0].shape)\n",
    "print(\"\\tSample Shape :\", X_test.mean())\n",
    "print(\"\\tStd. Dev.    :\", X_test.std())\n",
    "\n",
    "assert len(X_test[0]) == (end_window-start_window)*2, \"ERROR: Specified window does not match loaded dataset shape\""
   ]
  },
  {
   "cell_type": "markdown",
   "metadata": {},
   "source": [
    "## Multi-layer Model \n",
    "Or the initial \"big\" model \n",
    "\n",
    "<!-- ![Multi-layer model](../images/multi_layer_model.png) -->\n",
    "<img src=\"../images/multi_layer_model.png\" alt=\"alt text\" width=\"75%\">"
   ]
  },
  {
   "cell_type": "code",
   "execution_count": 5,
   "metadata": {},
   "outputs": [],
   "source": [
    "\"\"\"hyperparameters\"\"\"\n",
    "init_learning_rate = 1e-1\n",
    "validation_split = 0\n",
    "batch_size = 8192\n",
    "epochs = 500\n",
    "checkpoint_filename = \"multi-layer.h5\"\n",
    "input_shape = (len(X_train_val[0]),)"
   ]
  },
  {
   "cell_type": "code",
   "execution_count": 6,
   "metadata": {},
   "outputs": [
    {
     "name": "stdout",
     "output_type": "stream",
     "text": [
      "Model: \"sequential\"\n",
      "_________________________________________________________________\n",
      " Layer (type)                Output Shape              Param #   \n",
      "=================================================================\n",
      " dense (Dense)               (None, 200)               160200    \n",
      "                                                                 \n",
      " batch_normalization (BatchN  (None, 200)              800       \n",
      " ormalization)                                                   \n",
      "                                                                 \n",
      " dense_1 (Dense)             (None, 2)                 402       \n",
      "                                                                 \n",
      "=================================================================\n",
      "Total params: 161,402\n",
      "Trainable params: 161,002\n",
      "Non-trainable params: 400\n",
      "_________________________________________________________________\n",
      "None\n"
     ]
    },
    {
     "name": "stderr",
     "output_type": "stream",
     "text": [
      "2024-09-03 15:47:00.326908: W tensorflow/compiler/xla/stream_executor/platform/default/dso_loader.cc:64] Could not load dynamic library 'libcuda.so.1'; dlerror: libcuda.so.1: cannot open shared object file: No such file or directory\n",
      "2024-09-03 15:47:00.327124: W tensorflow/compiler/xla/stream_executor/cuda/cuda_driver.cc:265] failed call to cuInit: UNKNOWN ERROR (303)\n",
      "2024-09-03 15:47:00.327162: I tensorflow/compiler/xla/stream_executor/cuda/cuda_diagnostics.cc:156] kernel driver does not appear to be running on this host (correlator4.fnal.gov): /proc/driver/nvidia/version does not exist\n",
      "2024-09-03 15:47:00.327490: I tensorflow/core/platform/cpu_feature_guard.cc:193] This TensorFlow binary is optimized with oneAPI Deep Neural Network Library (oneDNN) to use the following CPU instructions in performance-critical operations:  AVX2 AVX512F FMA\n",
      "To enable them in other operations, rebuild TensorFlow with the appropriate compiler flags.\n"
     ]
    }
   ],
   "source": [
    "def get_model():\n",
    "    sr = int((end_window-start_window)*2)\n",
    "    hn = sr * 2\n",
    "\n",
    "    model = Sequential()\n",
    "    model.add(Dense(int(hn/8), activation='relu', input_shape=(sr,)))\n",
    "    model.add(BatchNormalization())\n",
    "    model.add(Dense(2, activation='relu'))\n",
    "    return model\n",
    "\n",
    "model = get_model()\n",
    "print(model.summary())\n",
    "assert model.count_params() == 161402, 'Error. Total parameters has changed.'"
   ]
  },
  {
   "cell_type": "markdown",
   "metadata": {},
   "source": [
    "### Scan Learning Rate "
   ]
  },
  {
   "cell_type": "code",
   "execution_count": 7,
   "metadata": {},
   "outputs": [
    {
     "data": {
      "text/plain": [
       "[0.1, 0.01, 0.001, 0.0001, 1e-05, 1e-06, 1.0000000000000001e-07, 1e-08]"
      ]
     },
     "execution_count": 7,
     "metadata": {},
     "output_type": "execute_result"
    }
   ],
   "source": [
    "learning_rates = [init_learning_rate/(10**idx) for idx in range(8)]\n",
    "learning_rates"
   ]
  },
  {
   "cell_type": "code",
   "execution_count": 8,
   "metadata": {},
   "outputs": [
    {
     "name": "stdout",
     "output_type": "stream",
     "text": [
      "3125/3125 [==============================] - 4s 1ms/step\n",
      "1563/1563 [==============================] - 2s 1ms/step\n",
      "1563/1563 [==============================] - 2s 1ms/step\n",
      "\n",
      "===================================\n",
      "Learning rate: 0.1\n",
      "    Accuracy 0.96065\n",
      "    Fidelity 0.96065\n",
      "===================================\n",
      "3125/3125 [==============================] - 3s 1ms/step\n",
      "1563/1563 [==============================] - 2s 1ms/step\n",
      "1563/1563 [==============================] - 2s 1ms/step\n",
      "\n",
      "===================================\n",
      "Learning rate: 0.01\n",
      "    Accuracy 0.95991\n",
      "    Fidelity 0.95991\n",
      "===================================\n",
      "3125/3125 [==============================] - 3s 955us/step\n",
      "1563/1563 [==============================] - 3s 2ms/step\n",
      "1563/1563 [==============================] - 2s 2ms/step\n",
      "\n",
      "===================================\n",
      "Learning rate: 0.001\n",
      "    Accuracy 0.95992\n",
      "    Fidelity 0.95992\n",
      "===================================\n",
      "3125/3125 [==============================] - 4s 1ms/step\n",
      "1563/1563 [==============================] - 2s 1ms/step\n",
      "1563/1563 [==============================] - 2s 1ms/step\n",
      "\n",
      "===================================\n",
      "Learning rate: 0.0001\n",
      "    Accuracy 0.95947\n",
      "    Fidelity 0.95947\n",
      "===================================\n",
      "3125/3125 [==============================] - 4s 1ms/step\n",
      "1563/1563 [==============================] - 2s 940us/step\n",
      "1563/1563 [==============================] - 2s 1ms/step\n",
      "\n",
      "===================================\n",
      "Learning rate: 1e-05\n",
      "    Accuracy 0.95933\n",
      "    Fidelity 0.95933\n",
      "===================================\n",
      "3125/3125 [==============================] - 4s 1ms/step\n",
      "1563/1563 [==============================] - 2s 1ms/step\n",
      "1563/1563 [==============================] - 2s 1ms/step\n",
      "\n",
      "===================================\n",
      "Learning rate: 1e-06\n",
      "    Accuracy 0.95867\n",
      "    Fidelity 0.95867\n",
      "===================================\n",
      "3125/3125 [==============================] - 4s 1ms/step\n",
      "1563/1563 [==============================] - 2s 1ms/step\n",
      "1563/1563 [==============================] - 2s 1ms/step\n",
      "\n",
      "===================================\n",
      "Learning rate: 1.0000000000000001e-07\n",
      "    Accuracy 0.94466\n",
      "    Fidelity 0.94466\n",
      "===================================\n",
      "3125/3125 [==============================] - 3s 1ms/step\n",
      "1563/1563 [==============================] - 2s 1ms/step\n",
      "1563/1563 [==============================] - 2s 1ms/step\n",
      "\n",
      "===================================\n",
      "Learning rate: 1e-08\n",
      "    Accuracy 0.57486\n",
      "    Fidelity 0.5748599999999999\n",
      "===================================\n"
     ]
    }
   ],
   "source": [
    "all_accuracy = list()\n",
    "all_e_accuracy = list() \n",
    "all_g_accuracy = list()\n",
    "all_fidelity = list()\n",
    "\n",
    "for learning_rate in learning_rates:\n",
    "    #########################\n",
    "    # 1. init callbacks\n",
    "    #########################\n",
    "    callbacks = [\n",
    "        ModelCheckpoint(\n",
    "            checkpoint_filename,\n",
    "            monitor=\"val_loss\",\n",
    "            verbose=0,\n",
    "            save_best_only=True,\n",
    "            save_weights_only=False,\n",
    "            save_freq=\"epoch\",\n",
    "        ),\n",
    "        EarlyStopping(\n",
    "        monitor='val_loss',\n",
    "        patience=15,\n",
    "        restore_best_weights=True,\n",
    "        ),\n",
    "    ]\n",
    "\n",
    "    #########################\n",
    "    # 2. declare model \n",
    "    #########################\n",
    "    opt = Adam(learning_rate=learning_rate)\n",
    "    model = get_model()\n",
    "    model.compile(\n",
    "        optimizer=opt, \n",
    "        loss=CategoricalCrossentropy(from_logits=True), \n",
    "        metrics=['accuracy']\n",
    "    )\n",
    "\n",
    "    #########################\n",
    "    # 3. train \n",
    "    #########################\n",
    "    history = model.fit(\n",
    "        X_train_val, \n",
    "        y_train_val, \n",
    "        batch_size=batch_size,\n",
    "        epochs=epochs, \n",
    "        validation_split=0.05, \n",
    "        shuffle=True, \n",
    "        callbacks=callbacks,\n",
    "        verbose=0,\n",
    "    )\n",
    "\n",
    "    #########################\n",
    "    # 4. compute fidelity \n",
    "    #########################\n",
    "    y_pred = model.predict(X_test)\n",
    "    test_acc = accuracy_score(np.argmax(y_test, axis=1), np.argmax(y_pred, axis=1))\n",
    "    # print(\"Keras  Accuracy: {}\".format(test_acc))\n",
    "    all_accuracy.append(test_acc)\n",
    "    \n",
    "    # get ground and excited indices \n",
    "    e_indices = np.where(np.argmax(y_test, axis=1) == 1)[0]\n",
    "    g_indices = np.where(np.argmax(y_test, axis=1) == 0)[0]\n",
    "\n",
    "    # separate ground and excited samples \n",
    "    Xe_test = X_test[e_indices]\n",
    "    ye_test = np.argmax(y_test, axis=1)[e_indices]\n",
    "\n",
    "    Xg_test = X_test[g_indices]\n",
    "    yg_test = np.argmax(y_test, axis=1)[g_indices]\n",
    "\n",
    "    # compute total correct for excited state \n",
    "    ye_pred = model.predict(Xe_test)\n",
    "    e_accuracy = accuracy_score(ye_test, np.argmax(ye_pred, axis=1))\n",
    "\n",
    "    total_correct = (ye_test==np.argmax(ye_pred, axis=1)).astype(np.int8).sum()\n",
    "    total_incorrect = (ye_test!=np.argmax(ye_pred, axis=1)).astype(np.int8).sum()\n",
    "\n",
    "    # print(\"Total correct:\", total_correct)\n",
    "    # print(\"Total incorrect:\", total_incorrect)\n",
    "    # print(\"Total samples:\", len(Xe_test) )\n",
    "    # print(\"Keras Excited Accuracy: {}\".format(e_accuracy))\n",
    "\n",
    "    # compute total correct for ground state \n",
    "    yg_pred = model.predict(Xg_test)\n",
    "    g_accuracy = accuracy_score(yg_test, np.argmax(yg_pred, axis=1))\n",
    "\n",
    "    total_correct = (yg_test==np.argmax(yg_pred, axis=1)).astype(np.int8).sum()\n",
    "    total_incorrect = (yg_test!=np.argmax(yg_pred, axis=1)).astype(np.int8).sum()\n",
    "\n",
    "    # print(\"Total correct:\", total_correct)\n",
    "    # print(\"Total incorrect:\", total_incorrect)\n",
    "    # print(\"Total samples:\", len(Xg_test) )\n",
    "    # print(\"Keras Ground Accuracy: {}\".format(g_accuracy))\n",
    "\n",
    "    all_e_accuracy.append(e_accuracy)\n",
    "    all_g_accuracy.append(g_accuracy)\n",
    "\n",
    "    # compute fidelity \n",
    "    fidelity = 0.5*(e_accuracy + g_accuracy)\n",
    "    all_fidelity.append(fidelity)\n",
    "    print('\\n===================================')\n",
    "    print('Learning rate:', learning_rate)\n",
    "    print('    Accuracy', test_acc)\n",
    "    print('    Fidelity', fidelity)\n",
    "    print('===================================')\n",
    "\n"
   ]
  },
  {
   "cell_type": "code",
   "execution_count": 14,
   "metadata": {},
   "outputs": [
    {
     "data": {
      "image/png": "[encoded data removed]",
      "text/plain": [
       "<Figure size 640x480 with 1 Axes>"
      ]
     },
     "metadata": {},
     "output_type": "display_data"
    }
   ],
   "source": [
    "plt.figure()\n",
    "plt.plot(learning_rates, all_accuracy, '-*', label='accuracy')\n",
    "plt.plot(learning_rates, np.array(all_accuracy)*2-1, '-*', label='fidelity')\n",
    "plt.suptitle('Multi-Layer NN')\n",
    "plt.title(f'Window Start Location: {start_window}, Window Size: {end_window-start_window}')\n",
    "plt.xlabel('Learning Rate')\n",
    "plt.ylabel('Performance')\n",
    "plt.legend()\n",
    "plt.xscale('log')\n"
   ]
  },
  {
   "cell_type": "code",
   "execution_count": 13,
   "metadata": {},
   "outputs": [
    {
     "name": "stdout",
     "output_type": "stream",
     "text": [
      "Learning Rate: 0.1\n",
      "    Accuracy: 0.96065\n",
      "    Accuracy: 0.9213\n",
      "Learning Rate: 0.01\n",
      "    Accuracy: 0.95991\n",
      "    Accuracy: 0.9198200000000001\n",
      "Learning Rate: 0.001\n",
      "    Accuracy: 0.95992\n",
      "    Accuracy: 0.91984\n",
      "Learning Rate: 0.0001\n",
      "    Accuracy: 0.95947\n",
      "    Accuracy: 0.9189400000000001\n",
      "Learning Rate: 1e-05\n",
      "    Accuracy: 0.95933\n",
      "    Accuracy: 0.91866\n",
      "Learning Rate: 1e-06\n",
      "    Accuracy: 0.95867\n",
      "    Accuracy: 0.91734\n",
      "Learning Rate: 1.0000000000000001e-07\n",
      "    Accuracy: 0.94466\n",
      "    Accuracy: 0.8893200000000001\n",
      "Learning Rate: 1e-08\n",
      "    Accuracy: 0.57486\n",
      "    Accuracy: 0.14972000000000008\n"
     ]
    }
   ],
   "source": [
    "for lr, acc in zip(learning_rates, all_accuracy):\n",
    "    print('Learning Rate:', lr)\n",
    "    print('    Accuracy:', acc)\n",
    "    print('    Accuracy:', acc*2-1)\n"
   ]
  },
  {
   "cell_type": "code",
   "execution_count": null,
   "metadata": {},
   "outputs": [],
   "source": []
  }
 ],
 "metadata": {
  "kernelspec": {
   "display_name": "ml4qick-env",
   "language": "python",
   "name": "python3"
  },
  "language_info": {
   "codemirror_mode": {
    "name": "ipython",
    "version": 3
   },
   "file_extension": ".py",
   "mimetype": "text/x-python",
   "name": "python",
   "nbconvert_exporter": "python",
   "pygments_lexer": "ipython3",
   "version": "3.8.18"
  }
 },
 "nbformat": 4,
 "nbformat_minor": 2
}
