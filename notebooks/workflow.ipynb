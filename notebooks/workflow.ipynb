{
 "cells": [
  {
   "cell_type": "code",
   "execution_count": 1,
   "metadata": {},
   "outputs": [
    {
     "name": "stderr",
     "output_type": "stream",
     "text": [
      "2024-02-04 21:46:24.661258: I tensorflow/core/platform/cpu_feature_guard.cc:193] This TensorFlow binary is optimized with oneAPI Deep Neural Network Library (oneDNN) to use the following CPU instructions in performance-critical operations:  AVX2 AVX512F FMA\n",
      "To enable them in other operations, rebuild TensorFlow with the appropriate compiler flags.\n",
      "2024-02-04 21:46:24.779312: W tensorflow/compiler/xla/stream_executor/platform/default/dso_loader.cc:64] Could not load dynamic library 'libcudart.so.11.0'; dlerror: libcudart.so.11.0: cannot open shared object file: No such file or directory\n",
      "2024-02-04 21:46:24.779334: I tensorflow/compiler/xla/stream_executor/cuda/cudart_stub.cc:29] Ignore above cudart dlerror if you do not have a GPU set up on your machine.\n",
      "2024-02-04 21:46:25.291453: W tensorflow/compiler/xla/stream_executor/platform/default/dso_loader.cc:64] Could not load dynamic library 'libnvinfer.so.7'; dlerror: libnvinfer.so.7: cannot open shared object file: No such file or directory\n",
      "2024-02-04 21:46:25.291518: W tensorflow/compiler/xla/stream_executor/platform/default/dso_loader.cc:64] Could not load dynamic library 'libnvinfer_plugin.so.7'; dlerror: libnvinfer_plugin.so.7: cannot open shared object file: No such file or directory\n",
      "2024-02-04 21:46:25.291526: W tensorflow/compiler/tf2tensorrt/utils/py_utils.cc:38] TF-TRT Warning: Cannot dlopen some TensorRT libraries. If you would like to use Nvidia GPU with TensorRT, please make sure the missing libraries mentioned above are installed properly.\n"
     ]
    },
    {
     "name": "stdout",
     "output_type": "stream",
     "text": [
      "WARN: Unable to import optimizer(s) from expr_templates.py: No module named 'sympy'\n",
      "WARNING: Failed to import handlers from convolution.py: No module named 'torch'.\n",
      "WARNING: Failed to import handlers from core.py: No module named 'torch'.\n",
      "WARNING: Failed to import handlers from merge.py: No module named 'torch'.\n",
      "WARNING: Failed to import handlers from pooling.py: No module named 'torch'.\n",
      "WARNING: Failed to import handlers from reshape.py: No module named 'torch'.\n"
     ]
    },
    {
     "name": "stderr",
     "output_type": "stream",
     "text": [
      "/home/jcampos/miniforge3/envs/ml4qick-env/lib/python3.8/site-packages/hls4ml/converters/__init__.py:27: UserWarning: WARNING: Pytorch converter is not enabled!\n",
      "  warnings.warn(\"WARNING: Pytorch converter is not enabled!\", stacklevel=1)\n"
     ]
    }
   ],
   "source": [
    "import os \n",
    "import sys \n",
    "sys.path.append(\"../training\")\n",
    "import pickle\n",
    "\n",
    "from save_data import process_data\n",
    "\n",
    "import hls4ml \n",
    "import numpy as np\n",
    "import matplotlib.pyplot as plt \n",
    "from sklearn.metrics import accuracy_score\n",
    "import tensorflow as tf\n",
    "from tensorflow.keras.optimizers import Adam\n",
    "from tensorflow.keras.models import Sequential\n",
    "from tensorflow.keras.layers import Dense, Activation, BatchNormalization, Dropout\n",
    "from tensorflow.keras.callbacks import ReduceLROnPlateau, ModelCheckpoint\n",
    "from tensorflow.keras.losses import CategoricalCrossentropy\n",
    "\n",
    "from tensorflow_model_optimization.python.core.sparsity.keras import prune, pruning_callbacks, pruning_schedule\n",
    "from tensorflow_model_optimization.sparsity.keras import strip_pruning\n",
    "import tensorflow_model_optimization as tfmot\n",
    "\n",
    "from qkeras.qlayers import QDense, QActivation\n",
    "from qkeras import QBatchNormalization\n",
    "from qkeras.quantizers import quantized_bits, quantized_relu\n",
    "from qkeras.utils import _add_supported_quantized_objects\n",
    "from tensorflow.keras.models import load_model\n",
    "from qkeras.utils import _add_supported_quantized_objects"
   ]
  },
  {
   "cell_type": "markdown",
   "metadata": {},
   "source": [
    "## Setup data"
   ]
  },
  {
   "cell_type": "code",
   "execution_count": 2,
   "metadata": {},
   "outputs": [],
   "source": [
    "def one_hot_encode(data):\n",
    "    y_encoded = np.zeros([data.shape[0],2], dtype=np.int32)\n",
    "    for idx, x in enumerate(data):\n",
    "        if x == 1:\n",
    "            y_encoded[idx][1] = 1\n",
    "        else:\n",
    "            y_encoded[idx][0] = 1\n",
    "    return y_encoded"
   ]
  },
  {
   "cell_type": "code",
   "execution_count": 3,
   "metadata": {},
   "outputs": [],
   "source": [
    "START_WINDOW = 0\n",
    "END_WINDOW = 770\n",
    "DATA_DIR = \"../data\"\n",
    "\n",
    "# convert raw ADC data into npy files \n",
    "if os.path.exists(f\"{DATA_DIR}/X_train.npy\") == False:\n",
    "    process_data(\n",
    "        start_window=START_WINDOW, \n",
    "        end_window=END_WINDOW, \n",
    "        data_dir=DATA_DIR\n",
    "    )"
   ]
  },
  {
   "cell_type": "code",
   "execution_count": 4,
   "metadata": {},
   "outputs": [
    {
     "name": "stdout",
     "output_type": "stream",
     "text": [
      "Training:\n",
      "\tSize: 99000\n",
      "\tSample Shape: 1540\n",
      "\tMean: -59.46036271153089\n",
      "\tStd. Dev.: 1759.24042942374\n",
      "Testing:\n",
      "\tSize: 11000\n",
      "\tSample Shape: 1540\n",
      "\tSample Shape: -58.52290962219599\n",
      "\tStd. Dev.: 1761.6940578897895\n"
     ]
    }
   ],
   "source": [
    "# load data\n",
    "X_train_val = np.load(os.path.join(DATA_DIR, 'X_train.npy'))\n",
    "X_test = np.load(os.path.join(DATA_DIR, 'X_test.npy'))    \n",
    "y_train_val = np.load(os.path.join(DATA_DIR, 'y_train.npy'))\n",
    "y_test = np.load(os.path.join(DATA_DIR, 'y_test.npy'))\n",
    "\n",
    "y_train_val = one_hot_encode(y_train_val)\n",
    "y_test = one_hot_encode(y_test)\n",
    "\n",
    "print(\"Training:\")\n",
    "print(\"\\tSize:\", len(X_train_val))\n",
    "print(\"\\tSample Shape:\", len(X_train_val[0]))\n",
    "print(\"\\tMean:\", X_train_val.mean())\n",
    "print(\"\\tStd. Dev.:\", X_train_val.std())\n",
    "\n",
    "print(\"Testing:\")\n",
    "print(\"\\tSize:\", len(X_test))\n",
    "print(\"\\tSample Shape:\", len(X_test[0]))\n",
    "print(\"\\tSample Shape:\", X_test.mean())\n",
    "print(\"\\tStd. Dev.:\", X_test.std())\n",
    "\n",
    "assert len(X_train_val[0]) == (END_WINDOW-START_WINDOW)*2, \"ERROR: Specified window does not match loaded dataset shape\"\n",
    "assert len(X_test[0]) == (END_WINDOW-START_WINDOW)*2, \"ERROR: Specified window does not match loaded dataset shape\""
   ]
  },
  {
   "cell_type": "markdown",
   "metadata": {},
   "source": [
    "## Construct a model \n",
    "QKeras is \"Quantized Keras\" for deep heterogeneous quantization of ML models. We're using QDense layer instead of Dense. We're also training with model sparsity, since QKeras layers are prunable."
   ]
  },
  {
   "cell_type": "code",
   "execution_count": 5,
   "metadata": {},
   "outputs": [],
   "source": [
    "INIT_LEARNING_RATE = 1e-2\n",
    "VALIDATION_SPLIT = 0.3\n",
    "BATCH_SIZE = 12800\n",
    "EPOCHS = 50\n",
    "CHECKPOINT_FILENAME = \"qmodel.h5\"\n",
    "INPUT_SHAPE = (len(X_train_val[0]),)"
   ]
  },
  {
   "cell_type": "code",
   "execution_count": 6,
   "metadata": {},
   "outputs": [
    {
     "name": "stderr",
     "output_type": "stream",
     "text": [
      "2024-02-04 21:46:31.839945: W tensorflow/compiler/xla/stream_executor/platform/default/dso_loader.cc:64] Could not load dynamic library 'libcuda.so.1'; dlerror: libcuda.so.1: cannot open shared object file: No such file or directory\n",
      "2024-02-04 21:46:31.840001: W tensorflow/compiler/xla/stream_executor/cuda/cuda_driver.cc:265] failed call to cuInit: UNKNOWN ERROR (303)\n",
      "2024-02-04 21:46:31.840048: I tensorflow/compiler/xla/stream_executor/cuda/cuda_diagnostics.cc:156] kernel driver does not appear to be running on this host (correlator4.fnal.gov): /proc/driver/nvidia/version does not exist\n",
      "2024-02-04 21:46:31.840528: I tensorflow/core/platform/cpu_feature_guard.cc:193] This TensorFlow binary is optimized with oneAPI Deep Neural Network Library (oneDNN) to use the following CPU instructions in performance-critical operations:  AVX2 AVX512F FMA\n",
      "To enable them in other operations, rebuild TensorFlow with the appropriate compiler flags.\n"
     ]
    },
    {
     "name": "stdout",
     "output_type": "stream",
     "text": [
      "WARNING:tensorflow:From /home/jcampos/miniforge3/envs/ml4qick-env/lib/python3.8/site-packages/tensorflow/python/autograph/pyct/static_analysis/liveness.py:83: Analyzer.lamba_check (from tensorflow.python.autograph.pyct.static_analysis.liveness) is deprecated and will be removed after 2023-09-23.\n",
      "Instructions for updating:\n",
      "Lambda fuctions will be no more assumed to be used in the statement where they are used, or at least in the same block. https://github.com/tensorflow/tensorflow/issues/56089\n",
      "=============================Model Summary=============================\n",
      "Model: \"sequential\"\n",
      "_________________________________________________________________\n",
      " Layer (type)                Output Shape              Param #   \n",
      "=================================================================\n",
      " prune_low_magnitude_fc1 (Pr  (None, 2)                6164      \n",
      " uneLowMagnitude)                                                \n",
      "                                                                 \n",
      " prune_low_magnitude_batch_n  (None, 2)                9         \n",
      " ormalization (PruneLowMagni                                     \n",
      " tude)                                                           \n",
      "                                                                 \n",
      "=================================================================\n",
      "Total params: 6,173\n",
      "Trainable params: 3,086\n",
      "Non-trainable params: 3,087\n",
      "_________________________________________________________________\n",
      "None\n",
      "=======================================================================\n"
     ]
    }
   ],
   "source": [
    "# Define model with quantize layers \n",
    "model = Sequential()\n",
    "model.add(QDense(2, input_shape=(1540,), name='fc1', kernel_quantizer=quantized_bits(6,0,alpha=1), bias_quantizer=quantized_bits(6,0,alpha=1),))\n",
    "model.add(BatchNormalization())\n",
    "\n",
    "# adding pruning \n",
    "pruning_params = {'pruning_schedule': tfmot.sparsity.keras.PolynomialDecay(initial_sparsity=0.50, final_sparsity=0.80, begin_step=200, end_step=1000)}\n",
    "model = prune.prune_low_magnitude(model, **pruning_params)\n",
    "\n",
    "print('=============================Model Summary=============================')\n",
    "print(model.summary())\n",
    "print('=======================================================================')"
   ]
  },
  {
   "cell_type": "code",
   "execution_count": 7,
   "metadata": {},
   "outputs": [],
   "source": [
    "lr_schedule = tf.keras.optimizers.schedules.ExponentialDecay(\n",
    "    INIT_LEARNING_RATE,\n",
    "    decay_steps=100000,\n",
    "    decay_rate=0.96,\n",
    "    staircase=True\n",
    ")\n",
    "\n",
    "callbacks = [\n",
    "        ModelCheckpoint(\n",
    "        CHECKPOINT_FILENAME,\n",
    "        monitor=\"val_loss\",\n",
    "        verbose=0,\n",
    "        save_best_only=True,\n",
    "        save_weights_only=False,\n",
    "        save_freq=\"epoch\",\n",
    "    ),\n",
    "    ReduceLROnPlateau(patience=75, min_delta=1**-6),\n",
    "    pruning_callbacks.UpdatePruningStep(),\n",
    "]\n"
   ]
  },
  {
   "cell_type": "markdown",
   "metadata": {},
   "source": [
    "## Train the model "
   ]
  },
  {
   "cell_type": "code",
   "execution_count": 8,
   "metadata": {},
   "outputs": [
    {
     "name": "stdout",
     "output_type": "stream",
     "text": [
      "Epoch 1/50\n",
      "6/6 [==============================] - 2s 119ms/step - loss: 0.3865 - accuracy: 0.8582 - val_loss: 1.2491 - val_accuracy: 0.7151 - lr: 0.0100\n",
      "Epoch 2/50\n",
      "6/6 [==============================] - 0s 43ms/step - loss: 0.2303 - accuracy: 0.9555 - val_loss: 0.8156 - val_accuracy: 0.7320 - lr: 0.0100\n",
      "Epoch 3/50\n",
      "6/6 [==============================] - 0s 38ms/step - loss: 0.2200 - accuracy: 0.9565 - val_loss: 0.6448 - val_accuracy: 0.7531 - lr: 0.0100\n",
      "Epoch 4/50\n",
      "6/6 [==============================] - 0s 40ms/step - loss: 0.2117 - accuracy: 0.9572 - val_loss: 0.5399 - val_accuracy: 0.7789 - lr: 0.0100\n",
      "Epoch 5/50\n",
      "6/6 [==============================] - 0s 41ms/step - loss: 0.2044 - accuracy: 0.9574 - val_loss: 0.4578 - val_accuracy: 0.8087 - lr: 0.0100\n",
      "Epoch 6/50\n",
      "6/6 [==============================] - 0s 37ms/step - loss: 0.1980 - accuracy: 0.9579 - val_loss: 0.4078 - val_accuracy: 0.8294 - lr: 0.0100\n",
      "Epoch 7/50\n",
      "6/6 [==============================] - 0s 37ms/step - loss: 0.1925 - accuracy: 0.9581 - val_loss: 0.3693 - val_accuracy: 0.8488 - lr: 0.0100\n",
      "Epoch 8/50\n",
      "6/6 [==============================] - 0s 35ms/step - loss: 0.1879 - accuracy: 0.9584 - val_loss: 0.3362 - val_accuracy: 0.8679 - lr: 0.0100\n",
      "Epoch 9/50\n",
      "6/6 [==============================] - 0s 32ms/step - loss: 0.1839 - accuracy: 0.9587 - val_loss: 0.3090 - val_accuracy: 0.8816 - lr: 0.0100\n",
      "Epoch 10/50\n",
      "6/6 [==============================] - 0s 31ms/step - loss: 0.1805 - accuracy: 0.9591 - val_loss: 0.2876 - val_accuracy: 0.8942 - lr: 0.0100\n",
      "Epoch 11/50\n",
      "6/6 [==============================] - 0s 32ms/step - loss: 0.1774 - accuracy: 0.9595 - val_loss: 0.2683 - val_accuracy: 0.9069 - lr: 0.0100\n",
      "Epoch 12/50\n",
      "6/6 [==============================] - 0s 34ms/step - loss: 0.1748 - accuracy: 0.9598 - val_loss: 0.2503 - val_accuracy: 0.9172 - lr: 0.0100\n",
      "Epoch 13/50\n",
      "6/6 [==============================] - 0s 31ms/step - loss: 0.1724 - accuracy: 0.9601 - val_loss: 0.2384 - val_accuracy: 0.9247 - lr: 0.0100\n",
      "Epoch 14/50\n",
      "6/6 [==============================] - 0s 34ms/step - loss: 0.1703 - accuracy: 0.9606 - val_loss: 0.2288 - val_accuracy: 0.9294 - lr: 0.0100\n",
      "Epoch 15/50\n",
      "6/6 [==============================] - 0s 34ms/step - loss: 0.1685 - accuracy: 0.9608 - val_loss: 0.2194 - val_accuracy: 0.9349 - lr: 0.0100\n",
      "Epoch 16/50\n",
      "6/6 [==============================] - 0s 34ms/step - loss: 0.1669 - accuracy: 0.9612 - val_loss: 0.2122 - val_accuracy: 0.9395 - lr: 0.0100\n",
      "Epoch 17/50\n",
      "6/6 [==============================] - 0s 31ms/step - loss: 0.1656 - accuracy: 0.9615 - val_loss: 0.2060 - val_accuracy: 0.9430 - lr: 0.0100\n",
      "Epoch 18/50\n",
      "6/6 [==============================] - 0s 32ms/step - loss: 0.1642 - accuracy: 0.9617 - val_loss: 0.1990 - val_accuracy: 0.9458 - lr: 0.0100\n",
      "Epoch 19/50\n",
      "6/6 [==============================] - 0s 31ms/step - loss: 0.1631 - accuracy: 0.9619 - val_loss: 0.1934 - val_accuracy: 0.9486 - lr: 0.0100\n",
      "Epoch 20/50\n",
      "6/6 [==============================] - 0s 31ms/step - loss: 0.1620 - accuracy: 0.9621 - val_loss: 0.1897 - val_accuracy: 0.9501 - lr: 0.0100\n",
      "Epoch 21/50\n",
      "6/6 [==============================] - 0s 32ms/step - loss: 0.1611 - accuracy: 0.9623 - val_loss: 0.1865 - val_accuracy: 0.9516 - lr: 0.0100\n",
      "Epoch 22/50\n",
      "6/6 [==============================] - 0s 32ms/step - loss: 0.1603 - accuracy: 0.9625 - val_loss: 0.1829 - val_accuracy: 0.9535 - lr: 0.0100\n",
      "Epoch 23/50\n",
      "6/6 [==============================] - 0s 31ms/step - loss: 0.1596 - accuracy: 0.9627 - val_loss: 0.1805 - val_accuracy: 0.9543 - lr: 0.0100\n",
      "Epoch 24/50\n",
      "6/6 [==============================] - 0s 32ms/step - loss: 0.1589 - accuracy: 0.9628 - val_loss: 0.1782 - val_accuracy: 0.9549 - lr: 0.0100\n",
      "Epoch 25/50\n",
      "6/6 [==============================] - 0s 42ms/step - loss: 0.1584 - accuracy: 0.9628 - val_loss: 0.1759 - val_accuracy: 0.9563 - lr: 0.0100\n",
      "Epoch 26/50\n",
      "6/6 [==============================] - 0s 36ms/step - loss: 0.1579 - accuracy: 0.9627 - val_loss: 0.1736 - val_accuracy: 0.9569 - lr: 0.0100\n",
      "Epoch 27/50\n",
      "6/6 [==============================] - 0s 36ms/step - loss: 0.1574 - accuracy: 0.9627 - val_loss: 0.1727 - val_accuracy: 0.9571 - lr: 0.0100\n",
      "Epoch 28/50\n",
      "6/6 [==============================] - 0s 37ms/step - loss: 0.1570 - accuracy: 0.9629 - val_loss: 0.1713 - val_accuracy: 0.9579 - lr: 0.0100\n",
      "Epoch 29/50\n",
      "6/6 [==============================] - 0s 32ms/step - loss: 0.1565 - accuracy: 0.9629 - val_loss: 0.1702 - val_accuracy: 0.9584 - lr: 0.0100\n",
      "Epoch 30/50\n",
      "6/6 [==============================] - 0s 33ms/step - loss: 0.1563 - accuracy: 0.9631 - val_loss: 0.1693 - val_accuracy: 0.9589 - lr: 0.0100\n",
      "Epoch 31/50\n",
      "6/6 [==============================] - 0s 31ms/step - loss: 0.1561 - accuracy: 0.9630 - val_loss: 0.1686 - val_accuracy: 0.9588 - lr: 0.0100\n",
      "Epoch 32/50\n",
      "6/6 [==============================] - 0s 35ms/step - loss: 0.1556 - accuracy: 0.9630 - val_loss: 0.1681 - val_accuracy: 0.9591 - lr: 0.0100\n",
      "Epoch 33/50\n",
      "6/6 [==============================] - 0s 37ms/step - loss: 0.1554 - accuracy: 0.9630 - val_loss: 0.1678 - val_accuracy: 0.9590 - lr: 0.0100\n",
      "Epoch 34/50\n",
      "6/6 [==============================] - 0s 41ms/step - loss: 0.1575 - accuracy: 0.9627 - val_loss: 0.1757 - val_accuracy: 0.9597 - lr: 0.0100\n",
      "Epoch 35/50\n",
      "6/6 [==============================] - 0s 34ms/step - loss: 0.1573 - accuracy: 0.9629 - val_loss: 0.1745 - val_accuracy: 0.9598 - lr: 0.0100\n",
      "Epoch 36/50\n",
      "6/6 [==============================] - 0s 33ms/step - loss: 0.1568 - accuracy: 0.9628 - val_loss: 0.1737 - val_accuracy: 0.9595 - lr: 0.0100\n",
      "Epoch 37/50\n",
      "6/6 [==============================] - 0s 32ms/step - loss: 0.1565 - accuracy: 0.9629 - val_loss: 0.1723 - val_accuracy: 0.9598 - lr: 0.0100\n",
      "Epoch 38/50\n",
      "6/6 [==============================] - 0s 30ms/step - loss: 0.1562 - accuracy: 0.9629 - val_loss: 0.1710 - val_accuracy: 0.9600 - lr: 0.0100\n",
      "Epoch 39/50\n",
      "6/6 [==============================] - 0s 30ms/step - loss: 0.1559 - accuracy: 0.9627 - val_loss: 0.1701 - val_accuracy: 0.9602 - lr: 0.0100\n",
      "Epoch 40/50\n",
      "6/6 [==============================] - 0s 32ms/step - loss: 0.1557 - accuracy: 0.9626 - val_loss: 0.1695 - val_accuracy: 0.9601 - lr: 0.0100\n",
      "Epoch 41/50\n",
      "6/6 [==============================] - 0s 33ms/step - loss: 0.1555 - accuracy: 0.9627 - val_loss: 0.1693 - val_accuracy: 0.9602 - lr: 0.0100\n",
      "Epoch 42/50\n",
      "6/6 [==============================] - 0s 32ms/step - loss: 0.1554 - accuracy: 0.9627 - val_loss: 0.1690 - val_accuracy: 0.9600 - lr: 0.0100\n",
      "Epoch 43/50\n",
      "6/6 [==============================] - 0s 32ms/step - loss: 0.1552 - accuracy: 0.9627 - val_loss: 0.1687 - val_accuracy: 0.9600 - lr: 0.0100\n",
      "Epoch 44/50\n",
      "6/6 [==============================] - 0s 32ms/step - loss: 0.1552 - accuracy: 0.9627 - val_loss: 0.1687 - val_accuracy: 0.9599 - lr: 0.0100\n",
      "Epoch 45/50\n",
      "6/6 [==============================] - 0s 31ms/step - loss: 0.1551 - accuracy: 0.9628 - val_loss: 0.1682 - val_accuracy: 0.9599 - lr: 0.0100\n",
      "Epoch 46/50\n",
      "6/6 [==============================] - 0s 31ms/step - loss: 0.1549 - accuracy: 0.9628 - val_loss: 0.1680 - val_accuracy: 0.9602 - lr: 0.0100\n",
      "Epoch 47/50\n",
      "6/6 [==============================] - 0s 32ms/step - loss: 0.1550 - accuracy: 0.9628 - val_loss: 0.1678 - val_accuracy: 0.9598 - lr: 0.0100\n",
      "Epoch 48/50\n",
      "6/6 [==============================] - 0s 32ms/step - loss: 0.1549 - accuracy: 0.9628 - val_loss: 0.1676 - val_accuracy: 0.9598 - lr: 0.0100\n",
      "Epoch 49/50\n",
      "6/6 [==============================] - 0s 32ms/step - loss: 0.1548 - accuracy: 0.9627 - val_loss: 0.1676 - val_accuracy: 0.9600 - lr: 0.0100\n",
      "Epoch 50/50\n",
      "6/6 [==============================] - 0s 32ms/step - loss: 0.1548 - accuracy: 0.9625 - val_loss: 0.1767 - val_accuracy: 0.9587 - lr: 0.0100\n"
     ]
    }
   ],
   "source": [
    "opt = Adam(learning_rate=INIT_LEARNING_RATE)\n",
    "model.compile(\n",
    "    optimizer=opt, \n",
    "    # loss=tf.keras.losses.BinaryCrossentropy(),\n",
    "    loss=CategoricalCrossentropy(from_logits=True), \n",
    "    metrics=['accuracy']\n",
    ")\n",
    "\n",
    "history = model.fit(\n",
    "    X_train_val, \n",
    "    y_train_val, \n",
    "    batch_size=BATCH_SIZE,\n",
    "    epochs=EPOCHS, \n",
    "    validation_split=VALIDATION_SPLIT, \n",
    "    shuffle=True, \n",
    "    callbacks=callbacks\n",
    ")"
   ]
  },
  {
   "cell_type": "markdown",
   "metadata": {},
   "source": [
    "Important: Pruning layers must be removed before saving to disk. "
   ]
  },
  {
   "cell_type": "code",
   "execution_count": 9,
   "metadata": {},
   "outputs": [
    {
     "name": "stdout",
     "output_type": "stream",
     "text": [
      "WARNING:tensorflow:Compiled the loaded model, but the compiled metrics have yet to be built. `model.compile_metrics` will be empty until you train or evaluate the model.\n",
      "Saving history to: qmodel-history.pkl\n",
      "Saved checkpoint to: qmodel.h5\n"
     ]
    }
   ],
   "source": [
    "model = strip_pruning(model)\n",
    "model.save(CHECKPOINT_FILENAME)\n",
    "\n",
    "history_file = CHECKPOINT_FILENAME.replace(\".h5\", \"-history.pkl\")\n",
    "with open(history_file, 'wb') as file_pi:\n",
    "    pickle.dump(history.history, file_pi)\n",
    "\n",
    "print(f'Saving history to: {history_file}')\n",
    "print(f'Saved checkpoint to: {CHECKPOINT_FILENAME}')"
   ]
  },
  {
   "cell_type": "markdown",
   "metadata": {},
   "source": [
    "## Check performance\n",
    "\n",
    "todo: add ROC curve"
   ]
  },
  {
   "cell_type": "code",
   "execution_count": 10,
   "metadata": {},
   "outputs": [
    {
     "name": "stdout",
     "output_type": "stream",
     "text": [
      "344/344 [==============================] - 0s 1ms/step\n",
      "Keras  Accuracy: 0.9553636363636364\n"
     ]
    }
   ],
   "source": [
    "co = {}\n",
    "_add_supported_quantized_objects(co)\n",
    "model = load_model(CHECKPOINT_FILENAME, custom_objects=co, compile=False)\n",
    "y_pred = model.predict(X_test)\n",
    "print(\"Keras  Accuracy: {}\".format(accuracy_score(np.argmax(y_test, axis=1), np.argmax(y_pred, axis=1))))"
   ]
  },
  {
   "cell_type": "markdown",
   "metadata": {},
   "source": [
    "## Check sparsity "
   ]
  },
  {
   "cell_type": "code",
   "execution_count": 11,
   "metadata": {},
   "outputs": [
    {
     "name": "stdout",
     "output_type": "stream",
     "text": [
      "Number of layers: 2\n",
      "% of zeros = 0.599025974025974\n",
      "% of zeros = 0.0\n"
     ]
    },
    {
     "data": {
      "image/png": "[encoded data removed]",
      "text/plain": [
       "<Figure size 700x700 with 1 Axes>"
      ]
     },
     "metadata": {},
     "output_type": "display_data"
    },
    {
     "data": {
      "image/png": "[encoded data removed]",
      "text/plain": [
       "<Figure size 700x700 with 1 Axes>"
      ]
     },
     "metadata": {},
     "output_type": "display_data"
    }
   ],
   "source": [
    "num_layers = len(model.layers)\n",
    "print(f'Number of layers: {num_layers}')\n",
    "\n",
    "\n",
    "for idx in range(num_layers):\n",
    "    w = model.layers[idx].weights[0].numpy()\n",
    "    h, b = np.histogram(w, bins=100)\n",
    "\n",
    "    # plot weight distribution\n",
    "    plt.figure(figsize=(7, 7))\n",
    "    plt.bar(b[:-1], h, width=b[1] - b[0])\n",
    "    plt.semilogy()\n",
    "    plt.savefig(f'model-dist-idx{idx}.png')\n",
    "\n",
    "    print('% of zeros = {}'.format(np.sum(w == 0) / np.size(w)))"
   ]
  },
  {
   "cell_type": "markdown",
   "metadata": {},
   "source": [
    "## Build the HLS model "
   ]
  },
  {
   "cell_type": "code",
   "execution_count": 12,
   "metadata": {},
   "outputs": [],
   "source": [
    "sys.path.append(\"../utils\")\n",
    "from config import print_dict\n",
    "\n",
    "from tensorflow.keras.models import load_model\n",
    "from qkeras.utils import _add_supported_quantized_objects"
   ]
  },
  {
   "cell_type": "code",
   "execution_count": 13,
   "metadata": {},
   "outputs": [
    {
     "name": "stdout",
     "output_type": "stream",
     "text": [
      "344/344 [==============================] - 0s 1ms/step\n",
      "344/344 [==============================] - 0s 902us/step\n",
      "Model acc: 0.9553636363636364\n",
      "Model: \"sequential\"\n",
      "_________________________________________________________________\n",
      " Layer (type)                Output Shape              Param #   \n",
      "=================================================================\n",
      " fc1 (QDense)                (None, 2)                 3082      \n",
      "                                                                 \n",
      " batch_normalization (BatchN  (None, 2)                8         \n",
      " ormalization)                                                   \n",
      "                                                                 \n",
      "=================================================================\n",
      "Total params: 3,090\n",
      "Trainable params: 3,086\n",
      "Non-trainable params: 4\n",
      "_________________________________________________________________\n",
      "None\n"
     ]
    }
   ],
   "source": [
    "# Load checkpoint \n",
    "co = {}\n",
    "_add_supported_quantized_objects(co)\n",
    "model = load_model(CHECKPOINT_FILENAME, custom_objects=co, compile=False)\n",
    "y_pred = model.predict(X_test)\n",
    "\n",
    "# Re-evalulate \n",
    "y_keras = model.predict(X_test)\n",
    "print(f'Model acc: {accuracy_score(np.argmax(y_test, axis=1), np.argmax(y_keras, axis=1))}')\n",
    "print(model.summary()) "
   ]
  },
  {
   "cell_type": "code",
   "execution_count": 14,
   "metadata": {},
   "outputs": [
    {
     "name": "stdout",
     "output_type": "stream",
     "text": [
      "Model\n",
      "  Precision:         ap_fixed<16,6>\n",
      "  ReuseFactor:       1\n",
      "LayerName\n",
      "  fc1_input\n",
      "    Precision:       ap_fixed<14,14>\n",
      "    Trace:           True\n",
      "  fc1\n",
      "    Precision\n",
      "      result:        ap_fixed<18,18>\n",
      "    Trace:           True\n",
      "    accum_t:         ap_fixed<18,18>\n",
      "  fc1_linear\n",
      "    Precision\n",
      "      result:        ap_fixed<18,18>\n",
      "    Trace:           True\n",
      "  batch_normalization\n",
      "    Precision\n",
      "      scale:         ap_fixed<20,3>\n",
      "      bias:          ap_fixed<20,3>\n",
      "      result:        ap_fixed<16,6>\n",
      "    Trace:           True\n"
     ]
    }
   ],
   "source": [
    "# Create HLS configuration \n",
    "HLSConfig = {}\n",
    "HLSConfig['Model'] = {}\n",
    "HLSConfig['Model']['Precision'] = 'ap_fixed<16,6>'  # Default precision\n",
    "HLSConfig['Model']['ReuseFactor'] = 1  # fully parallelized \n",
    "\n",
    "HLSConfig['LayerName'] = {}\n",
    "for layer in ['fc1_input', 'fc1', 'fc1_linear', 'batch_normalization']:\n",
    "    HLSConfig['LayerName'][layer] = {}\n",
    "    HLSConfig['LayerName'][layer]['Precision'] = {}\n",
    "    HLSConfig['LayerName'][layer]['Trace'] = True\n",
    "\n",
    "# Input - ZCU216 uses 14-bit ADCS \n",
    "HLSConfig['LayerName']['fc1_input']['Precision'] = 'ap_fixed<14,14>' \n",
    "# Fc\n",
    "HLSConfig['LayerName']['fc1']['Precision']['result'] = 'ap_fixed<18,18>'\n",
    "HLSConfig['LayerName']['fc1']['accum_t'] = 'ap_fixed<18,18>'\n",
    "# Fc Linear\n",
    "HLSConfig['LayerName']['fc1_linear']['Precision']['result'] = 'ap_fixed<18,18>'\n",
    "# Batchnormalization\n",
    "HLSConfig['LayerName']['batch_normalization']['Precision']['scale'] = 'ap_fixed<20,3>'\n",
    "HLSConfig['LayerName']['batch_normalization']['Precision']['bias'] = 'ap_fixed<20,3>'\n",
    "HLSConfig['LayerName']['batch_normalization']['Precision']['result'] = 'ap_fixed<16,6>'\n",
    "\n",
    "print_dict(HLSConfig)"
   ]
  },
  {
   "cell_type": "code",
   "execution_count": 15,
   "metadata": {},
   "outputs": [
    {
     "name": "stdout",
     "output_type": "stream",
     "text": [
      "Interpreting Sequential\n",
      "Topology:\n",
      "Layer name: fc1_input, layer type: InputLayer, input shapes: [[None, 1540]], output shape: [None, 1540]\n",
      "Layer name: fc1, layer type: QDense, input shapes: [[None, 1540]], output shape: [None, 2]\n",
      "Layer name: batch_normalization, layer type: BatchNormalization, input shapes: [[None, 2]], output shape: [None, 2]\n",
      "Creating HLS model\n",
      "WARNING: Config parameter \"accum_t\" overwrites an existing attribute in layer \"fc1\" (Dense)\n",
      "Creating hls4ml project directory hls4ml_prj/\n",
      "Writing HLS project\n",
      "WARNING:tensorflow:Compiled the loaded model, but the compiled metrics have yet to be built. `model.compile_metrics` will be empty until you train or evaluate the model.\n"
     ]
    },
    {
     "name": "stderr",
     "output_type": "stream",
     "text": [
      "WARNING:tensorflow:Compiled the loaded model, but the compiled metrics have yet to be built. `model.compile_metrics` will be empty until you train or evaluate the model.\n"
     ]
    },
    {
     "name": "stdout",
     "output_type": "stream",
     "text": [
      "Done\n"
     ]
    }
   ],
   "source": [
    "OutputDir = 'hls4ml_prj/'\n",
    "XilinxPart = 'xczu49dr-ffvf1760-2-e'\n",
    "IOType = 'io_parallel'\n",
    "ClockPeriod = 3.225  # 3.225ns (307.2 MHz)\n",
    "HLSFig = OutputDir+'model.png'\n",
    "\n",
    "hls_model = hls4ml.converters.convert_from_keras_model(\n",
    "    model=model,\n",
    "    hls_config=HLSConfig,\n",
    "    output_dir=OutputDir,\n",
    "    part=XilinxPart,\n",
    "    io_type=IOType,\n",
    "    clock_period=ClockPeriod,\n",
    ")\n",
    "\n",
    "print(f\"Creating hls4ml project directory {OutputDir}\")\n",
    "hls_model.compile()  # Must compile for C Sim. \n",
    "\n",
    "# Visualize model\n",
    "hls4ml.utils.plot_model(\n",
    "    hls_model, show_shapes=True, show_precision=True, to_file=HLSFig\n",
    ")"
   ]
  },
  {
   "cell_type": "markdown",
   "metadata": {},
   "source": [
    "## Check performance"
   ]
  },
  {
   "cell_type": "code",
   "execution_count": 16,
   "metadata": {},
   "outputs": [
    {
     "name": "stdout",
     "output_type": "stream",
     "text": [
      "Keras Acc: 95.536%\n",
      "HLS Acc: 95.4:%\n",
      "CKA: 99.736%\n"
     ]
    }
   ],
   "source": [
    "# Trace output \n",
    "y_hls = hls_model.predict(np.ascontiguousarray(X_test.astype(np.float32))) \n",
    "y_hls = np.argmax(y_hls, axis=1)\n",
    "\n",
    "print(f'Keras Acc: {accuracy_score(np.argmax(y_test, axis=1), np.argmax(y_keras, axis=1))*100:.5}%')\n",
    "print(f'HLS Acc: {accuracy_score(np.argmax(y_test, axis=1), y_hls)*100:.5}:%')\n",
    "print(f'CKA: {accuracy_score(np.argmax(y_keras, axis=1), y_hls)*100:.5}%')"
   ]
  },
  {
   "cell_type": "markdown",
   "metadata": {},
   "source": [
    "## Correlation plots (Keras vs HLS)\n",
    "Let's compare the output of the Qkeras and HLS model. If properly configured, the HLS activations will be aligned with the Qkeras model. "
   ]
  },
  {
   "cell_type": "code",
   "execution_count": 17,
   "metadata": {},
   "outputs": [
    {
     "name": "stdout",
     "output_type": "stream",
     "text": [
      "Recompiling myproject with tracing\n",
      "Writing HLS project\n",
      "WARNING:tensorflow:Compiled the loaded model, but the compiled metrics have yet to be built. `model.compile_metrics` will be empty until you train or evaluate the model.\n"
     ]
    },
    {
     "name": "stderr",
     "output_type": "stream",
     "text": [
      "WARNING:tensorflow:Compiled the loaded model, but the compiled metrics have yet to be built. `model.compile_metrics` will be empty until you train or evaluate the model.\n"
     ]
    },
    {
     "name": "stdout",
     "output_type": "stream",
     "text": [
      "Done\n",
      "344/344 [==============================] - 0s 1ms/step\n",
      "Done taking outputs for Keras model.\n",
      "HLS Keys: dict_keys(['fc1', 'batch_normalization'])\n",
      "Keras Keys: dict_keys(['fc1', 'batch_normalization'])\n"
     ]
    }
   ],
   "source": [
    "_, hls_trace = hls_model.trace(np.ascontiguousarray(X_test.astype(np.float32))) \n",
    "keras_trace = hls4ml.model.profiling.get_ymodel_keras(model, X_test.astype(np.float32)) \n",
    "\n",
    "print(f'HLS Keys: {hls_trace.keys()}')\n",
    "print(f'Keras Keys: {keras_trace.keys()}')"
   ]
  },
  {
   "cell_type": "code",
   "execution_count": 18,
   "metadata": {},
   "outputs": [
    {
     "name": "stdout",
     "output_type": "stream",
     "text": [
      "fc1 \t\t 289.3795\n",
      "hls/keras min: -48909.0/-48635.6875\n",
      "hls/keras max: 48980.0/49284.46875\n",
      "batch_normalization \t\t 0.08394074\n"
     ]
    },
    {
     "name": "stdout",
     "output_type": "stream",
     "text": [
      "hls/keras min: -4.10546875/-4.205471515655518\n",
      "hls/keras max: 3.9658203125/4.05751895904541\n"
     ]
    },
    {
     "data": {
      "image/png": "[encoded data removed]",
      "text/plain": [
       "<Figure size 700x500 with 1 Axes>"
      ]
     },
     "metadata": {},
     "output_type": "display_data"
    },
    {
     "data": {
      "image/png": "[encoded data removed]",
      "text/plain": [
       "<Figure size 700x500 with 1 Axes>"
      ]
     },
     "metadata": {},
     "output_type": "display_data"
    }
   ],
   "source": [
    "layers = ['fc1', 'batch_normalization']\n",
    "\n",
    "for idx, layer in enumerate(layers):\n",
    "    keras_layer, hls_layer = keras_trace[layer], hls_trace[layer]\n",
    "    try:\n",
    "        diff = np.average(np.abs(keras_layer - hls_layer ))\n",
    "        print(f'{layer}', '\\t\\t', diff)\n",
    "        \n",
    "        plt.figure(figsize=(7, 5))\n",
    "\n",
    "        plt.scatter(hls_layer.flatten(), keras_layer.flatten())\n",
    "        min_x = min(keras_layer.min(), hls_layer.min())\n",
    "        max_x = min(keras_layer.max(), hls_layer.max())\n",
    "\n",
    "        onnx_min, onnx_max = keras_layer.flatten().min(), keras_layer.flatten().max()\n",
    "        hls_min, hls_max = hls_layer.flatten().min(), hls_layer.flatten().max()\n",
    "        \n",
    "        print(f'hls/keras min: {hls_min}/{onnx_min}')\n",
    "        print(f'hls/keras max: {hls_max}/{onnx_max}')\n",
    "        \n",
    "        plt.plot([min_x, max_x], [min_x, max_x], c='red')\n",
    "        plt.axhline(min_x, c='red')\n",
    "        plt.axhline(max_x, c='red')\n",
    "\n",
    "        plt.title(f'(hls) {layer} -- (keras) {layer}')\n",
    "        plt.xlabel(f'hls4ml - [{hls_min:.3f},  {hls_max:.3f}]')\n",
    "        plt.ylabel(f'keras - [{onnx_min:.3f},  {onnx_max:.3f}]')\n",
    "        plt.yscale('linear')\n",
    "    except Exception as e:\n",
    "        print(e)\n"
   ]
  },
  {
   "cell_type": "markdown",
   "metadata": {},
   "source": [
    "## Synthesize "
   ]
  },
  {
   "cell_type": "code",
   "execution_count": 19,
   "metadata": {},
   "outputs": [
    {
     "name": "stdout",
     "output_type": "stream",
     "text": [
      "\n",
      "****** Vivado(TM) HLS - High-Level Synthesis from C, C++ and SystemC v2019.1 (64-bit)\n",
      "  **** SW Build 2552052 on Fri May 24 14:47:09 MDT 2019\n",
      "  **** IP Build 2548770 on Fri May 24 18:01:18 MDT 2019\n",
      "    ** Copyright 1986-2019 Xilinx, Inc. All Rights Reserved.\n",
      "\n",
      "source /opt/local/Xilinx/Vivado/2019.1/scripts/vivado_hls/hls.tcl -notrace\n",
      "INFO: Applying HLS Y2K22 patch v1.2 for IP revision\n",
      "INFO: [HLS 200-10] Running '/opt/local/Xilinx/Vivado/2019.1/bin/unwrapped/lnx64.o/vivado_hls'\n",
      "INFO: [HLS 200-10] For user 'jcampos' on host 'correlator4.fnal.gov' (Linux_x86_64 version 3.10.0-1160.105.1.el7.x86_64) on Sun Feb 04 21:47:12 CST 2024\n",
      "INFO: [HLS 200-10] On os \"Scientific Linux release 7.9 (Nitrogen)\"\n",
      "INFO: [HLS 200-10] In directory '/data/jcampos/projects/ml-quantum-readout/notebooks/hls4ml_prj'\n",
      "Sourcing Tcl script 'build_prj.tcl'\n",
      "INFO: [HLS 200-10] Opening project '/data/jcampos/projects/ml-quantum-readout/notebooks/hls4ml_prj/myproject_prj'.\n",
      "INFO: [HLS 200-10] Adding design file 'firmware/myproject.cpp' to the project\n",
      "INFO: [HLS 200-10] Adding test bench file 'myproject_test.cpp' to the project\n",
      "INFO: [HLS 200-10] Adding test bench file 'firmware/weights' to the project\n",
      "INFO: [HLS 200-10] Adding test bench file 'tb_data' to the project\n",
      "INFO: [HLS 200-10] Opening solution '/data/jcampos/projects/ml-quantum-readout/notebooks/hls4ml_prj/myproject_prj/solution1'.\n",
      "INFO: [XFORM 203-101] Allowed max sub elements number after partition is 4096.\n",
      "INFO: [XFORM 203-1161] The maximum of name length is set into 80.\n",
      "INFO: [XFORM 203-101] Allowed max sub elements number after partition is 4096.\n",
      "INFO: [XFORM 203-1161] The maximum of name length is set into 80.\n",
      "ERROR: [HLS 200-70] Part 'xczu49dr-ffvf1760-2-e' is not installed.\n",
      "command 'ap_source' returned error code\n",
      "    while executing\n",
      "\"source build_prj.tcl\"\n",
      "    (\"uplevel\" body line 1)\n",
      "    invoked from within\n",
      "\"uplevel \\#0 [list source $arg] \"\n",
      "\n",
      "INFO: [Common 17-206] Exiting vivado_hls at Sun Feb  4 21:47:13 2024...\n",
      "CSynthesis report not found.\n",
      "Vivado synthesis report not found.\n",
      "Cosim report not found.\n",
      "Timing report not found.\n"
     ]
    },
    {
     "data": {
      "text/plain": [
       "{}"
      ]
     },
     "execution_count": 19,
     "metadata": {},
     "output_type": "execute_result"
    }
   ],
   "source": [
    "hls_model.build(\n",
    "    csim=False,\n",
    "    synth=True,\n",
    "    cosim=False,\n",
    "    export=True,\n",
    "    vsynth=False,\n",
    ")"
   ]
  },
  {
   "cell_type": "markdown",
   "metadata": {},
   "source": [
    "## Check the report"
   ]
  },
  {
   "cell_type": "code",
   "execution_count": 21,
   "metadata": {},
   "outputs": [
    {
     "name": "stdout",
     "output_type": "stream",
     "text": [
      "Path hls4ml_prj//hls4ml_prj does not exist. Exiting.\n"
     ]
    }
   ],
   "source": [
    "hls4ml.report.read_vivado_report(f'{OutputDir}/hls4ml_prj')"
   ]
  },
  {
   "cell_type": "code",
   "execution_count": null,
   "metadata": {},
   "outputs": [],
   "source": []
  }
 ],
 "metadata": {
  "kernelspec": {
   "display_name": "ml4qick-env",
   "language": "python",
   "name": "python3"
  },
  "language_info": {
   "codemirror_mode": {
    "name": "ipython",
    "version": 3
   },
   "file_extension": ".py",
   "mimetype": "text/x-python",
   "name": "python",
   "nbconvert_exporter": "python",
   "pygments_lexer": "ipython3",
   "version": "3.8.18"
  }
 },
 "nbformat": 4,
 "nbformat_minor": 2
}
