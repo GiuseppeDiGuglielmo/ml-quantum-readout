{
 "cells": [
  {
   "cell_type": "code",
   "execution_count": 1,
   "metadata": {},
   "outputs": [],
   "source": [
    "# Disable some console warnings\n",
    "import os\n",
    "os.environ['TF_XLA_FLAGS'] = '--tf_xla_enable_xla_devices'\n",
    "os.environ['TF_CPP_MIN_LOG_LEVEL'] = '3'"
   ]
  },
  {
   "cell_type": "code",
   "execution_count": 2,
   "metadata": {},
   "outputs": [],
   "source": [
    "import sys \n",
    "sys.path.append('../training')\n",
    "import pickle\n",
    "\n",
    "from save_data import process_data\n",
    "\n",
    "import hls4ml \n",
    "import numpy as np\n",
    "import matplotlib.pyplot as plt \n",
    "from sklearn.metrics import accuracy_score\n",
    "import tensorflow as tf\n",
    "from tensorflow.keras.optimizers import Adam\n",
    "from tensorflow.keras.models import Sequential\n",
    "from tensorflow.keras.layers import Dense, Activation, BatchNormalization, Dropout\n",
    "from tensorflow.keras.callbacks import ReduceLROnPlateau, ModelCheckpoint\n",
    "from tensorflow.keras.losses import CategoricalCrossentropy\n",
    "\n",
    "from tensorflow_model_optimization.python.core.sparsity.keras import prune, pruning_callbacks, pruning_schedule\n",
    "from tensorflow_model_optimization.sparsity.keras import strip_pruning\n",
    "import tensorflow_model_optimization as tfmot\n",
    "\n",
    "from qkeras.qlayers import QDense, QActivation\n",
    "from qkeras import QBatchNormalization\n",
    "from qkeras.quantizers import quantized_bits, quantized_relu\n",
    "from qkeras.utils import _add_supported_quantized_objects\n",
    "from tensorflow.keras.models import load_model\n",
    "from qkeras.utils import _add_supported_quantized_objects\n",
    "\n",
    "# os.environ['PATH'] = os.environ['XILINX_VIVADO'] + '/bin:' + os.environ['PATH']"
   ]
  },
  {
   "cell_type": "markdown",
   "metadata": {},
   "source": [
    "## Configure"
   ]
  },
  {
   "cell_type": "code",
   "execution_count": 3,
   "metadata": {},
   "outputs": [],
   "source": [
    "# START_WINDOW = 285\n",
    "# END_WINDOW = 385\n",
    "\n",
    "# START_WINDOW = 150\n",
    "# END_WINDOW = 350\n",
    "\n",
    "# START_WINDOW = 150\n",
    "# END_WINDOW = 550\n",
    "\n",
    "START_WINDOW = 0\n",
    "END_WINDOW = 770"
   ]
  },
  {
   "cell_type": "markdown",
   "metadata": {},
   "source": [
    "## Enable/disable training"
   ]
  },
  {
   "cell_type": "code",
   "execution_count": 4,
   "metadata": {},
   "outputs": [],
   "source": [
    "TRAIN = False"
   ]
  },
  {
   "cell_type": "markdown",
   "metadata": {},
   "source": [
    "## Setup data"
   ]
  },
  {
   "cell_type": "code",
   "execution_count": 5,
   "metadata": {},
   "outputs": [],
   "source": [
    "def one_hot_encode(data):\n",
    "    y_encoded = np.zeros([data.shape[0],2], dtype=np.int32)\n",
    "    for idx, x in enumerate(data):\n",
    "        if x == 1:\n",
    "            y_encoded[idx][1] = 1\n",
    "        else:\n",
    "            y_encoded[idx][0] = 1\n",
    "    return y_encoded"
   ]
  },
  {
   "cell_type": "code",
   "execution_count": 6,
   "metadata": {},
   "outputs": [],
   "source": [
    "!mkdir -p models\n",
    "\n",
    "DATA_DIR = f'../data/qick_data/{START_WINDOW}_{END_WINDOW}'\n",
    "MODEL_DIR = f'models/model_{START_WINDOW}_{END_WINDOW}'\n",
    "\n",
    "# convert raw ADC data into npy files \n",
    "if os.path.exists(f'{DATA_DIR}/X_train_{START_WINDOW}_{END_WINDOW}.npy') == False:\n",
    "    process_data(\n",
    "        start_window=START_WINDOW, \n",
    "        end_window=END_WINDOW, \n",
    "        data_dir=DATA_DIR\n",
    "    )"
   ]
  },
  {
   "cell_type": "code",
   "execution_count": 7,
   "metadata": {},
   "outputs": [
    {
     "name": "stdout",
     "output_type": "stream",
     "text": [
      "Window:\n",
      "  - Couples I/Q : 770\n",
      "  - Model inputs: 1540\n",
      "Training:\n",
      "  - Size        : 909000\n",
      "  - Sample Shape: 1540\n",
      "  - Mean        : -50.80006179189348\n",
      "  - Std. Dev.   : 1757.8248912271774\n",
      "Testing:\n",
      "  - Size        : 101000\n",
      "  - Sample Shape: 1540\n",
      "  - Mean        : -44.14494603317475\n",
      "  - Std. Dev.   : 1756.0220686228422\n"
     ]
    }
   ],
   "source": [
    "# load data\n",
    "X_train_val = np.load(os.path.join(DATA_DIR, f'X_train_{START_WINDOW}_{END_WINDOW}.npy'))\n",
    "X_test = np.load(os.path.join(DATA_DIR, f'X_test_{START_WINDOW}_{END_WINDOW}.npy'))    \n",
    "y_train_val = np.load(os.path.join(DATA_DIR, f'y_train_{START_WINDOW}_{END_WINDOW}.npy'))\n",
    "y_test = np.load(os.path.join(DATA_DIR, f'y_test_{START_WINDOW}_{END_WINDOW}.npy'))\n",
    "\n",
    "y_train_val = one_hot_encode(y_train_val)\n",
    "y_test = one_hot_encode(y_test)\n",
    "\n",
    "print('Window:')\n",
    "print('  - Couples I/Q :', (END_WINDOW-START_WINDOW))\n",
    "print('  - Model inputs:', (END_WINDOW-START_WINDOW)*2)\n",
    "\n",
    "print('Training:')\n",
    "print('  - Size        :', X_train_val.shape[0])\n",
    "print('  - Sample Shape:', X_train_val.shape[1])\n",
    "print('  - Mean        :', X_train_val.mean())\n",
    "print('  - Std. Dev.   :', X_train_val.std())\n",
    "\n",
    "print('Testing:')\n",
    "print('  - Size        :', X_test.shape[0])\n",
    "print('  - Sample Shape:', X_test.shape[1])\n",
    "print('  - Mean        :', X_test.mean())\n",
    "print('  - Std. Dev.   :', X_test.std())\n",
    "\n",
    "assert len(X_train_val[0]) == (END_WINDOW-START_WINDOW)*2, 'ERROR: Specified window does not match loaded dataset shape'\n",
    "assert len(X_test[0]) == (END_WINDOW-START_WINDOW)*2, 'ERROR: Specified window does not match loaded dataset shape'"
   ]
  },
  {
   "cell_type": "markdown",
   "metadata": {},
   "source": [
    "## Construct a model \n",
    "QKeras is 'Quantized Keras' for deep heterogeneous quantization of ML models. We're using QDense layer instead of Dense. We're also training with model sparsity, since QKeras layers are prunable."
   ]
  },
  {
   "cell_type": "code",
   "execution_count": 8,
   "metadata": {},
   "outputs": [],
   "source": [
    "INIT_LEARNING_RATE = 1e-2\n",
    "VALIDATION_SPLIT = 0.3\n",
    "BATCH_SIZE = 12800\n",
    "EPOCHS = 50\n",
    "CHECKPOINT_FILENAME = MODEL_DIR + f'/qmodel_{START_WINDOW}_{END_WINDOW}.h5'\n",
    "INPUT_SHAPE = (X_train_val.shape[1],)"
   ]
  },
  {
   "cell_type": "code",
   "execution_count": 9,
   "metadata": {},
   "outputs": [
    {
     "name": "stdout",
     "output_type": "stream",
     "text": [
      "WARNING:tensorflow:From /home/giuseppe/miniconda3/envs/ml4qick-env/lib/python3.8/site-packages/tensorflow/python/autograph/pyct/static_analysis/liveness.py:83: Analyzer.lamba_check (from tensorflow.python.autograph.pyct.static_analysis.liveness) is deprecated and will be removed after 2023-09-23.\n",
      "Instructions for updating:\n",
      "Lambda fuctions will be no more assumed to be used in the statement where they are used, or at least in the same block. https://github.com/tensorflow/tensorflow/issues/56089\n",
      "=============================Model Summary=============================\n",
      "Model: \"sequential\"\n",
      "_________________________________________________________________\n",
      " Layer (type)                Output Shape              Param #   \n",
      "=================================================================\n",
      " prune_low_magnitude_fc1 (Pr  (None, 2)                6164      \n",
      " uneLowMagnitude)                                                \n",
      "                                                                 \n",
      " prune_low_magnitude_batch_n  (None, 2)                9         \n",
      " ormalization (PruneLowMagni                                     \n",
      " tude)                                                           \n",
      "                                                                 \n",
      "=================================================================\n",
      "Total params: 6,173\n",
      "Trainable params: 3,086\n",
      "Non-trainable params: 3,087\n",
      "_________________________________________________________________\n",
      "None\n",
      "=======================================================================\n"
     ]
    }
   ],
   "source": [
    "if TRAIN:\n",
    "    input_size = (END_WINDOW-START_WINDOW)*2\n",
    "\n",
    "    # Define model with quantize layers \n",
    "    model = Sequential()\n",
    "    model.add(QDense(2, input_shape=(input_size,), name='fc1', kernel_quantizer=quantized_bits(6,0,alpha=1), bias_quantizer=quantized_bits(6,0,alpha=1),))\n",
    "    model.add(BatchNormalization())\n",
    "\n",
    "    # # Define model with quantize layers \n",
    "    # model = Sequential()\n",
    "    # model.add(QDense(160, input_shape=(input_size,), name='fc1', kernel_quantizer=quantized_bits(6,0,alpha=1), bias_quantizer=quantized_bits(6,0,alpha=1),))\n",
    "    # model.add(QActivation(activation=quantized_relu(6), name='relu1'))\n",
    "    # model.add(BatchNormalization(name='batchnorm1'))\n",
    "    # model.add(QDense(25, input_shape=(input_size,), name='fc2', kernel_quantizer=quantized_bits(6,0,alpha=1), bias_quantizer=quantized_bits(6,0,alpha=1),))\n",
    "    # model.add(QActivation(activation=quantized_relu(6), name='relu2'))\n",
    "    # model.add(BatchNormalization(name='batchnorm2'))\n",
    "    # model.add(QDense(2, input_shape=(input_size,), name='fc3', kernel_quantizer=quantized_bits(6,0,alpha=1), bias_quantizer=quantized_bits(6,0,alpha=1),))\n",
    "    # model.add(BatchNormalization(name='batchnorm3'))\n",
    "    \n",
    "    # adding pruning \n",
    "    pruning_params = {'pruning_schedule': tfmot.sparsity.keras.PolynomialDecay(initial_sparsity=0.50, final_sparsity=0.80, begin_step=200, end_step=1000)}\n",
    "    model = prune.prune_low_magnitude(model, **pruning_params)\n",
    "\n",
    "    print('=============================Model Summary=============================')\n",
    "    print(model.summary())\n",
    "    print('=======================================================================')\n",
    "else:\n",
    "    print('Training is disabled, load model from file')"
   ]
  },
  {
   "cell_type": "code",
   "execution_count": 10,
   "metadata": {},
   "outputs": [],
   "source": [
    "if TRAIN:\n",
    "    lr_schedule = tf.keras.optimizers.schedules.ExponentialDecay(\n",
    "        INIT_LEARNING_RATE,\n",
    "        decay_steps=100000,\n",
    "        decay_rate=0.96,\n",
    "        staircase=True\n",
    "    )\n",
    "\n",
    "    callbacks = [\n",
    "            ModelCheckpoint(\n",
    "            CHECKPOINT_FILENAME,\n",
    "            monitor='val_loss',\n",
    "            verbose=0,\n",
    "            save_best_only=True,\n",
    "            save_weights_only=False,\n",
    "            save_freq='epoch',\n",
    "        ),\n",
    "        ReduceLROnPlateau(patience=75, min_delta=1**-6),\n",
    "        pruning_callbacks.UpdatePruningStep(),\n",
    "    ]\n",
    "else:\n",
    "    print('Training is disabled, load model from file')"
   ]
  },
  {
   "cell_type": "markdown",
   "metadata": {},
   "source": [
    "## Train the model "
   ]
  },
  {
   "cell_type": "code",
   "execution_count": 11,
   "metadata": {},
   "outputs": [
    {
     "name": "stdout",
     "output_type": "stream",
     "text": [
      "Epoch 1/50\n",
      "50/50 [==============================] - 4s 41ms/step - loss: 0.2252 - accuracy: 0.9471 - val_loss: 0.3132 - val_accuracy: 0.8728 - lr: 0.0100\n",
      "Epoch 2/50\n",
      "50/50 [==============================] - 1s 12ms/step - loss: 0.1731 - accuracy: 0.9608 - val_loss: 0.1983 - val_accuracy: 0.9454 - lr: 0.0100\n",
      "Epoch 3/50\n",
      "50/50 [==============================] - 1s 12ms/step - loss: 0.1622 - accuracy: 0.9626 - val_loss: 0.1707 - val_accuracy: 0.9587 - lr: 0.0100\n",
      "Epoch 4/50\n",
      "50/50 [==============================] - 1s 12ms/step - loss: 0.1588 - accuracy: 0.9632 - val_loss: 0.1734 - val_accuracy: 0.9627 - lr: 0.0100\n",
      "Epoch 5/50\n",
      "50/50 [==============================] - 1s 12ms/step - loss: 0.1596 - accuracy: 0.9636 - val_loss: 0.1637 - val_accuracy: 0.9630 - lr: 0.0100\n",
      "Epoch 6/50\n",
      "50/50 [==============================] - 1s 12ms/step - loss: 0.1583 - accuracy: 0.9637 - val_loss: 0.1725 - val_accuracy: 0.9611 - lr: 0.0100\n",
      "Epoch 7/50\n",
      "50/50 [==============================] - 1s 12ms/step - loss: 0.1587 - accuracy: 0.9633 - val_loss: 0.1639 - val_accuracy: 0.9626 - lr: 0.0100\n",
      "Epoch 8/50\n",
      "50/50 [==============================] - 1s 12ms/step - loss: 0.1583 - accuracy: 0.9635 - val_loss: 0.1746 - val_accuracy: 0.9609 - lr: 0.0100\n",
      "Epoch 9/50\n",
      "50/50 [==============================] - 1s 12ms/step - loss: 0.1592 - accuracy: 0.9632 - val_loss: 0.1650 - val_accuracy: 0.9624 - lr: 0.0100\n",
      "Epoch 10/50\n",
      "50/50 [==============================] - 1s 12ms/step - loss: 0.1588 - accuracy: 0.9633 - val_loss: 0.1723 - val_accuracy: 0.9610 - lr: 0.0100\n",
      "Epoch 11/50\n",
      "50/50 [==============================] - 1s 12ms/step - loss: 0.1599 - accuracy: 0.9629 - val_loss: 0.1650 - val_accuracy: 0.9623 - lr: 0.0100\n",
      "Epoch 12/50\n",
      "50/50 [==============================] - 1s 13ms/step - loss: 0.1595 - accuracy: 0.9631 - val_loss: 0.1686 - val_accuracy: 0.9616 - lr: 0.0100\n",
      "Epoch 13/50\n",
      "50/50 [==============================] - 1s 13ms/step - loss: 0.1602 - accuracy: 0.9630 - val_loss: 0.1636 - val_accuracy: 0.9624 - lr: 0.0100\n",
      "Epoch 14/50\n",
      "50/50 [==============================] - 1s 13ms/step - loss: 0.1600 - accuracy: 0.9631 - val_loss: 0.1653 - val_accuracy: 0.9619 - lr: 0.0100\n",
      "Epoch 15/50\n",
      "50/50 [==============================] - 1s 13ms/step - loss: 0.1607 - accuracy: 0.9628 - val_loss: 0.1627 - val_accuracy: 0.9624 - lr: 0.0100\n",
      "Epoch 16/50\n",
      "50/50 [==============================] - 1s 13ms/step - loss: 0.1605 - accuracy: 0.9629 - val_loss: 0.1634 - val_accuracy: 0.9623 - lr: 0.0100\n",
      "Epoch 17/50\n",
      "50/50 [==============================] - 1s 13ms/step - loss: 0.1609 - accuracy: 0.9628 - val_loss: 0.1624 - val_accuracy: 0.9623 - lr: 0.0100\n",
      "Epoch 18/50\n",
      "50/50 [==============================] - 1s 12ms/step - loss: 0.1608 - accuracy: 0.9628 - val_loss: 0.1627 - val_accuracy: 0.9621 - lr: 0.0100\n",
      "Epoch 19/50\n",
      "50/50 [==============================] - 1s 12ms/step - loss: 0.1610 - accuracy: 0.9628 - val_loss: 0.1626 - val_accuracy: 0.9620 - lr: 0.0100\n",
      "Epoch 20/50\n",
      "50/50 [==============================] - 1s 12ms/step - loss: 0.1609 - accuracy: 0.9628 - val_loss: 0.1627 - val_accuracy: 0.9619 - lr: 0.0100\n",
      "Epoch 21/50\n",
      "50/50 [==============================] - 1s 13ms/step - loss: 0.1609 - accuracy: 0.9628 - val_loss: 0.1627 - val_accuracy: 0.9619 - lr: 0.0100\n",
      "Epoch 22/50\n",
      "50/50 [==============================] - 1s 12ms/step - loss: 0.1609 - accuracy: 0.9628 - val_loss: 0.1627 - val_accuracy: 0.9620 - lr: 0.0100\n",
      "Epoch 23/50\n",
      "50/50 [==============================] - 1s 13ms/step - loss: 0.1609 - accuracy: 0.9629 - val_loss: 0.1628 - val_accuracy: 0.9619 - lr: 0.0100\n",
      "Epoch 24/50\n",
      "50/50 [==============================] - 1s 13ms/step - loss: 0.1609 - accuracy: 0.9629 - val_loss: 0.1629 - val_accuracy: 0.9618 - lr: 0.0100\n",
      "Epoch 25/50\n",
      "50/50 [==============================] - 1s 13ms/step - loss: 0.1609 - accuracy: 0.9628 - val_loss: 0.1629 - val_accuracy: 0.9619 - lr: 0.0100\n",
      "Epoch 26/50\n",
      "50/50 [==============================] - 1s 13ms/step - loss: 0.1609 - accuracy: 0.9628 - val_loss: 0.1629 - val_accuracy: 0.9619 - lr: 0.0100\n",
      "Epoch 27/50\n",
      "50/50 [==============================] - 1s 13ms/step - loss: 0.1608 - accuracy: 0.9628 - val_loss: 0.1629 - val_accuracy: 0.9619 - lr: 0.0100\n",
      "Epoch 28/50\n",
      "50/50 [==============================] - 1s 13ms/step - loss: 0.1608 - accuracy: 0.9629 - val_loss: 0.1628 - val_accuracy: 0.9619 - lr: 0.0100\n",
      "Epoch 29/50\n",
      "50/50 [==============================] - 1s 13ms/step - loss: 0.1608 - accuracy: 0.9628 - val_loss: 0.1628 - val_accuracy: 0.9620 - lr: 0.0100\n",
      "Epoch 30/50\n",
      "50/50 [==============================] - 1s 12ms/step - loss: 0.1608 - accuracy: 0.9628 - val_loss: 0.1627 - val_accuracy: 0.9619 - lr: 0.0100\n",
      "Epoch 31/50\n",
      "50/50 [==============================] - 1s 12ms/step - loss: 0.1608 - accuracy: 0.9628 - val_loss: 0.1627 - val_accuracy: 0.9619 - lr: 0.0100\n",
      "Epoch 32/50\n",
      "50/50 [==============================] - 1s 12ms/step - loss: 0.1608 - accuracy: 0.9629 - val_loss: 0.1627 - val_accuracy: 0.9619 - lr: 0.0100\n",
      "Epoch 33/50\n",
      "50/50 [==============================] - 1s 12ms/step - loss: 0.1608 - accuracy: 0.9629 - val_loss: 0.1627 - val_accuracy: 0.9619 - lr: 0.0100\n",
      "Epoch 34/50\n",
      "50/50 [==============================] - 1s 12ms/step - loss: 0.1608 - accuracy: 0.9629 - val_loss: 0.1627 - val_accuracy: 0.9620 - lr: 0.0100\n",
      "Epoch 35/50\n",
      "50/50 [==============================] - 1s 12ms/step - loss: 0.1608 - accuracy: 0.9628 - val_loss: 0.1629 - val_accuracy: 0.9618 - lr: 0.0100\n",
      "Epoch 36/50\n",
      "50/50 [==============================] - 1s 12ms/step - loss: 0.1608 - accuracy: 0.9629 - val_loss: 0.1626 - val_accuracy: 0.9621 - lr: 0.0100\n",
      "Epoch 37/50\n",
      "50/50 [==============================] - 1s 12ms/step - loss: 0.1608 - accuracy: 0.9628 - val_loss: 0.1628 - val_accuracy: 0.9619 - lr: 0.0100\n",
      "Epoch 38/50\n",
      "50/50 [==============================] - 1s 12ms/step - loss: 0.1608 - accuracy: 0.9629 - val_loss: 0.1626 - val_accuracy: 0.9620 - lr: 0.0100\n",
      "Epoch 39/50\n",
      "50/50 [==============================] - 1s 13ms/step - loss: 0.1608 - accuracy: 0.9628 - val_loss: 0.1626 - val_accuracy: 0.9621 - lr: 0.0100\n",
      "Epoch 40/50\n",
      "50/50 [==============================] - 1s 13ms/step - loss: 0.1607 - accuracy: 0.9628 - val_loss: 0.1627 - val_accuracy: 0.9620 - lr: 0.0100\n",
      "Epoch 41/50\n",
      "50/50 [==============================] - 1s 14ms/step - loss: 0.1608 - accuracy: 0.9628 - val_loss: 0.1626 - val_accuracy: 0.9619 - lr: 0.0100\n",
      "Epoch 42/50\n",
      "50/50 [==============================] - 1s 12ms/step - loss: 0.1608 - accuracy: 0.9629 - val_loss: 0.1626 - val_accuracy: 0.9620 - lr: 0.0100\n",
      "Epoch 43/50\n",
      "50/50 [==============================] - 1s 12ms/step - loss: 0.1607 - accuracy: 0.9629 - val_loss: 0.1625 - val_accuracy: 0.9620 - lr: 0.0100\n",
      "Epoch 44/50\n",
      "50/50 [==============================] - 1s 12ms/step - loss: 0.1607 - accuracy: 0.9629 - val_loss: 0.1626 - val_accuracy: 0.9620 - lr: 0.0100\n",
      "Epoch 45/50\n",
      "50/50 [==============================] - 1s 12ms/step - loss: 0.1607 - accuracy: 0.9629 - val_loss: 0.1626 - val_accuracy: 0.9620 - lr: 0.0100\n",
      "Epoch 46/50\n",
      "50/50 [==============================] - 1s 13ms/step - loss: 0.1607 - accuracy: 0.9628 - val_loss: 0.1626 - val_accuracy: 0.9620 - lr: 0.0100\n",
      "Epoch 47/50\n",
      "50/50 [==============================] - 1s 12ms/step - loss: 0.1607 - accuracy: 0.9629 - val_loss: 0.1628 - val_accuracy: 0.9618 - lr: 0.0100\n",
      "Epoch 48/50\n",
      "50/50 [==============================] - 1s 12ms/step - loss: 0.1607 - accuracy: 0.9629 - val_loss: 0.1625 - val_accuracy: 0.9621 - lr: 0.0100\n",
      "Epoch 49/50\n",
      "50/50 [==============================] - 1s 12ms/step - loss: 0.1607 - accuracy: 0.9629 - val_loss: 0.1625 - val_accuracy: 0.9620 - lr: 0.0100\n",
      "Epoch 50/50\n",
      "50/50 [==============================] - 1s 11ms/step - loss: 0.1608 - accuracy: 0.9629 - val_loss: 0.1626 - val_accuracy: 0.9620 - lr: 0.0100\n"
     ]
    }
   ],
   "source": [
    "if TRAIN:\n",
    "    opt = Adam(learning_rate=INIT_LEARNING_RATE)\n",
    "    model.compile(\n",
    "        optimizer=opt, \n",
    "        # loss=tf.keras.losses.BinaryCrossentropy(),\n",
    "        loss=CategoricalCrossentropy(from_logits=True), \n",
    "        metrics=['accuracy']\n",
    "    )\n",
    "\n",
    "    history = model.fit(\n",
    "        X_train_val, \n",
    "        y_train_val, \n",
    "        batch_size=BATCH_SIZE,\n",
    "        epochs=EPOCHS, \n",
    "        validation_split=VALIDATION_SPLIT, \n",
    "        shuffle=True, \n",
    "        callbacks=callbacks\n",
    "    )\n",
    "else:\n",
    "    print('Training is disabled, load model from file')"
   ]
  },
  {
   "cell_type": "markdown",
   "metadata": {},
   "source": [
    "Important: Pruning layers must be removed before saving to disk. "
   ]
  },
  {
   "cell_type": "code",
   "execution_count": 12,
   "metadata": {},
   "outputs": [
    {
     "name": "stdout",
     "output_type": "stream",
     "text": [
      "WARNING:tensorflow:Compiled the loaded model, but the compiled metrics have yet to be built. `model.compile_metrics` will be empty until you train or evaluate the model.\n",
      "Saving history to: models/model_0_770/qmodel_0_770-history.pkl\n",
      "Saved checkpoint to: models/model_0_770/qmodel_0_770.h5\n"
     ]
    }
   ],
   "source": [
    "if TRAIN:\n",
    "    model = strip_pruning(model)\n",
    "    model.save(CHECKPOINT_FILENAME)\n",
    "\n",
    "    history_file = CHECKPOINT_FILENAME.replace('.h5', '-history.pkl')\n",
    "    with open(history_file, 'wb') as file_pi:\n",
    "        pickle.dump(history.history, file_pi)\n",
    "\n",
    "    print(f'Saving history to: {history_file}')\n",
    "    print(f'Saved checkpoint to: {CHECKPOINT_FILENAME}')\n",
    "else:\n",
    "    print('Training is disabled, load model from file')"
   ]
  },
  {
   "cell_type": "markdown",
   "metadata": {},
   "source": [
    "## Check performance\n",
    "\n",
    "todo: add ROC curve"
   ]
  },
  {
   "cell_type": "code",
   "execution_count": 13,
   "metadata": {},
   "outputs": [
    {
     "name": "stdout",
     "output_type": "stream",
     "text": [
      "3157/3157 [==============================] - 4s 1ms/step\n",
      "Keras accuracy: 0.9614851485148515, inputs 1540, I/Qs 770\n"
     ]
    }
   ],
   "source": [
    "co = {}\n",
    "_add_supported_quantized_objects(co)\n",
    "model = load_model(CHECKPOINT_FILENAME, custom_objects=co, compile=False)\n",
    "y_pred = model.predict(X_test)\n",
    "print('Keras accuracy: {}, inputs {}, I/Qs {}'.format(accuracy_score(np.argmax(y_test, axis=1), np.argmax(y_pred, axis=1)), (END_WINDOW-START_WINDOW)*2, (END_WINDOW-START_WINDOW)))"
   ]
  },
  {
   "cell_type": "markdown",
   "metadata": {},
   "source": [
    "If you run with the model and data on files, you should expect\n",
    "```\n",
    "Keras accuracy: 0.9614851485148515, inputs 1540, I/Qs 770\n",
    "Keras accuracy: 0.9535643564356435, inputs 800, I/Qs 400\n",
    "Keras accuracy: 0.9291980198019802, inputs 400, I/Qs 200\n",
    "Keras accuracy: 0.8572376237623762, inputs 200, I/Qs 100\n",
    "```"
   ]
  },
  {
   "cell_type": "code",
   "execution_count": 14,
   "metadata": {},
   "outputs": [
    {
     "name": "stdout",
     "output_type": "stream",
     "text": [
      "=============================Model Summary=============================\n",
      "Model: \"sequential\"\n",
      "_________________________________________________________________\n",
      " Layer (type)                Output Shape              Param #   \n",
      "=================================================================\n",
      " fc1 (QDense)                (None, 2)                 3082      \n",
      "                                                                 \n",
      " batch_normalization (BatchN  (None, 2)                8         \n",
      " ormalization)                                                   \n",
      "                                                                 \n",
      "=================================================================\n",
      "Total params: 3,090\n",
      "Trainable params: 3,086\n",
      "Non-trainable params: 4\n",
      "_________________________________________________________________\n",
      "None\n",
      "=======================================================================\n"
     ]
    }
   ],
   "source": [
    "print('=============================Model Summary=============================')\n",
    "print(model.summary())\n",
    "print('=======================================================================')"
   ]
  },
  {
   "cell_type": "markdown",
   "metadata": {},
   "source": [
    "## Check sparsity "
   ]
  },
  {
   "cell_type": "code",
   "execution_count": 15,
   "metadata": {},
   "outputs": [
    {
     "name": "stdout",
     "output_type": "stream",
     "text": [
      "Number of layers: 2\n",
      "mkdir: cannot create directory ‘images’: File exists\n",
      "% of zeros = 0.8\n",
      "% of zeros = 0.0\n"
     ]
    },
    {
     "data": {
      "image/png": "[encoded data removed]",
      "text/plain": [
       "<Figure size 700x700 with 1 Axes>"
      ]
     },
     "metadata": {},
     "output_type": "display_data"
    },
    {
     "data": {
      "image/png": "[encoded data removed]",
      "text/plain": [
       "<Figure size 700x700 with 1 Axes>"
      ]
     },
     "metadata": {},
     "output_type": "display_data"
    }
   ],
   "source": [
    "num_layers = len(model.layers)\n",
    "print(f'Number of layers: {num_layers}')\n",
    "\n",
    "!mkdir images\n",
    "\n",
    "for idx in range(num_layers):\n",
    "    w = model.layers[idx].weights[0].numpy()\n",
    "    h, b = np.histogram(w, bins=100)\n",
    "\n",
    "    # plot weight distribution\n",
    "    plt.figure(figsize=(7, 7))\n",
    "    plt.bar(b[:-1], h, width=b[1] - b[0])\n",
    "    plt.semilogy()\n",
    "    plt.savefig(f'images/model-dist-idx{idx}_{START_WINDOW}_{END_WINDOW}.png')\n",
    "\n",
    "    print('% of zeros = {}'.format(np.sum(w == 0) / np.size(w)))"
   ]
  },
  {
   "cell_type": "markdown",
   "metadata": {},
   "source": [
    "## Build the HLS model "
   ]
  },
  {
   "cell_type": "code",
   "execution_count": 16,
   "metadata": {},
   "outputs": [],
   "source": [
    "sys.path.append('../utils')\n",
    "from config import print_dict\n",
    "\n",
    "from tensorflow.keras.models import load_model\n",
    "from qkeras.utils import _add_supported_quantized_objects"
   ]
  },
  {
   "cell_type": "code",
   "execution_count": 17,
   "metadata": {},
   "outputs": [
    {
     "name": "stdout",
     "output_type": "stream",
     "text": [
      "3157/3157 [==============================] - 2s 704us/step\n",
      "3157/3157 [==============================] - 2s 674us/step\n",
      "Model acc: 0.9614851485148515\n",
      "Model: \"sequential\"\n",
      "_________________________________________________________________\n",
      " Layer (type)                Output Shape              Param #   \n",
      "=================================================================\n",
      " fc1 (QDense)                (None, 2)                 3082      \n",
      "                                                                 \n",
      " batch_normalization (BatchN  (None, 2)                8         \n",
      " ormalization)                                                   \n",
      "                                                                 \n",
      "=================================================================\n",
      "Total params: 3,090\n",
      "Trainable params: 3,086\n",
      "Non-trainable params: 4\n",
      "_________________________________________________________________\n",
      "None\n"
     ]
    }
   ],
   "source": [
    "# Load checkpoint \n",
    "co = {}\n",
    "_add_supported_quantized_objects(co)\n",
    "model = load_model(CHECKPOINT_FILENAME, custom_objects=co, compile=False)\n",
    "y_pred = model.predict(X_test)\n",
    "\n",
    "# Re-evalulate \n",
    "y_keras = model.predict(X_test)\n",
    "print(f'Model acc: {accuracy_score(np.argmax(y_test, axis=1), np.argmax(y_keras, axis=1))}')\n",
    "print(model.summary()) "
   ]
  },
  {
   "cell_type": "code",
   "execution_count": 18,
   "metadata": {},
   "outputs": [
    {
     "name": "stdout",
     "output_type": "stream",
     "text": [
      "Model\n",
      "  Precision:         ap_fixed<16,6>\n",
      "  ReuseFactor:       1\n",
      "LayerName\n",
      "  fc1_input\n",
      "    Precision:       ap_fixed<14,14>\n",
      "    Trace:           True\n",
      "  fc1\n",
      "    Precision\n",
      "      result:        ap_fixed<18,18>\n",
      "    Trace:           True\n",
      "    accum_t:         ap_fixed<18,18>\n",
      "  fc1_linear\n",
      "    Precision\n",
      "      result:        ap_fixed<18,18>\n",
      "    Trace:           True\n",
      "  batch_normalization\n",
      "    Precision\n",
      "      scale:         ap_fixed<20,3>\n",
      "      bias:          ap_fixed<20,3>\n",
      "      result:        ap_fixed<16,6>\n",
      "    Trace:           True\n"
     ]
    }
   ],
   "source": [
    "# Create HLS configuration \n",
    "HLSConfig = {}\n",
    "HLSConfig['Model'] = {}\n",
    "HLSConfig['Model']['Precision'] = 'ap_fixed<16,6>'  # Default precision\n",
    "HLSConfig['Model']['ReuseFactor'] = 1  # fully parallelized \n",
    "\n",
    "HLSConfig['LayerName'] = {}\n",
    "for layer in ['fc1_input', 'fc1', 'fc1_linear', 'batch_normalization']:\n",
    "    HLSConfig['LayerName'][layer] = {}\n",
    "    HLSConfig['LayerName'][layer]['Precision'] = {}\n",
    "    HLSConfig['LayerName'][layer]['Trace'] = True\n",
    "\n",
    "# Input - ZCU216 uses 14-bit ADCS \n",
    "HLSConfig['LayerName']['fc1_input']['Precision'] = 'ap_fixed<14,14>' \n",
    "# Fc\n",
    "HLSConfig['LayerName']['fc1']['Precision']['result'] = 'ap_fixed<18,18>'\n",
    "HLSConfig['LayerName']['fc1']['accum_t'] = 'ap_fixed<18,18>'\n",
    "# Fc Linear\n",
    "HLSConfig['LayerName']['fc1_linear']['Precision']['result'] = 'ap_fixed<18,18>'\n",
    "# Batchnormalization\n",
    "HLSConfig['LayerName']['batch_normalization']['Precision']['scale'] = 'ap_fixed<20,3>'\n",
    "HLSConfig['LayerName']['batch_normalization']['Precision']['bias'] = 'ap_fixed<20,3>'\n",
    "HLSConfig['LayerName']['batch_normalization']['Precision']['result'] = 'ap_fixed<16,6>'\n",
    "\n",
    "print_dict(HLSConfig)"
   ]
  },
  {
   "cell_type": "code",
   "execution_count": 19,
   "metadata": {},
   "outputs": [
    {
     "name": "stdout",
     "output_type": "stream",
     "text": [
      "Interpreting Sequential\n",
      "Topology:\n",
      "Layer name: fc1_input, layer type: InputLayer, input shapes: [[None, 1540]], output shape: [None, 1540]\n",
      "Layer name: fc1, layer type: QDense, input shapes: [[None, 1540]], output shape: [None, 2]\n",
      "Layer name: batch_normalization, layer type: BatchNormalization, input shapes: [[None, 2]], output shape: [None, 2]\n",
      "Creating HLS model\n",
      "WARNING: Config parameter \"accum_t\" overwrites an existing attribute in layer \"fc1\" (Dense)\n",
      "Creating hls4ml project directory hls4ml_prjs/NN_0_770_prj\n",
      "Writing HLS project\n",
      "WARNING:tensorflow:Compiled the loaded model, but the compiled metrics have yet to be built. `model.compile_metrics` will be empty until you train or evaluate the model.\n"
     ]
    },
    {
     "name": "stderr",
     "output_type": "stream",
     "text": [
      "WARNING:tensorflow:Compiled the loaded model, but the compiled metrics have yet to be built. `model.compile_metrics` will be empty until you train or evaluate the model.\n"
     ]
    },
    {
     "name": "stdout",
     "output_type": "stream",
     "text": [
      "Done\n"
     ]
    }
   ],
   "source": [
    "OutputDir = f'hls4ml_prjs/NN_{START_WINDOW}_{END_WINDOW}_prj'\n",
    "!rm -rf '{OutputDir}'\n",
    "!rm -f '{OutputDir}.tar.gz'\n",
    "XilinxPart = 'xczu49dr-ffvf1760-2-e'\n",
    "IOType = 'io_parallel'\n",
    "ClockPeriod = 3.225  # 3.225ns (307.2 MHz)\n",
    "HLSFig = f'images/model_{START_WINDOW}_{END_WINDOW}.png'\n",
    "\n",
    "hls_model = hls4ml.converters.convert_from_keras_model(\n",
    "    model=model,\n",
    "    hls_config=HLSConfig,\n",
    "    output_dir=OutputDir,\n",
    "    part=XilinxPart,\n",
    "    io_type=IOType,\n",
    "    clock_period=ClockPeriod,\n",
    "    project_name='NN'\n",
    ")\n",
    "\n",
    "print(f'Creating hls4ml project directory {OutputDir}')\n",
    "hls_model.compile()  # Must compile for C Sim. \n",
    "\n",
    "# Visualize model\n",
    "hls4ml.utils.plot_model(\n",
    "    hls_model, show_shapes=True, show_precision=True, to_file=HLSFig\n",
    ")"
   ]
  },
  {
   "cell_type": "markdown",
   "metadata": {},
   "source": [
    "## Check performance"
   ]
  },
  {
   "cell_type": "code",
   "execution_count": 20,
   "metadata": {},
   "outputs": [
    {
     "name": "stdout",
     "output_type": "stream",
     "text": [
      "Keras Acc: 96.149%\n",
      "HLS Acc  : 96.152:%\n",
      "CKA      : 99.939%\n"
     ]
    }
   ],
   "source": [
    "# Trace output \n",
    "y_hls = hls_model.predict(np.ascontiguousarray(X_test.astype(np.float32))) \n",
    "y_hls = np.argmax(y_hls, axis=1)\n",
    "\n",
    "print(f'Keras Acc: {accuracy_score(np.argmax(y_test, axis=1), np.argmax(y_keras, axis=1))*100:.5}%')\n",
    "print(f'HLS Acc  : {accuracy_score(np.argmax(y_test, axis=1), y_hls)*100:.5}:%')\n",
    "print(f'CKA      : {accuracy_score(np.argmax(y_keras, axis=1), y_hls)*100:.5}%')"
   ]
  },
  {
   "cell_type": "markdown",
   "metadata": {},
   "source": [
    "## Correlation plots (Keras vs HLS)\n",
    "Let's compare the output of the Qkeras and HLS model. If properly configured, the HLS activations will be aligned with the Qkeras model. "
   ]
  },
  {
   "cell_type": "code",
   "execution_count": 21,
   "metadata": {},
   "outputs": [
    {
     "name": "stdout",
     "output_type": "stream",
     "text": [
      "Recompiling NN with tracing\n",
      "Writing HLS project\n",
      "WARNING:tensorflow:Compiled the loaded model, but the compiled metrics have yet to be built. `model.compile_metrics` will be empty until you train or evaluate the model.\n"
     ]
    },
    {
     "name": "stderr",
     "output_type": "stream",
     "text": [
      "WARNING:tensorflow:Compiled the loaded model, but the compiled metrics have yet to be built. `model.compile_metrics` will be empty until you train or evaluate the model.\n"
     ]
    },
    {
     "name": "stdout",
     "output_type": "stream",
     "text": [
      "Done\n",
      "3157/3157 [==============================] - 3s 776us/step\n",
      "Done taking outputs for Keras model.\n",
      "HLS Keys: dict_keys(['fc1', 'batch_normalization'])\n",
      "Keras Keys: dict_keys(['fc1', 'batch_normalization'])\n"
     ]
    }
   ],
   "source": [
    "_, hls_trace = hls_model.trace(np.ascontiguousarray(X_test.astype(np.float32))) \n",
    "keras_trace = hls4ml.model.profiling.get_ymodel_keras(model, X_test.astype(np.float32)) \n",
    "\n",
    "print(f'HLS Keys: {hls_trace.keys()}')\n",
    "print(f'Keras Keys: {keras_trace.keys()}')"
   ]
  },
  {
   "cell_type": "code",
   "execution_count": 22,
   "metadata": {},
   "outputs": [
    {
     "name": "stdout",
     "output_type": "stream",
     "text": [
      "fc1 \t\t 140.12744\n",
      "hls/keras min: -68982.0/-68842.25\n",
      "hls/keras max: 72196.0/72331.875\n",
      "batch_normalization \t\t 0.043775905\n",
      "hls/keras min: -6.1162109375/-6.256685256958008\n",
      "hls/keras max: 5.998046875/6.13869571685791\n"
     ]
    },
    {
     "data": {
      "image/png": "[encoded data removed]",
      "text/plain": [
       "<Figure size 700x500 with 1 Axes>"
      ]
     },
     "metadata": {},
     "output_type": "display_data"
    },
    {
     "data": {
      "image/png": "[encoded data removed]",
      "text/plain": [
       "<Figure size 700x500 with 1 Axes>"
      ]
     },
     "metadata": {},
     "output_type": "display_data"
    }
   ],
   "source": [
    "layers = ['fc1', 'batch_normalization']\n",
    "\n",
    "for idx, layer in enumerate(layers):\n",
    "    keras_layer, hls_layer = keras_trace[layer], hls_trace[layer]\n",
    "    try:\n",
    "        diff = np.average(np.abs(keras_layer - hls_layer ))\n",
    "        print(f'{layer}', '\\t\\t', diff)\n",
    "        \n",
    "        plt.figure(figsize=(7, 5))\n",
    "\n",
    "        plt.scatter(hls_layer.flatten(), keras_layer.flatten())\n",
    "        min_x = min(keras_layer.min(), hls_layer.min())\n",
    "        max_x = min(keras_layer.max(), hls_layer.max())\n",
    "\n",
    "        onnx_min, onnx_max = keras_layer.flatten().min(), keras_layer.flatten().max()\n",
    "        hls_min, hls_max = hls_layer.flatten().min(), hls_layer.flatten().max()\n",
    "        \n",
    "        print(f'hls/keras min: {hls_min}/{onnx_min}')\n",
    "        print(f'hls/keras max: {hls_max}/{onnx_max}')\n",
    "        \n",
    "        plt.plot([min_x, max_x], [min_x, max_x], c='red')\n",
    "        plt.axhline(min_x, c='red')\n",
    "        plt.axhline(max_x, c='red')\n",
    "\n",
    "        plt.title(f'(hls) {layer} -- (keras) {layer}')\n",
    "        plt.xlabel(f'hls4ml - [{hls_min:.3f},  {hls_max:.3f}]')\n",
    "        plt.ylabel(f'keras - [{onnx_min:.3f},  {onnx_max:.3f}]')\n",
    "        plt.yscale('linear')\n",
    "    except Exception as e:\n",
    "        print(e)\n"
   ]
  },
  {
   "cell_type": "markdown",
   "metadata": {},
   "source": [
    "## Synthesize "
   ]
  },
  {
   "cell_type": "code",
   "execution_count": 23,
   "metadata": {},
   "outputs": [
    {
     "name": "stdout",
     "output_type": "stream",
     "text": [
      "\n",
      "****** Vivado(TM) HLS - High-Level Synthesis from C, C++ and SystemC v2020.1.1 (64-bit)\n",
      "  **** SW Build 2960000 on Wed Aug  5 22:57:21 MDT 2020\n",
      "  **** IP Build 2956692 on Thu Aug  6 01:41:30 MDT 2020\n",
      "    ** Copyright 1986-2020 Xilinx, Inc. All Rights Reserved.\n",
      "\n",
      "source /tools/Xilinx/Vivado/2020.1/scripts/vivado_hls/hls.tcl -notrace\n",
      "INFO: Applying HLS Y2K22 patch v1.2 for IP revision\n",
      "INFO: [HLS 200-10] Running '/tools/Xilinx/Vivado/2020.1/bin/unwrapped/lnx64.o/vivado_hls'\n",
      "INFO: [HLS 200-10] For user 'giuseppe' on host 'thorin' (Linux_x86_64 version 5.14.0-1048-oem) on Wed Mar 27 13:21:19 PDT 2024\n",
      "INFO: [HLS 200-10] On os Ubuntu 22.04.4 LTS\n",
      "INFO: [HLS 200-10] In directory '/extras/home/gdg/research/projects/quantum/ml-quantum-readout/notebooks/hls4ml_prjs/NN_0_770_prj'\n",
      "Sourcing Tcl script 'build_prj.tcl'\n",
      "INFO: [HLS 200-10] Creating and opening project '/extras/home/gdg/research/projects/quantum/ml-quantum-readout/notebooks/hls4ml_prjs/NN_0_770_prj/NN_prj'.\n",
      "INFO: [HLS 200-10] Adding design file 'firmware/NN.cpp' to the project\n",
      "INFO: [HLS 200-10] Adding test bench file 'NN_test.cpp' to the project\n",
      "INFO: [HLS 200-10] Adding test bench file 'firmware/weights' to the project\n",
      "INFO: [HLS 200-10] Adding test bench file 'tb_data' to the project\n",
      "INFO: [HLS 200-10] Creating and opening solution '/extras/home/gdg/research/projects/quantum/ml-quantum-readout/notebooks/hls4ml_prjs/NN_0_770_prj/NN_prj/solution1'.\n",
      "INFO: [XFORM 203-101] Allowed max sub elements number after partition is 4096.\n",
      "INFO: [XFORM 203-1161] The maximum of name length is set into 80.\n",
      "INFO: [HLS 200-10] Setting target device to 'xczu49dr-ffvf1760-2-e'\n",
      "INFO: [SYN 201-201] Setting up clock 'default' with a period of 3.225ns.\n",
      "INFO: [SYN 201-201] Setting up clock 'default' with an uncertainty of 0.403ns.\n",
      "***** C/RTL SYNTHESIS *****\n",
      "INFO: [SCHED 204-61] Option 'relax_ii_for_timing' is enabled, will increase II to preserve clock frequency constraints.\n",
      "INFO: [HLS 200-10] Analyzing design file 'firmware/NN.cpp' ... \n",
      "INFO: [HLS 200-111] Finished Linking Time (s): cpu = 00:00:17 ; elapsed = 00:00:16 . Memory (MB): peak = 1583.844 ; gain = 1161.777 ; free physical = 6806 ; free virtual = 49710\n",
      "INFO: [HLS 200-111] Finished Checking Pragmas Time (s): cpu = 00:00:17 ; elapsed = 00:00:16 . Memory (MB): peak = 1583.844 ; gain = 1161.777 ; free physical = 6806 ; free virtual = 49710\n",
      "INFO: [HLS 200-10] Starting code transformations ...\n",
      "INFO: [XFORM 203-603] Inlining function 'nnet::product::mult<ap_fixed<14, 14, (ap_q_mode)5, (ap_o_mode)3, 0>, ap_fixed<6, 1, (ap_q_mode)5, (ap_o_mode)3, 0> >::product' into 'nnet::dense_latency<ap_fixed<14, 14, (ap_q_mode)5, (ap_o_mode)3, 0>, ap_fixed<18, 18, (ap_q_mode)5, (ap_o_mode)3, 0>, config2>' (firmware/nnet_utils/nnet_dense_latency.h:42).\n",
      "INFO: [XFORM 203-603] Inlining function 'nnet::dense<ap_fixed<14, 14, (ap_q_mode)5, (ap_o_mode)3, 0>, ap_fixed<18, 18, (ap_q_mode)5, (ap_o_mode)3, 0>, config2>' into 'NN' (firmware/NN.cpp:37).\n",
      "INFO: [XFORM 203-603] Inlining function 'nnet::product::mult<ap_fixed<18, 18, (ap_q_mode)5, (ap_o_mode)3, 0>, ap_fixed<20, 3, (ap_q_mode)5, (ap_o_mode)3, 0> >::product' into 'nnet::normalize<ap_fixed<18, 18, (ap_q_mode)5, (ap_o_mode)3, 0>, ap_fixed<16, 6, (ap_q_mode)5, (ap_o_mode)3, 0>, config4>' (firmware/nnet_utils/nnet_batchnorm.h:54).\n",
      "INFO: [HLS 200-111] Finished Standard Transforms Time (s): cpu = 00:00:18 ; elapsed = 00:00:18 . Memory (MB): peak = 1583.844 ; gain = 1161.777 ; free physical = 7372 ; free virtual = 50285\n",
      "INFO: [HLS 200-10] Checking synthesizability ...\n",
      "INFO: [XFORM 203-602] Inlining function 'nnet::cast<ap_fixed<14, 14, (ap_q_mode)5, (ap_o_mode)3, 0>, ap_fixed<18, 18, (ap_q_mode)5, (ap_o_mode)3, 0>, config2>' into 'nnet::dense_latency<ap_fixed<14, 14, (ap_q_mode)5, (ap_o_mode)3, 0>, ap_fixed<18, 18, (ap_q_mode)5, (ap_o_mode)3, 0>, config2>' (firmware/nnet_utils/nnet_dense_latency.h:66) automatically.\n",
      "INFO: [HLS 200-111] Finished Checking Synthesizability Time (s): cpu = 00:00:18 ; elapsed = 00:00:18 . Memory (MB): peak = 1583.844 ; gain = 1161.777 ; free physical = 7323 ; free virtual = 50237\n",
      "INFO: [XFORM 203-502] Unrolling all loops for pipelining in function 'nnet::normalize<ap_fixed<18, 18, (ap_q_mode)5, (ap_o_mode)3, 0>, ap_fixed<16, 6, (ap_q_mode)5, (ap_o_mode)3, 0>, config4>' (firmware/nnet_utils/nnet_batchnorm.h:37:47).\n",
      "INFO: [XFORM 203-502] Unrolling all loops for pipelining in function 'nnet::dense_latency<ap_fixed<14, 14, (ap_q_mode)5, (ap_o_mode)3, 0>, ap_fixed<18, 18, (ap_q_mode)5, (ap_o_mode)3, 0>, config2>' (firmware/nnet_utils/nnet_dense_latency.h:17:48).\n",
      "INFO: [HLS 200-489] Unrolling loop 'Result' (firmware/nnet_utils/nnet_batchnorm.h:52) in function 'nnet::normalize<ap_fixed<18, 18, (ap_q_mode)5, (ap_o_mode)3, 0>, ap_fixed<16, 6, (ap_q_mode)5, (ap_o_mode)3, 0>, config4>' completely with a factor of 2.\n",
      "INFO: [HLS 200-489] Unrolling loop 'Product1' (firmware/nnet_utils/nnet_dense_latency.h:37) in function 'nnet::dense_latency<ap_fixed<14, 14, (ap_q_mode)5, (ap_o_mode)3, 0>, ap_fixed<18, 18, (ap_q_mode)5, (ap_o_mode)3, 0>, config2>' completely with a factor of 1540.\n",
      "INFO: [HLS 200-489] Unrolling loop 'Product2' (firmware/nnet_utils/nnet_dense_latency.h:40) in function 'nnet::dense_latency<ap_fixed<14, 14, (ap_q_mode)5, (ap_o_mode)3, 0>, ap_fixed<18, 18, (ap_q_mode)5, (ap_o_mode)3, 0>, config2>' completely with a factor of 2.\n",
      "INFO: [HLS 200-489] Unrolling loop 'ResetAccum' (firmware/nnet_utils/nnet_dense_latency.h:48) in function 'nnet::dense_latency<ap_fixed<14, 14, (ap_q_mode)5, (ap_o_mode)3, 0>, ap_fixed<18, 18, (ap_q_mode)5, (ap_o_mode)3, 0>, config2>' completely with a factor of 2.\n",
      "INFO: [HLS 200-489] Unrolling loop 'Accum1' (firmware/nnet_utils/nnet_dense_latency.h:54) in function 'nnet::dense_latency<ap_fixed<14, 14, (ap_q_mode)5, (ap_o_mode)3, 0>, ap_fixed<18, 18, (ap_q_mode)5, (ap_o_mode)3, 0>, config2>' completely with a factor of 1540.\n",
      "INFO: [HLS 200-489] Unrolling loop 'Accum2' (firmware/nnet_utils/nnet_dense_latency.h:56) in function 'nnet::dense_latency<ap_fixed<14, 14, (ap_q_mode)5, (ap_o_mode)3, 0>, ap_fixed<18, 18, (ap_q_mode)5, (ap_o_mode)3, 0>, config2>' completely with a factor of 2.\n",
      "INFO: [HLS 200-489] Unrolling loop 'Result' (firmware/nnet_utils/nnet_dense_latency.h:64) in function 'nnet::dense_latency<ap_fixed<14, 14, (ap_q_mode)5, (ap_o_mode)3, 0>, ap_fixed<18, 18, (ap_q_mode)5, (ap_o_mode)3, 0>, config2>' completely with a factor of 2.\n",
      "INFO: [XFORM 203-131] Reshaping array 'fc1_input.V' (firmware/NN.cpp:7) in dimension 1 completely.\n",
      "INFO: [XFORM 203-101] Partitioning array 'layer4_out.V' (firmware/NN.cpp:8) in dimension 1 completely.\n",
      "INFO: [XFORM 203-101] Partitioning array 'layer2_out.V' (firmware/NN.cpp:35) in dimension 1 completely.\n",
      "INFO: [XFORM 203-101] Partitioning array 'b2.V'  in dimension 1 completely.\n",
      "INFO: [XFORM 203-101] Partitioning array 'mult.V' (firmware/nnet_utils/nnet_dense_latency.h:17) in dimension 1 completely.\n",
      "INFO: [XFORM 203-101] Partitioning array 'acc.V' (firmware/nnet_utils/nnet_dense_latency.h:18) in dimension 1 completely.\n",
      "INFO: [XFORM 203-101] Partitioning array 's4.V'  in dimension 1 completely.\n",
      "INFO: [XFORM 203-101] Partitioning array 'b4.V'  in dimension 1 completely.\n",
      "INFO: [XFORM 203-602] Inlining function 'nnet::cast<ap_fixed<14, 14, (ap_q_mode)5, (ap_o_mode)3, 0>, ap_fixed<18, 18, (ap_q_mode)5, (ap_o_mode)3, 0>, config2>' into 'nnet::dense_latency<ap_fixed<14, 14, (ap_q_mode)5, (ap_o_mode)3, 0>, ap_fixed<18, 18, (ap_q_mode)5, (ap_o_mode)3, 0>, config2>' (firmware/nnet_utils/nnet_dense_latency.h:66) automatically.\n",
      "INFO: [XFORM 203-622] Instantiating function 'nnet::normalize<ap_fixed<18, 18, (ap_q_mode)5, (ap_o_mode)3, 0>, ap_fixed<16, 6, (ap_q_mode)5, (ap_o_mode)3, 0>, config4>'(firmware/nnet_utils/nnet_batchnorm.h:42:1) to 'nnet::normalize<ap_fixed<18, 18, (ap_q_mode)5, (ap_o_mode)3, 0>, ap_fixed<16, 6, (ap_q_mode)5, (ap_o_mode)3, 0>, config4>.0' at call site (firmware/NN.cpp:42) by setting 'scale[0].V' to 's4.V.0'.\n",
      "INFO: [XFORM 203-622] Instantiating function 'nnet::normalize<ap_fixed<18, 18, (ap_q_mode)5, (ap_o_mode)3, 0>, ap_fixed<16, 6, (ap_q_mode)5, (ap_o_mode)3, 0>, config4>.0'(firmware/nnet_utils/nnet_batchnorm.h:42:1) to 'nnet::normalize<ap_fixed<18, 18, (ap_q_mode)5, (ap_o_mode)3, 0>, ap_fixed<16, 6, (ap_q_mode)5, (ap_o_mode)3, 0>, config4>.0.0' at call site (firmware/NN.cpp:42) by setting 'scale[1].V' to 's4.V.1'.\n",
      "INFO: [XFORM 203-622] Instantiating function 'nnet::normalize<ap_fixed<18, 18, (ap_q_mode)5, (ap_o_mode)3, 0>, ap_fixed<16, 6, (ap_q_mode)5, (ap_o_mode)3, 0>, config4>.0.0'(firmware/nnet_utils/nnet_batchnorm.h:42:1) to 'nnet::normalize<ap_fixed<18, 18, (ap_q_mode)5, (ap_o_mode)3, 0>, ap_fixed<16, 6, (ap_q_mode)5, (ap_o_mode)3, 0>, config4>.0.0.0' at call site (firmware/NN.cpp:42) by setting 'bias[0].V' to 'b4.V.0'.\n",
      "INFO: [XFORM 203-622] Instantiating function 'nnet::normalize<ap_fixed<18, 18, (ap_q_mode)5, (ap_o_mode)3, 0>, ap_fixed<16, 6, (ap_q_mode)5, (ap_o_mode)3, 0>, config4>.0.0.0'(firmware/nnet_utils/nnet_batchnorm.h:42:1) to 'nnet::normalize<ap_fixed<18, 18, (ap_q_mode)5, (ap_o_mode)3, 0>, ap_fixed<16, 6, (ap_q_mode)5, (ap_o_mode)3, 0>, config4>.0.0.0.0' at call site (firmware/NN.cpp:42) by setting 'bias[1].V' to 'b4.V.1'.\n",
      "INFO: [XFORM 203-622] Instantiating function 'nnet::dense_latency<ap_fixed<14, 14, (ap_q_mode)5, (ap_o_mode)3, 0>, ap_fixed<18, 18, (ap_q_mode)5, (ap_o_mode)3, 0>, config2>'(firmware/nnet_utils/nnet_dense_latency.h:26:27) to 'nnet::dense_latency<ap_fixed<14, 14, (ap_q_mode)5, (ap_o_mode)3, 0>, ap_fixed<18, 18, (ap_q_mode)5, (ap_o_mode)3, 0>, config2>.0' by setting 'weights.V' to 'w2.V'.\n",
      "INFO: [XFORM 203-622] Instantiating function 'nnet::dense_latency<ap_fixed<14, 14, (ap_q_mode)5, (ap_o_mode)3, 0>, ap_fixed<18, 18, (ap_q_mode)5, (ap_o_mode)3, 0>, config2>.0'(firmware/nnet_utils/nnet_dense_latency.h:26:27) to 'nnet::dense_latency<ap_fixed<14, 14, (ap_q_mode)5, (ap_o_mode)3, 0>, ap_fixed<18, 18, (ap_q_mode)5, (ap_o_mode)3, 0>, config2>.0.0' by setting 'biases[0].V' to 'b2.V.0'.\n",
      "INFO: [XFORM 203-622] Instantiating function 'nnet::dense_latency<ap_fixed<14, 14, (ap_q_mode)5, (ap_o_mode)3, 0>, ap_fixed<18, 18, (ap_q_mode)5, (ap_o_mode)3, 0>, config2>.0.0'(firmware/nnet_utils/nnet_dense_latency.h:26:27) to 'nnet::dense_latency<ap_fixed<14, 14, (ap_q_mode)5, (ap_o_mode)3, 0>, ap_fixed<18, 18, (ap_q_mode)5, (ap_o_mode)3, 0>, config2>.0.0.0' by setting 'biases[1].V' to 'b2.V.1'.\n",
      "INFO: [XFORM 203-11] Balancing expressions in function 'nnet::dense_latency<ap_fixed<14, 14, (ap_q_mode)5, (ap_o_mode)3, 0>, ap_fixed<18, 18, (ap_q_mode)5, (ap_o_mode)3, 0>, config2>.0.0.0' (firmware/nnet_utils/nnet_dense_latency.h:26:27)...614 expression(s) balanced.\n",
      "INFO: [HLS 200-111] Finished Pre-synthesis Time (s): cpu = 00:03:32 ; elapsed = 00:03:35 . Memory (MB): peak = 8812.688 ; gain = 8390.621 ; free physical = 6810 ; free virtual = 48633\n",
      "WARNING: [XFORM 203-631] Renaming function 'nnet::normalize<ap_fixed<18, 18, (ap_q_mode)5, (ap_o_mode)3, 0>, ap_fixed<16, 6, (ap_q_mode)5, (ap_o_mode)3, 0>, config4>.0.0.0.0' to 'normalize<ap_fixed<18, 18, 5, 3, 0>, ap_fixed<16, 6, 5, 3, 0>, config4>.0.0.0.0' (firmware/nnet_utils/nnet_batchnorm.h:42:1)\n",
      "WARNING: [XFORM 203-631] Renaming function 'nnet::dense_latency<ap_fixed<14, 14, (ap_q_mode)5, (ap_o_mode)3, 0>, ap_fixed<18, 18, (ap_q_mode)5, (ap_o_mode)3, 0>, config2>.0.0.0' to 'dense_latency<ap_fixed,ap_fixed<18,18,5,3,0>,config2>.0.0.0' (firmware/nnet_utils/nnet_dense_latency.h:26:27)\n",
      "INFO: [HLS 200-111] Finished Architecture Synthesis Time (s): cpu = 00:03:43 ; elapsed = 00:03:46 . Memory (MB): peak = 8812.688 ; gain = 8390.621 ; free physical = 6794 ; free virtual = 48623\n",
      "INFO: [HLS 200-10] Starting hardware synthesis ...\n",
      "INFO: [HLS 200-10] Synthesizing 'NN' ...\n",
      "WARNING: [SYN 201-103] Legalizing function name 'dense_latency<ap_fixed,ap_fixed<18,18,5,3,0>,config2>.0.0.0' to 'dense_latency_ap_fixed_ap_fixed_18_18_5_3_0_config2_0_0_0'.\n",
      "WARNING: [SYN 201-103] Legalizing function name 'normalize<ap_fixed<18, 18, 5, 3, 0>, ap_fixed<16, 6, 5, 3, 0>, config4>.0.0.0.0' to 'normalize_ap_fixed_18_18_5_3_0_ap_fixed_16_6_5_3_0_config4_0_0_0_0'.\n",
      "WARNING: [SYN 201-223] Checking resource limit in 'normalize<ap_fixed<18, 18, 5, 3, 0>, ap_fixed<16, 6, 5, 3, 0>, config4>.0.0.0.0': cannot find any operation of 'mul'.\n",
      "INFO: [HLS 200-10] ----------------------------------------------------------------\n",
      "INFO: [HLS 200-42] -- Implementing module 'dense_latency_ap_fixed_ap_fixed_18_18_5_3_0_config2_0_0_0' \n",
      "INFO: [HLS 200-10] ----------------------------------------------------------------\n",
      "INFO: [SCHED 204-11] Starting scheduling ...\n",
      "INFO: [SCHED 204-61] Pipelining function 'dense_latency<ap_fixed,ap_fixed<18,18,5,3,0>,config2>.0.0.0'.\n",
      "INFO: [SCHED 204-61] Pipelining result : Target II = 1, Final II = 1, Depth = 4.\n",
      "INFO: [SCHED 204-11] Finished scheduling.\n",
      "INFO: [HLS 200-111]  Elapsed time: 227.75 seconds; current allocated memory: 198.840 MB.\n",
      "INFO: [BIND 205-100] Starting micro-architecture generation ...\n",
      "INFO: [BIND 205-101] Performing variable lifetime analysis.\n",
      "INFO: [BIND 205-101] Exploring resource sharing.\n",
      "INFO: [BIND 205-101] Binding ...\n",
      "INFO: [BIND 205-100] Starting global binding ...\n",
      "INFO: [BIND 205-100] Finished micro-architecture generation.\n",
      "INFO: [HLS 200-111]  Elapsed time: 12.55 seconds; current allocated memory: 218.179 MB.\n",
      "INFO: [HLS 200-10] ----------------------------------------------------------------\n",
      "INFO: [HLS 200-42] -- Implementing module 'normalize_ap_fixed_18_18_5_3_0_ap_fixed_16_6_5_3_0_config4_0_0_0_0' \n",
      "INFO: [HLS 200-10] ----------------------------------------------------------------\n",
      "INFO: [SCHED 204-11] Starting scheduling ...\n",
      "INFO: [SCHED 204-61] Pipelining function 'normalize<ap_fixed<18, 18, 5, 3, 0>, ap_fixed<16, 6, 5, 3, 0>, config4>.0.0.0.0'.\n",
      "INFO: [SCHED 204-61] Pipelining result : Target II = 1, Final II = 1, Depth = 1.\n",
      "INFO: [SCHED 204-11] Finished scheduling.\n",
      "INFO: [HLS 200-111]  Elapsed time: 12 seconds; current allocated memory: 219.603 MB.\n",
      "INFO: [BIND 205-100] Starting micro-architecture generation ...\n",
      "INFO: [BIND 205-101] Performing variable lifetime analysis.\n",
      "INFO: [BIND 205-101] Exploring resource sharing.\n",
      "INFO: [BIND 205-101] Binding ...\n",
      "INFO: [BIND 205-100] Finished micro-architecture generation.\n",
      "INFO: [HLS 200-111]  Elapsed time: 0.05 seconds; current allocated memory: 219.702 MB.\n",
      "INFO: [HLS 200-10] ----------------------------------------------------------------\n",
      "INFO: [HLS 200-42] -- Implementing module 'NN' \n",
      "INFO: [HLS 200-10] ----------------------------------------------------------------\n",
      "INFO: [SCHED 204-11] Starting scheduling ...\n",
      "INFO: [SCHED 204-61] Pipelining function 'NN'.\n",
      "INFO: [SCHED 204-61] Pipelining result : Target II = 1, Final II = 1, Depth = 5.\n",
      "INFO: [SCHED 204-11] Finished scheduling.\n",
      "INFO: [HLS 200-111]  Elapsed time: 0.06 seconds; current allocated memory: 219.750 MB.\n",
      "INFO: [BIND 205-100] Starting micro-architecture generation ...\n",
      "INFO: [BIND 205-101] Performing variable lifetime analysis.\n",
      "INFO: [BIND 205-101] Exploring resource sharing.\n",
      "INFO: [BIND 205-101] Binding ...\n",
      "INFO: [BIND 205-100] Finished micro-architecture generation.\n",
      "INFO: [HLS 200-111]  Elapsed time: 0.65 seconds; current allocated memory: 220.240 MB.\n",
      "INFO: [HLS 200-10] ----------------------------------------------------------------\n",
      "INFO: [HLS 200-10] -- Generating RTL for module 'dense_latency_ap_fixed_ap_fixed_18_18_5_3_0_config2_0_0_0' \n",
      "INFO: [HLS 200-10] ----------------------------------------------------------------\n",
      "INFO: [RTGEN 206-104] Estimated max fanout for 'dense_latency_ap_fixed_ap_fixed_18_18_5_3_0_config2_0_0_0' is 21560 from HDL expression: (1'b1 == ap_ce)\n",
      "INFO: [RTGEN 206-100] Finished creating RTL model for 'dense_latency_ap_fixed_ap_fixed_18_18_5_3_0_config2_0_0_0'.\n",
      "INFO: [HLS 200-111]  Elapsed time: 4.15 seconds; current allocated memory: 255.373 MB.\n",
      "INFO: [HLS 200-10] ----------------------------------------------------------------\n",
      "INFO: [HLS 200-10] -- Generating RTL for module 'normalize_ap_fixed_18_18_5_3_0_ap_fixed_16_6_5_3_0_config4_0_0_0_0' \n",
      "INFO: [HLS 200-10] ----------------------------------------------------------------\n",
      "INFO: [RTGEN 206-100] Finished creating RTL model for 'normalize_ap_fixed_18_18_5_3_0_ap_fixed_16_6_5_3_0_config4_0_0_0_0'.\n",
      "INFO: [HLS 200-111]  Elapsed time: 16.56 seconds; current allocated memory: 326.935 MB.\n",
      "INFO: [HLS 200-10] ----------------------------------------------------------------\n",
      "INFO: [HLS 200-10] -- Generating RTL for module 'NN' \n",
      "INFO: [HLS 200-10] ----------------------------------------------------------------\n",
      "INFO: [RTGEN 206-500] Setting interface mode on port 'NN/fc1_input_V' to 'ap_vld'.\n",
      "INFO: [RTGEN 206-500] Setting interface mode on port 'NN/layer4_out_0_V' to 'ap_vld'.\n",
      "INFO: [RTGEN 206-500] Setting interface mode on port 'NN/layer4_out_1_V' to 'ap_vld'.\n",
      "INFO: [RTGEN 206-500] Setting interface mode on function 'NN' to 'ap_ctrl_hs'.\n",
      "INFO: [RTGEN 206-104] Estimated max fanout for 'NN' is 21566 from HDL expression: ap_rst\n",
      "INFO: [RTGEN 206-100] Finished creating RTL model for 'NN'.\n",
      "INFO: [HLS 200-111]  Elapsed time: 1.19 seconds; current allocated memory: 327.573 MB.\n",
      "INFO: [HLS 200-789] **** Estimated Fmax: 390.90 MHz\n",
      "INFO: [HLS 200-111] Finished generating all RTL models Time (s): cpu = 00:04:42 ; elapsed = 00:04:47 . Memory (MB): peak = 8812.688 ; gain = 8390.621 ; free physical = 6708 ; free virtual = 48639\n",
      "INFO: [VHDL 208-304] Generating VHDL RTL for NN.\n",
      "INFO: [VLOG 209-307] Generating Verilog RTL for NN.\n",
      "***** C/RTL SYNTHESIS COMPLETED IN 0h4m45s *****\n",
      "***** EXPORT IP *****\n",
      "INFO: [IMPL 213-8] Exporting RTL as a Vivado IP.\n",
      "\n",
      "****** Vivado v2020.1.1 (64-bit)\n",
      "  **** SW Build 2960000 on Wed Aug  5 22:57:21 MDT 2020\n",
      "  **** IP Build 2956692 on Thu Aug  6 01:41:30 MDT 2020\n",
      "    ** Copyright 1986-2020 Xilinx, Inc. All Rights Reserved.\n",
      "\n",
      "source run_ippack.tcl -notrace\n",
      "INFO: [IP_Flow 19-234] Refreshing IP repositories\n",
      "INFO: [IP_Flow 19-1704] No user IP repositories specified\n",
      "INFO: [IP_Flow 19-2313] Loaded Vivado IP repository '/tools/Xilinx/Vivado/2020.1/data/ip'.\n",
      "INFO: [Common 17-206] Exiting Vivado at Wed Mar 27 13:26:30 2024...\n",
      "***** EXPORT IP COMPLETED IN 0h0m34s *****\n",
      "INFO: [HLS 200-112] Total elapsed time: 322.14 seconds; peak allocated memory: 327.573 MB.\n",
      "INFO: [Common 17-206] Exiting vivado_hls at Wed Mar 27 13:26:41 2024...\n",
      "Vivado synthesis report not found.\n",
      "Cosim report not found.\n",
      "Timing report not found.\n"
     ]
    },
    {
     "data": {
      "text/plain": [
       "{'CSynthesisReport': {'TargetClockPeriod': '3.22',\n",
       "  'EstimatedClockPeriod': '2.558',\n",
       "  'BestLatency': '4',\n",
       "  'WorstLatency': '4',\n",
       "  'IntervalMin': '1',\n",
       "  'IntervalMax': '1',\n",
       "  'DSP': '30',\n",
       "  'FF': '48040',\n",
       "  'LUT': '28239',\n",
       "  'BRAM_18K': '0',\n",
       "  'URAM': '0',\n",
       "  'AvailableBRAM_18K': '2160',\n",
       "  'AvailableDSP': '4272',\n",
       "  'AvailableFF': '850560',\n",
       "  'AvailableLUT': '425280',\n",
       "  'AvailableURAM': '80'}}"
      ]
     },
     "execution_count": 23,
     "metadata": {},
     "output_type": "execute_result"
    }
   ],
   "source": [
    "hls_model.build(\n",
    "    csim=False,\n",
    "    synth=True,\n",
    "    cosim=False,\n",
    "    export=True,\n",
    "    vsynth=False,\n",
    ")"
   ]
  },
  {
   "cell_type": "markdown",
   "metadata": {},
   "source": [
    "## Check the report"
   ]
  },
  {
   "cell_type": "code",
   "execution_count": 24,
   "metadata": {},
   "outputs": [
    {
     "name": "stdout",
     "output_type": "stream",
     "text": [
      "Found 1 solution(s) in hls4ml_prjs/NN_0_770_prj/NN_prj.\n",
      "Reports for solution \"solution1\":\n",
      "\n",
      "C simulation report not found.\n",
      "SYNTHESIS REPORT:\n",
      "================================================================\n",
      "== Vivado HLS Report for 'NN'\n",
      "================================================================\n",
      "* Date:           Wed Mar 27 13:25:53 2024\n",
      "\n",
      "* Version:        2020.1.1 (Build 2951007 on Wed Aug 05 23:24:06 MDT 2020)\n",
      "* Project:        NN_prj\n",
      "* Solution:       solution1\n",
      "* Product family: zynquplus\n",
      "* Target device:  xczu49dr-ffvf1760-2-e\n",
      "\n",
      "\n",
      "================================================================\n",
      "== Performance Estimates\n",
      "================================================================\n",
      "+ Timing: \n",
      "    * Summary: \n",
      "    +--------+---------+----------+------------+\n",
      "    |  Clock |  Target | Estimated| Uncertainty|\n",
      "    +--------+---------+----------+------------+\n",
      "    |ap_clk  | 3.22 ns | 2.558 ns |   0.40 ns  |\n",
      "    +--------+---------+----------+------------+\n",
      "\n",
      "+ Latency: \n",
      "    * Summary: \n",
      "    +---------+---------+-----------+-----------+-----+-----+----------+\n",
      "    |  Latency (cycles) |   Latency (absolute)  |  Interval | Pipeline |\n",
      "    |   min   |   max   |    min    |    max    | min | max |   Type   |\n",
      "    +---------+---------+-----------+-----------+-----+-----+----------+\n",
      "    |        4|        4| 12.900 ns | 12.900 ns |    1|    1| function |\n",
      "    +---------+---------+-----------+-----------+-----+-----+----------+\n",
      "\n",
      "    + Detail: \n",
      "        * Instance: \n",
      "        +------------------------------------------------------------------------------------+--------------------------------------------------------------------+---------+---------+----------+----------+-----+-----+----------+\n",
      "        |                                                                                    |                                                                    |  Latency (cycles) |  Latency (absolute) |  Interval | Pipeline |\n",
      "        |                                      Instance                                      |                               Module                               |   min   |   max   |    min   |    max   | min | max |   Type   |\n",
      "        +------------------------------------------------------------------------------------+--------------------------------------------------------------------+---------+---------+----------+----------+-----+-----+----------+\n",
      "        |grp_dense_latency_ap_fixed_ap_fixed_18_18_5_3_0_config2_0_0_0_fu_54                 |dense_latency_ap_fixed_ap_fixed_18_18_5_3_0_config2_0_0_0           |        3|        3| 9.675 ns | 9.675 ns |    1|    1| function |\n",
      "        |call_ret1_normalize_ap_fixed_18_18_5_3_0_ap_fixed_16_6_5_3_0_config4_0_0_0_0_fu_60  |normalize_ap_fixed_18_18_5_3_0_ap_fixed_16_6_5_3_0_config4_0_0_0_0  |        0|        0|   0 ns   |   0 ns   |    1|    1| function |\n",
      "        +------------------------------------------------------------------------------------+--------------------------------------------------------------------+---------+---------+----------+----------+-----+-----+----------+\n",
      "\n",
      "        * Loop: \n",
      "        N/A\n",
      "\n",
      "\n",
      "\n",
      "================================================================\n",
      "== Utilization Estimates\n",
      "================================================================\n",
      "* Summary: \n",
      "+-----------------+---------+-------+--------+--------+-----+\n",
      "|       Name      | BRAM_18K| DSP48E|   FF   |   LUT  | URAM|\n",
      "+-----------------+---------+-------+--------+--------+-----+\n",
      "|DSP              |        -|      -|       -|       -|    -|\n",
      "|Expression       |        -|      -|       0|       6|    -|\n",
      "|FIFO             |        -|      -|       -|       -|    -|\n",
      "|Instance         |        -|     30|   26474|   28197|    -|\n",
      "|Memory           |        -|      -|       -|       -|    -|\n",
      "|Multiplexer      |        -|      -|       -|      36|    -|\n",
      "|Register         |        -|      -|   21566|       -|    -|\n",
      "+-----------------+---------+-------+--------+--------+-----+\n",
      "|Total            |        0|     30|   48040|   28239|    0|\n",
      "+-----------------+---------+-------+--------+--------+-----+\n",
      "|Available        |     2160|   4272|  850560|  425280|   80|\n",
      "+-----------------+---------+-------+--------+--------+-----+\n",
      "|Utilization (%)  |        0|   ~0  |       5|       6|    0|\n",
      "+-----------------+---------+-------+--------+--------+-----+\n",
      "\n",
      "+ Detail: \n",
      "    * Instance: \n",
      "    +------------------------------------------------------------------------------------+--------------------------------------------------------------------+---------+-------+-------+-------+-----+\n",
      "    |                                      Instance                                      |                               Module                               | BRAM_18K| DSP48E|   FF  |  LUT  | URAM|\n",
      "    +------------------------------------------------------------------------------------+--------------------------------------------------------------------+---------+-------+-------+-------+-----+\n",
      "    |grp_dense_latency_ap_fixed_ap_fixed_18_18_5_3_0_config2_0_0_0_fu_54                 |dense_latency_ap_fixed_ap_fixed_18_18_5_3_0_config2_0_0_0           |        0|     30|  26474|  28105|    0|\n",
      "    |call_ret1_normalize_ap_fixed_18_18_5_3_0_ap_fixed_16_6_5_3_0_config4_0_0_0_0_fu_60  |normalize_ap_fixed_18_18_5_3_0_ap_fixed_16_6_5_3_0_config4_0_0_0_0  |        0|      0|      0|     92|    0|\n",
      "    +------------------------------------------------------------------------------------+--------------------------------------------------------------------+---------+-------+-------+-------+-----+\n",
      "    |Total                                                                               |                                                                    |        0|     30|  26474|  28197|    0|\n",
      "    +------------------------------------------------------------------------------------+--------------------------------------------------------------------+---------+-------+-------+-------+-----+\n",
      "\n",
      "Co-simulation report not found.\n"
     ]
    }
   ],
   "source": [
    "hls4ml.report.read_vivado_report(OutputDir)"
   ]
  },
  {
   "cell_type": "markdown",
   "metadata": {},
   "source": [
    "## Compare QKeras, hls4ml, and board runs"
   ]
  },
  {
   "cell_type": "code",
   "execution_count": 25,
   "metadata": {},
   "outputs": [],
   "source": [
    "# import csv\n",
    "# import pandas as pd\n",
    "\n",
    "# from ctypes import *\n",
    "# def to_float(i):\n",
    "#     cp = pointer(c_int(i))\n",
    "#     fp = cast(cp, POINTER(c_float))\n",
    "#     return fp.contents.value"
   ]
  },
  {
   "cell_type": "markdown",
   "metadata": {},
   "source": [
    "### demo00/send_receive_pulse"
   ]
  },
  {
   "cell_type": "code",
   "execution_count": 26,
   "metadata": {},
   "outputs": [],
   "source": [
    "# # Load CSV files from board runs\n",
    "\n",
    "# # X\n",
    "# df = pd.read_csv(DATA_DIR + '/fpga_testing/dev_X_fpga.csv', header=None)\n",
    "# X_test_board = df.values\n",
    "\n",
    "# # y\n",
    "# df = pd.read_csv(DATA_DIR + '/fpga_testing/dev_y_fpga.csv', header=None)\n",
    "# y_test_board = df.values"
   ]
  },
  {
   "cell_type": "code",
   "execution_count": 27,
   "metadata": {},
   "outputs": [],
   "source": [
    "# # X -> QKeras -> y\n",
    "# y_qkeras_pred = model.predict(X_test_board)\n",
    "\n",
    "# # X -> HLS -> y (csim)\n",
    "# y_hls_pred = hls_model.predict(np.ascontiguousarray(X_test_board.astype(np.float32)))"
   ]
  },
  {
   "cell_type": "code",
   "execution_count": 28,
   "metadata": {},
   "outputs": [],
   "source": [
    "# test_size = y_test_board.shape[0]\n",
    "# errors = 0\n",
    "\n",
    "# # Count mismatches (QKeras != HLS)\n",
    "# for i in range(test_size):\n",
    "#     g_ref = to_float(y_test_board[i][0])\n",
    "#     e_ref = to_float(y_test_board[i][1])\n",
    "\n",
    "#     g_hls = y_hls_pred[i][0]\n",
    "#     e_hls = y_hls_pred[i][1]\n",
    "\n",
    "#     mismatch = (g_ref != g_hls) | (e_ref != e_hls)\n",
    "#     print('board[{}] [{:.12f}, {:.12f}]'.format(i, g_ref, e_ref))\n",
    "#     print('hls  [{}] [{:.12f}, {:.12f}] {:s}'.format(i, g_hls, e_hls, '***' if mismatch else ''))\n",
    "#     print('')\n",
    "#     if (mismatch):\n",
    "#         errors = errors + 1"
   ]
  },
  {
   "cell_type": "code",
   "execution_count": 29,
   "metadata": {},
   "outputs": [],
   "source": [
    "# error_rate = (errors * 100.) / test_size\n",
    "# print('Errors: {:d}/{:d} ({:.2f}%)'.format(errors, test_size, error_rate))"
   ]
  },
  {
   "cell_type": "markdown",
   "metadata": {},
   "source": [
    "If you run with the model and **board** data on files, you should expect\n",
    "```\n",
    "Errors: 761/6235 (12.21%)\n",
    "```\n",
    "**ATTENTION:** We should expect _0_ errors (i.e. logits should match) because we are comparing board vs. hls implementations.\n",
    "\n",
    "Given these and following results, my current guess is a problem with timing/triggering. The NN reads 200 I/Q samples after a trigger event + some delay. The delay in some cases should be a little earlier or later than expected.\n",
    "\n",
    "```\n",
    "I, Q, I, Q, I, Q, I, Q, I, Q, I, Q, I, Q, I, Q, I, Q, I, Q, I, Q, I, Q, I, Q, I, Q, I, Q, ..., I, Q, I, Q, I, Q\n",
    "      ^\n",
    "      Trigger\n",
    "      <-------->\n",
    "         delay\n",
    "                  <--------------------------------- 200 samples -------------------------------------------->\n",
    "\n",
    "             <=================================== 200 samples ==========================================>\n",
    "```"
   ]
  },
  {
   "cell_type": "markdown",
   "metadata": {},
   "source": [
    "### Mock readout data"
   ]
  },
  {
   "cell_type": "markdown",
   "metadata": {},
   "source": [
    "#### Ground state"
   ]
  },
  {
   "cell_type": "code",
   "execution_count": 30,
   "metadata": {},
   "outputs": [],
   "source": [
    "# # Load CSV files from board runs\n",
    "\n",
    "# # X (ground)\n",
    "# df = pd.read_csv(DATA_DIR + '/fpga_testing/malab_g_state_X_fpga.csv', header=None)\n",
    "# X_test_board = df.values\n",
    "\n",
    "# # y (ground)\n",
    "# df = pd.read_csv(DATA_DIR + '/fpga_testing/malab_g_state_y_fpga.csv', header=None)\n",
    "# y_test_board = df.values"
   ]
  },
  {
   "cell_type": "code",
   "execution_count": 31,
   "metadata": {},
   "outputs": [],
   "source": [
    "# # X -> QKeras -> y\n",
    "# y_qkeras_pred = model.predict(X_test_board)\n",
    "\n",
    "# # X -> HLS -> y (csim)\n",
    "# y_hls_pred = hls_model.predict(np.ascontiguousarray(X_test_board.astype(np.float32)))"
   ]
  },
  {
   "cell_type": "code",
   "execution_count": 32,
   "metadata": {},
   "outputs": [],
   "source": [
    "# test_size = y_test_board.shape[0]\n",
    "\n",
    "# logit_errors = 0\n",
    "# class_errors = 0\n",
    "\n",
    "# # Count mismatches (QKeras != HLS)\n",
    "# # Count ground predictions (HLS)\n",
    "# for i in range(test_size):\n",
    "#     g_ref = to_float(y_test_board[i][0])\n",
    "#     e_ref = to_float(y_test_board[i][1])\n",
    "\n",
    "#     g_hls = y_hls_pred[i][0]\n",
    "#     e_hls = y_hls_pred[i][1]\n",
    "\n",
    "#     mismatch = (g_ref != g_hls) | (e_ref != e_hls)\n",
    "#     ground_state_ref = (g_ref > e_ref)\n",
    "#     ground_state_hls = (g_hls > e_hls)\n",
    "#     print('board[{}] [{:.12f}, {:.12f}] {:s} '.format(i, g_ref, e_ref, 'G' if ground_state_ref else 'E'))\n",
    "#     print('hls  [{}] [{:.12f}, {:.12f}] {:s} {:s}'.format(i, g_hls, e_hls, 'G' if ground_state_hls else 'E', '***' if mismatch else ''))\n",
    "#     print('')\n",
    "#     if (mismatch):\n",
    "#         logit_errors = logit_errors + 1\n",
    "#     if (not ground_state_ref):\n",
    "#         class_errors = class_errors + 1"
   ]
  },
  {
   "cell_type": "code",
   "execution_count": 33,
   "metadata": {},
   "outputs": [],
   "source": [
    "# logit_error_rate = (logit_errors * 100.) / test_size\n",
    "# class_error_rate = (class_errors * 100.) / test_size\n",
    "# print('Logit errors: {:d}/{:d} ({:.2f}%)'.format(logit_errors, test_size, logit_error_rate))\n",
    "# print('Class errors: {:d}/{:d} ({:.2f}%)'.format(class_errors, test_size, class_error_rate))"
   ]
  },
  {
   "cell_type": "markdown",
   "metadata": {},
   "source": [
    "If you run with the model and **board** data on files, you should expect\n",
    "```\n",
    "Logit errors: 435/3100 (14.03%)\n",
    "Class errors: 0/3100 (0.00%)\n",
    "```\n",
    "**ATTENTION:** We should expect _0_ errors because we are comparing board vs. hls implementations.\n",
    "\n",
    "Given these results, my current guess is a problem with timing/triggering. The NN reads 200 I/Q samples after a trigger event + some delay. The delay in some cases should be a little earlier or later than expected.\n",
    "\n",
    "```\n",
    "I, Q, I, Q, I, Q, I, Q, I, Q, I, Q, I, Q, I, Q, I, Q, I, Q, I, Q, I, Q, I, Q, I, Q, I, Q, ..., I, Q, I, Q, I, Q\n",
    "      ^\n",
    "      Trigger\n",
    "      <-------->\n",
    "         delay\n",
    "                  <--------------------------------- 200 samples -------------------------------------------->\n",
    "\n",
    "             <=================================== 200 samples ==========================================>\n",
    "```"
   ]
  },
  {
   "cell_type": "markdown",
   "metadata": {},
   "source": [
    "#### Excited state"
   ]
  },
  {
   "cell_type": "code",
   "execution_count": 34,
   "metadata": {},
   "outputs": [],
   "source": [
    "# # Load CSV files from board runs\n",
    "\n",
    "# # X (excited)\n",
    "# df = pd.read_csv(DATA_DIR + '/fpga_testing/malab_e_state_X_fpga.csv', header=None)\n",
    "# X_test_board = df.values\n",
    "\n",
    "# # y (excited)\n",
    "# df = pd.read_csv(DATA_DIR + '/fpga_testing/malab_e_state_y_fpga.csv', header=None)\n",
    "# y_test_board = df.values"
   ]
  },
  {
   "cell_type": "code",
   "execution_count": 35,
   "metadata": {},
   "outputs": [],
   "source": [
    "# # X -> QKeras -> y\n",
    "# y_qkeras_pred = model.predict(X_test_board)\n",
    "\n",
    "# # X -> HLS -> y (csim)\n",
    "# y_hls_pred = hls_model.predict(np.ascontiguousarray(X_test_board.astype(np.float32)))"
   ]
  },
  {
   "cell_type": "code",
   "execution_count": 36,
   "metadata": {},
   "outputs": [],
   "source": [
    "# test_size = y_test_board.shape[0]\n",
    "\n",
    "# logit_errors = 0\n",
    "# class_errors = 0\n",
    "\n",
    "# # Count mismatches (QKeras != HLS)\n",
    "# # Count excited predictions (HLS)\n",
    "# for i in range(test_size):\n",
    "#     g_ref = to_float(y_test_board[i][0])\n",
    "#     e_ref = to_float(y_test_board[i][1])\n",
    "\n",
    "#     g_hls = y_hls_pred[i][0]\n",
    "#     e_hls = y_hls_pred[i][1]\n",
    "\n",
    "#     mismatch = (g_ref != g_hls) | (e_ref != e_hls)\n",
    "#     excited_state_ref = (e_ref > g_ref)\n",
    "#     excited_state_hls = (e_hls > g_hls)\n",
    "\n",
    "#     print('board[{}] [{:.12f}, {:.12f}] {:s} '.format(i, g_ref, e_ref, 'E' if excited_state_ref else 'G'))\n",
    "#     print('hls  [{}] [{:.12f}, {:.12f}] {:s} {:s}'.format(i, g_hls, e_hls, 'E' if excited_state_hls else 'G', '***' if mismatch else ''))\n",
    "#     print('')\n",
    "#     if (mismatch):\n",
    "#         logit_errors = logit_errors + 1\n",
    "#     if (not excited_state_ref):\n",
    "#         class_errors = class_errors + 1"
   ]
  },
  {
   "cell_type": "code",
   "execution_count": 37,
   "metadata": {},
   "outputs": [],
   "source": [
    "# logit_error_rate = (logit_errors * 100.) / test_size\n",
    "# class_error_rate = (class_errors * 100.) / test_size\n",
    "# print('Logit errors: {:d}/{:d} ({:.2f}%)'.format(logit_errors, test_size, logit_error_rate))\n",
    "# print('Class errors: {:d}/{:d} ({:.2f}%)'.format(class_errors, test_size, class_error_rate))"
   ]
  },
  {
   "cell_type": "markdown",
   "metadata": {},
   "source": [
    "If you run with the model and **board** data on files, you should expect\n",
    "```\n",
    "Logit errors: 440/3100 (14.19%)\n",
    "Class errors: 0/3100 (0.00%)\n",
    "```\n",
    "**ATTENTION:** We should expect _0_ errors because we are comparing board vs. hls implementations.\n",
    "\n",
    "Given these results, my current guess is a problem with timing/triggering. The NN reads 200 I/Q samples after a trigger event + some delay. The delay in some cases should be a little earlier or later than expected.\n",
    "\n",
    "```\n",
    "I, Q, I, Q, I, Q, I, Q, I, Q, I, Q, I, Q, I, Q, I, Q, I, Q, I, Q, I, Q, I, Q, I, Q, I, Q, ..., I, Q, I, Q, I, Q\n",
    "      ^\n",
    "      Trigger\n",
    "      <-------->\n",
    "         delay\n",
    "                  <--------------------------------- 200 samples -------------------------------------------->\n",
    "\n",
    "             <=================================== 200 samples ==========================================>\n",
    "```"
   ]
  }
 ],
 "metadata": {
  "kernelspec": {
   "display_name": "Python 3 (ipykernel)",
   "language": "python",
   "name": "python3"
  },
  "language_info": {
   "codemirror_mode": {
    "name": "ipython",
    "version": 3
   },
   "file_extension": ".py",
   "mimetype": "text/x-python",
   "name": "python",
   "nbconvert_exporter": "python",
   "pygments_lexer": "ipython3",
   "version": "3.8.18"
  }
 },
 "nbformat": 4,
 "nbformat_minor": 4
}
