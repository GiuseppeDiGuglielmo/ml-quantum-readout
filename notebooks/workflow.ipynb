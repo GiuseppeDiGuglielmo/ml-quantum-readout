{
 "cells": [
  {
   "cell_type": "code",
   "execution_count": 1,
   "metadata": {},
   "outputs": [],
   "source": [
    "# Disable some console warnings\n",
    "import os\n",
    "os.environ['TF_XLA_FLAGS'] = '--tf_xla_enable_xla_devices'\n",
    "os.environ['TF_CPP_MIN_LOG_LEVEL'] = '3'"
   ]
  },
  {
   "cell_type": "code",
   "execution_count": 2,
   "metadata": {},
   "outputs": [],
   "source": [
    "import sys \n",
    "sys.path.append('../training')\n",
    "import pickle\n",
    "\n",
    "from save_data import process_data\n",
    "\n",
    "import hls4ml \n",
    "import numpy as np\n",
    "import matplotlib.pyplot as plt \n",
    "from sklearn.metrics import accuracy_score\n",
    "import tensorflow as tf\n",
    "from tensorflow.keras.optimizers import Adam\n",
    "from tensorflow.keras.models import Sequential\n",
    "from tensorflow.keras.layers import Dense, Activation, BatchNormalization, Dropout\n",
    "from tensorflow.keras.callbacks import ReduceLROnPlateau, ModelCheckpoint\n",
    "from tensorflow.keras.losses import CategoricalCrossentropy\n",
    "\n",
    "from tensorflow_model_optimization.python.core.sparsity.keras import prune, pruning_callbacks, pruning_schedule\n",
    "from tensorflow_model_optimization.sparsity.keras import strip_pruning\n",
    "import tensorflow_model_optimization as tfmot\n",
    "\n",
    "from qkeras.qlayers import QDense, QActivation\n",
    "from qkeras import QBatchNormalization\n",
    "from qkeras.quantizers import quantized_bits, quantized_relu\n",
    "from qkeras.utils import _add_supported_quantized_objects\n",
    "from tensorflow.keras.models import load_model\n",
    "from qkeras.utils import _add_supported_quantized_objects\n",
    "\n",
    "# os.environ['PATH'] = os.environ['XILINX_VIVADO'] + '/bin:' + os.environ['PATH']"
   ]
  },
  {
   "cell_type": "markdown",
   "metadata": {},
   "source": [
    "## Configure"
   ]
  },
  {
   "cell_type": "code",
   "execution_count": 3,
   "metadata": {},
   "outputs": [],
   "source": [
    "#DATASET_DATE = 00000000 # original dataset\n",
    "#DATASET_DATE = 20240501\n",
    "#DATASET_DATE = 20240527\n",
    "DATASET_DATE = 20240528\n",
    "\n",
    "# START_WINDOW = 285\n",
    "# END_WINDOW = 385\n",
    "\n",
    "# START_WINDOW = 150\n",
    "# END_WINDOW = 350\n",
    "\n",
    "START_WINDOW = 100\n",
    "END_WINDOW = START_WINDOW + 400\n",
    "\n",
    "# START_WINDOW = 25\n",
    "# END_WINDOW = 745\n",
    "\n",
    "# START_WINDOW = 5\n",
    "# END_WINDOW = 765\n",
    "\n",
    "# START_WINDOW = 1\n",
    "# END_WINDOW = 769\n",
    "\n",
    "#START_WINDOW = 0\n",
    "#END_WINDOW = 770"
   ]
  },
  {
   "cell_type": "markdown",
   "metadata": {},
   "source": [
    "### Enable/disable training"
   ]
  },
  {
   "cell_type": "code",
   "execution_count": 4,
   "metadata": {},
   "outputs": [],
   "source": [
    "TRAIN = True"
   ]
  },
  {
   "cell_type": "markdown",
   "metadata": {},
   "source": [
    "## Setup data"
   ]
  },
  {
   "cell_type": "code",
   "execution_count": 5,
   "metadata": {},
   "outputs": [],
   "source": [
    "def one_hot_encode(data):\n",
    "    y_encoded = np.zeros([data.shape[0],2], dtype=np.int32)\n",
    "    for idx, x in enumerate(data):\n",
    "        if x == 1:\n",
    "            y_encoded[idx][1] = 1\n",
    "        else:\n",
    "            y_encoded[idx][0] = 1\n",
    "    return y_encoded"
   ]
  },
  {
   "cell_type": "code",
   "execution_count": 6,
   "metadata": {},
   "outputs": [],
   "source": [
    "!mkdir -p models\n",
    "\n",
    "DATA_DIR = f'../data/qick_data/{DATASET_DATE}/{str(START_WINDOW).zfill(3)}_{str(END_WINDOW).zfill(3)}'\n",
    "MODEL_DIR = f'models/{DATASET_DATE}/model_{START_WINDOW}_{END_WINDOW}'\n",
    "\n",
    "# convert raw ADC data into npy files \n",
    "if os.path.exists(f'{DATA_DIR}/X_train_{START_WINDOW}_{END_WINDOW}.npy') == False:\n",
    "    print(f'ERROR: Missing file: {DATA_DIR}/X_train_{START_WINDOW}_{END_WINDOW}.npy')\n",
    "    #process_data(\n",
    "    #    start_window=START_WINDOW, \n",
    "    #    end_window=END_WINDOW, \n",
    "    #    data_dir=DATA_DIR\n",
    "    #)"
   ]
  },
  {
   "cell_type": "code",
   "execution_count": 7,
   "metadata": {},
   "outputs": [
    {
     "name": "stdout",
     "output_type": "stream",
     "text": [
      "Window:\n",
      "  - Couples I/Q : 400\n",
      "  - Model inputs: 800\n",
      "Training:\n",
      "  - Size        : 900000\n",
      "  - Sample Shape: 800\n",
      "  - Mean        : 42.473523191666665\n",
      "  - Std. Dev.   : 842.7678298796162\n",
      "Testing:\n",
      "  - Size        : 100000\n",
      "  - Sample Shape: 800\n",
      "  - Mean        : 42.5891728375\n",
      "  - Std. Dev.   : 844.2103580495092\n"
     ]
    }
   ],
   "source": [
    "# load data\n",
    "X_train_val = np.load(os.path.join(DATA_DIR, f'X_train_{START_WINDOW}_{END_WINDOW}.npy'))\n",
    "X_test = np.load(os.path.join(DATA_DIR, f'X_test_{START_WINDOW}_{END_WINDOW}.npy'))    \n",
    "y_train_val = np.load(os.path.join(DATA_DIR, f'y_train_{START_WINDOW}_{END_WINDOW}.npy'))\n",
    "y_test = np.load(os.path.join(DATA_DIR, f'y_test_{START_WINDOW}_{END_WINDOW}.npy'))\n",
    "\n",
    "y_train_val = one_hot_encode(y_train_val)\n",
    "y_test = one_hot_encode(y_test)\n",
    "\n",
    "print('Window:')\n",
    "print('  - Couples I/Q :', (END_WINDOW-START_WINDOW))\n",
    "print('  - Model inputs:', (END_WINDOW-START_WINDOW)*2)\n",
    "\n",
    "print('Training:')\n",
    "print('  - Size        :', X_train_val.shape[0])\n",
    "print('  - Sample Shape:', X_train_val.shape[1])\n",
    "print('  - Mean        :', X_train_val.mean())\n",
    "print('  - Std. Dev.   :', X_train_val.std())\n",
    "\n",
    "print('Testing:')\n",
    "print('  - Size        :', X_test.shape[0])\n",
    "print('  - Sample Shape:', X_test.shape[1])\n",
    "print('  - Mean        :', X_test.mean())\n",
    "print('  - Std. Dev.   :', X_test.std())\n",
    "\n",
    "assert len(X_train_val[0]) == (END_WINDOW-START_WINDOW)*2, 'ERROR: Specified window does not match loaded dataset shape'\n",
    "assert len(X_test[0]) == (END_WINDOW-START_WINDOW)*2, 'ERROR: Specified window does not match loaded dataset shape'"
   ]
  },
  {
   "cell_type": "markdown",
   "metadata": {},
   "source": [
    "## Construct a model \n",
    "QKeras is 'Quantized Keras' for deep heterogeneous quantization of ML models. We're using QDense layer instead of Dense. We're also training with model sparsity, since QKeras layers are prunable."
   ]
  },
  {
   "cell_type": "code",
   "execution_count": 8,
   "metadata": {},
   "outputs": [],
   "source": [
    "INIT_LEARNING_RATE = 1e-2\n",
    "VALIDATION_SPLIT = 0.3\n",
    "BATCH_SIZE = 12800\n",
    "EPOCHS = 50\n",
    "CHECKPOINT_FILENAME = MODEL_DIR + f'/qmodel_{START_WINDOW}_{END_WINDOW}.h5'\n",
    "INPUT_SHAPE = (X_train_val.shape[1],)"
   ]
  },
  {
   "cell_type": "code",
   "execution_count": 9,
   "metadata": {},
   "outputs": [
    {
     "name": "stdout",
     "output_type": "stream",
     "text": [
      "WARNING:tensorflow:From /home/giuseppe/miniconda3/envs/ml4qick-env/lib/python3.8/site-packages/tensorflow/python/autograph/pyct/static_analysis/liveness.py:83: Analyzer.lamba_check (from tensorflow.python.autograph.pyct.static_analysis.liveness) is deprecated and will be removed after 2023-09-23.\n",
      "Instructions for updating:\n",
      "Lambda fuctions will be no more assumed to be used in the statement where they are used, or at least in the same block. https://github.com/tensorflow/tensorflow/issues/56089\n",
      "=============================Model Summary=============================\n",
      "Model: \"sequential\"\n",
      "_________________________________________________________________\n",
      " Layer (type)                Output Shape              Param #   \n",
      "=================================================================\n",
      " prune_low_magnitude_fc1 (Pr  (None, 2)                3204      \n",
      " uneLowMagnitude)                                                \n",
      "                                                                 \n",
      " prune_low_magnitude_batch_n  (None, 2)                9         \n",
      " ormalization (PruneLowMagni                                     \n",
      " tude)                                                           \n",
      "                                                                 \n",
      "=================================================================\n",
      "Total params: 3,213\n",
      "Trainable params: 1,606\n",
      "Non-trainable params: 1,607\n",
      "_________________________________________________________________\n",
      "None\n",
      "=======================================================================\n"
     ]
    }
   ],
   "source": [
    "if TRAIN:\n",
    "    input_size = (END_WINDOW-START_WINDOW)*2\n",
    "\n",
    "    # Define model with quantize layers \n",
    "    model = Sequential()\n",
    "    model.add(QDense(2, input_shape=(input_size,), name='fc1', kernel_quantizer=quantized_bits(6,0,alpha=1), bias_quantizer=quantized_bits(6,0,alpha=1),))\n",
    "    model.add(BatchNormalization())\n",
    "\n",
    "    # # Define model with quantize layers \n",
    "    # model = Sequential()\n",
    "    # model.add(QDense(160, input_shape=(input_size,), name='fc1', kernel_quantizer=quantized_bits(6,0,alpha=1), bias_quantizer=quantized_bits(6,0,alpha=1),))\n",
    "    # model.add(QActivation(activation=quantized_relu(6), name='relu1'))\n",
    "    # model.add(BatchNormalization(name='batchnorm1'))\n",
    "    # model.add(QDense(25, input_shape=(input_size,), name='fc2', kernel_quantizer=quantized_bits(6,0,alpha=1), bias_quantizer=quantized_bits(6,0,alpha=1),))\n",
    "    # model.add(QActivation(activation=quantized_relu(6), name='relu2'))\n",
    "    # model.add(BatchNormalization(name='batchnorm2'))\n",
    "    # model.add(QDense(2, input_shape=(input_size,), name='fc3', kernel_quantizer=quantized_bits(6,0,alpha=1), bias_quantizer=quantized_bits(6,0,alpha=1),))\n",
    "    # model.add(BatchNormalization(name='batchnorm3'))\n",
    "    \n",
    "    # adding pruning \n",
    "    pruning_params = {'pruning_schedule': tfmot.sparsity.keras.PolynomialDecay(initial_sparsity=0.50, final_sparsity=0.80, begin_step=200, end_step=1000)}\n",
    "    model = prune.prune_low_magnitude(model, **pruning_params)\n",
    "\n",
    "    print('=============================Model Summary=============================')\n",
    "    print(model.summary())\n",
    "    print('=======================================================================')\n",
    "else:\n",
    "    print('Training is disabled, load model from file')"
   ]
  },
  {
   "cell_type": "code",
   "execution_count": 10,
   "metadata": {},
   "outputs": [],
   "source": [
    "if TRAIN:\n",
    "    lr_schedule = tf.keras.optimizers.schedules.ExponentialDecay(\n",
    "        INIT_LEARNING_RATE,\n",
    "        decay_steps=100000,\n",
    "        decay_rate=0.96,\n",
    "        staircase=True\n",
    "    )\n",
    "\n",
    "    callbacks = [\n",
    "            ModelCheckpoint(\n",
    "            CHECKPOINT_FILENAME,\n",
    "            monitor='val_loss',\n",
    "            verbose=0,\n",
    "            save_best_only=True,\n",
    "            save_weights_only=False,\n",
    "            save_freq='epoch',\n",
    "        ),\n",
    "        ReduceLROnPlateau(patience=75, min_delta=1**-6),\n",
    "        pruning_callbacks.UpdatePruningStep(),\n",
    "    ]\n",
    "else:\n",
    "    print('Training is disabled, load model from file')"
   ]
  },
  {
   "cell_type": "markdown",
   "metadata": {},
   "source": [
    "## Train the model "
   ]
  },
  {
   "cell_type": "code",
   "execution_count": 11,
   "metadata": {},
   "outputs": [
    {
     "name": "stdout",
     "output_type": "stream",
     "text": [
      "Epoch 1/50\n",
      "50/50 [==============================] - 3s 30ms/step - loss: 0.2391 - accuracy: 0.9455 - val_loss: 0.1882 - val_accuracy: 0.9600 - lr: 0.0100\n",
      "Epoch 2/50\n",
      "50/50 [==============================] - 1s 14ms/step - loss: 0.1860 - accuracy: 0.9605 - val_loss: 0.1788 - val_accuracy: 0.9606 - lr: 0.0100\n",
      "Epoch 3/50\n",
      "50/50 [==============================] - 1s 14ms/step - loss: 0.1780 - accuracy: 0.9607 - val_loss: 0.1774 - val_accuracy: 0.9608 - lr: 0.0100\n",
      "Epoch 4/50\n",
      "50/50 [==============================] - 1s 16ms/step - loss: 0.1759 - accuracy: 0.9607 - val_loss: 0.1910 - val_accuracy: 0.9583 - lr: 0.0100\n",
      "Epoch 5/50\n",
      "50/50 [==============================] - 1s 17ms/step - loss: 0.1786 - accuracy: 0.9592 - val_loss: 0.1820 - val_accuracy: 0.9597 - lr: 0.0100\n",
      "Epoch 6/50\n",
      "50/50 [==============================] - 1s 12ms/step - loss: 0.1773 - accuracy: 0.9598 - val_loss: 0.1870 - val_accuracy: 0.9585 - lr: 0.0100\n",
      "Epoch 7/50\n",
      "50/50 [==============================] - 1s 13ms/step - loss: 0.1782 - accuracy: 0.9595 - val_loss: 0.1810 - val_accuracy: 0.9595 - lr: 0.0100\n",
      "Epoch 8/50\n",
      "50/50 [==============================] - 1s 17ms/step - loss: 0.1776 - accuracy: 0.9597 - val_loss: 0.1865 - val_accuracy: 0.9581 - lr: 0.0100\n",
      "Epoch 9/50\n",
      "50/50 [==============================] - 1s 12ms/step - loss: 0.1791 - accuracy: 0.9590 - val_loss: 0.1813 - val_accuracy: 0.9593 - lr: 0.0100\n",
      "Epoch 10/50\n",
      "50/50 [==============================] - 1s 15ms/step - loss: 0.1782 - accuracy: 0.9593 - val_loss: 0.1845 - val_accuracy: 0.9584 - lr: 0.0100\n",
      "Epoch 11/50\n",
      "50/50 [==============================] - 1s 17ms/step - loss: 0.1793 - accuracy: 0.9588 - val_loss: 0.1809 - val_accuracy: 0.9590 - lr: 0.0100\n",
      "Epoch 12/50\n",
      "50/50 [==============================] - 1s 12ms/step - loss: 0.1788 - accuracy: 0.9591 - val_loss: 0.1839 - val_accuracy: 0.9581 - lr: 0.0100\n",
      "Epoch 13/50\n",
      "50/50 [==============================] - 0s 9ms/step - loss: 0.1804 - accuracy: 0.9584 - val_loss: 0.1817 - val_accuracy: 0.9584 - lr: 0.0100\n",
      "Epoch 14/50\n",
      "50/50 [==============================] - 1s 11ms/step - loss: 0.1801 - accuracy: 0.9586 - val_loss: 0.1834 - val_accuracy: 0.9577 - lr: 0.0100\n",
      "Epoch 15/50\n",
      "50/50 [==============================] - 1s 15ms/step - loss: 0.1813 - accuracy: 0.9580 - val_loss: 0.1825 - val_accuracy: 0.9582 - lr: 0.0100\n",
      "Epoch 16/50\n",
      "50/50 [==============================] - 1s 12ms/step - loss: 0.1811 - accuracy: 0.9581 - val_loss: 0.1834 - val_accuracy: 0.9577 - lr: 0.0100\n",
      "Epoch 17/50\n",
      "50/50 [==============================] - 1s 16ms/step - loss: 0.1816 - accuracy: 0.9580 - val_loss: 0.1830 - val_accuracy: 0.9577 - lr: 0.0100\n",
      "Epoch 18/50\n",
      "50/50 [==============================] - 1s 13ms/step - loss: 0.1815 - accuracy: 0.9581 - val_loss: 0.1832 - val_accuracy: 0.9575 - lr: 0.0100\n",
      "Epoch 19/50\n",
      "50/50 [==============================] - 1s 13ms/step - loss: 0.1818 - accuracy: 0.9578 - val_loss: 0.1831 - val_accuracy: 0.9577 - lr: 0.0100\n",
      "Epoch 20/50\n",
      "50/50 [==============================] - 1s 16ms/step - loss: 0.1818 - accuracy: 0.9579 - val_loss: 0.1834 - val_accuracy: 0.9578 - lr: 0.0100\n",
      "Epoch 21/50\n",
      "50/50 [==============================] - 1s 15ms/step - loss: 0.1817 - accuracy: 0.9579 - val_loss: 0.1832 - val_accuracy: 0.9576 - lr: 0.0100\n",
      "Epoch 22/50\n",
      "50/50 [==============================] - 1s 13ms/step - loss: 0.1818 - accuracy: 0.9578 - val_loss: 0.1833 - val_accuracy: 0.9576 - lr: 0.0100\n",
      "Epoch 23/50\n",
      "50/50 [==============================] - 1s 16ms/step - loss: 0.1818 - accuracy: 0.9579 - val_loss: 0.1832 - val_accuracy: 0.9576 - lr: 0.0100\n",
      "Epoch 24/50\n",
      "50/50 [==============================] - 1s 12ms/step - loss: 0.1818 - accuracy: 0.9578 - val_loss: 0.1832 - val_accuracy: 0.9576 - lr: 0.0100\n",
      "Epoch 25/50\n",
      "50/50 [==============================] - 1s 10ms/step - loss: 0.1817 - accuracy: 0.9578 - val_loss: 0.1832 - val_accuracy: 0.9577 - lr: 0.0100\n",
      "Epoch 26/50\n",
      "50/50 [==============================] - 0s 10ms/step - loss: 0.1818 - accuracy: 0.9578 - val_loss: 0.1833 - val_accuracy: 0.9577 - lr: 0.0100\n",
      "Epoch 27/50\n",
      "50/50 [==============================] - 1s 10ms/step - loss: 0.1818 - accuracy: 0.9579 - val_loss: 0.1832 - val_accuracy: 0.9576 - lr: 0.0100\n",
      "Epoch 28/50\n",
      "50/50 [==============================] - 0s 9ms/step - loss: 0.1817 - accuracy: 0.9579 - val_loss: 0.1831 - val_accuracy: 0.9576 - lr: 0.0100\n",
      "Epoch 29/50\n",
      "50/50 [==============================] - 0s 9ms/step - loss: 0.1817 - accuracy: 0.9579 - val_loss: 0.1831 - val_accuracy: 0.9577 - lr: 0.0100\n",
      "Epoch 30/50\n",
      "50/50 [==============================] - 0s 10ms/step - loss: 0.1817 - accuracy: 0.9579 - val_loss: 0.1831 - val_accuracy: 0.9578 - lr: 0.0100\n",
      "Epoch 31/50\n",
      "50/50 [==============================] - 1s 11ms/step - loss: 0.1816 - accuracy: 0.9578 - val_loss: 0.1832 - val_accuracy: 0.9577 - lr: 0.0100\n",
      "Epoch 32/50\n",
      "50/50 [==============================] - 0s 9ms/step - loss: 0.1818 - accuracy: 0.9579 - val_loss: 0.1832 - val_accuracy: 0.9577 - lr: 0.0100\n",
      "Epoch 33/50\n",
      "50/50 [==============================] - 0s 10ms/step - loss: 0.1817 - accuracy: 0.9579 - val_loss: 0.1830 - val_accuracy: 0.9577 - lr: 0.0100\n",
      "Epoch 34/50\n",
      "50/50 [==============================] - 0s 10ms/step - loss: 0.1817 - accuracy: 0.9579 - val_loss: 0.1830 - val_accuracy: 0.9576 - lr: 0.0100\n",
      "Epoch 35/50\n",
      "50/50 [==============================] - 0s 10ms/step - loss: 0.1817 - accuracy: 0.9579 - val_loss: 0.1831 - val_accuracy: 0.9576 - lr: 0.0100\n",
      "Epoch 36/50\n",
      "50/50 [==============================] - 1s 13ms/step - loss: 0.1817 - accuracy: 0.9579 - val_loss: 0.1832 - val_accuracy: 0.9576 - lr: 0.0100\n",
      "Epoch 37/50\n",
      "50/50 [==============================] - 0s 9ms/step - loss: 0.1816 - accuracy: 0.9578 - val_loss: 0.1831 - val_accuracy: 0.9577 - lr: 0.0100\n",
      "Epoch 38/50\n",
      "50/50 [==============================] - 0s 10ms/step - loss: 0.1816 - accuracy: 0.9580 - val_loss: 0.1830 - val_accuracy: 0.9575 - lr: 0.0100\n",
      "Epoch 39/50\n",
      "50/50 [==============================] - 0s 9ms/step - loss: 0.1817 - accuracy: 0.9579 - val_loss: 0.1830 - val_accuracy: 0.9577 - lr: 0.0100\n",
      "Epoch 40/50\n",
      "50/50 [==============================] - 1s 12ms/step - loss: 0.1817 - accuracy: 0.9579 - val_loss: 0.1831 - val_accuracy: 0.9574 - lr: 0.0100\n",
      "Epoch 41/50\n",
      "50/50 [==============================] - 0s 8ms/step - loss: 0.1816 - accuracy: 0.9578 - val_loss: 0.1832 - val_accuracy: 0.9576 - lr: 0.0100\n",
      "Epoch 42/50\n",
      "50/50 [==============================] - 1s 13ms/step - loss: 0.1816 - accuracy: 0.9579 - val_loss: 0.1832 - val_accuracy: 0.9578 - lr: 0.0100\n",
      "Epoch 43/50\n",
      "50/50 [==============================] - 0s 10ms/step - loss: 0.1816 - accuracy: 0.9579 - val_loss: 0.1830 - val_accuracy: 0.9575 - lr: 0.0100\n",
      "Epoch 44/50\n",
      "50/50 [==============================] - 1s 14ms/step - loss: 0.1816 - accuracy: 0.9579 - val_loss: 0.1831 - val_accuracy: 0.9576 - lr: 0.0100\n",
      "Epoch 45/50\n",
      "50/50 [==============================] - 1s 15ms/step - loss: 0.1816 - accuracy: 0.9578 - val_loss: 0.1831 - val_accuracy: 0.9576 - lr: 0.0100\n",
      "Epoch 46/50\n",
      "50/50 [==============================] - 1s 11ms/step - loss: 0.1816 - accuracy: 0.9578 - val_loss: 0.1831 - val_accuracy: 0.9577 - lr: 0.0100\n",
      "Epoch 47/50\n",
      "50/50 [==============================] - 1s 12ms/step - loss: 0.1816 - accuracy: 0.9579 - val_loss: 0.1830 - val_accuracy: 0.9576 - lr: 0.0100\n",
      "Epoch 48/50\n",
      "50/50 [==============================] - 0s 9ms/step - loss: 0.1816 - accuracy: 0.9579 - val_loss: 0.1830 - val_accuracy: 0.9575 - lr: 0.0100\n",
      "Epoch 49/50\n",
      "50/50 [==============================] - 1s 12ms/step - loss: 0.1816 - accuracy: 0.9578 - val_loss: 0.1831 - val_accuracy: 0.9577 - lr: 0.0100\n",
      "Epoch 50/50\n",
      "50/50 [==============================] - 1s 12ms/step - loss: 0.1816 - accuracy: 0.9579 - val_loss: 0.1831 - val_accuracy: 0.9576 - lr: 0.0100\n",
      "CPU times: user 3min 41s, sys: 10.3 s, total: 3min 51s\n",
      "Wall time: 34.2 s\n"
     ]
    }
   ],
   "source": [
    "%%time\n",
    "if TRAIN:\n",
    "    opt = Adam(learning_rate=INIT_LEARNING_RATE)\n",
    "    model.compile(\n",
    "        optimizer=opt, \n",
    "        # loss=tf.keras.losses.BinaryCrossentropy(),\n",
    "        loss=CategoricalCrossentropy(from_logits=True), \n",
    "        metrics=['accuracy']\n",
    "    )\n",
    "\n",
    "    history = model.fit(\n",
    "        X_train_val, \n",
    "        y_train_val, \n",
    "        batch_size=BATCH_SIZE,\n",
    "        epochs=EPOCHS, \n",
    "        validation_split=VALIDATION_SPLIT, \n",
    "        shuffle=True, \n",
    "        callbacks=callbacks\n",
    "    )\n",
    "else:\n",
    "    print('Training is disabled, load model from file')"
   ]
  },
  {
   "cell_type": "markdown",
   "metadata": {},
   "source": [
    "Important: Pruning layers must be removed before saving to disk. "
   ]
  },
  {
   "cell_type": "code",
   "execution_count": 12,
   "metadata": {},
   "outputs": [
    {
     "name": "stdout",
     "output_type": "stream",
     "text": [
      "WARNING:tensorflow:Compiled the loaded model, but the compiled metrics have yet to be built. `model.compile_metrics` will be empty until you train or evaluate the model.\n",
      "Saving history to: models/20240528/model_100_500/qmodel_100_500-history.pkl\n",
      "Saved checkpoint to: models/20240528/model_100_500/qmodel_100_500.h5\n"
     ]
    }
   ],
   "source": [
    "if TRAIN:\n",
    "    model = strip_pruning(model)\n",
    "    model.save(CHECKPOINT_FILENAME)\n",
    "\n",
    "    history_file = CHECKPOINT_FILENAME.replace('.h5', '-history.pkl')\n",
    "    with open(history_file, 'wb') as file_pi:\n",
    "        pickle.dump(history.history, file_pi)\n",
    "\n",
    "    print(f'Saving history to: {history_file}')\n",
    "    print(f'Saved checkpoint to: {CHECKPOINT_FILENAME}')\n",
    "else:\n",
    "    print('Training is disabled, load model from file')"
   ]
  },
  {
   "cell_type": "markdown",
   "metadata": {},
   "source": [
    "## Check performance\n",
    "\n",
    "todo: add ROC curve"
   ]
  },
  {
   "cell_type": "code",
   "execution_count": 13,
   "metadata": {
    "scrolled": true
   },
   "outputs": [
    {
     "name": "stdout",
     "output_type": "stream",
     "text": [
      "3125/3125 [==============================] - 4s 1ms/step\n",
      "Date 20240528:\n",
      "    Keras accuracy: 0.9573, inputs 800, I/Qs 400, start 100, end 500\n"
     ]
    }
   ],
   "source": [
    "co = {}\n",
    "_add_supported_quantized_objects(co)\n",
    "model = load_model(CHECKPOINT_FILENAME, custom_objects=co, compile=False)\n",
    "y_pred = model.predict(X_test)\n",
    "\n",
    "print(f'Date {DATASET_DATE}:')\n",
    "print('    Keras accuracy: {}, inputs {}, I/Qs {}, start {}, end {}'.format(accuracy_score(np.argmax(y_test, axis=1), np.argmax(y_pred, axis=1)), (END_WINDOW-START_WINDOW)*2, (END_WINDOW-START_WINDOW), START_WINDOW, END_WINDOW))"
   ]
  },
  {
   "cell_type": "markdown",
   "metadata": {},
   "source": [
    "If you run with the model and data on files, you should expect\n",
    "```\n",
    "Date 00000000 (original dataset):\n",
    "    Keras accuracy: 0.9614851485148515, inputs 1540, I/Qs 770\n",
    "    Keras accuracy: 0.9613564356435643, inputs 1536, I/Qs 768\n",
    "    Keras accuracy: 0.9612277227722772, inputs 1520, I/Qs 760\n",
    "    Keras accuracy: 0.9608712871287128, inputs 1440, I/Qs 720\n",
    "    Keras accuracy: 0.9535643564356435, inputs 800, I/Qs 400, start 150, end 550\n",
    "    Keras accuracy: 0.9291980198019802, inputs 400, I/Qs 200\n",
    "    Keras accuracy: 0.8572376237623762, inputs 200, I/Qs 100\n",
    "Date 20240501:\n",
    "    Keras accuracy: 0.85491, inputs 800, I/Qs 400, start 150, end 550\n",
    "Date 20240527:\n",
    "    Keras accuracy: 0.90943, inputs 800, I/Qs 400, start 0, end 400\n",
    "    Keras accuracy: 0.91191, inputs 800, I/Qs 400, start 50, end 450\n",
    "    Keras accuracy: 0.91267, inputs 800, I/Qs 400, start 100, end 500\n",
    "    Keras accuracy: 0.912, inputs 800, I/Qs 400, start 150, end 550\n",
    "    Keras accuracy: 0.91025, inputs 800, I/Qs 400, start 200, end 600\n",
    "    Keras accuracy: 0.90782, inputs 800, I/Qs 400, start 250, end 650\n",
    "    Keras accuracy: 0.90529, inputs 800, I/Qs 400, start 300, end 700\n",
    "    Keras accuracy: 0.90258, inputs 800, I/Qs 400, start 350, end 750\n",
    "Date 20240528:\n",
    "    Keras accuracy: 0.95445, inputs 800, I/Qs 400, start 0, end 400\n",
    "    Keras accuracy: 0.95579, inputs 800, I/Qs 400, start 50, end 450\n",
    "    Keras accuracy: 0.9573, inputs 800, I/Qs 400, start 100, end 500\n",
    "    Keras accuracy: 0.95642, inputs 800, I/Qs 400, start 150, end 550\n",
    "    Keras accuracy: 0.9545, inputs 800, I/Qs 400, start 200, end 600\n",
    "    Keras accuracy: 0.95276, inputs 800, I/Qs 400, start 250, end 650\n",
    "    Keras accuracy: 0.94966, inputs 800, I/Qs 400, start 300, end 700\n",
    "    Keras accuracy: 0.94661, inputs 800, I/Qs 400, start 350, end 750\n",
    "```"
   ]
  },
  {
   "cell_type": "code",
   "execution_count": 14,
   "metadata": {},
   "outputs": [
    {
     "name": "stdout",
     "output_type": "stream",
     "text": [
      "=============================Model Summary=============================\n",
      "Model: \"sequential\"\n",
      "_________________________________________________________________\n",
      " Layer (type)                Output Shape              Param #   \n",
      "=================================================================\n",
      " fc1 (QDense)                (None, 2)                 1602      \n",
      "                                                                 \n",
      " batch_normalization (BatchN  (None, 2)                8         \n",
      " ormalization)                                                   \n",
      "                                                                 \n",
      "=================================================================\n",
      "Total params: 1,610\n",
      "Trainable params: 1,606\n",
      "Non-trainable params: 4\n",
      "_________________________________________________________________\n",
      "None\n",
      "=======================================================================\n"
     ]
    }
   ],
   "source": [
    "print('=============================Model Summary=============================')\n",
    "print(model.summary())\n",
    "print('=======================================================================')"
   ]
  },
  {
   "cell_type": "markdown",
   "metadata": {},
   "source": [
    "## Check sparsity "
   ]
  },
  {
   "cell_type": "code",
   "execution_count": 15,
   "metadata": {},
   "outputs": [
    {
     "name": "stdout",
     "output_type": "stream",
     "text": [
      "Number of layers: 2\n",
      "mkdir: cannot create directory ‘images’: File exists\n",
      "% of zeros = 0.8\n",
      "% of zeros = 0.0\n"
     ]
    },
    {
     "data": {
      "image/png": "[encoded data removed]",
      "text/plain": [
       "<Figure size 700x700 with 1 Axes>"
      ]
     },
     "metadata": {},
     "output_type": "display_data"
    },
    {
     "data": {
      "image/png": "[encoded data removed]",
      "text/plain": [
       "<Figure size 700x700 with 1 Axes>"
      ]
     },
     "metadata": {},
     "output_type": "display_data"
    }
   ],
   "source": [
    "num_layers = len(model.layers)\n",
    "print(f'Number of layers: {num_layers}')\n",
    "\n",
    "!mkdir images\n",
    "\n",
    "for idx in range(num_layers):\n",
    "    w = model.layers[idx].weights[0].numpy()\n",
    "    h, b = np.histogram(w, bins=100)\n",
    "\n",
    "    # plot weight distribution\n",
    "    plt.figure(figsize=(7, 7))\n",
    "    plt.bar(b[:-1], h, width=b[1] - b[0])\n",
    "    plt.semilogy()\n",
    "    plt.savefig(f'images/model-dist-idx{idx}_{START_WINDOW}_{END_WINDOW}.png')\n",
    "\n",
    "    print('% of zeros = {}'.format(np.sum(w == 0) / np.size(w)))"
   ]
  },
  {
   "cell_type": "markdown",
   "metadata": {},
   "source": [
    "## Build the HLS model "
   ]
  },
  {
   "cell_type": "code",
   "execution_count": 16,
   "metadata": {},
   "outputs": [],
   "source": [
    "sys.path.append('../utils')\n",
    "from config import print_dict\n",
    "\n",
    "from tensorflow.keras.models import load_model\n",
    "from qkeras.utils import _add_supported_quantized_objects"
   ]
  },
  {
   "cell_type": "code",
   "execution_count": 17,
   "metadata": {},
   "outputs": [
    {
     "name": "stdout",
     "output_type": "stream",
     "text": [
      "3125/3125 [==============================] - 4s 1ms/step\n",
      "3125/3125 [==============================] - 4s 1ms/step\n",
      "Model acc: 0.9573\n",
      "Model: \"sequential\"\n",
      "_________________________________________________________________\n",
      " Layer (type)                Output Shape              Param #   \n",
      "=================================================================\n",
      " fc1 (QDense)                (None, 2)                 1602      \n",
      "                                                                 \n",
      " batch_normalization (BatchN  (None, 2)                8         \n",
      " ormalization)                                                   \n",
      "                                                                 \n",
      "=================================================================\n",
      "Total params: 1,610\n",
      "Trainable params: 1,606\n",
      "Non-trainable params: 4\n",
      "_________________________________________________________________\n",
      "None\n"
     ]
    }
   ],
   "source": [
    "# Load checkpoint \n",
    "co = {}\n",
    "_add_supported_quantized_objects(co)\n",
    "model = load_model(CHECKPOINT_FILENAME, custom_objects=co, compile=False)\n",
    "y_pred = model.predict(X_test)\n",
    "\n",
    "# Re-evalulate \n",
    "y_keras = model.predict(X_test)\n",
    "print(f'Model acc: {accuracy_score(np.argmax(y_test, axis=1), np.argmax(y_keras, axis=1))}')\n",
    "print(model.summary()) "
   ]
  },
  {
   "cell_type": "code",
   "execution_count": 18,
   "metadata": {},
   "outputs": [
    {
     "name": "stdout",
     "output_type": "stream",
     "text": [
      "Model\n",
      "  Precision:         ap_fixed<16,6>\n",
      "  ReuseFactor:       1\n",
      "LayerName\n",
      "  fc1_input\n",
      "    Precision:       ap_fixed<14,14>\n",
      "    Trace:           True\n",
      "  fc1\n",
      "    Precision\n",
      "      result:        ap_fixed<18,18>\n",
      "    Trace:           True\n",
      "    accum_t:         ap_fixed<18,18>\n",
      "  fc1_linear\n",
      "    Precision\n",
      "      result:        ap_fixed<18,18>\n",
      "    Trace:           True\n",
      "  batch_normalization\n",
      "    Precision\n",
      "      scale:         ap_fixed<20,3>\n",
      "      bias:          ap_fixed<20,3>\n",
      "      result:        ap_fixed<16,6>\n",
      "    Trace:           True\n"
     ]
    }
   ],
   "source": [
    "# Create HLS configuration \n",
    "HLSConfig = {}\n",
    "HLSConfig['Model'] = {}\n",
    "HLSConfig['Model']['Precision'] = 'ap_fixed<16,6>'  # Default precision\n",
    "HLSConfig['Model']['ReuseFactor'] = 1  # fully parallelized \n",
    "\n",
    "HLSConfig['LayerName'] = {}\n",
    "for layer in ['fc1_input', 'fc1', 'fc1_linear', 'batch_normalization']:\n",
    "    HLSConfig['LayerName'][layer] = {}\n",
    "    HLSConfig['LayerName'][layer]['Precision'] = {}\n",
    "    HLSConfig['LayerName'][layer]['Trace'] = True\n",
    "\n",
    "# Input - ZCU216 uses 14-bit ADCS \n",
    "HLSConfig['LayerName']['fc1_input']['Precision'] = 'ap_fixed<14,14>' \n",
    "# Fc\n",
    "HLSConfig['LayerName']['fc1']['Precision']['result'] = 'ap_fixed<18,18>'\n",
    "HLSConfig['LayerName']['fc1']['accum_t'] = 'ap_fixed<18,18>'\n",
    "# Fc Linear\n",
    "HLSConfig['LayerName']['fc1_linear']['Precision']['result'] = 'ap_fixed<18,18>'\n",
    "# Batchnormalization\n",
    "HLSConfig['LayerName']['batch_normalization']['Precision']['scale'] = 'ap_fixed<20,3>'\n",
    "HLSConfig['LayerName']['batch_normalization']['Precision']['bias'] = 'ap_fixed<20,3>'\n",
    "HLSConfig['LayerName']['batch_normalization']['Precision']['result'] = 'ap_fixed<16,6>'\n",
    "\n",
    "print_dict(HLSConfig)"
   ]
  },
  {
   "cell_type": "code",
   "execution_count": 19,
   "metadata": {},
   "outputs": [
    {
     "name": "stdout",
     "output_type": "stream",
     "text": [
      "Interpreting Sequential\n",
      "Topology:\n",
      "Layer name: fc1_input, layer type: InputLayer, input shapes: [[None, 800]], output shape: [None, 800]\n",
      "Layer name: fc1, layer type: QDense, input shapes: [[None, 800]], output shape: [None, 2]\n",
      "Layer name: batch_normalization, layer type: BatchNormalization, input shapes: [[None, 2]], output shape: [None, 2]\n",
      "Creating HLS model\n",
      "WARNING: Config parameter \"accum_t\" overwrites an existing attribute in layer \"fc1\" (Dense)\n",
      "Creating hls4ml project directory hls4ml_prjs/20240528/NN_100_500_prj\n",
      "Writing HLS project\n",
      "WARNING:tensorflow:Compiled the loaded model, but the compiled metrics have yet to be built. `model.compile_metrics` will be empty until you train or evaluate the model.\n"
     ]
    },
    {
     "name": "stderr",
     "output_type": "stream",
     "text": [
      "WARNING:tensorflow:Compiled the loaded model, but the compiled metrics have yet to be built. `model.compile_metrics` will be empty until you train or evaluate the model.\n"
     ]
    },
    {
     "name": "stdout",
     "output_type": "stream",
     "text": [
      "Done\n"
     ]
    }
   ],
   "source": [
    "OutputDir = f'hls4ml_prjs/{DATASET_DATE}/NN_{START_WINDOW}_{END_WINDOW}_prj'\n",
    "!rm -rf '{OutputDir}'\n",
    "!rm -f '{OutputDir}.tar.gz'\n",
    "XilinxPart = 'xczu49dr-ffvf1760-2-e'\n",
    "IOType = 'io_parallel'\n",
    "#IOType = 'io_stream'\n",
    "ClockPeriod = 3.225  # 3.225ns (307.2 MHz)\n",
    "HLSFig = f'images/model_{START_WINDOW}_{END_WINDOW}.png'\n",
    "\n",
    "hls_model = hls4ml.converters.convert_from_keras_model(\n",
    "    model=model,\n",
    "    hls_config=HLSConfig,\n",
    "    output_dir=OutputDir,\n",
    "    part=XilinxPart,\n",
    "    io_type=IOType,\n",
    "    clock_period=ClockPeriod,\n",
    "    project_name='NN'\n",
    ")\n",
    "\n",
    "print(f'Creating hls4ml project directory {OutputDir}')\n",
    "hls_model.compile()  # Must compile for C Sim. \n",
    "\n",
    "# Visualize model\n",
    "hls4ml.utils.plot_model(\n",
    "    hls_model, show_shapes=True, show_precision=True, to_file=HLSFig\n",
    ")"
   ]
  },
  {
   "cell_type": "markdown",
   "metadata": {},
   "source": [
    "## Check performance"
   ]
  },
  {
   "cell_type": "code",
   "execution_count": 20,
   "metadata": {},
   "outputs": [
    {
     "name": "stdout",
     "output_type": "stream",
     "text": [
      "Keras Acc: 95.73%\n",
      "HLS Acc  : 95.73:%\n",
      "CKA      : 99.988%\n"
     ]
    }
   ],
   "source": [
    "# Trace output \n",
    "y_hls = hls_model.predict(np.ascontiguousarray(X_test.astype(np.float32))) \n",
    "y_hls = np.argmax(y_hls, axis=1)\n",
    "\n",
    "print(f'Keras Acc: {accuracy_score(np.argmax(y_test, axis=1), np.argmax(y_keras, axis=1))*100:.5}%')\n",
    "print(f'HLS Acc  : {accuracy_score(np.argmax(y_test, axis=1), y_hls)*100:.5}:%')\n",
    "print(f'CKA      : {accuracy_score(np.argmax(y_keras, axis=1), y_hls)*100:.5}%')"
   ]
  },
  {
   "cell_type": "code",
   "execution_count": 21,
   "metadata": {},
   "outputs": [],
   "source": [
    "y_hls = hls_model.predict(np.ascontiguousarray(X_test.astype(np.float32))) \n",
    "np.savetxt(f'{OutputDir}/tb_data/tb_input_features.dat', X_test, fmt='%f', delimiter=' ')\n",
    "np.savetxt(f'{OutputDir}/tb_data/tb_output_predictions.dat', y_hls, fmt='%f', delimiter=' ')"
   ]
  },
  {
   "cell_type": "markdown",
   "metadata": {},
   "source": [
    "## Correlation plots (Keras vs HLS)\n",
    "Let's compare the output of the Qkeras and HLS model. If properly configured, the HLS activations will be aligned with the Qkeras model. "
   ]
  },
  {
   "cell_type": "code",
   "execution_count": 22,
   "metadata": {},
   "outputs": [
    {
     "name": "stdout",
     "output_type": "stream",
     "text": [
      "Recompiling NN with tracing\n",
      "Writing HLS project\n",
      "WARNING:tensorflow:Compiled the loaded model, but the compiled metrics have yet to be built. `model.compile_metrics` will be empty until you train or evaluate the model.\n"
     ]
    },
    {
     "name": "stderr",
     "output_type": "stream",
     "text": [
      "WARNING:tensorflow:Compiled the loaded model, but the compiled metrics have yet to be built. `model.compile_metrics` will be empty until you train or evaluate the model.\n"
     ]
    },
    {
     "name": "stdout",
     "output_type": "stream",
     "text": [
      "Done\n",
      "3125/3125 [==============================] - 4s 1ms/step\n",
      "Done taking outputs for Keras model.\n",
      "HLS Keys: dict_keys(['fc1', 'batch_normalization'])\n",
      "Keras Keys: dict_keys(['fc1', 'batch_normalization'])\n"
     ]
    }
   ],
   "source": [
    "_, hls_trace = hls_model.trace(np.ascontiguousarray(X_test.astype(np.float32))) \n",
    "keras_trace = hls4ml.model.profiling.get_ymodel_keras(model, X_test.astype(np.float32)) \n",
    "\n",
    "print(f'HLS Keys: {hls_trace.keys()}')\n",
    "print(f'Keras Keys: {keras_trace.keys()}')"
   ]
  },
  {
   "cell_type": "code",
   "execution_count": 23,
   "metadata": {},
   "outputs": [
    {
     "name": "stdout",
     "output_type": "stream",
     "text": [
      "fc1 \t\t 72.009415\n",
      "hls/keras min: -19609.0/-19533.84375\n",
      "hls/keras max: 20355.0/20421.34375\n",
      "batch_normalization \t\t 0.03376974\n",
      "hls/keras min: -6.2041015625/-6.304737091064453\n",
      "hls/keras max: 6.1943359375/6.352395534515381\n"
     ]
    },
    {
     "data": {
      "image/png": "[encoded data removed]",
      "text/plain": [
       "<Figure size 700x500 with 1 Axes>"
      ]
     },
     "metadata": {},
     "output_type": "display_data"
    },
    {
     "data": {
      "image/png": "[encoded data removed]",
      "text/plain": [
       "<Figure size 700x500 with 1 Axes>"
      ]
     },
     "metadata": {},
     "output_type": "display_data"
    }
   ],
   "source": [
    "layers = ['fc1', 'batch_normalization']\n",
    "\n",
    "for idx, layer in enumerate(layers):\n",
    "    keras_layer, hls_layer = keras_trace[layer], hls_trace[layer]\n",
    "    try:\n",
    "        diff = np.average(np.abs(keras_layer - hls_layer ))\n",
    "        print(f'{layer}', '\\t\\t', diff)\n",
    "        \n",
    "        plt.figure(figsize=(7, 5))\n",
    "\n",
    "        plt.scatter(hls_layer.flatten(), keras_layer.flatten())\n",
    "        min_x = min(keras_layer.min(), hls_layer.min())\n",
    "        max_x = min(keras_layer.max(), hls_layer.max())\n",
    "\n",
    "        onnx_min, onnx_max = keras_layer.flatten().min(), keras_layer.flatten().max()\n",
    "        hls_min, hls_max = hls_layer.flatten().min(), hls_layer.flatten().max()\n",
    "        \n",
    "        print(f'hls/keras min: {hls_min}/{onnx_min}')\n",
    "        print(f'hls/keras max: {hls_max}/{onnx_max}')\n",
    "        \n",
    "        plt.plot([min_x, max_x], [min_x, max_x], c='red')\n",
    "        plt.axhline(min_x, c='red')\n",
    "        plt.axhline(max_x, c='red')\n",
    "\n",
    "        plt.title(f'(hls) {layer} -- (keras) {layer}')\n",
    "        plt.xlabel(f'hls4ml - [{hls_min:.3f},  {hls_max:.3f}]')\n",
    "        plt.ylabel(f'keras - [{onnx_min:.3f},  {onnx_max:.3f}]')\n",
    "        plt.yscale('linear')\n",
    "    except Exception as e:\n",
    "        print(e)\n"
   ]
  },
  {
   "cell_type": "markdown",
   "metadata": {},
   "source": [
    "## Synthesize "
   ]
  },
  {
   "cell_type": "code",
   "execution_count": 24,
   "metadata": {},
   "outputs": [
    {
     "ename": "Exception",
     "evalue": "Vivado HLS installation not found. Make sure \"vivado_hls\" is on PATH.",
     "output_type": "error",
     "traceback": [
      "\u001b[0;31m---------------------------------------------------------------------------\u001b[0m",
      "\u001b[0;31mException\u001b[0m                                 Traceback (most recent call last)",
      "Cell \u001b[0;32mIn[24], line 1\u001b[0m\n\u001b[0;32m----> 1\u001b[0m \u001b[43mhls_model\u001b[49m\u001b[38;5;241;43m.\u001b[39;49m\u001b[43mbuild\u001b[49m\u001b[43m(\u001b[49m\n\u001b[1;32m      2\u001b[0m \u001b[43m    \u001b[49m\u001b[43mcsim\u001b[49m\u001b[38;5;241;43m=\u001b[39;49m\u001b[38;5;28;43;01mTrue\u001b[39;49;00m\u001b[43m,\u001b[49m\n\u001b[1;32m      3\u001b[0m \u001b[43m    \u001b[49m\u001b[43msynth\u001b[49m\u001b[38;5;241;43m=\u001b[39;49m\u001b[38;5;28;43;01mFalse\u001b[39;49;00m\u001b[43m,\u001b[49m\n\u001b[1;32m      4\u001b[0m \u001b[43m    \u001b[49m\u001b[43mcosim\u001b[49m\u001b[38;5;241;43m=\u001b[39;49m\u001b[38;5;28;43;01mFalse\u001b[39;49;00m\u001b[43m,\u001b[49m\n\u001b[1;32m      5\u001b[0m \u001b[43m    \u001b[49m\u001b[43mexport\u001b[49m\u001b[38;5;241;43m=\u001b[39;49m\u001b[38;5;28;43;01mFalse\u001b[39;49;00m\u001b[43m,\u001b[49m\n\u001b[1;32m      6\u001b[0m \u001b[43m    \u001b[49m\u001b[43mvsynth\u001b[49m\u001b[38;5;241;43m=\u001b[39;49m\u001b[38;5;28;43;01mFalse\u001b[39;49;00m\u001b[43m,\u001b[49m\n\u001b[1;32m      7\u001b[0m \u001b[43m)\u001b[49m\n",
      "File \u001b[0;32m~/miniconda3/envs/ml4qick-env/lib/python3.8/site-packages/hls4ml/model/graph.py:871\u001b[0m, in \u001b[0;36mModelGraph.build\u001b[0;34m(self, **kwargs)\u001b[0m\n\u001b[1;32m    867\u001b[0m \u001b[38;5;28;01mif\u001b[39;00m \u001b[38;5;129;01mnot\u001b[39;00m os\u001b[38;5;241m.\u001b[39mpath\u001b[38;5;241m.\u001b[39mexists(\u001b[38;5;28mself\u001b[39m\u001b[38;5;241m.\u001b[39mconfig\u001b[38;5;241m.\u001b[39mget_output_dir()):\n\u001b[1;32m    868\u001b[0m     \u001b[38;5;66;03m# Assume the project wasn't written before\u001b[39;00m\n\u001b[1;32m    869\u001b[0m     \u001b[38;5;28mself\u001b[39m\u001b[38;5;241m.\u001b[39mwrite()\n\u001b[0;32m--> 871\u001b[0m \u001b[38;5;28;01mreturn\u001b[39;00m \u001b[38;5;28;43mself\u001b[39;49m\u001b[38;5;241;43m.\u001b[39;49m\u001b[43mconfig\u001b[49m\u001b[38;5;241;43m.\u001b[39;49m\u001b[43mbackend\u001b[49m\u001b[38;5;241;43m.\u001b[39;49m\u001b[43mbuild\u001b[49m\u001b[43m(\u001b[49m\u001b[38;5;28;43mself\u001b[39;49m\u001b[43m,\u001b[49m\u001b[43m \u001b[49m\u001b[38;5;241;43m*\u001b[39;49m\u001b[38;5;241;43m*\u001b[39;49m\u001b[43mkwargs\u001b[49m\u001b[43m)\u001b[49m\n",
      "File \u001b[0;32m~/miniconda3/envs/ml4qick-env/lib/python3.8/site-packages/hls4ml/backends/vivado/vivado_backend.py:203\u001b[0m, in \u001b[0;36mVivadoBackend.build\u001b[0;34m(self, model, reset, csim, synth, cosim, validation, export, vsynth, fifo_opt)\u001b[0m\n\u001b[1;32m    201\u001b[0m     found \u001b[38;5;241m=\u001b[39m os\u001b[38;5;241m.\u001b[39msystem(\u001b[38;5;124m'\u001b[39m\u001b[38;5;124mcommand -v vivado_hls > /dev/null\u001b[39m\u001b[38;5;124m'\u001b[39m)\n\u001b[1;32m    202\u001b[0m     \u001b[38;5;28;01mif\u001b[39;00m found \u001b[38;5;241m!=\u001b[39m \u001b[38;5;241m0\u001b[39m:\n\u001b[0;32m--> 203\u001b[0m         \u001b[38;5;28;01mraise\u001b[39;00m \u001b[38;5;167;01mException\u001b[39;00m(\u001b[38;5;124m'\u001b[39m\u001b[38;5;124mVivado HLS installation not found. Make sure \u001b[39m\u001b[38;5;124m\"\u001b[39m\u001b[38;5;124mvivado_hls\u001b[39m\u001b[38;5;124m\"\u001b[39m\u001b[38;5;124m is on PATH.\u001b[39m\u001b[38;5;124m'\u001b[39m)\n\u001b[1;32m    205\u001b[0m curr_dir \u001b[38;5;241m=\u001b[39m os\u001b[38;5;241m.\u001b[39mgetcwd()\n\u001b[1;32m    206\u001b[0m os\u001b[38;5;241m.\u001b[39mchdir(model\u001b[38;5;241m.\u001b[39mconfig\u001b[38;5;241m.\u001b[39mget_output_dir())\n",
      "\u001b[0;31mException\u001b[0m: Vivado HLS installation not found. Make sure \"vivado_hls\" is on PATH."
     ]
    }
   ],
   "source": [
    "hls_model.build(\n",
    "    csim=True,\n",
    "    synth=False,\n",
    "    cosim=False,\n",
    "    export=False,\n",
    "    vsynth=False,\n",
    ")"
   ]
  },
  {
   "cell_type": "markdown",
   "metadata": {},
   "source": [
    "## Check the report"
   ]
  },
  {
   "cell_type": "code",
   "execution_count": null,
   "metadata": {},
   "outputs": [],
   "source": [
    "hls4ml.report.read_vivado_report(OutputDir)"
   ]
  }
 ],
 "metadata": {
  "kernelspec": {
   "display_name": "Python 3 (ipykernel)",
   "language": "python",
   "name": "python3"
  },
  "language_info": {
   "codemirror_mode": {
    "name": "ipython",
    "version": 3
   },
   "file_extension": ".py",
   "mimetype": "text/x-python",
   "name": "python",
   "nbconvert_exporter": "python",
   "pygments_lexer": "ipython3",
   "version": "3.8.18"
  }
 },
 "nbformat": 4,
 "nbformat_minor": 4
}
